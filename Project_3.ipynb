{
 "cells": [
  {
   "cell_type": "markdown",
   "id": "89501f71",
   "metadata": {},
   "source": [
    "### Project 3"
   ]
  },
  {
   "cell_type": "code",
   "execution_count": 1,
   "id": "3dc9146b",
   "metadata": {},
   "outputs": [],
   "source": [
    "import plotly.io as pio\n",
    "\n",
    "pio.renderers.default = \"vscode+jupyterlab+notebook_connected\""
   ]
  },
  {
   "cell_type": "markdown",
   "id": "d5169f68",
   "metadata": {},
   "source": [
    "# Air Pollution Around the World: How Income Levels and Renewable Energy Affect Air Quality"
   ]
  },
  {
   "cell_type": "markdown",
   "id": "4ac59b66",
   "metadata": {},
   "source": [
    "### Datasets"
   ]
  },
  {
   "cell_type": "markdown",
   "id": "59ff110f",
   "metadata": {},
   "source": [
    "For this project, I used data from the WHO, World Bank, and OurWorldinData to study air pollution levels, measured by PM 2.5, in different countries. I looked at how air quality is connected to GNI per capita (used as an indicator of income) and how renewable energy might affect air pollution. My goal was to compare air quality in countries with different income levels and see if using more renewable energy helps reduce air pollution.\n",
    "\n",
    "1. Air pollution data from [World Health Organization](https://www.who.int/data/gho/data/indicators/indicator-details/GHO/concentrations-of-fine-particulate-matter-(pm2-5))\n",
    "2. GNI per capita data from [World Bank](https://data.worldbank.org/indicator/NY.GNP.PCAP.PP.CD?locations=US)\n",
    "3. Renewable Energy Use data from [OurWorldinData.com](https://ourworldindata.org/grapher/renewable-share-energy.csv?v=1&csvType=full&useColumnShortNames=true)\n"
   ]
  },
  {
   "cell_type": "markdown",
   "id": "9781a334",
   "metadata": {},
   "source": [
    "### Analysis Questions"
   ]
  },
  {
   "cell_type": "markdown",
   "id": "b335ba6a",
   "metadata": {},
   "source": [
    "1. How many countries around the world have successfully met the safe air pollution level recommended by the [WHO](https://www.who.int/news-room/feature-stories/detail/what-are-the-who-air-quality-guidelines#:~:text=New%20research%20has%20also%20shown,version%20was%20published%20in%202005.) (annual PM2.5 AQG level of 5 µg/m³)?\n",
    "\n",
    "2. Do lower-income countries have higher levels of air pollution compared to upper-middle-income countries?\n",
    "\n",
    "3. Is there a correlation between air pollution and adoption of renewable energy across countries?\n"
   ]
  },
  {
   "cell_type": "markdown",
   "id": "d4948f78",
   "metadata": {},
   "source": [
    "### Hypothesis"
   ]
  },
  {
   "cell_type": "markdown",
   "id": "21849edf",
   "metadata": {},
   "source": [
    "I hypothesize that the majority of countries around the world have not yet achieved the safe air pollution level recommended by the WHO, which sets an annual PM2.5 AQG level of 5 µg/m³. I expect that air pollution levels will vary significantly across income groups, with lower-income countries experiencing higher levels of air pollution compared to upper-middle-income and high-income countries. Additionally, I predict that lower levels of air pollution are likely to be linked to higher adoption rates of renewable energy, as cleaner energy sources help to reduce particulate matter emissions."
   ]
  },
  {
   "cell_type": "markdown",
   "id": "e2a96d2c",
   "metadata": {},
   "source": [
    "### Does the majority of the world meet the safe air quality level set by the WHO? (Hypothesis 1)"
   ]
  },
  {
   "cell_type": "markdown",
   "id": "b8a859d9",
   "metadata": {},
   "source": [
    "First, I started by importing the pandas library. I loaded the air pollution dataset using `pd.read_csv` and displayed it to check if everything loaded correctly. Then, I used `.info()` to look at the structure of the dataset. I noticed that the `\"Value\"` column, which contains air pollution levels (PM 2.5), was stored as text instead of numbers, so I had to fix that later. I also used the `.unique()` function to check the years available in the `\"Period\"` column. This helped me figure out that the dataset only includes data from 2010 to 2019."
   ]
  },
  {
   "cell_type": "code",
   "execution_count": 2,
   "id": "00177a1f",
   "metadata": {},
   "outputs": [
    {
     "data": {
      "text/html": [
       "<div>\n",
       "<style scoped>\n",
       "    .dataframe tbody tr th:only-of-type {\n",
       "        vertical-align: middle;\n",
       "    }\n",
       "\n",
       "    .dataframe tbody tr th {\n",
       "        vertical-align: top;\n",
       "    }\n",
       "\n",
       "    .dataframe thead th {\n",
       "        text-align: right;\n",
       "    }\n",
       "</style>\n",
       "<table border=\"1\" class=\"dataframe\">\n",
       "  <thead>\n",
       "    <tr style=\"text-align: right;\">\n",
       "      <th></th>\n",
       "      <th>IndicatorCode</th>\n",
       "      <th>Indicator</th>\n",
       "      <th>ValueType</th>\n",
       "      <th>ParentLocationCode</th>\n",
       "      <th>ParentLocation</th>\n",
       "      <th>Location type</th>\n",
       "      <th>SpatialDimValueCode</th>\n",
       "      <th>Location</th>\n",
       "      <th>Period type</th>\n",
       "      <th>Period</th>\n",
       "      <th>...</th>\n",
       "      <th>FactValueUoM</th>\n",
       "      <th>FactValueNumericLowPrefix</th>\n",
       "      <th>FactValueNumericLow</th>\n",
       "      <th>FactValueNumericHighPrefix</th>\n",
       "      <th>FactValueNumericHigh</th>\n",
       "      <th>Value</th>\n",
       "      <th>FactValueTranslationID</th>\n",
       "      <th>FactComments</th>\n",
       "      <th>Language</th>\n",
       "      <th>DateModified</th>\n",
       "    </tr>\n",
       "  </thead>\n",
       "  <tbody>\n",
       "    <tr>\n",
       "      <th>0</th>\n",
       "      <td>SDGPM25</td>\n",
       "      <td>Concentrations of fine particulate matter (PM2.5)</td>\n",
       "      <td>text</td>\n",
       "      <td>AFR</td>\n",
       "      <td>Africa</td>\n",
       "      <td>Country</td>\n",
       "      <td>KEN</td>\n",
       "      <td>Kenya</td>\n",
       "      <td>Year</td>\n",
       "      <td>2019</td>\n",
       "      <td>...</td>\n",
       "      <td>NaN</td>\n",
       "      <td>NaN</td>\n",
       "      <td>6.29</td>\n",
       "      <td>NaN</td>\n",
       "      <td>13.74</td>\n",
       "      <td>10.01 [6.29-13.74]</td>\n",
       "      <td>NaN</td>\n",
       "      <td>NaN</td>\n",
       "      <td>EN</td>\n",
       "      <td>2022-08-12T04:00:00.000Z</td>\n",
       "    </tr>\n",
       "    <tr>\n",
       "      <th>1</th>\n",
       "      <td>SDGPM25</td>\n",
       "      <td>Concentrations of fine particulate matter (PM2.5)</td>\n",
       "      <td>text</td>\n",
       "      <td>AMR</td>\n",
       "      <td>Americas</td>\n",
       "      <td>Country</td>\n",
       "      <td>TTO</td>\n",
       "      <td>Trinidad and Tobago</td>\n",
       "      <td>Year</td>\n",
       "      <td>2019</td>\n",
       "      <td>...</td>\n",
       "      <td>NaN</td>\n",
       "      <td>NaN</td>\n",
       "      <td>7.44</td>\n",
       "      <td>NaN</td>\n",
       "      <td>12.55</td>\n",
       "      <td>10.02 [7.44-12.55]</td>\n",
       "      <td>NaN</td>\n",
       "      <td>NaN</td>\n",
       "      <td>EN</td>\n",
       "      <td>2022-08-12T04:00:00.000Z</td>\n",
       "    </tr>\n",
       "    <tr>\n",
       "      <th>2</th>\n",
       "      <td>SDGPM25</td>\n",
       "      <td>Concentrations of fine particulate matter (PM2.5)</td>\n",
       "      <td>text</td>\n",
       "      <td>EUR</td>\n",
       "      <td>Europe</td>\n",
       "      <td>Country</td>\n",
       "      <td>GBR</td>\n",
       "      <td>United Kingdom of Great Britain and Northern I...</td>\n",
       "      <td>Year</td>\n",
       "      <td>2019</td>\n",
       "      <td>...</td>\n",
       "      <td>NaN</td>\n",
       "      <td>NaN</td>\n",
       "      <td>9.73</td>\n",
       "      <td>NaN</td>\n",
       "      <td>10.39</td>\n",
       "      <td>10.06 [9.73-10.39]</td>\n",
       "      <td>NaN</td>\n",
       "      <td>NaN</td>\n",
       "      <td>EN</td>\n",
       "      <td>2022-08-12T04:00:00.000Z</td>\n",
       "    </tr>\n",
       "    <tr>\n",
       "      <th>3</th>\n",
       "      <td>SDGPM25</td>\n",
       "      <td>Concentrations of fine particulate matter (PM2.5)</td>\n",
       "      <td>text</td>\n",
       "      <td>AMR</td>\n",
       "      <td>Americas</td>\n",
       "      <td>Country</td>\n",
       "      <td>GRD</td>\n",
       "      <td>Grenada</td>\n",
       "      <td>Year</td>\n",
       "      <td>2019</td>\n",
       "      <td>...</td>\n",
       "      <td>NaN</td>\n",
       "      <td>NaN</td>\n",
       "      <td>7.07</td>\n",
       "      <td>NaN</td>\n",
       "      <td>13.20</td>\n",
       "      <td>10.08 [7.07-13.20]</td>\n",
       "      <td>NaN</td>\n",
       "      <td>NaN</td>\n",
       "      <td>EN</td>\n",
       "      <td>2022-08-12T04:00:00.000Z</td>\n",
       "    </tr>\n",
       "    <tr>\n",
       "      <th>4</th>\n",
       "      <td>SDGPM25</td>\n",
       "      <td>Concentrations of fine particulate matter (PM2.5)</td>\n",
       "      <td>text</td>\n",
       "      <td>AMR</td>\n",
       "      <td>Americas</td>\n",
       "      <td>Country</td>\n",
       "      <td>BRA</td>\n",
       "      <td>Brazil</td>\n",
       "      <td>Year</td>\n",
       "      <td>2019</td>\n",
       "      <td>...</td>\n",
       "      <td>NaN</td>\n",
       "      <td>NaN</td>\n",
       "      <td>8.23</td>\n",
       "      <td>NaN</td>\n",
       "      <td>12.46</td>\n",
       "      <td>10.09 [8.23-12.46]</td>\n",
       "      <td>NaN</td>\n",
       "      <td>NaN</td>\n",
       "      <td>EN</td>\n",
       "      <td>2022-08-12T04:00:00.000Z</td>\n",
       "    </tr>\n",
       "    <tr>\n",
       "      <th>...</th>\n",
       "      <td>...</td>\n",
       "      <td>...</td>\n",
       "      <td>...</td>\n",
       "      <td>...</td>\n",
       "      <td>...</td>\n",
       "      <td>...</td>\n",
       "      <td>...</td>\n",
       "      <td>...</td>\n",
       "      <td>...</td>\n",
       "      <td>...</td>\n",
       "      <td>...</td>\n",
       "      <td>...</td>\n",
       "      <td>...</td>\n",
       "      <td>...</td>\n",
       "      <td>...</td>\n",
       "      <td>...</td>\n",
       "      <td>...</td>\n",
       "      <td>...</td>\n",
       "      <td>...</td>\n",
       "      <td>...</td>\n",
       "      <td>...</td>\n",
       "    </tr>\n",
       "    <tr>\n",
       "      <th>9445</th>\n",
       "      <td>SDGPM25</td>\n",
       "      <td>Concentrations of fine particulate matter (PM2.5)</td>\n",
       "      <td>text</td>\n",
       "      <td>AMR</td>\n",
       "      <td>Americas</td>\n",
       "      <td>Country</td>\n",
       "      <td>BLZ</td>\n",
       "      <td>Belize</td>\n",
       "      <td>Year</td>\n",
       "      <td>2010</td>\n",
       "      <td>...</td>\n",
       "      <td>NaN</td>\n",
       "      <td>NaN</td>\n",
       "      <td>3.91</td>\n",
       "      <td>NaN</td>\n",
       "      <td>20.28</td>\n",
       "      <td>9.92 [3.91-20.28]</td>\n",
       "      <td>NaN</td>\n",
       "      <td>NaN</td>\n",
       "      <td>EN</td>\n",
       "      <td>2022-08-12T04:00:00.000Z</td>\n",
       "    </tr>\n",
       "    <tr>\n",
       "      <th>9446</th>\n",
       "      <td>SDGPM25</td>\n",
       "      <td>Concentrations of fine particulate matter (PM2.5)</td>\n",
       "      <td>text</td>\n",
       "      <td>AMR</td>\n",
       "      <td>Americas</td>\n",
       "      <td>Country</td>\n",
       "      <td>TTO</td>\n",
       "      <td>Trinidad and Tobago</td>\n",
       "      <td>Year</td>\n",
       "      <td>2010</td>\n",
       "      <td>...</td>\n",
       "      <td>NaN</td>\n",
       "      <td>NaN</td>\n",
       "      <td>7.80</td>\n",
       "      <td>NaN</td>\n",
       "      <td>12.89</td>\n",
       "      <td>9.92 [7.80-12.89]</td>\n",
       "      <td>NaN</td>\n",
       "      <td>NaN</td>\n",
       "      <td>EN</td>\n",
       "      <td>2022-08-12T04:00:00.000Z</td>\n",
       "    </tr>\n",
       "    <tr>\n",
       "      <th>9447</th>\n",
       "      <td>SDGPM25</td>\n",
       "      <td>Concentrations of fine particulate matter (PM2.5)</td>\n",
       "      <td>text</td>\n",
       "      <td>AFR</td>\n",
       "      <td>Africa</td>\n",
       "      <td>Country</td>\n",
       "      <td>KEN</td>\n",
       "      <td>Kenya</td>\n",
       "      <td>Year</td>\n",
       "      <td>2010</td>\n",
       "      <td>...</td>\n",
       "      <td>NaN</td>\n",
       "      <td>NaN</td>\n",
       "      <td>6.30</td>\n",
       "      <td>NaN</td>\n",
       "      <td>13.57</td>\n",
       "      <td>9.94 [6.30-13.57]</td>\n",
       "      <td>NaN</td>\n",
       "      <td>NaN</td>\n",
       "      <td>EN</td>\n",
       "      <td>2022-08-12T04:00:00.000Z</td>\n",
       "    </tr>\n",
       "    <tr>\n",
       "      <th>9448</th>\n",
       "      <td>SDGPM25</td>\n",
       "      <td>Concentrations of fine particulate matter (PM2.5)</td>\n",
       "      <td>text</td>\n",
       "      <td>AMR</td>\n",
       "      <td>Americas</td>\n",
       "      <td>Country</td>\n",
       "      <td>USA</td>\n",
       "      <td>United States of America</td>\n",
       "      <td>Year</td>\n",
       "      <td>2010</td>\n",
       "      <td>...</td>\n",
       "      <td>NaN</td>\n",
       "      <td>NaN</td>\n",
       "      <td>9.78</td>\n",
       "      <td>NaN</td>\n",
       "      <td>10.11</td>\n",
       "      <td>9.95 [9.78-10.11]</td>\n",
       "      <td>NaN</td>\n",
       "      <td>NaN</td>\n",
       "      <td>EN</td>\n",
       "      <td>2022-08-12T04:00:00.000Z</td>\n",
       "    </tr>\n",
       "    <tr>\n",
       "      <th>9449</th>\n",
       "      <td>SDGPM25</td>\n",
       "      <td>Concentrations of fine particulate matter (PM2.5)</td>\n",
       "      <td>text</td>\n",
       "      <td>EMR</td>\n",
       "      <td>Eastern Mediterranean</td>\n",
       "      <td>Country</td>\n",
       "      <td>AFG</td>\n",
       "      <td>Afghanistan</td>\n",
       "      <td>Year</td>\n",
       "      <td>2010</td>\n",
       "      <td>...</td>\n",
       "      <td>NaN</td>\n",
       "      <td>NaN</td>\n",
       "      <td>66.17</td>\n",
       "      <td>NaN</td>\n",
       "      <td>128.40</td>\n",
       "      <td>92.79 [66.17-128.44]</td>\n",
       "      <td>NaN</td>\n",
       "      <td>NaN</td>\n",
       "      <td>EN</td>\n",
       "      <td>2022-08-12T04:00:00.000Z</td>\n",
       "    </tr>\n",
       "  </tbody>\n",
       "</table>\n",
       "<p>9450 rows × 34 columns</p>\n",
       "</div>"
      ],
      "text/plain": [
       "     IndicatorCode                                          Indicator  \\\n",
       "0          SDGPM25  Concentrations of fine particulate matter (PM2.5)   \n",
       "1          SDGPM25  Concentrations of fine particulate matter (PM2.5)   \n",
       "2          SDGPM25  Concentrations of fine particulate matter (PM2.5)   \n",
       "3          SDGPM25  Concentrations of fine particulate matter (PM2.5)   \n",
       "4          SDGPM25  Concentrations of fine particulate matter (PM2.5)   \n",
       "...            ...                                                ...   \n",
       "9445       SDGPM25  Concentrations of fine particulate matter (PM2.5)   \n",
       "9446       SDGPM25  Concentrations of fine particulate matter (PM2.5)   \n",
       "9447       SDGPM25  Concentrations of fine particulate matter (PM2.5)   \n",
       "9448       SDGPM25  Concentrations of fine particulate matter (PM2.5)   \n",
       "9449       SDGPM25  Concentrations of fine particulate matter (PM2.5)   \n",
       "\n",
       "     ValueType ParentLocationCode         ParentLocation Location type  \\\n",
       "0         text                AFR                 Africa       Country   \n",
       "1         text                AMR               Americas       Country   \n",
       "2         text                EUR                 Europe       Country   \n",
       "3         text                AMR               Americas       Country   \n",
       "4         text                AMR               Americas       Country   \n",
       "...        ...                ...                    ...           ...   \n",
       "9445      text                AMR               Americas       Country   \n",
       "9446      text                AMR               Americas       Country   \n",
       "9447      text                AFR                 Africa       Country   \n",
       "9448      text                AMR               Americas       Country   \n",
       "9449      text                EMR  Eastern Mediterranean       Country   \n",
       "\n",
       "     SpatialDimValueCode                                           Location  \\\n",
       "0                    KEN                                              Kenya   \n",
       "1                    TTO                                Trinidad and Tobago   \n",
       "2                    GBR  United Kingdom of Great Britain and Northern I...   \n",
       "3                    GRD                                            Grenada   \n",
       "4                    BRA                                             Brazil   \n",
       "...                  ...                                                ...   \n",
       "9445                 BLZ                                             Belize   \n",
       "9446                 TTO                                Trinidad and Tobago   \n",
       "9447                 KEN                                              Kenya   \n",
       "9448                 USA                           United States of America   \n",
       "9449                 AFG                                        Afghanistan   \n",
       "\n",
       "     Period type  Period  ...  FactValueUoM FactValueNumericLowPrefix  \\\n",
       "0           Year    2019  ...           NaN                       NaN   \n",
       "1           Year    2019  ...           NaN                       NaN   \n",
       "2           Year    2019  ...           NaN                       NaN   \n",
       "3           Year    2019  ...           NaN                       NaN   \n",
       "4           Year    2019  ...           NaN                       NaN   \n",
       "...          ...     ...  ...           ...                       ...   \n",
       "9445        Year    2010  ...           NaN                       NaN   \n",
       "9446        Year    2010  ...           NaN                       NaN   \n",
       "9447        Year    2010  ...           NaN                       NaN   \n",
       "9448        Year    2010  ...           NaN                       NaN   \n",
       "9449        Year    2010  ...           NaN                       NaN   \n",
       "\n",
       "     FactValueNumericLow FactValueNumericHighPrefix  FactValueNumericHigh  \\\n",
       "0                   6.29                        NaN                 13.74   \n",
       "1                   7.44                        NaN                 12.55   \n",
       "2                   9.73                        NaN                 10.39   \n",
       "3                   7.07                        NaN                 13.20   \n",
       "4                   8.23                        NaN                 12.46   \n",
       "...                  ...                        ...                   ...   \n",
       "9445                3.91                        NaN                 20.28   \n",
       "9446                7.80                        NaN                 12.89   \n",
       "9447                6.30                        NaN                 13.57   \n",
       "9448                9.78                        NaN                 10.11   \n",
       "9449               66.17                        NaN                128.40   \n",
       "\n",
       "                     Value  FactValueTranslationID  FactComments  Language  \\\n",
       "0       10.01 [6.29-13.74]                     NaN           NaN        EN   \n",
       "1       10.02 [7.44-12.55]                     NaN           NaN        EN   \n",
       "2       10.06 [9.73-10.39]                     NaN           NaN        EN   \n",
       "3       10.08 [7.07-13.20]                     NaN           NaN        EN   \n",
       "4       10.09 [8.23-12.46]                     NaN           NaN        EN   \n",
       "...                    ...                     ...           ...       ...   \n",
       "9445     9.92 [3.91-20.28]                     NaN           NaN        EN   \n",
       "9446     9.92 [7.80-12.89]                     NaN           NaN        EN   \n",
       "9447     9.94 [6.30-13.57]                     NaN           NaN        EN   \n",
       "9448     9.95 [9.78-10.11]                     NaN           NaN        EN   \n",
       "9449  92.79 [66.17-128.44]                     NaN           NaN        EN   \n",
       "\n",
       "                  DateModified  \n",
       "0     2022-08-12T04:00:00.000Z  \n",
       "1     2022-08-12T04:00:00.000Z  \n",
       "2     2022-08-12T04:00:00.000Z  \n",
       "3     2022-08-12T04:00:00.000Z  \n",
       "4     2022-08-12T04:00:00.000Z  \n",
       "...                        ...  \n",
       "9445  2022-08-12T04:00:00.000Z  \n",
       "9446  2022-08-12T04:00:00.000Z  \n",
       "9447  2022-08-12T04:00:00.000Z  \n",
       "9448  2022-08-12T04:00:00.000Z  \n",
       "9449  2022-08-12T04:00:00.000Z  \n",
       "\n",
       "[9450 rows x 34 columns]"
      ]
     },
     "execution_count": 2,
     "metadata": {},
     "output_type": "execute_result"
    }
   ],
   "source": [
    "import pandas as pd\n",
    "\n",
    "air_pollution = pd.read_csv(\"Air pollution.csv\")\n",
    "air_pollution"
   ]
  },
  {
   "cell_type": "code",
   "execution_count": 3,
   "id": "2c3866bc",
   "metadata": {
    "scrolled": true
   },
   "outputs": [
    {
     "name": "stdout",
     "output_type": "stream",
     "text": [
      "<class 'pandas.core.frame.DataFrame'>\n",
      "RangeIndex: 9450 entries, 0 to 9449\n",
      "Data columns (total 34 columns):\n",
      " #   Column                      Non-Null Count  Dtype  \n",
      "---  ------                      --------------  -----  \n",
      " 0   IndicatorCode               9450 non-null   object \n",
      " 1   Indicator                   9450 non-null   object \n",
      " 2   ValueType                   9450 non-null   object \n",
      " 3   ParentLocationCode          9450 non-null   object \n",
      " 4   ParentLocation              9450 non-null   object \n",
      " 5   Location type               9450 non-null   object \n",
      " 6   SpatialDimValueCode         9450 non-null   object \n",
      " 7   Location                    9450 non-null   object \n",
      " 8   Period type                 9450 non-null   object \n",
      " 9   Period                      9450 non-null   int64  \n",
      " 10  IsLatestYear                9450 non-null   bool   \n",
      " 11  Dim1 type                   9450 non-null   object \n",
      " 12  Dim1                        9450 non-null   object \n",
      " 13  Dim1ValueCode               9450 non-null   object \n",
      " 14  Dim2 type                   0 non-null      float64\n",
      " 15  Dim2                        0 non-null      float64\n",
      " 16  Dim2ValueCode               0 non-null      float64\n",
      " 17  Dim3 type                   0 non-null      float64\n",
      " 18  Dim3                        0 non-null      float64\n",
      " 19  Dim3ValueCode               0 non-null      float64\n",
      " 20  DataSourceDimValueCode      0 non-null      float64\n",
      " 21  DataSource                  0 non-null      float64\n",
      " 22  FactValueNumericPrefix      0 non-null      float64\n",
      " 23  FactValueNumeric            9450 non-null   float64\n",
      " 24  FactValueUoM                0 non-null      float64\n",
      " 25  FactValueNumericLowPrefix   0 non-null      float64\n",
      " 26  FactValueNumericLow         9450 non-null   float64\n",
      " 27  FactValueNumericHighPrefix  0 non-null      float64\n",
      " 28  FactValueNumericHigh        9450 non-null   float64\n",
      " 29  Value                       9450 non-null   object \n",
      " 30  FactValueTranslationID      0 non-null      float64\n",
      " 31  FactComments                0 non-null      float64\n",
      " 32  Language                    9450 non-null   object \n",
      " 33  DateModified                9450 non-null   object \n",
      "dtypes: bool(1), float64(17), int64(1), object(15)\n",
      "memory usage: 2.4+ MB\n"
     ]
    }
   ],
   "source": [
    "air_pollution.info()"
   ]
  },
  {
   "cell_type": "code",
   "execution_count": 4,
   "id": "b9e37a23",
   "metadata": {},
   "outputs": [
    {
     "data": {
      "text/plain": [
       "array([2019, 2018, 2017, 2016, 2015, 2014, 2013, 2012, 2011, 2010])"
      ]
     },
     "execution_count": 4,
     "metadata": {},
     "output_type": "execute_result"
    }
   ],
   "source": [
    "air_pollution[\"Period\"].unique()"
   ]
  },
  {
   "cell_type": "markdown",
   "id": "36f1dc19",
   "metadata": {},
   "source": [
    "Next, I decided to focus on the data for 2019, since it’s the most recent year in the dataset. I filtered the rows where `\"Dim1\"` was `\"Total\"` because that represented the overall air pollution levels for each country. Then, I kept just the `\"Location\"` (countries) and `\"Value\"` columns since those were the ones I needed for my analysis. The `\"Value\"` column had extra characters that I do not need, so I took the first five characters (the air pollution value with two decimal points) and converted it into a float to make it easier to work with."
   ]
  },
  {
   "cell_type": "code",
   "execution_count": 5,
   "id": "8ccc3c27",
   "metadata": {},
   "outputs": [
    {
     "data": {
      "text/html": [
       "<div>\n",
       "<style scoped>\n",
       "    .dataframe tbody tr th:only-of-type {\n",
       "        vertical-align: middle;\n",
       "    }\n",
       "\n",
       "    .dataframe tbody tr th {\n",
       "        vertical-align: top;\n",
       "    }\n",
       "\n",
       "    .dataframe thead th {\n",
       "        text-align: right;\n",
       "    }\n",
       "</style>\n",
       "<table border=\"1\" class=\"dataframe\">\n",
       "  <thead>\n",
       "    <tr style=\"text-align: right;\">\n",
       "      <th></th>\n",
       "      <th>Location</th>\n",
       "      <th>Value</th>\n",
       "    </tr>\n",
       "  </thead>\n",
       "  <tbody>\n",
       "    <tr>\n",
       "      <th>3</th>\n",
       "      <td>Grenada</td>\n",
       "      <td>10.08</td>\n",
       "    </tr>\n",
       "    <tr>\n",
       "      <th>10</th>\n",
       "      <td>Trinidad and Tobago</td>\n",
       "      <td>10.26</td>\n",
       "    </tr>\n",
       "    <tr>\n",
       "      <th>14</th>\n",
       "      <td>Lithuania</td>\n",
       "      <td>10.37</td>\n",
       "    </tr>\n",
       "    <tr>\n",
       "      <th>22</th>\n",
       "      <td>France</td>\n",
       "      <td>10.46</td>\n",
       "    </tr>\n",
       "    <tr>\n",
       "      <th>23</th>\n",
       "      <td>Mauritius</td>\n",
       "      <td>10.48</td>\n",
       "    </tr>\n",
       "    <tr>\n",
       "      <th>...</th>\n",
       "      <td>...</td>\n",
       "      <td>...</td>\n",
       "    </tr>\n",
       "    <tr>\n",
       "      <th>919</th>\n",
       "      <td>United Kingdom of Great Britain and Northern I...</td>\n",
       "      <td>9.52</td>\n",
       "    </tr>\n",
       "    <tr>\n",
       "      <th>922</th>\n",
       "      <td>Denmark</td>\n",
       "      <td>9.66</td>\n",
       "    </tr>\n",
       "    <tr>\n",
       "      <th>925</th>\n",
       "      <td>Haiti</td>\n",
       "      <td>9.69</td>\n",
       "    </tr>\n",
       "    <tr>\n",
       "      <th>930</th>\n",
       "      <td>Barbados</td>\n",
       "      <td>9.79</td>\n",
       "    </tr>\n",
       "    <tr>\n",
       "      <th>936</th>\n",
       "      <td>San Marino</td>\n",
       "      <td>9.85</td>\n",
       "    </tr>\n",
       "  </tbody>\n",
       "</table>\n",
       "<p>195 rows × 2 columns</p>\n",
       "</div>"
      ],
      "text/plain": [
       "                                              Location  Value\n",
       "3                                              Grenada  10.08\n",
       "10                                 Trinidad and Tobago  10.26\n",
       "14                                           Lithuania  10.37\n",
       "22                                              France  10.46\n",
       "23                                           Mauritius  10.48\n",
       "..                                                 ...    ...\n",
       "919  United Kingdom of Great Britain and Northern I...   9.52\n",
       "922                                            Denmark   9.66\n",
       "925                                              Haiti   9.69\n",
       "930                                           Barbados   9.79\n",
       "936                                         San Marino   9.85\n",
       "\n",
       "[195 rows x 2 columns]"
      ]
     },
     "execution_count": 5,
     "metadata": {},
     "output_type": "execute_result"
    }
   ],
   "source": [
    "air_pollution_2019 = air_pollution[\n",
    "    (air_pollution[\"Period\"] == 2019) & (air_pollution[\"Dim1\"] == \"Total\")][[\"Location\", \"Value\"]]\n",
    "air_pollution_2019[\"Value\"] = air_pollution_2019[\"Value\"].str[:5]\n",
    "air_pollution_2019[\"Value\"] = pd.to_numeric(air_pollution_2019[\"Value\"])\n",
    "air_pollution_2019"
   ]
  },
  {
   "cell_type": "code",
   "execution_count": 6,
   "id": "397fa32e",
   "metadata": {},
   "outputs": [
    {
     "name": "stdout",
     "output_type": "stream",
     "text": [
      "<class 'pandas.core.frame.DataFrame'>\n",
      "Int64Index: 195 entries, 3 to 936\n",
      "Data columns (total 2 columns):\n",
      " #   Column    Non-Null Count  Dtype  \n",
      "---  ------    --------------  -----  \n",
      " 0   Location  195 non-null    object \n",
      " 1   Value     195 non-null    float64\n",
      "dtypes: float64(1), object(1)\n",
      "memory usage: 4.6+ KB\n"
     ]
    }
   ],
   "source": [
    "air_pollution_2019.info()"
   ]
  },
  {
   "cell_type": "markdown",
   "id": "e10d73e1",
   "metadata": {},
   "source": [
    "I noticed that some countries appeared multiple times in the data, so I grouped the rows by `\"Location\"` and calculated the average PM 2.5 levels for each country. After that, I rounded the results to two decimal places to make the numbers easier to read. To make the DataFrame more understandable, I renamed the columns: `\"Location\"` became `\"Country Name\"` and `\"Value\"` became `\"Air Pollution\"`. Then, I sorted the data in ascending order to see which country had the lowest PM 2.5 level. It turned out that in 2019, the Bahamas had the cleanest air, with a PM 2.5 value of 5.20 µg/m³, while Kuwait having the worst with a PM 2.5 value of 64.08 µg/m³."
   ]
  },
  {
   "cell_type": "code",
   "execution_count": 7,
   "id": "7b1ba9cc",
   "metadata": {},
   "outputs": [
    {
     "data": {
      "text/html": [
       "<div>\n",
       "<style scoped>\n",
       "    .dataframe tbody tr th:only-of-type {\n",
       "        vertical-align: middle;\n",
       "    }\n",
       "\n",
       "    .dataframe tbody tr th {\n",
       "        vertical-align: top;\n",
       "    }\n",
       "\n",
       "    .dataframe thead th {\n",
       "        text-align: right;\n",
       "    }\n",
       "</style>\n",
       "<table border=\"1\" class=\"dataframe\">\n",
       "  <thead>\n",
       "    <tr style=\"text-align: right;\">\n",
       "      <th></th>\n",
       "      <th>Location</th>\n",
       "      <th>Value</th>\n",
       "    </tr>\n",
       "  </thead>\n",
       "  <tbody>\n",
       "    <tr>\n",
       "      <th>0</th>\n",
       "      <td>Afghanistan</td>\n",
       "      <td>62.49</td>\n",
       "    </tr>\n",
       "    <tr>\n",
       "      <th>1</th>\n",
       "      <td>Albania</td>\n",
       "      <td>16.28</td>\n",
       "    </tr>\n",
       "    <tr>\n",
       "      <th>2</th>\n",
       "      <td>Algeria</td>\n",
       "      <td>22.68</td>\n",
       "    </tr>\n",
       "    <tr>\n",
       "      <th>3</th>\n",
       "      <td>Andorra</td>\n",
       "      <td>8.52</td>\n",
       "    </tr>\n",
       "    <tr>\n",
       "      <th>4</th>\n",
       "      <td>Angola</td>\n",
       "      <td>27.16</td>\n",
       "    </tr>\n",
       "    <tr>\n",
       "      <th>...</th>\n",
       "      <td>...</td>\n",
       "      <td>...</td>\n",
       "    </tr>\n",
       "    <tr>\n",
       "      <th>190</th>\n",
       "      <td>Viet Nam</td>\n",
       "      <td>20.89</td>\n",
       "    </tr>\n",
       "    <tr>\n",
       "      <th>191</th>\n",
       "      <td>Yemen</td>\n",
       "      <td>41.61</td>\n",
       "    </tr>\n",
       "    <tr>\n",
       "      <th>192</th>\n",
       "      <td>Zambia</td>\n",
       "      <td>16.90</td>\n",
       "    </tr>\n",
       "    <tr>\n",
       "      <th>193</th>\n",
       "      <td>Zimbabwe</td>\n",
       "      <td>13.08</td>\n",
       "    </tr>\n",
       "    <tr>\n",
       "      <th>194</th>\n",
       "      <td>occupied Palestinian territory, including east...</td>\n",
       "      <td>30.82</td>\n",
       "    </tr>\n",
       "  </tbody>\n",
       "</table>\n",
       "<p>195 rows × 2 columns</p>\n",
       "</div>"
      ],
      "text/plain": [
       "                                              Location  Value\n",
       "0                                          Afghanistan  62.49\n",
       "1                                              Albania  16.28\n",
       "2                                              Algeria  22.68\n",
       "3                                              Andorra   8.52\n",
       "4                                               Angola  27.16\n",
       "..                                                 ...    ...\n",
       "190                                           Viet Nam  20.89\n",
       "191                                              Yemen  41.61\n",
       "192                                             Zambia  16.90\n",
       "193                                           Zimbabwe  13.08\n",
       "194  occupied Palestinian territory, including east...  30.82\n",
       "\n",
       "[195 rows x 2 columns]"
      ]
     },
     "execution_count": 7,
     "metadata": {},
     "output_type": "execute_result"
    }
   ],
   "source": [
    "air_pollution_2019 = air_pollution_2019.groupby(\"Location\", as_index=False).agg({\"Value\": \"mean\"}).round(2)\n",
    "air_pollution_2019"
   ]
  },
  {
   "cell_type": "code",
   "execution_count": 9,
   "id": "73c547d9",
   "metadata": {},
   "outputs": [
    {
     "data": {
      "text/html": [
       "<div>\n",
       "<style scoped>\n",
       "    .dataframe tbody tr th:only-of-type {\n",
       "        vertical-align: middle;\n",
       "    }\n",
       "\n",
       "    .dataframe tbody tr th {\n",
       "        vertical-align: top;\n",
       "    }\n",
       "\n",
       "    .dataframe thead th {\n",
       "        text-align: right;\n",
       "    }\n",
       "</style>\n",
       "<table border=\"1\" class=\"dataframe\">\n",
       "  <thead>\n",
       "    <tr style=\"text-align: right;\">\n",
       "      <th></th>\n",
       "      <th>Location</th>\n",
       "      <th>Value</th>\n",
       "    </tr>\n",
       "  </thead>\n",
       "  <tbody>\n",
       "    <tr>\n",
       "      <th>11</th>\n",
       "      <td>Bahamas</td>\n",
       "      <td>5.20</td>\n",
       "    </tr>\n",
       "    <tr>\n",
       "      <th>61</th>\n",
       "      <td>Finland</td>\n",
       "      <td>5.47</td>\n",
       "    </tr>\n",
       "    <tr>\n",
       "      <th>77</th>\n",
       "      <td>Iceland</td>\n",
       "      <td>5.79</td>\n",
       "    </tr>\n",
       "    <tr>\n",
       "      <th>167</th>\n",
       "      <td>Sweden</td>\n",
       "      <td>5.96</td>\n",
       "    </tr>\n",
       "    <tr>\n",
       "      <th>128</th>\n",
       "      <td>Norway</td>\n",
       "      <td>6.30</td>\n",
       "    </tr>\n",
       "    <tr>\n",
       "      <th>...</th>\n",
       "      <td>...</td>\n",
       "      <td>...</td>\n",
       "    </tr>\n",
       "    <tr>\n",
       "      <th>151</th>\n",
       "      <td>Saudi Arabia</td>\n",
       "      <td>57.16</td>\n",
       "    </tr>\n",
       "    <tr>\n",
       "      <th>139</th>\n",
       "      <td>Qatar</td>\n",
       "      <td>59.04</td>\n",
       "    </tr>\n",
       "    <tr>\n",
       "      <th>0</th>\n",
       "      <td>Afghanistan</td>\n",
       "      <td>62.49</td>\n",
       "    </tr>\n",
       "    <tr>\n",
       "      <th>53</th>\n",
       "      <td>Egypt</td>\n",
       "      <td>63.16</td>\n",
       "    </tr>\n",
       "    <tr>\n",
       "      <th>91</th>\n",
       "      <td>Kuwait</td>\n",
       "      <td>64.08</td>\n",
       "    </tr>\n",
       "  </tbody>\n",
       "</table>\n",
       "<p>195 rows × 2 columns</p>\n",
       "</div>"
      ],
      "text/plain": [
       "         Location  Value\n",
       "11        Bahamas   5.20\n",
       "61        Finland   5.47\n",
       "77        Iceland   5.79\n",
       "167        Sweden   5.96\n",
       "128        Norway   6.30\n",
       "..            ...    ...\n",
       "151  Saudi Arabia  57.16\n",
       "139         Qatar  59.04\n",
       "0     Afghanistan  62.49\n",
       "53          Egypt  63.16\n",
       "91         Kuwait  64.08\n",
       "\n",
       "[195 rows x 2 columns]"
      ]
     },
     "execution_count": 9,
     "metadata": {},
     "output_type": "execute_result"
    }
   ],
   "source": [
    "air_pollution_2019.sort_values(\"Value\", ascending=True, inplace=True)\n",
    "air_pollution_2019"
   ]
  },
  {
   "cell_type": "code",
   "execution_count": 10,
   "id": "8f7d09a7",
   "metadata": {},
   "outputs": [
    {
     "data": {
      "text/html": [
       "<div>\n",
       "<style scoped>\n",
       "    .dataframe tbody tr th:only-of-type {\n",
       "        vertical-align: middle;\n",
       "    }\n",
       "\n",
       "    .dataframe tbody tr th {\n",
       "        vertical-align: top;\n",
       "    }\n",
       "\n",
       "    .dataframe thead th {\n",
       "        text-align: right;\n",
       "    }\n",
       "</style>\n",
       "<table border=\"1\" class=\"dataframe\">\n",
       "  <thead>\n",
       "    <tr style=\"text-align: right;\">\n",
       "      <th></th>\n",
       "      <th>Country Name</th>\n",
       "      <th>Air Pollution</th>\n",
       "    </tr>\n",
       "  </thead>\n",
       "  <tbody>\n",
       "    <tr>\n",
       "      <th>11</th>\n",
       "      <td>Bahamas</td>\n",
       "      <td>5.20</td>\n",
       "    </tr>\n",
       "    <tr>\n",
       "      <th>61</th>\n",
       "      <td>Finland</td>\n",
       "      <td>5.47</td>\n",
       "    </tr>\n",
       "    <tr>\n",
       "      <th>77</th>\n",
       "      <td>Iceland</td>\n",
       "      <td>5.79</td>\n",
       "    </tr>\n",
       "    <tr>\n",
       "      <th>167</th>\n",
       "      <td>Sweden</td>\n",
       "      <td>5.96</td>\n",
       "    </tr>\n",
       "    <tr>\n",
       "      <th>128</th>\n",
       "      <td>Norway</td>\n",
       "      <td>6.30</td>\n",
       "    </tr>\n",
       "    <tr>\n",
       "      <th>...</th>\n",
       "      <td>...</td>\n",
       "      <td>...</td>\n",
       "    </tr>\n",
       "    <tr>\n",
       "      <th>151</th>\n",
       "      <td>Saudi Arabia</td>\n",
       "      <td>57.16</td>\n",
       "    </tr>\n",
       "    <tr>\n",
       "      <th>139</th>\n",
       "      <td>Qatar</td>\n",
       "      <td>59.04</td>\n",
       "    </tr>\n",
       "    <tr>\n",
       "      <th>0</th>\n",
       "      <td>Afghanistan</td>\n",
       "      <td>62.49</td>\n",
       "    </tr>\n",
       "    <tr>\n",
       "      <th>53</th>\n",
       "      <td>Egypt</td>\n",
       "      <td>63.16</td>\n",
       "    </tr>\n",
       "    <tr>\n",
       "      <th>91</th>\n",
       "      <td>Kuwait</td>\n",
       "      <td>64.08</td>\n",
       "    </tr>\n",
       "  </tbody>\n",
       "</table>\n",
       "<p>195 rows × 2 columns</p>\n",
       "</div>"
      ],
      "text/plain": [
       "     Country Name  Air Pollution\n",
       "11        Bahamas           5.20\n",
       "61        Finland           5.47\n",
       "77        Iceland           5.79\n",
       "167        Sweden           5.96\n",
       "128        Norway           6.30\n",
       "..            ...            ...\n",
       "151  Saudi Arabia          57.16\n",
       "139         Qatar          59.04\n",
       "0     Afghanistan          62.49\n",
       "53          Egypt          63.16\n",
       "91         Kuwait          64.08\n",
       "\n",
       "[195 rows x 2 columns]"
      ]
     },
     "execution_count": 10,
     "metadata": {},
     "output_type": "execute_result"
    }
   ],
   "source": [
    "air_pollution_2019 = air_pollution_2019.rename(columns={\"Location\": \"Country Name\",\"Value\": \"Air Pollution\"})\n",
    "air_pollution_2019"
   ]
  },
  {
   "cell_type": "markdown",
   "id": "a2fae3d2",
   "metadata": {},
   "source": [
    "To get a better idea of how air pollution levels looked overall, I created a boxplot using Plotly. This chart showed the distribution of PM 2.5 levels across all the countries. I added a red dashed line to represent the WHO’s recommended safe air quality level of 5 µg/m³. The chart made it really clear that every country in the dataset was above this threshold, which was surprising but also really important to highlight."
   ]
  },
  {
   "cell_type": "code",
   "execution_count": 11,
   "id": "2d7d16dc",
   "metadata": {},
   "outputs": [
    {
     "data": {
      "text/html": [
       "        <script type=\"text/javascript\">\n",
       "        window.PlotlyConfig = {MathJaxConfig: 'local'};\n",
       "        if (window.MathJax && window.MathJax.Hub && window.MathJax.Hub.Config) {window.MathJax.Hub.Config({SVG: {font: \"STIX-Web\"}});}\n",
       "        if (typeof require !== 'undefined') {\n",
       "        require.undef(\"plotly\");\n",
       "        requirejs.config({\n",
       "            paths: {\n",
       "                'plotly': ['https://cdn.plot.ly/plotly-2.35.2.min']\n",
       "            }\n",
       "        });\n",
       "        require(['plotly'], function(Plotly) {\n",
       "            window._Plotly = Plotly;\n",
       "        });\n",
       "        }\n",
       "        </script>\n",
       "        "
      ]
     },
     "metadata": {},
     "output_type": "display_data"
    },
    {
     "data": {
      "application/vnd.plotly.v1+json": {
       "config": {
        "plotlyServerURL": "https://plot.ly"
       },
       "data": [
        {
         "alignmentgroup": "True",
         "hovertemplate": "Air Pollution (µg/m³)=%{y}<extra></extra>",
         "legendgroup": "",
         "marker": {
          "color": "blue"
         },
         "name": "",
         "notched": false,
         "offsetgroup": "",
         "orientation": "v",
         "showlegend": false,
         "type": "box",
         "x0": " ",
         "xaxis": "x",
         "y": [
          5.2,
          5.47,
          5.79,
          5.96,
          6.3,
          6.35,
          6.39,
          6.74,
          6.81,
          6.86,
          7.18,
          7.21,
          7.34,
          7.36,
          7.4,
          7.52,
          7.59,
          7.62,
          7.78,
          7.79,
          7.8,
          7.82,
          7.83,
          8.05,
          8.2,
          8.22,
          8.3,
          8.42,
          8.48,
          8.52,
          8.61,
          8.88,
          8.89,
          8.89,
          8.93,
          8.97,
          8.98,
          9.21,
          9.34,
          9.41,
          9.52,
          9.66,
          9.69,
          9.79,
          9.85,
          10.08,
          10.26,
          10.37,
          10.46,
          10.48,
          10.51,
          10.73,
          10.74,
          10.84,
          10.94,
          11.11,
          11.26,
          11.51,
          11.78,
          11.81,
          12.02,
          12.04,
          12.17,
          12.31,
          12.37,
          12.52,
          12.82,
          12.93,
          13,
          13.08,
          13.3,
          13.32,
          13.33,
          13.44,
          13.51,
          14.04,
          14.08,
          14.22,
          14.24,
          14.28,
          14.34,
          14.37,
          14.52,
          14.62,
          14.7,
          14.83,
          15.07,
          15.29,
          15.36,
          15.48,
          15.89,
          16,
          16.02,
          16.21,
          16.28,
          16.45,
          16.55,
          16.9,
          16.96,
          17.29,
          17.6,
          17.8,
          17.83,
          18.57,
          18.83,
          18.93,
          19.06,
          19.3,
          19.34,
          19.47,
          19.75,
          19.98,
          20.18,
          20.47,
          20.49,
          20.75,
          20.89,
          21.15,
          21.43,
          21.52,
          21.74,
          21.8,
          22.15,
          22.45,
          22.68,
          22.74,
          23.25,
          23.88,
          24.04,
          24.23,
          24.64,
          24.64,
          25.14,
          25.17,
          25.23,
          25.67,
          25.87,
          26.1,
          26.19,
          26.29,
          26.41,
          26.5,
          26.52,
          27.16,
          27.16,
          27.2,
          28,
          29.07,
          29.48,
          29.84,
          30.82,
          31.08,
          31.31,
          31.51,
          31.58,
          31.62,
          33.75,
          34.13,
          34.85,
          34.88,
          35.66,
          35.66,
          35.8,
          36.43,
          37.57,
          37.58,
          38.15,
          38.21,
          38.55,
          39.1,
          39.29,
          39.42,
          40.41,
          40.74,
          40.98,
          41.15,
          41.3,
          41.46,
          41.61,
          41.75,
          41.98,
          45.99,
          46.04,
          50.13,
          50.15,
          50.17,
          51.82,
          53.65,
          55.64,
          56.37,
          57.16,
          59.04,
          62.49,
          63.16,
          64.08
         ],
         "y0": " ",
         "yaxis": "y"
        }
       ],
       "layout": {
        "annotations": [
         {
          "showarrow": false,
          "text": "WHO Threshold ((5 µg/m³))",
          "x": 1,
          "xanchor": "right",
          "xref": "x domain",
          "y": 5,
          "yanchor": "bottom",
          "yref": "y"
         }
        ],
        "boxmode": "group",
        "legend": {
         "tracegroupgap": 0
        },
        "shapes": [
         {
          "line": {
           "color": "red",
           "dash": "dash"
          },
          "type": "line",
          "x0": 0,
          "x1": 1,
          "xref": "x domain",
          "y0": 5,
          "y1": 5,
          "yref": "y"
         }
        ],
        "template": {
         "data": {
          "bar": [
           {
            "error_x": {
             "color": "#2a3f5f"
            },
            "error_y": {
             "color": "#2a3f5f"
            },
            "marker": {
             "line": {
              "color": "#E5ECF6",
              "width": 0.5
             },
             "pattern": {
              "fillmode": "overlay",
              "size": 10,
              "solidity": 0.2
             }
            },
            "type": "bar"
           }
          ],
          "barpolar": [
           {
            "marker": {
             "line": {
              "color": "#E5ECF6",
              "width": 0.5
             },
             "pattern": {
              "fillmode": "overlay",
              "size": 10,
              "solidity": 0.2
             }
            },
            "type": "barpolar"
           }
          ],
          "carpet": [
           {
            "aaxis": {
             "endlinecolor": "#2a3f5f",
             "gridcolor": "white",
             "linecolor": "white",
             "minorgridcolor": "white",
             "startlinecolor": "#2a3f5f"
            },
            "baxis": {
             "endlinecolor": "#2a3f5f",
             "gridcolor": "white",
             "linecolor": "white",
             "minorgridcolor": "white",
             "startlinecolor": "#2a3f5f"
            },
            "type": "carpet"
           }
          ],
          "choropleth": [
           {
            "colorbar": {
             "outlinewidth": 0,
             "ticks": ""
            },
            "type": "choropleth"
           }
          ],
          "contour": [
           {
            "colorbar": {
             "outlinewidth": 0,
             "ticks": ""
            },
            "colorscale": [
             [
              0,
              "#0d0887"
             ],
             [
              0.1111111111111111,
              "#46039f"
             ],
             [
              0.2222222222222222,
              "#7201a8"
             ],
             [
              0.3333333333333333,
              "#9c179e"
             ],
             [
              0.4444444444444444,
              "#bd3786"
             ],
             [
              0.5555555555555556,
              "#d8576b"
             ],
             [
              0.6666666666666666,
              "#ed7953"
             ],
             [
              0.7777777777777778,
              "#fb9f3a"
             ],
             [
              0.8888888888888888,
              "#fdca26"
             ],
             [
              1,
              "#f0f921"
             ]
            ],
            "type": "contour"
           }
          ],
          "contourcarpet": [
           {
            "colorbar": {
             "outlinewidth": 0,
             "ticks": ""
            },
            "type": "contourcarpet"
           }
          ],
          "heatmap": [
           {
            "colorbar": {
             "outlinewidth": 0,
             "ticks": ""
            },
            "colorscale": [
             [
              0,
              "#0d0887"
             ],
             [
              0.1111111111111111,
              "#46039f"
             ],
             [
              0.2222222222222222,
              "#7201a8"
             ],
             [
              0.3333333333333333,
              "#9c179e"
             ],
             [
              0.4444444444444444,
              "#bd3786"
             ],
             [
              0.5555555555555556,
              "#d8576b"
             ],
             [
              0.6666666666666666,
              "#ed7953"
             ],
             [
              0.7777777777777778,
              "#fb9f3a"
             ],
             [
              0.8888888888888888,
              "#fdca26"
             ],
             [
              1,
              "#f0f921"
             ]
            ],
            "type": "heatmap"
           }
          ],
          "heatmapgl": [
           {
            "colorbar": {
             "outlinewidth": 0,
             "ticks": ""
            },
            "colorscale": [
             [
              0,
              "#0d0887"
             ],
             [
              0.1111111111111111,
              "#46039f"
             ],
             [
              0.2222222222222222,
              "#7201a8"
             ],
             [
              0.3333333333333333,
              "#9c179e"
             ],
             [
              0.4444444444444444,
              "#bd3786"
             ],
             [
              0.5555555555555556,
              "#d8576b"
             ],
             [
              0.6666666666666666,
              "#ed7953"
             ],
             [
              0.7777777777777778,
              "#fb9f3a"
             ],
             [
              0.8888888888888888,
              "#fdca26"
             ],
             [
              1,
              "#f0f921"
             ]
            ],
            "type": "heatmapgl"
           }
          ],
          "histogram": [
           {
            "marker": {
             "pattern": {
              "fillmode": "overlay",
              "size": 10,
              "solidity": 0.2
             }
            },
            "type": "histogram"
           }
          ],
          "histogram2d": [
           {
            "colorbar": {
             "outlinewidth": 0,
             "ticks": ""
            },
            "colorscale": [
             [
              0,
              "#0d0887"
             ],
             [
              0.1111111111111111,
              "#46039f"
             ],
             [
              0.2222222222222222,
              "#7201a8"
             ],
             [
              0.3333333333333333,
              "#9c179e"
             ],
             [
              0.4444444444444444,
              "#bd3786"
             ],
             [
              0.5555555555555556,
              "#d8576b"
             ],
             [
              0.6666666666666666,
              "#ed7953"
             ],
             [
              0.7777777777777778,
              "#fb9f3a"
             ],
             [
              0.8888888888888888,
              "#fdca26"
             ],
             [
              1,
              "#f0f921"
             ]
            ],
            "type": "histogram2d"
           }
          ],
          "histogram2dcontour": [
           {
            "colorbar": {
             "outlinewidth": 0,
             "ticks": ""
            },
            "colorscale": [
             [
              0,
              "#0d0887"
             ],
             [
              0.1111111111111111,
              "#46039f"
             ],
             [
              0.2222222222222222,
              "#7201a8"
             ],
             [
              0.3333333333333333,
              "#9c179e"
             ],
             [
              0.4444444444444444,
              "#bd3786"
             ],
             [
              0.5555555555555556,
              "#d8576b"
             ],
             [
              0.6666666666666666,
              "#ed7953"
             ],
             [
              0.7777777777777778,
              "#fb9f3a"
             ],
             [
              0.8888888888888888,
              "#fdca26"
             ],
             [
              1,
              "#f0f921"
             ]
            ],
            "type": "histogram2dcontour"
           }
          ],
          "mesh3d": [
           {
            "colorbar": {
             "outlinewidth": 0,
             "ticks": ""
            },
            "type": "mesh3d"
           }
          ],
          "parcoords": [
           {
            "line": {
             "colorbar": {
              "outlinewidth": 0,
              "ticks": ""
             }
            },
            "type": "parcoords"
           }
          ],
          "pie": [
           {
            "automargin": true,
            "type": "pie"
           }
          ],
          "scatter": [
           {
            "fillpattern": {
             "fillmode": "overlay",
             "size": 10,
             "solidity": 0.2
            },
            "type": "scatter"
           }
          ],
          "scatter3d": [
           {
            "line": {
             "colorbar": {
              "outlinewidth": 0,
              "ticks": ""
             }
            },
            "marker": {
             "colorbar": {
              "outlinewidth": 0,
              "ticks": ""
             }
            },
            "type": "scatter3d"
           }
          ],
          "scattercarpet": [
           {
            "marker": {
             "colorbar": {
              "outlinewidth": 0,
              "ticks": ""
             }
            },
            "type": "scattercarpet"
           }
          ],
          "scattergeo": [
           {
            "marker": {
             "colorbar": {
              "outlinewidth": 0,
              "ticks": ""
             }
            },
            "type": "scattergeo"
           }
          ],
          "scattergl": [
           {
            "marker": {
             "colorbar": {
              "outlinewidth": 0,
              "ticks": ""
             }
            },
            "type": "scattergl"
           }
          ],
          "scattermapbox": [
           {
            "marker": {
             "colorbar": {
              "outlinewidth": 0,
              "ticks": ""
             }
            },
            "type": "scattermapbox"
           }
          ],
          "scatterpolar": [
           {
            "marker": {
             "colorbar": {
              "outlinewidth": 0,
              "ticks": ""
             }
            },
            "type": "scatterpolar"
           }
          ],
          "scatterpolargl": [
           {
            "marker": {
             "colorbar": {
              "outlinewidth": 0,
              "ticks": ""
             }
            },
            "type": "scatterpolargl"
           }
          ],
          "scatterternary": [
           {
            "marker": {
             "colorbar": {
              "outlinewidth": 0,
              "ticks": ""
             }
            },
            "type": "scatterternary"
           }
          ],
          "surface": [
           {
            "colorbar": {
             "outlinewidth": 0,
             "ticks": ""
            },
            "colorscale": [
             [
              0,
              "#0d0887"
             ],
             [
              0.1111111111111111,
              "#46039f"
             ],
             [
              0.2222222222222222,
              "#7201a8"
             ],
             [
              0.3333333333333333,
              "#9c179e"
             ],
             [
              0.4444444444444444,
              "#bd3786"
             ],
             [
              0.5555555555555556,
              "#d8576b"
             ],
             [
              0.6666666666666666,
              "#ed7953"
             ],
             [
              0.7777777777777778,
              "#fb9f3a"
             ],
             [
              0.8888888888888888,
              "#fdca26"
             ],
             [
              1,
              "#f0f921"
             ]
            ],
            "type": "surface"
           }
          ],
          "table": [
           {
            "cells": {
             "fill": {
              "color": "#EBF0F8"
             },
             "line": {
              "color": "white"
             }
            },
            "header": {
             "fill": {
              "color": "#C8D4E3"
             },
             "line": {
              "color": "white"
             }
            },
            "type": "table"
           }
          ]
         },
         "layout": {
          "annotationdefaults": {
           "arrowcolor": "#2a3f5f",
           "arrowhead": 0,
           "arrowwidth": 1
          },
          "autotypenumbers": "strict",
          "coloraxis": {
           "colorbar": {
            "outlinewidth": 0,
            "ticks": ""
           }
          },
          "colorscale": {
           "diverging": [
            [
             0,
             "#8e0152"
            ],
            [
             0.1,
             "#c51b7d"
            ],
            [
             0.2,
             "#de77ae"
            ],
            [
             0.3,
             "#f1b6da"
            ],
            [
             0.4,
             "#fde0ef"
            ],
            [
             0.5,
             "#f7f7f7"
            ],
            [
             0.6,
             "#e6f5d0"
            ],
            [
             0.7,
             "#b8e186"
            ],
            [
             0.8,
             "#7fbc41"
            ],
            [
             0.9,
             "#4d9221"
            ],
            [
             1,
             "#276419"
            ]
           ],
           "sequential": [
            [
             0,
             "#0d0887"
            ],
            [
             0.1111111111111111,
             "#46039f"
            ],
            [
             0.2222222222222222,
             "#7201a8"
            ],
            [
             0.3333333333333333,
             "#9c179e"
            ],
            [
             0.4444444444444444,
             "#bd3786"
            ],
            [
             0.5555555555555556,
             "#d8576b"
            ],
            [
             0.6666666666666666,
             "#ed7953"
            ],
            [
             0.7777777777777778,
             "#fb9f3a"
            ],
            [
             0.8888888888888888,
             "#fdca26"
            ],
            [
             1,
             "#f0f921"
            ]
           ],
           "sequentialminus": [
            [
             0,
             "#0d0887"
            ],
            [
             0.1111111111111111,
             "#46039f"
            ],
            [
             0.2222222222222222,
             "#7201a8"
            ],
            [
             0.3333333333333333,
             "#9c179e"
            ],
            [
             0.4444444444444444,
             "#bd3786"
            ],
            [
             0.5555555555555556,
             "#d8576b"
            ],
            [
             0.6666666666666666,
             "#ed7953"
            ],
            [
             0.7777777777777778,
             "#fb9f3a"
            ],
            [
             0.8888888888888888,
             "#fdca26"
            ],
            [
             1,
             "#f0f921"
            ]
           ]
          },
          "colorway": [
           "#636efa",
           "#EF553B",
           "#00cc96",
           "#ab63fa",
           "#FFA15A",
           "#19d3f3",
           "#FF6692",
           "#B6E880",
           "#FF97FF",
           "#FECB52"
          ],
          "font": {
           "color": "#2a3f5f"
          },
          "geo": {
           "bgcolor": "white",
           "lakecolor": "white",
           "landcolor": "#E5ECF6",
           "showlakes": true,
           "showland": true,
           "subunitcolor": "white"
          },
          "hoverlabel": {
           "align": "left"
          },
          "hovermode": "closest",
          "mapbox": {
           "style": "light"
          },
          "paper_bgcolor": "white",
          "plot_bgcolor": "#E5ECF6",
          "polar": {
           "angularaxis": {
            "gridcolor": "white",
            "linecolor": "white",
            "ticks": ""
           },
           "bgcolor": "#E5ECF6",
           "radialaxis": {
            "gridcolor": "white",
            "linecolor": "white",
            "ticks": ""
           }
          },
          "scene": {
           "xaxis": {
            "backgroundcolor": "#E5ECF6",
            "gridcolor": "white",
            "gridwidth": 2,
            "linecolor": "white",
            "showbackground": true,
            "ticks": "",
            "zerolinecolor": "white"
           },
           "yaxis": {
            "backgroundcolor": "#E5ECF6",
            "gridcolor": "white",
            "gridwidth": 2,
            "linecolor": "white",
            "showbackground": true,
            "ticks": "",
            "zerolinecolor": "white"
           },
           "zaxis": {
            "backgroundcolor": "#E5ECF6",
            "gridcolor": "white",
            "gridwidth": 2,
            "linecolor": "white",
            "showbackground": true,
            "ticks": "",
            "zerolinecolor": "white"
           }
          },
          "shapedefaults": {
           "line": {
            "color": "#2a3f5f"
           }
          },
          "ternary": {
           "aaxis": {
            "gridcolor": "white",
            "linecolor": "white",
            "ticks": ""
           },
           "baxis": {
            "gridcolor": "white",
            "linecolor": "white",
            "ticks": ""
           },
           "bgcolor": "#E5ECF6",
           "caxis": {
            "gridcolor": "white",
            "linecolor": "white",
            "ticks": ""
           }
          },
          "title": {
           "x": 0.05
          },
          "xaxis": {
           "automargin": true,
           "gridcolor": "white",
           "linecolor": "white",
           "ticks": "",
           "title": {
            "standoff": 15
           },
           "zerolinecolor": "white",
           "zerolinewidth": 2
          },
          "yaxis": {
           "automargin": true,
           "gridcolor": "white",
           "linecolor": "white",
           "ticks": "",
           "title": {
            "standoff": 15
           },
           "zerolinecolor": "white",
           "zerolinewidth": 2
          }
         }
        },
        "title": {
         "text": "Air Pollution Levels Across Countries in 2019"
        },
        "xaxis": {
         "anchor": "y",
         "domain": [
          0,
          1
         ]
        },
        "yaxis": {
         "anchor": "x",
         "domain": [
          0,
          1
         ],
         "title": {
          "text": "Air Pollution (µg/m³)"
         }
        }
       }
      },
      "text/html": [
       "<div>                            <div id=\"72585459-9e2c-409f-861e-605035786b16\" class=\"plotly-graph-div\" style=\"height:525px; width:100%;\"></div>            <script type=\"text/javascript\">                require([\"plotly\"], function(Plotly) {                    window.PLOTLYENV=window.PLOTLYENV || {};                                    if (document.getElementById(\"72585459-9e2c-409f-861e-605035786b16\")) {                    Plotly.newPlot(                        \"72585459-9e2c-409f-861e-605035786b16\",                        [{\"alignmentgroup\":\"True\",\"hovertemplate\":\"Air Pollution (\\u00b5g\\u002fm\\u00b3)=%{y}\\u003cextra\\u003e\\u003c\\u002fextra\\u003e\",\"legendgroup\":\"\",\"marker\":{\"color\":\"blue\"},\"name\":\"\",\"notched\":false,\"offsetgroup\":\"\",\"orientation\":\"v\",\"showlegend\":false,\"x0\":\" \",\"xaxis\":\"x\",\"y\":[5.2,5.47,5.79,5.96,6.3,6.35,6.39,6.74,6.81,6.86,7.18,7.21,7.34,7.36,7.4,7.52,7.59,7.62,7.78,7.79,7.8,7.82,7.83,8.05,8.2,8.22,8.3,8.42,8.48,8.52,8.61,8.88,8.89,8.89,8.93,8.97,8.98,9.21,9.34,9.41,9.52,9.66,9.69,9.79,9.85,10.08,10.26,10.37,10.46,10.48,10.51,10.73,10.74,10.84,10.94,11.11,11.26,11.51,11.78,11.81,12.02,12.04,12.17,12.31,12.37,12.52,12.82,12.93,13.0,13.08,13.3,13.32,13.33,13.44,13.51,14.04,14.08,14.22,14.24,14.28,14.34,14.37,14.52,14.62,14.7,14.83,15.07,15.29,15.36,15.48,15.89,16.0,16.02,16.21,16.28,16.45,16.55,16.9,16.96,17.29,17.6,17.8,17.83,18.57,18.83,18.93,19.06,19.3,19.34,19.47,19.75,19.98,20.18,20.47,20.49,20.75,20.89,21.15,21.43,21.52,21.74,21.8,22.15,22.45,22.68,22.74,23.25,23.88,24.04,24.23,24.64,24.64,25.14,25.17,25.23,25.67,25.87,26.1,26.19,26.29,26.41,26.5,26.52,27.16,27.16,27.2,28.0,29.07,29.48,29.84,30.82,31.08,31.31,31.51,31.58,31.62,33.75,34.13,34.85,34.88,35.66,35.66,35.8,36.43,37.57,37.58,38.15,38.21,38.55,39.1,39.29,39.42,40.41,40.74,40.98,41.15,41.3,41.46,41.61,41.75,41.98,45.99,46.04,50.13,50.15,50.17,51.82,53.65,55.64,56.37,57.16,59.04,62.49,63.16,64.08],\"y0\":\" \",\"yaxis\":\"y\",\"type\":\"box\"}],                        {\"template\":{\"data\":{\"histogram2dcontour\":[{\"type\":\"histogram2dcontour\",\"colorbar\":{\"outlinewidth\":0,\"ticks\":\"\"},\"colorscale\":[[0.0,\"#0d0887\"],[0.1111111111111111,\"#46039f\"],[0.2222222222222222,\"#7201a8\"],[0.3333333333333333,\"#9c179e\"],[0.4444444444444444,\"#bd3786\"],[0.5555555555555556,\"#d8576b\"],[0.6666666666666666,\"#ed7953\"],[0.7777777777777778,\"#fb9f3a\"],[0.8888888888888888,\"#fdca26\"],[1.0,\"#f0f921\"]]}],\"choropleth\":[{\"type\":\"choropleth\",\"colorbar\":{\"outlinewidth\":0,\"ticks\":\"\"}}],\"histogram2d\":[{\"type\":\"histogram2d\",\"colorbar\":{\"outlinewidth\":0,\"ticks\":\"\"},\"colorscale\":[[0.0,\"#0d0887\"],[0.1111111111111111,\"#46039f\"],[0.2222222222222222,\"#7201a8\"],[0.3333333333333333,\"#9c179e\"],[0.4444444444444444,\"#bd3786\"],[0.5555555555555556,\"#d8576b\"],[0.6666666666666666,\"#ed7953\"],[0.7777777777777778,\"#fb9f3a\"],[0.8888888888888888,\"#fdca26\"],[1.0,\"#f0f921\"]]}],\"heatmap\":[{\"type\":\"heatmap\",\"colorbar\":{\"outlinewidth\":0,\"ticks\":\"\"},\"colorscale\":[[0.0,\"#0d0887\"],[0.1111111111111111,\"#46039f\"],[0.2222222222222222,\"#7201a8\"],[0.3333333333333333,\"#9c179e\"],[0.4444444444444444,\"#bd3786\"],[0.5555555555555556,\"#d8576b\"],[0.6666666666666666,\"#ed7953\"],[0.7777777777777778,\"#fb9f3a\"],[0.8888888888888888,\"#fdca26\"],[1.0,\"#f0f921\"]]}],\"heatmapgl\":[{\"type\":\"heatmapgl\",\"colorbar\":{\"outlinewidth\":0,\"ticks\":\"\"},\"colorscale\":[[0.0,\"#0d0887\"],[0.1111111111111111,\"#46039f\"],[0.2222222222222222,\"#7201a8\"],[0.3333333333333333,\"#9c179e\"],[0.4444444444444444,\"#bd3786\"],[0.5555555555555556,\"#d8576b\"],[0.6666666666666666,\"#ed7953\"],[0.7777777777777778,\"#fb9f3a\"],[0.8888888888888888,\"#fdca26\"],[1.0,\"#f0f921\"]]}],\"contourcarpet\":[{\"type\":\"contourcarpet\",\"colorbar\":{\"outlinewidth\":0,\"ticks\":\"\"}}],\"contour\":[{\"type\":\"contour\",\"colorbar\":{\"outlinewidth\":0,\"ticks\":\"\"},\"colorscale\":[[0.0,\"#0d0887\"],[0.1111111111111111,\"#46039f\"],[0.2222222222222222,\"#7201a8\"],[0.3333333333333333,\"#9c179e\"],[0.4444444444444444,\"#bd3786\"],[0.5555555555555556,\"#d8576b\"],[0.6666666666666666,\"#ed7953\"],[0.7777777777777778,\"#fb9f3a\"],[0.8888888888888888,\"#fdca26\"],[1.0,\"#f0f921\"]]}],\"surface\":[{\"type\":\"surface\",\"colorbar\":{\"outlinewidth\":0,\"ticks\":\"\"},\"colorscale\":[[0.0,\"#0d0887\"],[0.1111111111111111,\"#46039f\"],[0.2222222222222222,\"#7201a8\"],[0.3333333333333333,\"#9c179e\"],[0.4444444444444444,\"#bd3786\"],[0.5555555555555556,\"#d8576b\"],[0.6666666666666666,\"#ed7953\"],[0.7777777777777778,\"#fb9f3a\"],[0.8888888888888888,\"#fdca26\"],[1.0,\"#f0f921\"]]}],\"mesh3d\":[{\"type\":\"mesh3d\",\"colorbar\":{\"outlinewidth\":0,\"ticks\":\"\"}}],\"scatter\":[{\"fillpattern\":{\"fillmode\":\"overlay\",\"size\":10,\"solidity\":0.2},\"type\":\"scatter\"}],\"parcoords\":[{\"type\":\"parcoords\",\"line\":{\"colorbar\":{\"outlinewidth\":0,\"ticks\":\"\"}}}],\"scatterpolargl\":[{\"type\":\"scatterpolargl\",\"marker\":{\"colorbar\":{\"outlinewidth\":0,\"ticks\":\"\"}}}],\"bar\":[{\"error_x\":{\"color\":\"#2a3f5f\"},\"error_y\":{\"color\":\"#2a3f5f\"},\"marker\":{\"line\":{\"color\":\"#E5ECF6\",\"width\":0.5},\"pattern\":{\"fillmode\":\"overlay\",\"size\":10,\"solidity\":0.2}},\"type\":\"bar\"}],\"scattergeo\":[{\"type\":\"scattergeo\",\"marker\":{\"colorbar\":{\"outlinewidth\":0,\"ticks\":\"\"}}}],\"scatterpolar\":[{\"type\":\"scatterpolar\",\"marker\":{\"colorbar\":{\"outlinewidth\":0,\"ticks\":\"\"}}}],\"histogram\":[{\"marker\":{\"pattern\":{\"fillmode\":\"overlay\",\"size\":10,\"solidity\":0.2}},\"type\":\"histogram\"}],\"scattergl\":[{\"type\":\"scattergl\",\"marker\":{\"colorbar\":{\"outlinewidth\":0,\"ticks\":\"\"}}}],\"scatter3d\":[{\"type\":\"scatter3d\",\"line\":{\"colorbar\":{\"outlinewidth\":0,\"ticks\":\"\"}},\"marker\":{\"colorbar\":{\"outlinewidth\":0,\"ticks\":\"\"}}}],\"scattermapbox\":[{\"type\":\"scattermapbox\",\"marker\":{\"colorbar\":{\"outlinewidth\":0,\"ticks\":\"\"}}}],\"scatterternary\":[{\"type\":\"scatterternary\",\"marker\":{\"colorbar\":{\"outlinewidth\":0,\"ticks\":\"\"}}}],\"scattercarpet\":[{\"type\":\"scattercarpet\",\"marker\":{\"colorbar\":{\"outlinewidth\":0,\"ticks\":\"\"}}}],\"carpet\":[{\"aaxis\":{\"endlinecolor\":\"#2a3f5f\",\"gridcolor\":\"white\",\"linecolor\":\"white\",\"minorgridcolor\":\"white\",\"startlinecolor\":\"#2a3f5f\"},\"baxis\":{\"endlinecolor\":\"#2a3f5f\",\"gridcolor\":\"white\",\"linecolor\":\"white\",\"minorgridcolor\":\"white\",\"startlinecolor\":\"#2a3f5f\"},\"type\":\"carpet\"}],\"table\":[{\"cells\":{\"fill\":{\"color\":\"#EBF0F8\"},\"line\":{\"color\":\"white\"}},\"header\":{\"fill\":{\"color\":\"#C8D4E3\"},\"line\":{\"color\":\"white\"}},\"type\":\"table\"}],\"barpolar\":[{\"marker\":{\"line\":{\"color\":\"#E5ECF6\",\"width\":0.5},\"pattern\":{\"fillmode\":\"overlay\",\"size\":10,\"solidity\":0.2}},\"type\":\"barpolar\"}],\"pie\":[{\"automargin\":true,\"type\":\"pie\"}]},\"layout\":{\"autotypenumbers\":\"strict\",\"colorway\":[\"#636efa\",\"#EF553B\",\"#00cc96\",\"#ab63fa\",\"#FFA15A\",\"#19d3f3\",\"#FF6692\",\"#B6E880\",\"#FF97FF\",\"#FECB52\"],\"font\":{\"color\":\"#2a3f5f\"},\"hovermode\":\"closest\",\"hoverlabel\":{\"align\":\"left\"},\"paper_bgcolor\":\"white\",\"plot_bgcolor\":\"#E5ECF6\",\"polar\":{\"bgcolor\":\"#E5ECF6\",\"angularaxis\":{\"gridcolor\":\"white\",\"linecolor\":\"white\",\"ticks\":\"\"},\"radialaxis\":{\"gridcolor\":\"white\",\"linecolor\":\"white\",\"ticks\":\"\"}},\"ternary\":{\"bgcolor\":\"#E5ECF6\",\"aaxis\":{\"gridcolor\":\"white\",\"linecolor\":\"white\",\"ticks\":\"\"},\"baxis\":{\"gridcolor\":\"white\",\"linecolor\":\"white\",\"ticks\":\"\"},\"caxis\":{\"gridcolor\":\"white\",\"linecolor\":\"white\",\"ticks\":\"\"}},\"coloraxis\":{\"colorbar\":{\"outlinewidth\":0,\"ticks\":\"\"}},\"colorscale\":{\"sequential\":[[0.0,\"#0d0887\"],[0.1111111111111111,\"#46039f\"],[0.2222222222222222,\"#7201a8\"],[0.3333333333333333,\"#9c179e\"],[0.4444444444444444,\"#bd3786\"],[0.5555555555555556,\"#d8576b\"],[0.6666666666666666,\"#ed7953\"],[0.7777777777777778,\"#fb9f3a\"],[0.8888888888888888,\"#fdca26\"],[1.0,\"#f0f921\"]],\"sequentialminus\":[[0.0,\"#0d0887\"],[0.1111111111111111,\"#46039f\"],[0.2222222222222222,\"#7201a8\"],[0.3333333333333333,\"#9c179e\"],[0.4444444444444444,\"#bd3786\"],[0.5555555555555556,\"#d8576b\"],[0.6666666666666666,\"#ed7953\"],[0.7777777777777778,\"#fb9f3a\"],[0.8888888888888888,\"#fdca26\"],[1.0,\"#f0f921\"]],\"diverging\":[[0,\"#8e0152\"],[0.1,\"#c51b7d\"],[0.2,\"#de77ae\"],[0.3,\"#f1b6da\"],[0.4,\"#fde0ef\"],[0.5,\"#f7f7f7\"],[0.6,\"#e6f5d0\"],[0.7,\"#b8e186\"],[0.8,\"#7fbc41\"],[0.9,\"#4d9221\"],[1,\"#276419\"]]},\"xaxis\":{\"gridcolor\":\"white\",\"linecolor\":\"white\",\"ticks\":\"\",\"title\":{\"standoff\":15},\"zerolinecolor\":\"white\",\"automargin\":true,\"zerolinewidth\":2},\"yaxis\":{\"gridcolor\":\"white\",\"linecolor\":\"white\",\"ticks\":\"\",\"title\":{\"standoff\":15},\"zerolinecolor\":\"white\",\"automargin\":true,\"zerolinewidth\":2},\"scene\":{\"xaxis\":{\"backgroundcolor\":\"#E5ECF6\",\"gridcolor\":\"white\",\"linecolor\":\"white\",\"showbackground\":true,\"ticks\":\"\",\"zerolinecolor\":\"white\",\"gridwidth\":2},\"yaxis\":{\"backgroundcolor\":\"#E5ECF6\",\"gridcolor\":\"white\",\"linecolor\":\"white\",\"showbackground\":true,\"ticks\":\"\",\"zerolinecolor\":\"white\",\"gridwidth\":2},\"zaxis\":{\"backgroundcolor\":\"#E5ECF6\",\"gridcolor\":\"white\",\"linecolor\":\"white\",\"showbackground\":true,\"ticks\":\"\",\"zerolinecolor\":\"white\",\"gridwidth\":2}},\"shapedefaults\":{\"line\":{\"color\":\"#2a3f5f\"}},\"annotationdefaults\":{\"arrowcolor\":\"#2a3f5f\",\"arrowhead\":0,\"arrowwidth\":1},\"geo\":{\"bgcolor\":\"white\",\"landcolor\":\"#E5ECF6\",\"subunitcolor\":\"white\",\"showland\":true,\"showlakes\":true,\"lakecolor\":\"white\"},\"title\":{\"x\":0.05},\"mapbox\":{\"style\":\"light\"}}},\"xaxis\":{\"anchor\":\"y\",\"domain\":[0.0,1.0]},\"yaxis\":{\"anchor\":\"x\",\"domain\":[0.0,1.0],\"title\":{\"text\":\"Air Pollution (\\u00b5g\\u002fm\\u00b3)\"}},\"legend\":{\"tracegroupgap\":0},\"title\":{\"text\":\"Air Pollution Levels Across Countries in 2019\"},\"boxmode\":\"group\",\"shapes\":[{\"line\":{\"color\":\"red\",\"dash\":\"dash\"},\"type\":\"line\",\"x0\":0,\"x1\":1,\"xref\":\"x domain\",\"y0\":5,\"y1\":5,\"yref\":\"y\"}],\"annotations\":[{\"showarrow\":false,\"text\":\"WHO Threshold ((5 \\u00b5g\\u002fm\\u00b3))\",\"x\":1,\"xanchor\":\"right\",\"xref\":\"x domain\",\"y\":5,\"yanchor\":\"bottom\",\"yref\":\"y\"}]},                        {\"responsive\": true}                    ).then(function(){\n",
       "                            \n",
       "var gd = document.getElementById('72585459-9e2c-409f-861e-605035786b16');\n",
       "var x = new MutationObserver(function (mutations, observer) {{\n",
       "        var display = window.getComputedStyle(gd).display;\n",
       "        if (!display || display === 'none') {{\n",
       "            console.log([gd, 'removed!']);\n",
       "            Plotly.purge(gd);\n",
       "            observer.disconnect();\n",
       "        }}\n",
       "}});\n",
       "\n",
       "// Listen for the removal of the full notebook cells\n",
       "var notebookContainer = gd.closest('#notebook-container');\n",
       "if (notebookContainer) {{\n",
       "    x.observe(notebookContainer, {childList: true});\n",
       "}}\n",
       "\n",
       "// Listen for the clearing of the current output cell\n",
       "var outputEl = gd.closest('.output');\n",
       "if (outputEl) {{\n",
       "    x.observe(outputEl, {childList: true});\n",
       "}}\n",
       "\n",
       "                        })                };                });            </script>        </div>"
      ]
     },
     "metadata": {},
     "output_type": "display_data"
    }
   ],
   "source": [
    "import plotly.express as px\n",
    "\n",
    "fig = px.box(\n",
    "    air_pollution_2019,\n",
    "    y='Air Pollution',\n",
    "    title='Air Pollution Levels Across Countries in 2019',\n",
    "    labels={'Air Pollution': 'Air Pollution (µg/m³)'},\n",
    "    color_discrete_sequence=['blue']\n",
    ")\n",
    "fig.add_hline(y=5, line_color=\"red\", annotation_text=\"WHO Threshold ((5 µg/m³))\", line_dash=\"dash\")\n",
    "fig.show()"
   ]
  },
  {
   "cell_type": "markdown",
   "id": "bb541529",
   "metadata": {},
   "source": [
    "Lastly, I wanted to see how air pollution looked across the world, so I created a choropleth map. This map used colors to show the average PM 2.5 levels for each country. I used the `\"Plasma\"` color scale, which made it easy to spot areas with higher pollution (in brighter colors) and lower pollution (in darker colors). This map made it really easy to see which regions were struggling with air quality and added a visual element to my analysis."
   ]
  },
  {
   "cell_type": "code",
   "execution_count": 12,
   "id": "7edaed55",
   "metadata": {},
   "outputs": [
    {
     "data": {
      "application/vnd.plotly.v1+json": {
       "config": {
        "plotlyServerURL": "https://plot.ly"
       },
       "data": [
        {
         "coloraxis": "coloraxis",
         "geo": "geo",
         "hovertemplate": "Country Name=%{location}<br>Air Pollution (µg/m³)=%{z}<extra></extra>",
         "locationmode": "country names",
         "locations": [
          "Bahamas",
          "Finland",
          "Iceland",
          "Sweden",
          "Norway",
          "Estonia",
          "Canada",
          "Niue",
          "Tuvalu",
          "Brunei Darussalam",
          "United States of America",
          "Marshall Islands",
          "Portugal",
          "Fiji",
          "Nauru",
          "Tonga",
          "Dominican Republic",
          "Kiribati",
          "Samoa",
          "Micronesia (Federated States of)",
          "Cook Islands",
          "Palau",
          "Solomon Islands",
          "Saint Kitts and Nevis",
          "Ireland",
          "Dominica",
          "Antigua and Barbuda",
          "Vanuatu",
          "Uruguay",
          "Andorra",
          "New Zealand",
          "Russian Federation",
          "Papua New Guinea",
          "Luxembourg",
          "Australia",
          "Switzerland",
          "Saint Lucia",
          "Monaco",
          "Spain",
          "Saint Vincent and the Grenadines",
          "United Kingdom of Great Britain and Northern Ireland",
          "Denmark",
          "Haiti",
          "Barbados",
          "San Marino",
          "Grenada",
          "Trinidad and Tobago",
          "Lithuania",
          "France",
          "Mauritius",
          "Belize",
          "Germany",
          "Netherlands (Kingdom of the)",
          "Japan",
          "Brazil",
          "Guyana",
          "Belgium",
          "Austria",
          "Panama",
          "Namibia",
          "Latvia",
          "Argentina",
          "Suriname",
          "Paraguay",
          "Republic of Moldova",
          "Kenya",
          "Botswana",
          "Malta",
          "Maldives",
          "Zimbabwe",
          "Romania",
          "Cuba",
          "Singapore",
          "Morocco",
          "Ukraine",
          "Colombia",
          "Slovenia",
          "Italy",
          "Hungary",
          "Somalia",
          "Czechia",
          "Comoros",
          "Cyprus",
          "Greece",
          "Costa Rica",
          "Jamaica",
          "Eswatini",
          "Croatia",
          "United Republic of Tanzania",
          "Belarus",
          "Slovakia",
          "Nicaragua",
          "Madagascar",
          "Venezuela (Bolivarian Republic of)",
          "Albania",
          "Mozambique",
          "Ecuador",
          "Zambia",
          "Seychelles",
          "Bulgaria",
          "Lesotho",
          "Cambodia",
          "Mexico",
          "Malawi",
          "Poland",
          "Honduras",
          "Georgia",
          "Montenegro",
          "Indonesia",
          "Israel",
          "South Africa",
          "Djibouti",
          "South Sudan",
          "Timor-Leste",
          "Chile",
          "Guatemala",
          "Viet Nam",
          "Lao People's Democratic Republic",
          "Sudan",
          "Malaysia",
          "Serbia",
          "Ethiopia",
          "El Salvador",
          "Philippines",
          "Algeria",
          "Eritrea",
          "Türkiye",
          "Sri Lanka",
          "Republic of Korea",
          "Lebanon",
          "Azerbaijan",
          "Thailand",
          "Syrian Arab Republic",
          "North Macedonia",
          "Bolivia (Plurinational State of)",
          "Equatorial Guinea",
          "Jordan",
          "Bhutan",
          "Bosnia and Herzegovina",
          "Gabon",
          "Turkmenistan",
          "Kazakhstan",
          "Tunisia",
          "Myanmar",
          "Angola",
          "Central African Republic",
          "Burundi",
          "Peru",
          "Congo",
          "Libya",
          "occupied Palestinian territory, including east Jerusalem",
          "Cabo Verde",
          "Uganda",
          "Benin",
          "Democratic Republic of the Congo",
          "Iran (Islamic Republic of)",
          "Sao Tome and Principe",
          "Armenia",
          "Guinea-Bissau",
          "Oman",
          "Rwanda",
          "Togo",
          "Liberia",
          "Nepal",
          "Guinea",
          "Kyrgyzstan",
          "China",
          "Senegal",
          "Mali",
          "Gambia",
          "Iraq",
          "Sierra Leone",
          "Cote d'Ivoire",
          "Burkina Faso",
          "Uzbekistan",
          "Chad",
          "Mongolia",
          "Democratic People's Republic of Korea",
          "Yemen",
          "United Arab Emirates",
          "Mauritania",
          "Bangladesh",
          "Ghana",
          "Pakistan",
          "Niger",
          "India",
          "Bahrain",
          "Tajikistan",
          "Nigeria",
          "Cameroon",
          "Saudi Arabia",
          "Qatar",
          "Afghanistan",
          "Egypt",
          "Kuwait"
         ],
         "name": "",
         "type": "choropleth",
         "z": [
          5.2,
          5.47,
          5.79,
          5.96,
          6.3,
          6.35,
          6.39,
          6.74,
          6.81,
          6.86,
          7.18,
          7.21,
          7.34,
          7.36,
          7.4,
          7.52,
          7.59,
          7.62,
          7.78,
          7.79,
          7.8,
          7.82,
          7.83,
          8.05,
          8.2,
          8.22,
          8.3,
          8.42,
          8.48,
          8.52,
          8.61,
          8.88,
          8.89,
          8.89,
          8.93,
          8.97,
          8.98,
          9.21,
          9.34,
          9.41,
          9.52,
          9.66,
          9.69,
          9.79,
          9.85,
          10.08,
          10.26,
          10.37,
          10.46,
          10.48,
          10.51,
          10.73,
          10.74,
          10.84,
          10.94,
          11.11,
          11.26,
          11.51,
          11.78,
          11.81,
          12.02,
          12.04,
          12.17,
          12.31,
          12.37,
          12.52,
          12.82,
          12.93,
          13,
          13.08,
          13.3,
          13.32,
          13.33,
          13.44,
          13.51,
          14.04,
          14.08,
          14.22,
          14.24,
          14.28,
          14.34,
          14.37,
          14.52,
          14.62,
          14.7,
          14.83,
          15.07,
          15.29,
          15.36,
          15.48,
          15.89,
          16,
          16.02,
          16.21,
          16.28,
          16.45,
          16.55,
          16.9,
          16.96,
          17.29,
          17.6,
          17.8,
          17.83,
          18.57,
          18.83,
          18.93,
          19.06,
          19.3,
          19.34,
          19.47,
          19.75,
          19.98,
          20.18,
          20.47,
          20.49,
          20.75,
          20.89,
          21.15,
          21.43,
          21.52,
          21.74,
          21.8,
          22.15,
          22.45,
          22.68,
          22.74,
          23.25,
          23.88,
          24.04,
          24.23,
          24.64,
          24.64,
          25.14,
          25.17,
          25.23,
          25.67,
          25.87,
          26.1,
          26.19,
          26.29,
          26.41,
          26.5,
          26.52,
          27.16,
          27.16,
          27.2,
          28,
          29.07,
          29.48,
          29.84,
          30.82,
          31.08,
          31.31,
          31.51,
          31.58,
          31.62,
          33.75,
          34.13,
          34.85,
          34.88,
          35.66,
          35.66,
          35.8,
          36.43,
          37.57,
          37.58,
          38.15,
          38.21,
          38.55,
          39.1,
          39.29,
          39.42,
          40.41,
          40.74,
          40.98,
          41.15,
          41.3,
          41.46,
          41.61,
          41.75,
          41.98,
          45.99,
          46.04,
          50.13,
          50.15,
          50.17,
          51.82,
          53.65,
          55.64,
          56.37,
          57.16,
          59.04,
          62.49,
          63.16,
          64.08
         ]
        }
       ],
       "layout": {
        "coloraxis": {
         "colorbar": {
          "title": {
           "text": "Air Pollution (µg/m³)"
          }
         },
         "colorscale": [
          [
           0,
           "#0d0887"
          ],
          [
           0.1111111111111111,
           "#46039f"
          ],
          [
           0.2222222222222222,
           "#7201a8"
          ],
          [
           0.3333333333333333,
           "#9c179e"
          ],
          [
           0.4444444444444444,
           "#bd3786"
          ],
          [
           0.5555555555555556,
           "#d8576b"
          ],
          [
           0.6666666666666666,
           "#ed7953"
          ],
          [
           0.7777777777777778,
           "#fb9f3a"
          ],
          [
           0.8888888888888888,
           "#fdca26"
          ],
          [
           1,
           "#f0f921"
          ]
         ]
        },
        "geo": {
         "center": {},
         "domain": {
          "x": [
           0,
           1
          ],
          "y": [
           0,
           1
          ]
         }
        },
        "legend": {
         "tracegroupgap": 0
        },
        "template": {
         "data": {
          "bar": [
           {
            "error_x": {
             "color": "#2a3f5f"
            },
            "error_y": {
             "color": "#2a3f5f"
            },
            "marker": {
             "line": {
              "color": "#E5ECF6",
              "width": 0.5
             },
             "pattern": {
              "fillmode": "overlay",
              "size": 10,
              "solidity": 0.2
             }
            },
            "type": "bar"
           }
          ],
          "barpolar": [
           {
            "marker": {
             "line": {
              "color": "#E5ECF6",
              "width": 0.5
             },
             "pattern": {
              "fillmode": "overlay",
              "size": 10,
              "solidity": 0.2
             }
            },
            "type": "barpolar"
           }
          ],
          "carpet": [
           {
            "aaxis": {
             "endlinecolor": "#2a3f5f",
             "gridcolor": "white",
             "linecolor": "white",
             "minorgridcolor": "white",
             "startlinecolor": "#2a3f5f"
            },
            "baxis": {
             "endlinecolor": "#2a3f5f",
             "gridcolor": "white",
             "linecolor": "white",
             "minorgridcolor": "white",
             "startlinecolor": "#2a3f5f"
            },
            "type": "carpet"
           }
          ],
          "choropleth": [
           {
            "colorbar": {
             "outlinewidth": 0,
             "ticks": ""
            },
            "type": "choropleth"
           }
          ],
          "contour": [
           {
            "colorbar": {
             "outlinewidth": 0,
             "ticks": ""
            },
            "colorscale": [
             [
              0,
              "#0d0887"
             ],
             [
              0.1111111111111111,
              "#46039f"
             ],
             [
              0.2222222222222222,
              "#7201a8"
             ],
             [
              0.3333333333333333,
              "#9c179e"
             ],
             [
              0.4444444444444444,
              "#bd3786"
             ],
             [
              0.5555555555555556,
              "#d8576b"
             ],
             [
              0.6666666666666666,
              "#ed7953"
             ],
             [
              0.7777777777777778,
              "#fb9f3a"
             ],
             [
              0.8888888888888888,
              "#fdca26"
             ],
             [
              1,
              "#f0f921"
             ]
            ],
            "type": "contour"
           }
          ],
          "contourcarpet": [
           {
            "colorbar": {
             "outlinewidth": 0,
             "ticks": ""
            },
            "type": "contourcarpet"
           }
          ],
          "heatmap": [
           {
            "colorbar": {
             "outlinewidth": 0,
             "ticks": ""
            },
            "colorscale": [
             [
              0,
              "#0d0887"
             ],
             [
              0.1111111111111111,
              "#46039f"
             ],
             [
              0.2222222222222222,
              "#7201a8"
             ],
             [
              0.3333333333333333,
              "#9c179e"
             ],
             [
              0.4444444444444444,
              "#bd3786"
             ],
             [
              0.5555555555555556,
              "#d8576b"
             ],
             [
              0.6666666666666666,
              "#ed7953"
             ],
             [
              0.7777777777777778,
              "#fb9f3a"
             ],
             [
              0.8888888888888888,
              "#fdca26"
             ],
             [
              1,
              "#f0f921"
             ]
            ],
            "type": "heatmap"
           }
          ],
          "heatmapgl": [
           {
            "colorbar": {
             "outlinewidth": 0,
             "ticks": ""
            },
            "colorscale": [
             [
              0,
              "#0d0887"
             ],
             [
              0.1111111111111111,
              "#46039f"
             ],
             [
              0.2222222222222222,
              "#7201a8"
             ],
             [
              0.3333333333333333,
              "#9c179e"
             ],
             [
              0.4444444444444444,
              "#bd3786"
             ],
             [
              0.5555555555555556,
              "#d8576b"
             ],
             [
              0.6666666666666666,
              "#ed7953"
             ],
             [
              0.7777777777777778,
              "#fb9f3a"
             ],
             [
              0.8888888888888888,
              "#fdca26"
             ],
             [
              1,
              "#f0f921"
             ]
            ],
            "type": "heatmapgl"
           }
          ],
          "histogram": [
           {
            "marker": {
             "pattern": {
              "fillmode": "overlay",
              "size": 10,
              "solidity": 0.2
             }
            },
            "type": "histogram"
           }
          ],
          "histogram2d": [
           {
            "colorbar": {
             "outlinewidth": 0,
             "ticks": ""
            },
            "colorscale": [
             [
              0,
              "#0d0887"
             ],
             [
              0.1111111111111111,
              "#46039f"
             ],
             [
              0.2222222222222222,
              "#7201a8"
             ],
             [
              0.3333333333333333,
              "#9c179e"
             ],
             [
              0.4444444444444444,
              "#bd3786"
             ],
             [
              0.5555555555555556,
              "#d8576b"
             ],
             [
              0.6666666666666666,
              "#ed7953"
             ],
             [
              0.7777777777777778,
              "#fb9f3a"
             ],
             [
              0.8888888888888888,
              "#fdca26"
             ],
             [
              1,
              "#f0f921"
             ]
            ],
            "type": "histogram2d"
           }
          ],
          "histogram2dcontour": [
           {
            "colorbar": {
             "outlinewidth": 0,
             "ticks": ""
            },
            "colorscale": [
             [
              0,
              "#0d0887"
             ],
             [
              0.1111111111111111,
              "#46039f"
             ],
             [
              0.2222222222222222,
              "#7201a8"
             ],
             [
              0.3333333333333333,
              "#9c179e"
             ],
             [
              0.4444444444444444,
              "#bd3786"
             ],
             [
              0.5555555555555556,
              "#d8576b"
             ],
             [
              0.6666666666666666,
              "#ed7953"
             ],
             [
              0.7777777777777778,
              "#fb9f3a"
             ],
             [
              0.8888888888888888,
              "#fdca26"
             ],
             [
              1,
              "#f0f921"
             ]
            ],
            "type": "histogram2dcontour"
           }
          ],
          "mesh3d": [
           {
            "colorbar": {
             "outlinewidth": 0,
             "ticks": ""
            },
            "type": "mesh3d"
           }
          ],
          "parcoords": [
           {
            "line": {
             "colorbar": {
              "outlinewidth": 0,
              "ticks": ""
             }
            },
            "type": "parcoords"
           }
          ],
          "pie": [
           {
            "automargin": true,
            "type": "pie"
           }
          ],
          "scatter": [
           {
            "fillpattern": {
             "fillmode": "overlay",
             "size": 10,
             "solidity": 0.2
            },
            "type": "scatter"
           }
          ],
          "scatter3d": [
           {
            "line": {
             "colorbar": {
              "outlinewidth": 0,
              "ticks": ""
             }
            },
            "marker": {
             "colorbar": {
              "outlinewidth": 0,
              "ticks": ""
             }
            },
            "type": "scatter3d"
           }
          ],
          "scattercarpet": [
           {
            "marker": {
             "colorbar": {
              "outlinewidth": 0,
              "ticks": ""
             }
            },
            "type": "scattercarpet"
           }
          ],
          "scattergeo": [
           {
            "marker": {
             "colorbar": {
              "outlinewidth": 0,
              "ticks": ""
             }
            },
            "type": "scattergeo"
           }
          ],
          "scattergl": [
           {
            "marker": {
             "colorbar": {
              "outlinewidth": 0,
              "ticks": ""
             }
            },
            "type": "scattergl"
           }
          ],
          "scattermapbox": [
           {
            "marker": {
             "colorbar": {
              "outlinewidth": 0,
              "ticks": ""
             }
            },
            "type": "scattermapbox"
           }
          ],
          "scatterpolar": [
           {
            "marker": {
             "colorbar": {
              "outlinewidth": 0,
              "ticks": ""
             }
            },
            "type": "scatterpolar"
           }
          ],
          "scatterpolargl": [
           {
            "marker": {
             "colorbar": {
              "outlinewidth": 0,
              "ticks": ""
             }
            },
            "type": "scatterpolargl"
           }
          ],
          "scatterternary": [
           {
            "marker": {
             "colorbar": {
              "outlinewidth": 0,
              "ticks": ""
             }
            },
            "type": "scatterternary"
           }
          ],
          "surface": [
           {
            "colorbar": {
             "outlinewidth": 0,
             "ticks": ""
            },
            "colorscale": [
             [
              0,
              "#0d0887"
             ],
             [
              0.1111111111111111,
              "#46039f"
             ],
             [
              0.2222222222222222,
              "#7201a8"
             ],
             [
              0.3333333333333333,
              "#9c179e"
             ],
             [
              0.4444444444444444,
              "#bd3786"
             ],
             [
              0.5555555555555556,
              "#d8576b"
             ],
             [
              0.6666666666666666,
              "#ed7953"
             ],
             [
              0.7777777777777778,
              "#fb9f3a"
             ],
             [
              0.8888888888888888,
              "#fdca26"
             ],
             [
              1,
              "#f0f921"
             ]
            ],
            "type": "surface"
           }
          ],
          "table": [
           {
            "cells": {
             "fill": {
              "color": "#EBF0F8"
             },
             "line": {
              "color": "white"
             }
            },
            "header": {
             "fill": {
              "color": "#C8D4E3"
             },
             "line": {
              "color": "white"
             }
            },
            "type": "table"
           }
          ]
         },
         "layout": {
          "annotationdefaults": {
           "arrowcolor": "#2a3f5f",
           "arrowhead": 0,
           "arrowwidth": 1
          },
          "autotypenumbers": "strict",
          "coloraxis": {
           "colorbar": {
            "outlinewidth": 0,
            "ticks": ""
           }
          },
          "colorscale": {
           "diverging": [
            [
             0,
             "#8e0152"
            ],
            [
             0.1,
             "#c51b7d"
            ],
            [
             0.2,
             "#de77ae"
            ],
            [
             0.3,
             "#f1b6da"
            ],
            [
             0.4,
             "#fde0ef"
            ],
            [
             0.5,
             "#f7f7f7"
            ],
            [
             0.6,
             "#e6f5d0"
            ],
            [
             0.7,
             "#b8e186"
            ],
            [
             0.8,
             "#7fbc41"
            ],
            [
             0.9,
             "#4d9221"
            ],
            [
             1,
             "#276419"
            ]
           ],
           "sequential": [
            [
             0,
             "#0d0887"
            ],
            [
             0.1111111111111111,
             "#46039f"
            ],
            [
             0.2222222222222222,
             "#7201a8"
            ],
            [
             0.3333333333333333,
             "#9c179e"
            ],
            [
             0.4444444444444444,
             "#bd3786"
            ],
            [
             0.5555555555555556,
             "#d8576b"
            ],
            [
             0.6666666666666666,
             "#ed7953"
            ],
            [
             0.7777777777777778,
             "#fb9f3a"
            ],
            [
             0.8888888888888888,
             "#fdca26"
            ],
            [
             1,
             "#f0f921"
            ]
           ],
           "sequentialminus": [
            [
             0,
             "#0d0887"
            ],
            [
             0.1111111111111111,
             "#46039f"
            ],
            [
             0.2222222222222222,
             "#7201a8"
            ],
            [
             0.3333333333333333,
             "#9c179e"
            ],
            [
             0.4444444444444444,
             "#bd3786"
            ],
            [
             0.5555555555555556,
             "#d8576b"
            ],
            [
             0.6666666666666666,
             "#ed7953"
            ],
            [
             0.7777777777777778,
             "#fb9f3a"
            ],
            [
             0.8888888888888888,
             "#fdca26"
            ],
            [
             1,
             "#f0f921"
            ]
           ]
          },
          "colorway": [
           "#636efa",
           "#EF553B",
           "#00cc96",
           "#ab63fa",
           "#FFA15A",
           "#19d3f3",
           "#FF6692",
           "#B6E880",
           "#FF97FF",
           "#FECB52"
          ],
          "font": {
           "color": "#2a3f5f"
          },
          "geo": {
           "bgcolor": "white",
           "lakecolor": "white",
           "landcolor": "#E5ECF6",
           "showlakes": true,
           "showland": true,
           "subunitcolor": "white"
          },
          "hoverlabel": {
           "align": "left"
          },
          "hovermode": "closest",
          "mapbox": {
           "style": "light"
          },
          "paper_bgcolor": "white",
          "plot_bgcolor": "#E5ECF6",
          "polar": {
           "angularaxis": {
            "gridcolor": "white",
            "linecolor": "white",
            "ticks": ""
           },
           "bgcolor": "#E5ECF6",
           "radialaxis": {
            "gridcolor": "white",
            "linecolor": "white",
            "ticks": ""
           }
          },
          "scene": {
           "xaxis": {
            "backgroundcolor": "#E5ECF6",
            "gridcolor": "white",
            "gridwidth": 2,
            "linecolor": "white",
            "showbackground": true,
            "ticks": "",
            "zerolinecolor": "white"
           },
           "yaxis": {
            "backgroundcolor": "#E5ECF6",
            "gridcolor": "white",
            "gridwidth": 2,
            "linecolor": "white",
            "showbackground": true,
            "ticks": "",
            "zerolinecolor": "white"
           },
           "zaxis": {
            "backgroundcolor": "#E5ECF6",
            "gridcolor": "white",
            "gridwidth": 2,
            "linecolor": "white",
            "showbackground": true,
            "ticks": "",
            "zerolinecolor": "white"
           }
          },
          "shapedefaults": {
           "line": {
            "color": "#2a3f5f"
           }
          },
          "ternary": {
           "aaxis": {
            "gridcolor": "white",
            "linecolor": "white",
            "ticks": ""
           },
           "baxis": {
            "gridcolor": "white",
            "linecolor": "white",
            "ticks": ""
           },
           "bgcolor": "#E5ECF6",
           "caxis": {
            "gridcolor": "white",
            "linecolor": "white",
            "ticks": ""
           }
          },
          "title": {
           "x": 0.05
          },
          "xaxis": {
           "automargin": true,
           "gridcolor": "white",
           "linecolor": "white",
           "ticks": "",
           "title": {
            "standoff": 15
           },
           "zerolinecolor": "white",
           "zerolinewidth": 2
          },
          "yaxis": {
           "automargin": true,
           "gridcolor": "white",
           "linecolor": "white",
           "ticks": "",
           "title": {
            "standoff": 15
           },
           "zerolinecolor": "white",
           "zerolinewidth": 2
          }
         }
        },
        "title": {
         "text": "Air Pollution Levels by Country (µg/m³) in 2019"
        }
       }
      },
      "text/html": [
       "<div>                            <div id=\"c6c023b3-a5fd-4acf-9720-82542df47a59\" class=\"plotly-graph-div\" style=\"height:525px; width:100%;\"></div>            <script type=\"text/javascript\">                require([\"plotly\"], function(Plotly) {                    window.PLOTLYENV=window.PLOTLYENV || {};                                    if (document.getElementById(\"c6c023b3-a5fd-4acf-9720-82542df47a59\")) {                    Plotly.newPlot(                        \"c6c023b3-a5fd-4acf-9720-82542df47a59\",                        [{\"coloraxis\":\"coloraxis\",\"geo\":\"geo\",\"hovertemplate\":\"Country Name=%{location}\\u003cbr\\u003eAir Pollution (\\u00b5g\\u002fm\\u00b3)=%{z}\\u003cextra\\u003e\\u003c\\u002fextra\\u003e\",\"locationmode\":\"country names\",\"locations\":[\"Bahamas\",\"Finland\",\"Iceland\",\"Sweden\",\"Norway\",\"Estonia\",\"Canada\",\"Niue\",\"Tuvalu\",\"Brunei Darussalam\",\"United States of America\",\"Marshall Islands\",\"Portugal\",\"Fiji\",\"Nauru\",\"Tonga\",\"Dominican Republic\",\"Kiribati\",\"Samoa\",\"Micronesia (Federated States of)\",\"Cook Islands\",\"Palau\",\"Solomon Islands\",\"Saint Kitts and Nevis\",\"Ireland\",\"Dominica\",\"Antigua and Barbuda\",\"Vanuatu\",\"Uruguay\",\"Andorra\",\"New Zealand\",\"Russian Federation\",\"Papua New Guinea\",\"Luxembourg\",\"Australia\",\"Switzerland\",\"Saint Lucia\",\"Monaco\",\"Spain\",\"Saint Vincent and the Grenadines\",\"United Kingdom of Great Britain and Northern Ireland\",\"Denmark\",\"Haiti\",\"Barbados\",\"San Marino\",\"Grenada\",\"Trinidad and Tobago\",\"Lithuania\",\"France\",\"Mauritius\",\"Belize\",\"Germany\",\"Netherlands (Kingdom of the)\",\"Japan\",\"Brazil\",\"Guyana\",\"Belgium\",\"Austria\",\"Panama\",\"Namibia\",\"Latvia\",\"Argentina\",\"Suriname\",\"Paraguay\",\"Republic of Moldova\",\"Kenya\",\"Botswana\",\"Malta\",\"Maldives\",\"Zimbabwe\",\"Romania\",\"Cuba\",\"Singapore\",\"Morocco\",\"Ukraine\",\"Colombia\",\"Slovenia\",\"Italy\",\"Hungary\",\"Somalia\",\"Czechia\",\"Comoros\",\"Cyprus\",\"Greece\",\"Costa Rica\",\"Jamaica\",\"Eswatini\",\"Croatia\",\"United Republic of Tanzania\",\"Belarus\",\"Slovakia\",\"Nicaragua\",\"Madagascar\",\"Venezuela (Bolivarian Republic of)\",\"Albania\",\"Mozambique\",\"Ecuador\",\"Zambia\",\"Seychelles\",\"Bulgaria\",\"Lesotho\",\"Cambodia\",\"Mexico\",\"Malawi\",\"Poland\",\"Honduras\",\"Georgia\",\"Montenegro\",\"Indonesia\",\"Israel\",\"South Africa\",\"Djibouti\",\"South Sudan\",\"Timor-Leste\",\"Chile\",\"Guatemala\",\"Viet Nam\",\"Lao People's Democratic Republic\",\"Sudan\",\"Malaysia\",\"Serbia\",\"Ethiopia\",\"El Salvador\",\"Philippines\",\"Algeria\",\"Eritrea\",\"T\\u00fcrkiye\",\"Sri Lanka\",\"Republic of Korea\",\"Lebanon\",\"Azerbaijan\",\"Thailand\",\"Syrian Arab Republic\",\"North Macedonia\",\"Bolivia (Plurinational State of)\",\"Equatorial Guinea\",\"Jordan\",\"Bhutan\",\"Bosnia and Herzegovina\",\"Gabon\",\"Turkmenistan\",\"Kazakhstan\",\"Tunisia\",\"Myanmar\",\"Angola\",\"Central African Republic\",\"Burundi\",\"Peru\",\"Congo\",\"Libya\",\"occupied Palestinian territory, including east Jerusalem\",\"Cabo Verde\",\"Uganda\",\"Benin\",\"Democratic Republic of the Congo\",\"Iran (Islamic Republic of)\",\"Sao Tome and Principe\",\"Armenia\",\"Guinea-Bissau\",\"Oman\",\"Rwanda\",\"Togo\",\"Liberia\",\"Nepal\",\"Guinea\",\"Kyrgyzstan\",\"China\",\"Senegal\",\"Mali\",\"Gambia\",\"Iraq\",\"Sierra Leone\",\"Cote d'Ivoire\",\"Burkina Faso\",\"Uzbekistan\",\"Chad\",\"Mongolia\",\"Democratic People's Republic of Korea\",\"Yemen\",\"United Arab Emirates\",\"Mauritania\",\"Bangladesh\",\"Ghana\",\"Pakistan\",\"Niger\",\"India\",\"Bahrain\",\"Tajikistan\",\"Nigeria\",\"Cameroon\",\"Saudi Arabia\",\"Qatar\",\"Afghanistan\",\"Egypt\",\"Kuwait\"],\"name\":\"\",\"z\":[5.2,5.47,5.79,5.96,6.3,6.35,6.39,6.74,6.81,6.86,7.18,7.21,7.34,7.36,7.4,7.52,7.59,7.62,7.78,7.79,7.8,7.82,7.83,8.05,8.2,8.22,8.3,8.42,8.48,8.52,8.61,8.88,8.89,8.89,8.93,8.97,8.98,9.21,9.34,9.41,9.52,9.66,9.69,9.79,9.85,10.08,10.26,10.37,10.46,10.48,10.51,10.73,10.74,10.84,10.94,11.11,11.26,11.51,11.78,11.81,12.02,12.04,12.17,12.31,12.37,12.52,12.82,12.93,13.0,13.08,13.3,13.32,13.33,13.44,13.51,14.04,14.08,14.22,14.24,14.28,14.34,14.37,14.52,14.62,14.7,14.83,15.07,15.29,15.36,15.48,15.89,16.0,16.02,16.21,16.28,16.45,16.55,16.9,16.96,17.29,17.6,17.8,17.83,18.57,18.83,18.93,19.06,19.3,19.34,19.47,19.75,19.98,20.18,20.47,20.49,20.75,20.89,21.15,21.43,21.52,21.74,21.8,22.15,22.45,22.68,22.74,23.25,23.88,24.04,24.23,24.64,24.64,25.14,25.17,25.23,25.67,25.87,26.1,26.19,26.29,26.41,26.5,26.52,27.16,27.16,27.2,28.0,29.07,29.48,29.84,30.82,31.08,31.31,31.51,31.58,31.62,33.75,34.13,34.85,34.88,35.66,35.66,35.8,36.43,37.57,37.58,38.15,38.21,38.55,39.1,39.29,39.42,40.41,40.74,40.98,41.15,41.3,41.46,41.61,41.75,41.98,45.99,46.04,50.13,50.15,50.17,51.82,53.65,55.64,56.37,57.16,59.04,62.49,63.16,64.08],\"type\":\"choropleth\"}],                        {\"template\":{\"data\":{\"histogram2dcontour\":[{\"type\":\"histogram2dcontour\",\"colorbar\":{\"outlinewidth\":0,\"ticks\":\"\"},\"colorscale\":[[0.0,\"#0d0887\"],[0.1111111111111111,\"#46039f\"],[0.2222222222222222,\"#7201a8\"],[0.3333333333333333,\"#9c179e\"],[0.4444444444444444,\"#bd3786\"],[0.5555555555555556,\"#d8576b\"],[0.6666666666666666,\"#ed7953\"],[0.7777777777777778,\"#fb9f3a\"],[0.8888888888888888,\"#fdca26\"],[1.0,\"#f0f921\"]]}],\"choropleth\":[{\"type\":\"choropleth\",\"colorbar\":{\"outlinewidth\":0,\"ticks\":\"\"}}],\"histogram2d\":[{\"type\":\"histogram2d\",\"colorbar\":{\"outlinewidth\":0,\"ticks\":\"\"},\"colorscale\":[[0.0,\"#0d0887\"],[0.1111111111111111,\"#46039f\"],[0.2222222222222222,\"#7201a8\"],[0.3333333333333333,\"#9c179e\"],[0.4444444444444444,\"#bd3786\"],[0.5555555555555556,\"#d8576b\"],[0.6666666666666666,\"#ed7953\"],[0.7777777777777778,\"#fb9f3a\"],[0.8888888888888888,\"#fdca26\"],[1.0,\"#f0f921\"]]}],\"heatmap\":[{\"type\":\"heatmap\",\"colorbar\":{\"outlinewidth\":0,\"ticks\":\"\"},\"colorscale\":[[0.0,\"#0d0887\"],[0.1111111111111111,\"#46039f\"],[0.2222222222222222,\"#7201a8\"],[0.3333333333333333,\"#9c179e\"],[0.4444444444444444,\"#bd3786\"],[0.5555555555555556,\"#d8576b\"],[0.6666666666666666,\"#ed7953\"],[0.7777777777777778,\"#fb9f3a\"],[0.8888888888888888,\"#fdca26\"],[1.0,\"#f0f921\"]]}],\"heatmapgl\":[{\"type\":\"heatmapgl\",\"colorbar\":{\"outlinewidth\":0,\"ticks\":\"\"},\"colorscale\":[[0.0,\"#0d0887\"],[0.1111111111111111,\"#46039f\"],[0.2222222222222222,\"#7201a8\"],[0.3333333333333333,\"#9c179e\"],[0.4444444444444444,\"#bd3786\"],[0.5555555555555556,\"#d8576b\"],[0.6666666666666666,\"#ed7953\"],[0.7777777777777778,\"#fb9f3a\"],[0.8888888888888888,\"#fdca26\"],[1.0,\"#f0f921\"]]}],\"contourcarpet\":[{\"type\":\"contourcarpet\",\"colorbar\":{\"outlinewidth\":0,\"ticks\":\"\"}}],\"contour\":[{\"type\":\"contour\",\"colorbar\":{\"outlinewidth\":0,\"ticks\":\"\"},\"colorscale\":[[0.0,\"#0d0887\"],[0.1111111111111111,\"#46039f\"],[0.2222222222222222,\"#7201a8\"],[0.3333333333333333,\"#9c179e\"],[0.4444444444444444,\"#bd3786\"],[0.5555555555555556,\"#d8576b\"],[0.6666666666666666,\"#ed7953\"],[0.7777777777777778,\"#fb9f3a\"],[0.8888888888888888,\"#fdca26\"],[1.0,\"#f0f921\"]]}],\"surface\":[{\"type\":\"surface\",\"colorbar\":{\"outlinewidth\":0,\"ticks\":\"\"},\"colorscale\":[[0.0,\"#0d0887\"],[0.1111111111111111,\"#46039f\"],[0.2222222222222222,\"#7201a8\"],[0.3333333333333333,\"#9c179e\"],[0.4444444444444444,\"#bd3786\"],[0.5555555555555556,\"#d8576b\"],[0.6666666666666666,\"#ed7953\"],[0.7777777777777778,\"#fb9f3a\"],[0.8888888888888888,\"#fdca26\"],[1.0,\"#f0f921\"]]}],\"mesh3d\":[{\"type\":\"mesh3d\",\"colorbar\":{\"outlinewidth\":0,\"ticks\":\"\"}}],\"scatter\":[{\"fillpattern\":{\"fillmode\":\"overlay\",\"size\":10,\"solidity\":0.2},\"type\":\"scatter\"}],\"parcoords\":[{\"type\":\"parcoords\",\"line\":{\"colorbar\":{\"outlinewidth\":0,\"ticks\":\"\"}}}],\"scatterpolargl\":[{\"type\":\"scatterpolargl\",\"marker\":{\"colorbar\":{\"outlinewidth\":0,\"ticks\":\"\"}}}],\"bar\":[{\"error_x\":{\"color\":\"#2a3f5f\"},\"error_y\":{\"color\":\"#2a3f5f\"},\"marker\":{\"line\":{\"color\":\"#E5ECF6\",\"width\":0.5},\"pattern\":{\"fillmode\":\"overlay\",\"size\":10,\"solidity\":0.2}},\"type\":\"bar\"}],\"scattergeo\":[{\"type\":\"scattergeo\",\"marker\":{\"colorbar\":{\"outlinewidth\":0,\"ticks\":\"\"}}}],\"scatterpolar\":[{\"type\":\"scatterpolar\",\"marker\":{\"colorbar\":{\"outlinewidth\":0,\"ticks\":\"\"}}}],\"histogram\":[{\"marker\":{\"pattern\":{\"fillmode\":\"overlay\",\"size\":10,\"solidity\":0.2}},\"type\":\"histogram\"}],\"scattergl\":[{\"type\":\"scattergl\",\"marker\":{\"colorbar\":{\"outlinewidth\":0,\"ticks\":\"\"}}}],\"scatter3d\":[{\"type\":\"scatter3d\",\"line\":{\"colorbar\":{\"outlinewidth\":0,\"ticks\":\"\"}},\"marker\":{\"colorbar\":{\"outlinewidth\":0,\"ticks\":\"\"}}}],\"scattermapbox\":[{\"type\":\"scattermapbox\",\"marker\":{\"colorbar\":{\"outlinewidth\":0,\"ticks\":\"\"}}}],\"scatterternary\":[{\"type\":\"scatterternary\",\"marker\":{\"colorbar\":{\"outlinewidth\":0,\"ticks\":\"\"}}}],\"scattercarpet\":[{\"type\":\"scattercarpet\",\"marker\":{\"colorbar\":{\"outlinewidth\":0,\"ticks\":\"\"}}}],\"carpet\":[{\"aaxis\":{\"endlinecolor\":\"#2a3f5f\",\"gridcolor\":\"white\",\"linecolor\":\"white\",\"minorgridcolor\":\"white\",\"startlinecolor\":\"#2a3f5f\"},\"baxis\":{\"endlinecolor\":\"#2a3f5f\",\"gridcolor\":\"white\",\"linecolor\":\"white\",\"minorgridcolor\":\"white\",\"startlinecolor\":\"#2a3f5f\"},\"type\":\"carpet\"}],\"table\":[{\"cells\":{\"fill\":{\"color\":\"#EBF0F8\"},\"line\":{\"color\":\"white\"}},\"header\":{\"fill\":{\"color\":\"#C8D4E3\"},\"line\":{\"color\":\"white\"}},\"type\":\"table\"}],\"barpolar\":[{\"marker\":{\"line\":{\"color\":\"#E5ECF6\",\"width\":0.5},\"pattern\":{\"fillmode\":\"overlay\",\"size\":10,\"solidity\":0.2}},\"type\":\"barpolar\"}],\"pie\":[{\"automargin\":true,\"type\":\"pie\"}]},\"layout\":{\"autotypenumbers\":\"strict\",\"colorway\":[\"#636efa\",\"#EF553B\",\"#00cc96\",\"#ab63fa\",\"#FFA15A\",\"#19d3f3\",\"#FF6692\",\"#B6E880\",\"#FF97FF\",\"#FECB52\"],\"font\":{\"color\":\"#2a3f5f\"},\"hovermode\":\"closest\",\"hoverlabel\":{\"align\":\"left\"},\"paper_bgcolor\":\"white\",\"plot_bgcolor\":\"#E5ECF6\",\"polar\":{\"bgcolor\":\"#E5ECF6\",\"angularaxis\":{\"gridcolor\":\"white\",\"linecolor\":\"white\",\"ticks\":\"\"},\"radialaxis\":{\"gridcolor\":\"white\",\"linecolor\":\"white\",\"ticks\":\"\"}},\"ternary\":{\"bgcolor\":\"#E5ECF6\",\"aaxis\":{\"gridcolor\":\"white\",\"linecolor\":\"white\",\"ticks\":\"\"},\"baxis\":{\"gridcolor\":\"white\",\"linecolor\":\"white\",\"ticks\":\"\"},\"caxis\":{\"gridcolor\":\"white\",\"linecolor\":\"white\",\"ticks\":\"\"}},\"coloraxis\":{\"colorbar\":{\"outlinewidth\":0,\"ticks\":\"\"}},\"colorscale\":{\"sequential\":[[0.0,\"#0d0887\"],[0.1111111111111111,\"#46039f\"],[0.2222222222222222,\"#7201a8\"],[0.3333333333333333,\"#9c179e\"],[0.4444444444444444,\"#bd3786\"],[0.5555555555555556,\"#d8576b\"],[0.6666666666666666,\"#ed7953\"],[0.7777777777777778,\"#fb9f3a\"],[0.8888888888888888,\"#fdca26\"],[1.0,\"#f0f921\"]],\"sequentialminus\":[[0.0,\"#0d0887\"],[0.1111111111111111,\"#46039f\"],[0.2222222222222222,\"#7201a8\"],[0.3333333333333333,\"#9c179e\"],[0.4444444444444444,\"#bd3786\"],[0.5555555555555556,\"#d8576b\"],[0.6666666666666666,\"#ed7953\"],[0.7777777777777778,\"#fb9f3a\"],[0.8888888888888888,\"#fdca26\"],[1.0,\"#f0f921\"]],\"diverging\":[[0,\"#8e0152\"],[0.1,\"#c51b7d\"],[0.2,\"#de77ae\"],[0.3,\"#f1b6da\"],[0.4,\"#fde0ef\"],[0.5,\"#f7f7f7\"],[0.6,\"#e6f5d0\"],[0.7,\"#b8e186\"],[0.8,\"#7fbc41\"],[0.9,\"#4d9221\"],[1,\"#276419\"]]},\"xaxis\":{\"gridcolor\":\"white\",\"linecolor\":\"white\",\"ticks\":\"\",\"title\":{\"standoff\":15},\"zerolinecolor\":\"white\",\"automargin\":true,\"zerolinewidth\":2},\"yaxis\":{\"gridcolor\":\"white\",\"linecolor\":\"white\",\"ticks\":\"\",\"title\":{\"standoff\":15},\"zerolinecolor\":\"white\",\"automargin\":true,\"zerolinewidth\":2},\"scene\":{\"xaxis\":{\"backgroundcolor\":\"#E5ECF6\",\"gridcolor\":\"white\",\"linecolor\":\"white\",\"showbackground\":true,\"ticks\":\"\",\"zerolinecolor\":\"white\",\"gridwidth\":2},\"yaxis\":{\"backgroundcolor\":\"#E5ECF6\",\"gridcolor\":\"white\",\"linecolor\":\"white\",\"showbackground\":true,\"ticks\":\"\",\"zerolinecolor\":\"white\",\"gridwidth\":2},\"zaxis\":{\"backgroundcolor\":\"#E5ECF6\",\"gridcolor\":\"white\",\"linecolor\":\"white\",\"showbackground\":true,\"ticks\":\"\",\"zerolinecolor\":\"white\",\"gridwidth\":2}},\"shapedefaults\":{\"line\":{\"color\":\"#2a3f5f\"}},\"annotationdefaults\":{\"arrowcolor\":\"#2a3f5f\",\"arrowhead\":0,\"arrowwidth\":1},\"geo\":{\"bgcolor\":\"white\",\"landcolor\":\"#E5ECF6\",\"subunitcolor\":\"white\",\"showland\":true,\"showlakes\":true,\"lakecolor\":\"white\"},\"title\":{\"x\":0.05},\"mapbox\":{\"style\":\"light\"}}},\"geo\":{\"domain\":{\"x\":[0.0,1.0],\"y\":[0.0,1.0]},\"center\":{}},\"coloraxis\":{\"colorbar\":{\"title\":{\"text\":\"Air Pollution (\\u00b5g\\u002fm\\u00b3)\"}},\"colorscale\":[[0.0,\"#0d0887\"],[0.1111111111111111,\"#46039f\"],[0.2222222222222222,\"#7201a8\"],[0.3333333333333333,\"#9c179e\"],[0.4444444444444444,\"#bd3786\"],[0.5555555555555556,\"#d8576b\"],[0.6666666666666666,\"#ed7953\"],[0.7777777777777778,\"#fb9f3a\"],[0.8888888888888888,\"#fdca26\"],[1.0,\"#f0f921\"]]},\"legend\":{\"tracegroupgap\":0},\"title\":{\"text\":\"Air Pollution Levels by Country (\\u00b5g\\u002fm\\u00b3) in 2019\"}},                        {\"responsive\": true}                    ).then(function(){\n",
       "                            \n",
       "var gd = document.getElementById('c6c023b3-a5fd-4acf-9720-82542df47a59');\n",
       "var x = new MutationObserver(function (mutations, observer) {{\n",
       "        var display = window.getComputedStyle(gd).display;\n",
       "        if (!display || display === 'none') {{\n",
       "            console.log([gd, 'removed!']);\n",
       "            Plotly.purge(gd);\n",
       "            observer.disconnect();\n",
       "        }}\n",
       "}});\n",
       "\n",
       "// Listen for the removal of the full notebook cells\n",
       "var notebookContainer = gd.closest('#notebook-container');\n",
       "if (notebookContainer) {{\n",
       "    x.observe(notebookContainer, {childList: true});\n",
       "}}\n",
       "\n",
       "// Listen for the clearing of the current output cell\n",
       "var outputEl = gd.closest('.output');\n",
       "if (outputEl) {{\n",
       "    x.observe(outputEl, {childList: true});\n",
       "}}\n",
       "\n",
       "                        })                };                });            </script>        </div>"
      ]
     },
     "metadata": {},
     "output_type": "display_data"
    }
   ],
   "source": [
    "fig = px.choropleth(\n",
    "    air_pollution_2019,\n",
    "    locations=\"Country Name\",\n",
    "    locationmode=\"country names\",\n",
    "    color=\"Air Pollution\",\n",
    "    color_continuous_scale=\"Plasma\",\n",
    "    title=\"Air Pollution Levels by Country (µg/m³) in 2019\",\n",
    "    labels={\"Air Pollution\": \"Air Pollution (µg/m³)\"},\n",
    ")\n",
    "\n",
    "fig.show()"
   ]
  },
  {
   "cell_type": "markdown",
   "id": "b4621b5f",
   "metadata": {},
   "source": [
    "### Do lower-income countries tend to experience higher levels of air pollution compared to upper-middle-income countries? (Hypothesis 2)"
   ]
  },
  {
   "cell_type": "markdown",
   "id": "6a91f8c0",
   "metadata": {},
   "source": [
    "Now, shifting the focus to the second hypothesis, I will analyze whether lower-income countries tend to experience higher levels of air pollution compared to upper-middle-income countries. First, I started by reading the GNI per capita data from the World Bank into the notebook. This dataset contains information about the GNI per capita of each country from 1960 to 2023. After loading it, I checked the dataset to make sure it was imported correctly and to see the column structure. Then, I used `.info()` to check the data types of each column. Thankfully, the GNI per capita values were already stored as floats, which meant I didn’t need to convert anything."
   ]
  },
  {
   "cell_type": "code",
   "execution_count": 13,
   "id": "a3bc6c96",
   "metadata": {},
   "outputs": [
    {
     "data": {
      "text/html": [
       "<div>\n",
       "<style scoped>\n",
       "    .dataframe tbody tr th:only-of-type {\n",
       "        vertical-align: middle;\n",
       "    }\n",
       "\n",
       "    .dataframe tbody tr th {\n",
       "        vertical-align: top;\n",
       "    }\n",
       "\n",
       "    .dataframe thead th {\n",
       "        text-align: right;\n",
       "    }\n",
       "</style>\n",
       "<table border=\"1\" class=\"dataframe\">\n",
       "  <thead>\n",
       "    <tr style=\"text-align: right;\">\n",
       "      <th></th>\n",
       "      <th>Country Name</th>\n",
       "      <th>Country Code</th>\n",
       "      <th>Indicator Name</th>\n",
       "      <th>Indicator Code</th>\n",
       "      <th>1960</th>\n",
       "      <th>1961</th>\n",
       "      <th>1962</th>\n",
       "      <th>1963</th>\n",
       "      <th>1964</th>\n",
       "      <th>1965</th>\n",
       "      <th>...</th>\n",
       "      <th>2014</th>\n",
       "      <th>2015</th>\n",
       "      <th>2016</th>\n",
       "      <th>2017</th>\n",
       "      <th>2018</th>\n",
       "      <th>2019</th>\n",
       "      <th>2020</th>\n",
       "      <th>2021</th>\n",
       "      <th>2022</th>\n",
       "      <th>2023</th>\n",
       "    </tr>\n",
       "  </thead>\n",
       "  <tbody>\n",
       "    <tr>\n",
       "      <th>0</th>\n",
       "      <td>Aruba</td>\n",
       "      <td>ABW</td>\n",
       "      <td>GNI per capita, PPP (current international $)</td>\n",
       "      <td>NY.GNP.PCAP.PP.CD</td>\n",
       "      <td>NaN</td>\n",
       "      <td>NaN</td>\n",
       "      <td>NaN</td>\n",
       "      <td>NaN</td>\n",
       "      <td>NaN</td>\n",
       "      <td>NaN</td>\n",
       "      <td>...</td>\n",
       "      <td>35410.000000</td>\n",
       "      <td>35660.00000</td>\n",
       "      <td>35750.000000</td>\n",
       "      <td>36560.000000</td>\n",
       "      <td>37730.000000</td>\n",
       "      <td>38310.000000</td>\n",
       "      <td>29630.000000</td>\n",
       "      <td>37070.000000</td>\n",
       "      <td>43670.000000</td>\n",
       "      <td>NaN</td>\n",
       "    </tr>\n",
       "    <tr>\n",
       "      <th>1</th>\n",
       "      <td>Africa Eastern and Southern</td>\n",
       "      <td>AFE</td>\n",
       "      <td>GNI per capita, PPP (current international $)</td>\n",
       "      <td>NY.GNP.PCAP.PP.CD</td>\n",
       "      <td>NaN</td>\n",
       "      <td>NaN</td>\n",
       "      <td>NaN</td>\n",
       "      <td>NaN</td>\n",
       "      <td>NaN</td>\n",
       "      <td>NaN</td>\n",
       "      <td>...</td>\n",
       "      <td>3351.916096</td>\n",
       "      <td>3388.75599</td>\n",
       "      <td>3502.798136</td>\n",
       "      <td>3531.130759</td>\n",
       "      <td>3584.229869</td>\n",
       "      <td>3668.187802</td>\n",
       "      <td>3575.826645</td>\n",
       "      <td>3863.004386</td>\n",
       "      <td>4180.350280</td>\n",
       "      <td>4355.819919</td>\n",
       "    </tr>\n",
       "    <tr>\n",
       "      <th>2</th>\n",
       "      <td>Afghanistan</td>\n",
       "      <td>AFG</td>\n",
       "      <td>GNI per capita, PPP (current international $)</td>\n",
       "      <td>NY.GNP.PCAP.PP.CD</td>\n",
       "      <td>NaN</td>\n",
       "      <td>NaN</td>\n",
       "      <td>NaN</td>\n",
       "      <td>NaN</td>\n",
       "      <td>NaN</td>\n",
       "      <td>NaN</td>\n",
       "      <td>...</td>\n",
       "      <td>2240.000000</td>\n",
       "      <td>2300.00000</td>\n",
       "      <td>2250.000000</td>\n",
       "      <td>2360.000000</td>\n",
       "      <td>2470.000000</td>\n",
       "      <td>2630.000000</td>\n",
       "      <td>2590.000000</td>\n",
       "      <td>2150.000000</td>\n",
       "      <td>2100.000000</td>\n",
       "      <td>NaN</td>\n",
       "    </tr>\n",
       "    <tr>\n",
       "      <th>3</th>\n",
       "      <td>Africa Western and Central</td>\n",
       "      <td>AFW</td>\n",
       "      <td>GNI per capita, PPP (current international $)</td>\n",
       "      <td>NY.GNP.PCAP.PP.CD</td>\n",
       "      <td>NaN</td>\n",
       "      <td>NaN</td>\n",
       "      <td>NaN</td>\n",
       "      <td>NaN</td>\n",
       "      <td>NaN</td>\n",
       "      <td>NaN</td>\n",
       "      <td>...</td>\n",
       "      <td>4022.993044</td>\n",
       "      <td>4014.43247</td>\n",
       "      <td>3979.757115</td>\n",
       "      <td>4015.580187</td>\n",
       "      <td>4140.938693</td>\n",
       "      <td>4398.642528</td>\n",
       "      <td>4421.156379</td>\n",
       "      <td>4613.383747</td>\n",
       "      <td>4979.901737</td>\n",
       "      <td>5239.787316</td>\n",
       "    </tr>\n",
       "    <tr>\n",
       "      <th>4</th>\n",
       "      <td>Angola</td>\n",
       "      <td>AGO</td>\n",
       "      <td>GNI per capita, PPP (current international $)</td>\n",
       "      <td>NY.GNP.PCAP.PP.CD</td>\n",
       "      <td>NaN</td>\n",
       "      <td>NaN</td>\n",
       "      <td>NaN</td>\n",
       "      <td>NaN</td>\n",
       "      <td>NaN</td>\n",
       "      <td>NaN</td>\n",
       "      <td>...</td>\n",
       "      <td>7510.000000</td>\n",
       "      <td>6760.00000</td>\n",
       "      <td>6490.000000</td>\n",
       "      <td>6570.000000</td>\n",
       "      <td>6790.000000</td>\n",
       "      <td>6850.000000</td>\n",
       "      <td>5880.000000</td>\n",
       "      <td>6810.000000</td>\n",
       "      <td>7320.000000</td>\n",
       "      <td>7310.000000</td>\n",
       "    </tr>\n",
       "    <tr>\n",
       "      <th>...</th>\n",
       "      <td>...</td>\n",
       "      <td>...</td>\n",
       "      <td>...</td>\n",
       "      <td>...</td>\n",
       "      <td>...</td>\n",
       "      <td>...</td>\n",
       "      <td>...</td>\n",
       "      <td>...</td>\n",
       "      <td>...</td>\n",
       "      <td>...</td>\n",
       "      <td>...</td>\n",
       "      <td>...</td>\n",
       "      <td>...</td>\n",
       "      <td>...</td>\n",
       "      <td>...</td>\n",
       "      <td>...</td>\n",
       "      <td>...</td>\n",
       "      <td>...</td>\n",
       "      <td>...</td>\n",
       "      <td>...</td>\n",
       "      <td>...</td>\n",
       "    </tr>\n",
       "    <tr>\n",
       "      <th>261</th>\n",
       "      <td>Kosovo</td>\n",
       "      <td>XKX</td>\n",
       "      <td>GNI per capita, PPP (current international $)</td>\n",
       "      <td>NY.GNP.PCAP.PP.CD</td>\n",
       "      <td>NaN</td>\n",
       "      <td>NaN</td>\n",
       "      <td>NaN</td>\n",
       "      <td>NaN</td>\n",
       "      <td>NaN</td>\n",
       "      <td>NaN</td>\n",
       "      <td>...</td>\n",
       "      <td>8380.000000</td>\n",
       "      <td>8860.00000</td>\n",
       "      <td>9270.000000</td>\n",
       "      <td>9570.000000</td>\n",
       "      <td>10190.000000</td>\n",
       "      <td>11110.000000</td>\n",
       "      <td>10790.000000</td>\n",
       "      <td>12600.000000</td>\n",
       "      <td>14120.000000</td>\n",
       "      <td>15310.000000</td>\n",
       "    </tr>\n",
       "    <tr>\n",
       "      <th>262</th>\n",
       "      <td>Yemen, Rep.</td>\n",
       "      <td>YEM</td>\n",
       "      <td>GNI per capita, PPP (current international $)</td>\n",
       "      <td>NY.GNP.PCAP.PP.CD</td>\n",
       "      <td>NaN</td>\n",
       "      <td>NaN</td>\n",
       "      <td>NaN</td>\n",
       "      <td>NaN</td>\n",
       "      <td>NaN</td>\n",
       "      <td>NaN</td>\n",
       "      <td>...</td>\n",
       "      <td>NaN</td>\n",
       "      <td>NaN</td>\n",
       "      <td>NaN</td>\n",
       "      <td>NaN</td>\n",
       "      <td>NaN</td>\n",
       "      <td>NaN</td>\n",
       "      <td>NaN</td>\n",
       "      <td>NaN</td>\n",
       "      <td>NaN</td>\n",
       "      <td>NaN</td>\n",
       "    </tr>\n",
       "    <tr>\n",
       "      <th>263</th>\n",
       "      <td>South Africa</td>\n",
       "      <td>ZAF</td>\n",
       "      <td>GNI per capita, PPP (current international $)</td>\n",
       "      <td>NY.GNP.PCAP.PP.CD</td>\n",
       "      <td>NaN</td>\n",
       "      <td>NaN</td>\n",
       "      <td>NaN</td>\n",
       "      <td>NaN</td>\n",
       "      <td>NaN</td>\n",
       "      <td>NaN</td>\n",
       "      <td>...</td>\n",
       "      <td>13230.000000</td>\n",
       "      <td>13290.00000</td>\n",
       "      <td>13370.000000</td>\n",
       "      <td>13590.000000</td>\n",
       "      <td>13260.000000</td>\n",
       "      <td>13360.000000</td>\n",
       "      <td>12850.000000</td>\n",
       "      <td>13900.000000</td>\n",
       "      <td>15010.000000</td>\n",
       "      <td>15630.000000</td>\n",
       "    </tr>\n",
       "    <tr>\n",
       "      <th>264</th>\n",
       "      <td>Zambia</td>\n",
       "      <td>ZMB</td>\n",
       "      <td>GNI per capita, PPP (current international $)</td>\n",
       "      <td>NY.GNP.PCAP.PP.CD</td>\n",
       "      <td>NaN</td>\n",
       "      <td>NaN</td>\n",
       "      <td>NaN</td>\n",
       "      <td>NaN</td>\n",
       "      <td>NaN</td>\n",
       "      <td>NaN</td>\n",
       "      <td>...</td>\n",
       "      <td>3410.000000</td>\n",
       "      <td>3300.00000</td>\n",
       "      <td>3240.000000</td>\n",
       "      <td>3270.000000</td>\n",
       "      <td>3420.000000</td>\n",
       "      <td>3330.000000</td>\n",
       "      <td>3090.000000</td>\n",
       "      <td>3220.000000</td>\n",
       "      <td>3650.000000</td>\n",
       "      <td>3960.000000</td>\n",
       "    </tr>\n",
       "    <tr>\n",
       "      <th>265</th>\n",
       "      <td>Zimbabwe</td>\n",
       "      <td>ZWE</td>\n",
       "      <td>GNI per capita, PPP (current international $)</td>\n",
       "      <td>NY.GNP.PCAP.PP.CD</td>\n",
       "      <td>NaN</td>\n",
       "      <td>NaN</td>\n",
       "      <td>NaN</td>\n",
       "      <td>NaN</td>\n",
       "      <td>NaN</td>\n",
       "      <td>NaN</td>\n",
       "      <td>...</td>\n",
       "      <td>2320.000000</td>\n",
       "      <td>2370.00000</td>\n",
       "      <td>2480.000000</td>\n",
       "      <td>2160.000000</td>\n",
       "      <td>2560.000000</td>\n",
       "      <td>2660.000000</td>\n",
       "      <td>2730.000000</td>\n",
       "      <td>3220.000000</td>\n",
       "      <td>3590.000000</td>\n",
       "      <td>3850.000000</td>\n",
       "    </tr>\n",
       "  </tbody>\n",
       "</table>\n",
       "<p>266 rows × 68 columns</p>\n",
       "</div>"
      ],
      "text/plain": [
       "                    Country Name Country Code  \\\n",
       "0                          Aruba          ABW   \n",
       "1    Africa Eastern and Southern          AFE   \n",
       "2                    Afghanistan          AFG   \n",
       "3     Africa Western and Central          AFW   \n",
       "4                         Angola          AGO   \n",
       "..                           ...          ...   \n",
       "261                       Kosovo          XKX   \n",
       "262                  Yemen, Rep.          YEM   \n",
       "263                 South Africa          ZAF   \n",
       "264                       Zambia          ZMB   \n",
       "265                     Zimbabwe          ZWE   \n",
       "\n",
       "                                    Indicator Name     Indicator Code  1960  \\\n",
       "0    GNI per capita, PPP (current international $)  NY.GNP.PCAP.PP.CD   NaN   \n",
       "1    GNI per capita, PPP (current international $)  NY.GNP.PCAP.PP.CD   NaN   \n",
       "2    GNI per capita, PPP (current international $)  NY.GNP.PCAP.PP.CD   NaN   \n",
       "3    GNI per capita, PPP (current international $)  NY.GNP.PCAP.PP.CD   NaN   \n",
       "4    GNI per capita, PPP (current international $)  NY.GNP.PCAP.PP.CD   NaN   \n",
       "..                                             ...                ...   ...   \n",
       "261  GNI per capita, PPP (current international $)  NY.GNP.PCAP.PP.CD   NaN   \n",
       "262  GNI per capita, PPP (current international $)  NY.GNP.PCAP.PP.CD   NaN   \n",
       "263  GNI per capita, PPP (current international $)  NY.GNP.PCAP.PP.CD   NaN   \n",
       "264  GNI per capita, PPP (current international $)  NY.GNP.PCAP.PP.CD   NaN   \n",
       "265  GNI per capita, PPP (current international $)  NY.GNP.PCAP.PP.CD   NaN   \n",
       "\n",
       "     1961  1962  1963  1964  1965  ...          2014         2015  \\\n",
       "0     NaN   NaN   NaN   NaN   NaN  ...  35410.000000  35660.00000   \n",
       "1     NaN   NaN   NaN   NaN   NaN  ...   3351.916096   3388.75599   \n",
       "2     NaN   NaN   NaN   NaN   NaN  ...   2240.000000   2300.00000   \n",
       "3     NaN   NaN   NaN   NaN   NaN  ...   4022.993044   4014.43247   \n",
       "4     NaN   NaN   NaN   NaN   NaN  ...   7510.000000   6760.00000   \n",
       "..    ...   ...   ...   ...   ...  ...           ...          ...   \n",
       "261   NaN   NaN   NaN   NaN   NaN  ...   8380.000000   8860.00000   \n",
       "262   NaN   NaN   NaN   NaN   NaN  ...           NaN          NaN   \n",
       "263   NaN   NaN   NaN   NaN   NaN  ...  13230.000000  13290.00000   \n",
       "264   NaN   NaN   NaN   NaN   NaN  ...   3410.000000   3300.00000   \n",
       "265   NaN   NaN   NaN   NaN   NaN  ...   2320.000000   2370.00000   \n",
       "\n",
       "             2016          2017          2018          2019          2020  \\\n",
       "0    35750.000000  36560.000000  37730.000000  38310.000000  29630.000000   \n",
       "1     3502.798136   3531.130759   3584.229869   3668.187802   3575.826645   \n",
       "2     2250.000000   2360.000000   2470.000000   2630.000000   2590.000000   \n",
       "3     3979.757115   4015.580187   4140.938693   4398.642528   4421.156379   \n",
       "4     6490.000000   6570.000000   6790.000000   6850.000000   5880.000000   \n",
       "..            ...           ...           ...           ...           ...   \n",
       "261   9270.000000   9570.000000  10190.000000  11110.000000  10790.000000   \n",
       "262           NaN           NaN           NaN           NaN           NaN   \n",
       "263  13370.000000  13590.000000  13260.000000  13360.000000  12850.000000   \n",
       "264   3240.000000   3270.000000   3420.000000   3330.000000   3090.000000   \n",
       "265   2480.000000   2160.000000   2560.000000   2660.000000   2730.000000   \n",
       "\n",
       "             2021          2022          2023  \n",
       "0    37070.000000  43670.000000           NaN  \n",
       "1     3863.004386   4180.350280   4355.819919  \n",
       "2     2150.000000   2100.000000           NaN  \n",
       "3     4613.383747   4979.901737   5239.787316  \n",
       "4     6810.000000   7320.000000   7310.000000  \n",
       "..            ...           ...           ...  \n",
       "261  12600.000000  14120.000000  15310.000000  \n",
       "262           NaN           NaN           NaN  \n",
       "263  13900.000000  15010.000000  15630.000000  \n",
       "264   3220.000000   3650.000000   3960.000000  \n",
       "265   3220.000000   3590.000000   3850.000000  \n",
       "\n",
       "[266 rows x 68 columns]"
      ]
     },
     "execution_count": 13,
     "metadata": {},
     "output_type": "execute_result"
    }
   ],
   "source": [
    "GNIpercapita = pd.read_csv(\"GNI per capita.csv\")\n",
    "GNIpercapita"
   ]
  },
  {
   "cell_type": "code",
   "execution_count": 14,
   "id": "d7f2c76d",
   "metadata": {},
   "outputs": [
    {
     "name": "stdout",
     "output_type": "stream",
     "text": [
      "<class 'pandas.core.frame.DataFrame'>\n",
      "RangeIndex: 266 entries, 0 to 265\n",
      "Data columns (total 68 columns):\n",
      " #   Column          Non-Null Count  Dtype  \n",
      "---  ------          --------------  -----  \n",
      " 0   Country Name    266 non-null    object \n",
      " 1   Country Code    266 non-null    object \n",
      " 2   Indicator Name  266 non-null    object \n",
      " 3   Indicator Code  266 non-null    object \n",
      " 4   1960            0 non-null      float64\n",
      " 5   1961            0 non-null      float64\n",
      " 6   1962            0 non-null      float64\n",
      " 7   1963            0 non-null      float64\n",
      " 8   1964            0 non-null      float64\n",
      " 9   1965            0 non-null      float64\n",
      " 10  1966            0 non-null      float64\n",
      " 11  1967            0 non-null      float64\n",
      " 12  1968            0 non-null      float64\n",
      " 13  1969            0 non-null      float64\n",
      " 14  1970            0 non-null      float64\n",
      " 15  1971            0 non-null      float64\n",
      " 16  1972            0 non-null      float64\n",
      " 17  1973            0 non-null      float64\n",
      " 18  1974            0 non-null      float64\n",
      " 19  1975            0 non-null      float64\n",
      " 20  1976            0 non-null      float64\n",
      " 21  1977            0 non-null      float64\n",
      " 22  1978            0 non-null      float64\n",
      " 23  1979            0 non-null      float64\n",
      " 24  1980            0 non-null      float64\n",
      " 25  1981            0 non-null      float64\n",
      " 26  1982            0 non-null      float64\n",
      " 27  1983            0 non-null      float64\n",
      " 28  1984            0 non-null      float64\n",
      " 29  1985            0 non-null      float64\n",
      " 30  1986            0 non-null      float64\n",
      " 31  1987            0 non-null      float64\n",
      " 32  1988            0 non-null      float64\n",
      " 33  1989            0 non-null      float64\n",
      " 34  1990            224 non-null    float64\n",
      " 35  1991            227 non-null    float64\n",
      " 36  1992            228 non-null    float64\n",
      " 37  1993            229 non-null    float64\n",
      " 38  1994            230 non-null    float64\n",
      " 39  1995            231 non-null    float64\n",
      " 40  1996            231 non-null    float64\n",
      " 41  1997            232 non-null    float64\n",
      " 42  1998            232 non-null    float64\n",
      " 43  1999            232 non-null    float64\n",
      " 44  2000            234 non-null    float64\n",
      " 45  2001            234 non-null    float64\n",
      " 46  2002            234 non-null    float64\n",
      " 47  2003            234 non-null    float64\n",
      " 48  2004            234 non-null    float64\n",
      " 49  2005            235 non-null    float64\n",
      " 50  2006            235 non-null    float64\n",
      " 51  2007            235 non-null    float64\n",
      " 52  2008            240 non-null    float64\n",
      " 53  2009            241 non-null    float64\n",
      " 54  2010            243 non-null    float64\n",
      " 55  2011            244 non-null    float64\n",
      " 56  2012            242 non-null    float64\n",
      " 57  2013            243 non-null    float64\n",
      " 58  2014            243 non-null    float64\n",
      " 59  2015            243 non-null    float64\n",
      " 60  2016            242 non-null    float64\n",
      " 61  2017            244 non-null    float64\n",
      " 62  2018            244 non-null    float64\n",
      " 63  2019            245 non-null    float64\n",
      " 64  2020            244 non-null    float64\n",
      " 65  2021            244 non-null    float64\n",
      " 66  2022            242 non-null    float64\n",
      " 67  2023            229 non-null    float64\n",
      "dtypes: float64(64), object(4)\n",
      "memory usage: 141.4+ KB\n"
     ]
    }
   ],
   "source": [
    "GNIpercapita.info()"
   ]
  },
  {
   "cell_type": "markdown",
   "id": "a87fabd5",
   "metadata": {},
   "source": [
    "Next, I narrowed the dataset to only include the columns I needed: `\"Country Name\"`, `\"Country Code\"`, and `\"2019\"`. I chose the 2019 values because they match the year of the air pollution dataset I analyzed earlier. This made the comparison between air pollution and GNI per capita more consistent."
   ]
  },
  {
   "cell_type": "code",
   "execution_count": 15,
   "id": "5d851ff4",
   "metadata": {},
   "outputs": [
    {
     "data": {
      "text/html": [
       "<div>\n",
       "<style scoped>\n",
       "    .dataframe tbody tr th:only-of-type {\n",
       "        vertical-align: middle;\n",
       "    }\n",
       "\n",
       "    .dataframe tbody tr th {\n",
       "        vertical-align: top;\n",
       "    }\n",
       "\n",
       "    .dataframe thead th {\n",
       "        text-align: right;\n",
       "    }\n",
       "</style>\n",
       "<table border=\"1\" class=\"dataframe\">\n",
       "  <thead>\n",
       "    <tr style=\"text-align: right;\">\n",
       "      <th></th>\n",
       "      <th>Country Name</th>\n",
       "      <th>Country Code</th>\n",
       "      <th>2019</th>\n",
       "    </tr>\n",
       "  </thead>\n",
       "  <tbody>\n",
       "    <tr>\n",
       "      <th>0</th>\n",
       "      <td>Aruba</td>\n",
       "      <td>ABW</td>\n",
       "      <td>38310.000000</td>\n",
       "    </tr>\n",
       "    <tr>\n",
       "      <th>1</th>\n",
       "      <td>Africa Eastern and Southern</td>\n",
       "      <td>AFE</td>\n",
       "      <td>3668.187802</td>\n",
       "    </tr>\n",
       "    <tr>\n",
       "      <th>2</th>\n",
       "      <td>Afghanistan</td>\n",
       "      <td>AFG</td>\n",
       "      <td>2630.000000</td>\n",
       "    </tr>\n",
       "    <tr>\n",
       "      <th>3</th>\n",
       "      <td>Africa Western and Central</td>\n",
       "      <td>AFW</td>\n",
       "      <td>4398.642528</td>\n",
       "    </tr>\n",
       "    <tr>\n",
       "      <th>4</th>\n",
       "      <td>Angola</td>\n",
       "      <td>AGO</td>\n",
       "      <td>6850.000000</td>\n",
       "    </tr>\n",
       "    <tr>\n",
       "      <th>...</th>\n",
       "      <td>...</td>\n",
       "      <td>...</td>\n",
       "      <td>...</td>\n",
       "    </tr>\n",
       "    <tr>\n",
       "      <th>261</th>\n",
       "      <td>Kosovo</td>\n",
       "      <td>XKX</td>\n",
       "      <td>11110.000000</td>\n",
       "    </tr>\n",
       "    <tr>\n",
       "      <th>262</th>\n",
       "      <td>Yemen, Rep.</td>\n",
       "      <td>YEM</td>\n",
       "      <td>NaN</td>\n",
       "    </tr>\n",
       "    <tr>\n",
       "      <th>263</th>\n",
       "      <td>South Africa</td>\n",
       "      <td>ZAF</td>\n",
       "      <td>13360.000000</td>\n",
       "    </tr>\n",
       "    <tr>\n",
       "      <th>264</th>\n",
       "      <td>Zambia</td>\n",
       "      <td>ZMB</td>\n",
       "      <td>3330.000000</td>\n",
       "    </tr>\n",
       "    <tr>\n",
       "      <th>265</th>\n",
       "      <td>Zimbabwe</td>\n",
       "      <td>ZWE</td>\n",
       "      <td>2660.000000</td>\n",
       "    </tr>\n",
       "  </tbody>\n",
       "</table>\n",
       "<p>266 rows × 3 columns</p>\n",
       "</div>"
      ],
      "text/plain": [
       "                    Country Name Country Code          2019\n",
       "0                          Aruba          ABW  38310.000000\n",
       "1    Africa Eastern and Southern          AFE   3668.187802\n",
       "2                    Afghanistan          AFG   2630.000000\n",
       "3     Africa Western and Central          AFW   4398.642528\n",
       "4                         Angola          AGO   6850.000000\n",
       "..                           ...          ...           ...\n",
       "261                       Kosovo          XKX  11110.000000\n",
       "262                  Yemen, Rep.          YEM           NaN\n",
       "263                 South Africa          ZAF  13360.000000\n",
       "264                       Zambia          ZMB   3330.000000\n",
       "265                     Zimbabwe          ZWE   2660.000000\n",
       "\n",
       "[266 rows x 3 columns]"
      ]
     },
     "execution_count": 15,
     "metadata": {},
     "output_type": "execute_result"
    }
   ],
   "source": [
    "GNIpercapita = GNIpercapita[[\"Country Name\",\"Country Code\",\"2019\"]]\n",
    "GNIpercapita"
   ]
  },
  {
   "cell_type": "markdown",
   "id": "80110a8b",
   "metadata": {},
   "source": [
    "After that, I classified countries into income groups based on the [World Bank](https://blogs.worldbank.org/en/opendata/world-bank-country-classifications-by-income-level-for-2024-2025)’s income classification. I used the income thresholds provided by the World Bank and created four categories: Low-income, Lower-middle-income, Upper-middle-income, and High-income. Using the `pd.cut()` function, I assigned each country to one of these categories based on its GNI per capita in 2019. This made it easier to compare air pollution levels across income groups.\n",
    "\n",
    "![Image Description](https://s7d1.scene7.com/is/image/wbcollab/FY25-thresholds-v4?qlt=90&fmt=webp&resMode=sharp2)\n",
    "\n"
   ]
  },
  {
   "cell_type": "code",
   "execution_count": 16,
   "id": "bc3002ef",
   "metadata": {},
   "outputs": [
    {
     "name": "stderr",
     "output_type": "stream",
     "text": [
      "/var/folders/_z/lzp6d12n24zby4_ktxhxxfn00000gn/T/ipykernel_31499/411900986.py:4: SettingWithCopyWarning:\n",
      "\n",
      "\n",
      "A value is trying to be set on a copy of a slice from a DataFrame.\n",
      "Try using .loc[row_indexer,col_indexer] = value instead\n",
      "\n",
      "See the caveats in the documentation: https://pandas.pydata.org/pandas-docs/stable/user_guide/indexing.html#returning-a-view-versus-a-copy\n",
      "\n"
     ]
    },
    {
     "data": {
      "text/html": [
       "<div>\n",
       "<style scoped>\n",
       "    .dataframe tbody tr th:only-of-type {\n",
       "        vertical-align: middle;\n",
       "    }\n",
       "\n",
       "    .dataframe tbody tr th {\n",
       "        vertical-align: top;\n",
       "    }\n",
       "\n",
       "    .dataframe thead th {\n",
       "        text-align: right;\n",
       "    }\n",
       "</style>\n",
       "<table border=\"1\" class=\"dataframe\">\n",
       "  <thead>\n",
       "    <tr style=\"text-align: right;\">\n",
       "      <th></th>\n",
       "      <th>Country Name</th>\n",
       "      <th>Country Code</th>\n",
       "      <th>2019</th>\n",
       "      <th>Income Group</th>\n",
       "    </tr>\n",
       "  </thead>\n",
       "  <tbody>\n",
       "    <tr>\n",
       "      <th>0</th>\n",
       "      <td>Aruba</td>\n",
       "      <td>ABW</td>\n",
       "      <td>38310.000000</td>\n",
       "      <td>High-income</td>\n",
       "    </tr>\n",
       "    <tr>\n",
       "      <th>1</th>\n",
       "      <td>Africa Eastern and Southern</td>\n",
       "      <td>AFE</td>\n",
       "      <td>3668.187802</td>\n",
       "      <td>Lower-middle-income</td>\n",
       "    </tr>\n",
       "    <tr>\n",
       "      <th>2</th>\n",
       "      <td>Afghanistan</td>\n",
       "      <td>AFG</td>\n",
       "      <td>2630.000000</td>\n",
       "      <td>Lower-middle-income</td>\n",
       "    </tr>\n",
       "    <tr>\n",
       "      <th>3</th>\n",
       "      <td>Africa Western and Central</td>\n",
       "      <td>AFW</td>\n",
       "      <td>4398.642528</td>\n",
       "      <td>Lower-middle-income</td>\n",
       "    </tr>\n",
       "    <tr>\n",
       "      <th>4</th>\n",
       "      <td>Angola</td>\n",
       "      <td>AGO</td>\n",
       "      <td>6850.000000</td>\n",
       "      <td>Upper-middle-income</td>\n",
       "    </tr>\n",
       "    <tr>\n",
       "      <th>...</th>\n",
       "      <td>...</td>\n",
       "      <td>...</td>\n",
       "      <td>...</td>\n",
       "      <td>...</td>\n",
       "    </tr>\n",
       "    <tr>\n",
       "      <th>261</th>\n",
       "      <td>Kosovo</td>\n",
       "      <td>XKX</td>\n",
       "      <td>11110.000000</td>\n",
       "      <td>Upper-middle-income</td>\n",
       "    </tr>\n",
       "    <tr>\n",
       "      <th>262</th>\n",
       "      <td>Yemen, Rep.</td>\n",
       "      <td>YEM</td>\n",
       "      <td>NaN</td>\n",
       "      <td>NaN</td>\n",
       "    </tr>\n",
       "    <tr>\n",
       "      <th>263</th>\n",
       "      <td>South Africa</td>\n",
       "      <td>ZAF</td>\n",
       "      <td>13360.000000</td>\n",
       "      <td>Upper-middle-income</td>\n",
       "    </tr>\n",
       "    <tr>\n",
       "      <th>264</th>\n",
       "      <td>Zambia</td>\n",
       "      <td>ZMB</td>\n",
       "      <td>3330.000000</td>\n",
       "      <td>Lower-middle-income</td>\n",
       "    </tr>\n",
       "    <tr>\n",
       "      <th>265</th>\n",
       "      <td>Zimbabwe</td>\n",
       "      <td>ZWE</td>\n",
       "      <td>2660.000000</td>\n",
       "      <td>Lower-middle-income</td>\n",
       "    </tr>\n",
       "  </tbody>\n",
       "</table>\n",
       "<p>266 rows × 4 columns</p>\n",
       "</div>"
      ],
      "text/plain": [
       "                    Country Name Country Code          2019  \\\n",
       "0                          Aruba          ABW  38310.000000   \n",
       "1    Africa Eastern and Southern          AFE   3668.187802   \n",
       "2                    Afghanistan          AFG   2630.000000   \n",
       "3     Africa Western and Central          AFW   4398.642528   \n",
       "4                         Angola          AGO   6850.000000   \n",
       "..                           ...          ...           ...   \n",
       "261                       Kosovo          XKX  11110.000000   \n",
       "262                  Yemen, Rep.          YEM           NaN   \n",
       "263                 South Africa          ZAF  13360.000000   \n",
       "264                       Zambia          ZMB   3330.000000   \n",
       "265                     Zimbabwe          ZWE   2660.000000   \n",
       "\n",
       "            Income Group  \n",
       "0            High-income  \n",
       "1    Lower-middle-income  \n",
       "2    Lower-middle-income  \n",
       "3    Lower-middle-income  \n",
       "4    Upper-middle-income  \n",
       "..                   ...  \n",
       "261  Upper-middle-income  \n",
       "262                  NaN  \n",
       "263  Upper-middle-income  \n",
       "264  Lower-middle-income  \n",
       "265  Lower-middle-income  \n",
       "\n",
       "[266 rows x 4 columns]"
      ]
     },
     "execution_count": 16,
     "metadata": {},
     "output_type": "execute_result"
    }
   ],
   "source": [
    "bins = [0, 1145, 4515, 14005, float(\"inf\")]\n",
    "labels = [\"Low-income\", \"Lower-middle-income\", \"Upper-middle-income\", \"High-income\"]\n",
    "\n",
    "GNIpercapita[\"Income Group\"] = pd.cut(GNIpercapita[\"2019\"], bins=bins, labels=labels, right=True)\n",
    "GNIpercapita"
   ]
  },
  {
   "cell_type": "markdown",
   "id": "2de02852",
   "metadata": {},
   "source": [
    "Then, I merged the GDP per capita data with the air pollution data for 2019. By combining the two datasets, I could analyze how air pollution levels varied by income group. I rounded the air pollution and GDP per capita values to two decimal places to make the results easier to read."
   ]
  },
  {
   "cell_type": "code",
   "execution_count": 17,
   "id": "4168bd67",
   "metadata": {},
   "outputs": [
    {
     "data": {
      "text/html": [
       "<div>\n",
       "<style scoped>\n",
       "    .dataframe tbody tr th:only-of-type {\n",
       "        vertical-align: middle;\n",
       "    }\n",
       "\n",
       "    .dataframe tbody tr th {\n",
       "        vertical-align: top;\n",
       "    }\n",
       "\n",
       "    .dataframe thead th {\n",
       "        text-align: right;\n",
       "    }\n",
       "</style>\n",
       "<table border=\"1\" class=\"dataframe\">\n",
       "  <thead>\n",
       "    <tr style=\"text-align: right;\">\n",
       "      <th></th>\n",
       "      <th>Country Name</th>\n",
       "      <th>Country Code</th>\n",
       "      <th>2019</th>\n",
       "      <th>Income Group</th>\n",
       "      <th>Air Pollution</th>\n",
       "    </tr>\n",
       "  </thead>\n",
       "  <tbody>\n",
       "    <tr>\n",
       "      <th>0</th>\n",
       "      <td>Afghanistan</td>\n",
       "      <td>AFG</td>\n",
       "      <td>2630.0</td>\n",
       "      <td>Lower-middle-income</td>\n",
       "      <td>62.49</td>\n",
       "    </tr>\n",
       "    <tr>\n",
       "      <th>1</th>\n",
       "      <td>Angola</td>\n",
       "      <td>AGO</td>\n",
       "      <td>6850.0</td>\n",
       "      <td>Upper-middle-income</td>\n",
       "      <td>27.16</td>\n",
       "    </tr>\n",
       "    <tr>\n",
       "      <th>2</th>\n",
       "      <td>Albania</td>\n",
       "      <td>ALB</td>\n",
       "      <td>14430.0</td>\n",
       "      <td>High-income</td>\n",
       "      <td>16.28</td>\n",
       "    </tr>\n",
       "    <tr>\n",
       "      <th>3</th>\n",
       "      <td>Andorra</td>\n",
       "      <td>AND</td>\n",
       "      <td>63180.0</td>\n",
       "      <td>High-income</td>\n",
       "      <td>8.52</td>\n",
       "    </tr>\n",
       "    <tr>\n",
       "      <th>4</th>\n",
       "      <td>United Arab Emirates</td>\n",
       "      <td>ARE</td>\n",
       "      <td>79230.0</td>\n",
       "      <td>High-income</td>\n",
       "      <td>41.75</td>\n",
       "    </tr>\n",
       "    <tr>\n",
       "      <th>...</th>\n",
       "      <td>...</td>\n",
       "      <td>...</td>\n",
       "      <td>...</td>\n",
       "      <td>...</td>\n",
       "      <td>...</td>\n",
       "    </tr>\n",
       "    <tr>\n",
       "      <th>163</th>\n",
       "      <td>Vanuatu</td>\n",
       "      <td>VUT</td>\n",
       "      <td>3640.0</td>\n",
       "      <td>Lower-middle-income</td>\n",
       "      <td>8.42</td>\n",
       "    </tr>\n",
       "    <tr>\n",
       "      <th>164</th>\n",
       "      <td>Samoa</td>\n",
       "      <td>WSM</td>\n",
       "      <td>6320.0</td>\n",
       "      <td>Upper-middle-income</td>\n",
       "      <td>7.78</td>\n",
       "    </tr>\n",
       "    <tr>\n",
       "      <th>165</th>\n",
       "      <td>South Africa</td>\n",
       "      <td>ZAF</td>\n",
       "      <td>13360.0</td>\n",
       "      <td>Upper-middle-income</td>\n",
       "      <td>19.75</td>\n",
       "    </tr>\n",
       "    <tr>\n",
       "      <th>166</th>\n",
       "      <td>Zambia</td>\n",
       "      <td>ZMB</td>\n",
       "      <td>3330.0</td>\n",
       "      <td>Lower-middle-income</td>\n",
       "      <td>16.90</td>\n",
       "    </tr>\n",
       "    <tr>\n",
       "      <th>167</th>\n",
       "      <td>Zimbabwe</td>\n",
       "      <td>ZWE</td>\n",
       "      <td>2660.0</td>\n",
       "      <td>Lower-middle-income</td>\n",
       "      <td>13.08</td>\n",
       "    </tr>\n",
       "  </tbody>\n",
       "</table>\n",
       "<p>168 rows × 5 columns</p>\n",
       "</div>"
      ],
      "text/plain": [
       "             Country Name Country Code     2019         Income Group  \\\n",
       "0             Afghanistan          AFG   2630.0  Lower-middle-income   \n",
       "1                  Angola          AGO   6850.0  Upper-middle-income   \n",
       "2                 Albania          ALB  14430.0          High-income   \n",
       "3                 Andorra          AND  63180.0          High-income   \n",
       "4    United Arab Emirates          ARE  79230.0          High-income   \n",
       "..                    ...          ...      ...                  ...   \n",
       "163               Vanuatu          VUT   3640.0  Lower-middle-income   \n",
       "164                 Samoa          WSM   6320.0  Upper-middle-income   \n",
       "165          South Africa          ZAF  13360.0  Upper-middle-income   \n",
       "166                Zambia          ZMB   3330.0  Lower-middle-income   \n",
       "167              Zimbabwe          ZWE   2660.0  Lower-middle-income   \n",
       "\n",
       "     Air Pollution  \n",
       "0            62.49  \n",
       "1            27.16  \n",
       "2            16.28  \n",
       "3             8.52  \n",
       "4            41.75  \n",
       "..             ...  \n",
       "163           8.42  \n",
       "164           7.78  \n",
       "165          19.75  \n",
       "166          16.90  \n",
       "167          13.08  \n",
       "\n",
       "[168 rows x 5 columns]"
      ]
     },
     "execution_count": 17,
     "metadata": {},
     "output_type": "execute_result"
    }
   ],
   "source": [
    "merged_hip1 = pd.merge(GNIpercapita, air_pollution_2019, on=\"Country Name\", how=\"inner\")\n",
    "merged_hip1[\"2019\"].round(2)\n",
    "merged_hip1"
   ]
  },
  {
   "cell_type": "markdown",
   "id": "43014f39",
   "metadata": {},
   "source": [
    "Next, I calculated the average air pollution for each income group. This step helped me identify patterns and differences in air pollution levels across the four income groups. Again, I rounded the averages to two decimal places for simplicity."
   ]
  },
  {
   "cell_type": "code",
   "execution_count": 18,
   "id": "d6784ee6",
   "metadata": {},
   "outputs": [
    {
     "data": {
      "text/html": [
       "<div>\n",
       "<style scoped>\n",
       "    .dataframe tbody tr th:only-of-type {\n",
       "        vertical-align: middle;\n",
       "    }\n",
       "\n",
       "    .dataframe tbody tr th {\n",
       "        vertical-align: top;\n",
       "    }\n",
       "\n",
       "    .dataframe thead th {\n",
       "        text-align: right;\n",
       "    }\n",
       "</style>\n",
       "<table border=\"1\" class=\"dataframe\">\n",
       "  <thead>\n",
       "    <tr style=\"text-align: right;\">\n",
       "      <th></th>\n",
       "      <th>Income Group</th>\n",
       "      <th>Air Pollution</th>\n",
       "    </tr>\n",
       "  </thead>\n",
       "  <tbody>\n",
       "    <tr>\n",
       "      <th>0</th>\n",
       "      <td>Low-income</td>\n",
       "      <td>27.60</td>\n",
       "    </tr>\n",
       "    <tr>\n",
       "      <th>1</th>\n",
       "      <td>Lower-middle-income</td>\n",
       "      <td>28.72</td>\n",
       "    </tr>\n",
       "    <tr>\n",
       "      <th>2</th>\n",
       "      <td>Upper-middle-income</td>\n",
       "      <td>23.92</td>\n",
       "    </tr>\n",
       "    <tr>\n",
       "      <th>3</th>\n",
       "      <td>High-income</td>\n",
       "      <td>16.96</td>\n",
       "    </tr>\n",
       "  </tbody>\n",
       "</table>\n",
       "</div>"
      ],
      "text/plain": [
       "          Income Group  Air Pollution\n",
       "0           Low-income          27.60\n",
       "1  Lower-middle-income          28.72\n",
       "2  Upper-middle-income          23.92\n",
       "3          High-income          16.96"
      ]
     },
     "execution_count": 18,
     "metadata": {},
     "output_type": "execute_result"
    }
   ],
   "source": [
    "avg_pollution_2019 = merged_hip1.groupby(\"Income Group\")[\"Air Pollution\"].mean().reset_index().round(2)\n",
    "avg_pollution_2019"
   ]
  },
  {
   "cell_type": "markdown",
   "id": "62f63bda",
   "metadata": {},
   "source": [
    "Finally, I created a bar chart using Plotly to visualize the results."
   ]
  },
  {
   "cell_type": "code",
   "execution_count": 19,
   "id": "0eaee928",
   "metadata": {},
   "outputs": [
    {
     "data": {
      "application/vnd.plotly.v1+json": {
       "config": {
        "plotlyServerURL": "https://plot.ly"
       },
       "data": [
        {
         "alignmentgroup": "True",
         "hovertemplate": "Income Group=%{x}<br>Air Pollution (µg/m³)=%{text}<extra></extra>",
         "legendgroup": "Low-income",
         "marker": {
          "color": "#636efa",
          "pattern": {
           "shape": ""
          }
         },
         "name": "Low-income",
         "offsetgroup": "Low-income",
         "orientation": "v",
         "showlegend": true,
         "text": [
          27.6
         ],
         "textposition": "auto",
         "type": "bar",
         "x": [
          "Low-income"
         ],
         "xaxis": "x",
         "y": [
          27.6
         ],
         "yaxis": "y"
        },
        {
         "alignmentgroup": "True",
         "hovertemplate": "Income Group=%{x}<br>Air Pollution (µg/m³)=%{text}<extra></extra>",
         "legendgroup": "Lower-middle-income",
         "marker": {
          "color": "#EF553B",
          "pattern": {
           "shape": ""
          }
         },
         "name": "Lower-middle-income",
         "offsetgroup": "Lower-middle-income",
         "orientation": "v",
         "showlegend": true,
         "text": [
          28.72
         ],
         "textposition": "auto",
         "type": "bar",
         "x": [
          "Lower-middle-income"
         ],
         "xaxis": "x",
         "y": [
          28.72
         ],
         "yaxis": "y"
        },
        {
         "alignmentgroup": "True",
         "hovertemplate": "Income Group=%{x}<br>Air Pollution (µg/m³)=%{text}<extra></extra>",
         "legendgroup": "Upper-middle-income",
         "marker": {
          "color": "#00cc96",
          "pattern": {
           "shape": ""
          }
         },
         "name": "Upper-middle-income",
         "offsetgroup": "Upper-middle-income",
         "orientation": "v",
         "showlegend": true,
         "text": [
          23.92
         ],
         "textposition": "auto",
         "type": "bar",
         "x": [
          "Upper-middle-income"
         ],
         "xaxis": "x",
         "y": [
          23.92
         ],
         "yaxis": "y"
        },
        {
         "alignmentgroup": "True",
         "hovertemplate": "Income Group=%{x}<br>Air Pollution (µg/m³)=%{text}<extra></extra>",
         "legendgroup": "High-income",
         "marker": {
          "color": "#ab63fa",
          "pattern": {
           "shape": ""
          }
         },
         "name": "High-income",
         "offsetgroup": "High-income",
         "orientation": "v",
         "showlegend": true,
         "text": [
          16.96
         ],
         "textposition": "auto",
         "type": "bar",
         "x": [
          "High-income"
         ],
         "xaxis": "x",
         "y": [
          16.96
         ],
         "yaxis": "y"
        }
       ],
       "layout": {
        "barmode": "relative",
        "legend": {
         "title": {
          "text": "Income Group"
         },
         "tracegroupgap": 0
        },
        "template": {
         "data": {
          "bar": [
           {
            "error_x": {
             "color": "#2a3f5f"
            },
            "error_y": {
             "color": "#2a3f5f"
            },
            "marker": {
             "line": {
              "color": "#E5ECF6",
              "width": 0.5
             },
             "pattern": {
              "fillmode": "overlay",
              "size": 10,
              "solidity": 0.2
             }
            },
            "type": "bar"
           }
          ],
          "barpolar": [
           {
            "marker": {
             "line": {
              "color": "#E5ECF6",
              "width": 0.5
             },
             "pattern": {
              "fillmode": "overlay",
              "size": 10,
              "solidity": 0.2
             }
            },
            "type": "barpolar"
           }
          ],
          "carpet": [
           {
            "aaxis": {
             "endlinecolor": "#2a3f5f",
             "gridcolor": "white",
             "linecolor": "white",
             "minorgridcolor": "white",
             "startlinecolor": "#2a3f5f"
            },
            "baxis": {
             "endlinecolor": "#2a3f5f",
             "gridcolor": "white",
             "linecolor": "white",
             "minorgridcolor": "white",
             "startlinecolor": "#2a3f5f"
            },
            "type": "carpet"
           }
          ],
          "choropleth": [
           {
            "colorbar": {
             "outlinewidth": 0,
             "ticks": ""
            },
            "type": "choropleth"
           }
          ],
          "contour": [
           {
            "colorbar": {
             "outlinewidth": 0,
             "ticks": ""
            },
            "colorscale": [
             [
              0,
              "#0d0887"
             ],
             [
              0.1111111111111111,
              "#46039f"
             ],
             [
              0.2222222222222222,
              "#7201a8"
             ],
             [
              0.3333333333333333,
              "#9c179e"
             ],
             [
              0.4444444444444444,
              "#bd3786"
             ],
             [
              0.5555555555555556,
              "#d8576b"
             ],
             [
              0.6666666666666666,
              "#ed7953"
             ],
             [
              0.7777777777777778,
              "#fb9f3a"
             ],
             [
              0.8888888888888888,
              "#fdca26"
             ],
             [
              1,
              "#f0f921"
             ]
            ],
            "type": "contour"
           }
          ],
          "contourcarpet": [
           {
            "colorbar": {
             "outlinewidth": 0,
             "ticks": ""
            },
            "type": "contourcarpet"
           }
          ],
          "heatmap": [
           {
            "colorbar": {
             "outlinewidth": 0,
             "ticks": ""
            },
            "colorscale": [
             [
              0,
              "#0d0887"
             ],
             [
              0.1111111111111111,
              "#46039f"
             ],
             [
              0.2222222222222222,
              "#7201a8"
             ],
             [
              0.3333333333333333,
              "#9c179e"
             ],
             [
              0.4444444444444444,
              "#bd3786"
             ],
             [
              0.5555555555555556,
              "#d8576b"
             ],
             [
              0.6666666666666666,
              "#ed7953"
             ],
             [
              0.7777777777777778,
              "#fb9f3a"
             ],
             [
              0.8888888888888888,
              "#fdca26"
             ],
             [
              1,
              "#f0f921"
             ]
            ],
            "type": "heatmap"
           }
          ],
          "heatmapgl": [
           {
            "colorbar": {
             "outlinewidth": 0,
             "ticks": ""
            },
            "colorscale": [
             [
              0,
              "#0d0887"
             ],
             [
              0.1111111111111111,
              "#46039f"
             ],
             [
              0.2222222222222222,
              "#7201a8"
             ],
             [
              0.3333333333333333,
              "#9c179e"
             ],
             [
              0.4444444444444444,
              "#bd3786"
             ],
             [
              0.5555555555555556,
              "#d8576b"
             ],
             [
              0.6666666666666666,
              "#ed7953"
             ],
             [
              0.7777777777777778,
              "#fb9f3a"
             ],
             [
              0.8888888888888888,
              "#fdca26"
             ],
             [
              1,
              "#f0f921"
             ]
            ],
            "type": "heatmapgl"
           }
          ],
          "histogram": [
           {
            "marker": {
             "pattern": {
              "fillmode": "overlay",
              "size": 10,
              "solidity": 0.2
             }
            },
            "type": "histogram"
           }
          ],
          "histogram2d": [
           {
            "colorbar": {
             "outlinewidth": 0,
             "ticks": ""
            },
            "colorscale": [
             [
              0,
              "#0d0887"
             ],
             [
              0.1111111111111111,
              "#46039f"
             ],
             [
              0.2222222222222222,
              "#7201a8"
             ],
             [
              0.3333333333333333,
              "#9c179e"
             ],
             [
              0.4444444444444444,
              "#bd3786"
             ],
             [
              0.5555555555555556,
              "#d8576b"
             ],
             [
              0.6666666666666666,
              "#ed7953"
             ],
             [
              0.7777777777777778,
              "#fb9f3a"
             ],
             [
              0.8888888888888888,
              "#fdca26"
             ],
             [
              1,
              "#f0f921"
             ]
            ],
            "type": "histogram2d"
           }
          ],
          "histogram2dcontour": [
           {
            "colorbar": {
             "outlinewidth": 0,
             "ticks": ""
            },
            "colorscale": [
             [
              0,
              "#0d0887"
             ],
             [
              0.1111111111111111,
              "#46039f"
             ],
             [
              0.2222222222222222,
              "#7201a8"
             ],
             [
              0.3333333333333333,
              "#9c179e"
             ],
             [
              0.4444444444444444,
              "#bd3786"
             ],
             [
              0.5555555555555556,
              "#d8576b"
             ],
             [
              0.6666666666666666,
              "#ed7953"
             ],
             [
              0.7777777777777778,
              "#fb9f3a"
             ],
             [
              0.8888888888888888,
              "#fdca26"
             ],
             [
              1,
              "#f0f921"
             ]
            ],
            "type": "histogram2dcontour"
           }
          ],
          "mesh3d": [
           {
            "colorbar": {
             "outlinewidth": 0,
             "ticks": ""
            },
            "type": "mesh3d"
           }
          ],
          "parcoords": [
           {
            "line": {
             "colorbar": {
              "outlinewidth": 0,
              "ticks": ""
             }
            },
            "type": "parcoords"
           }
          ],
          "pie": [
           {
            "automargin": true,
            "type": "pie"
           }
          ],
          "scatter": [
           {
            "fillpattern": {
             "fillmode": "overlay",
             "size": 10,
             "solidity": 0.2
            },
            "type": "scatter"
           }
          ],
          "scatter3d": [
           {
            "line": {
             "colorbar": {
              "outlinewidth": 0,
              "ticks": ""
             }
            },
            "marker": {
             "colorbar": {
              "outlinewidth": 0,
              "ticks": ""
             }
            },
            "type": "scatter3d"
           }
          ],
          "scattercarpet": [
           {
            "marker": {
             "colorbar": {
              "outlinewidth": 0,
              "ticks": ""
             }
            },
            "type": "scattercarpet"
           }
          ],
          "scattergeo": [
           {
            "marker": {
             "colorbar": {
              "outlinewidth": 0,
              "ticks": ""
             }
            },
            "type": "scattergeo"
           }
          ],
          "scattergl": [
           {
            "marker": {
             "colorbar": {
              "outlinewidth": 0,
              "ticks": ""
             }
            },
            "type": "scattergl"
           }
          ],
          "scattermapbox": [
           {
            "marker": {
             "colorbar": {
              "outlinewidth": 0,
              "ticks": ""
             }
            },
            "type": "scattermapbox"
           }
          ],
          "scatterpolar": [
           {
            "marker": {
             "colorbar": {
              "outlinewidth": 0,
              "ticks": ""
             }
            },
            "type": "scatterpolar"
           }
          ],
          "scatterpolargl": [
           {
            "marker": {
             "colorbar": {
              "outlinewidth": 0,
              "ticks": ""
             }
            },
            "type": "scatterpolargl"
           }
          ],
          "scatterternary": [
           {
            "marker": {
             "colorbar": {
              "outlinewidth": 0,
              "ticks": ""
             }
            },
            "type": "scatterternary"
           }
          ],
          "surface": [
           {
            "colorbar": {
             "outlinewidth": 0,
             "ticks": ""
            },
            "colorscale": [
             [
              0,
              "#0d0887"
             ],
             [
              0.1111111111111111,
              "#46039f"
             ],
             [
              0.2222222222222222,
              "#7201a8"
             ],
             [
              0.3333333333333333,
              "#9c179e"
             ],
             [
              0.4444444444444444,
              "#bd3786"
             ],
             [
              0.5555555555555556,
              "#d8576b"
             ],
             [
              0.6666666666666666,
              "#ed7953"
             ],
             [
              0.7777777777777778,
              "#fb9f3a"
             ],
             [
              0.8888888888888888,
              "#fdca26"
             ],
             [
              1,
              "#f0f921"
             ]
            ],
            "type": "surface"
           }
          ],
          "table": [
           {
            "cells": {
             "fill": {
              "color": "#EBF0F8"
             },
             "line": {
              "color": "white"
             }
            },
            "header": {
             "fill": {
              "color": "#C8D4E3"
             },
             "line": {
              "color": "white"
             }
            },
            "type": "table"
           }
          ]
         },
         "layout": {
          "annotationdefaults": {
           "arrowcolor": "#2a3f5f",
           "arrowhead": 0,
           "arrowwidth": 1
          },
          "autotypenumbers": "strict",
          "coloraxis": {
           "colorbar": {
            "outlinewidth": 0,
            "ticks": ""
           }
          },
          "colorscale": {
           "diverging": [
            [
             0,
             "#8e0152"
            ],
            [
             0.1,
             "#c51b7d"
            ],
            [
             0.2,
             "#de77ae"
            ],
            [
             0.3,
             "#f1b6da"
            ],
            [
             0.4,
             "#fde0ef"
            ],
            [
             0.5,
             "#f7f7f7"
            ],
            [
             0.6,
             "#e6f5d0"
            ],
            [
             0.7,
             "#b8e186"
            ],
            [
             0.8,
             "#7fbc41"
            ],
            [
             0.9,
             "#4d9221"
            ],
            [
             1,
             "#276419"
            ]
           ],
           "sequential": [
            [
             0,
             "#0d0887"
            ],
            [
             0.1111111111111111,
             "#46039f"
            ],
            [
             0.2222222222222222,
             "#7201a8"
            ],
            [
             0.3333333333333333,
             "#9c179e"
            ],
            [
             0.4444444444444444,
             "#bd3786"
            ],
            [
             0.5555555555555556,
             "#d8576b"
            ],
            [
             0.6666666666666666,
             "#ed7953"
            ],
            [
             0.7777777777777778,
             "#fb9f3a"
            ],
            [
             0.8888888888888888,
             "#fdca26"
            ],
            [
             1,
             "#f0f921"
            ]
           ],
           "sequentialminus": [
            [
             0,
             "#0d0887"
            ],
            [
             0.1111111111111111,
             "#46039f"
            ],
            [
             0.2222222222222222,
             "#7201a8"
            ],
            [
             0.3333333333333333,
             "#9c179e"
            ],
            [
             0.4444444444444444,
             "#bd3786"
            ],
            [
             0.5555555555555556,
             "#d8576b"
            ],
            [
             0.6666666666666666,
             "#ed7953"
            ],
            [
             0.7777777777777778,
             "#fb9f3a"
            ],
            [
             0.8888888888888888,
             "#fdca26"
            ],
            [
             1,
             "#f0f921"
            ]
           ]
          },
          "colorway": [
           "#636efa",
           "#EF553B",
           "#00cc96",
           "#ab63fa",
           "#FFA15A",
           "#19d3f3",
           "#FF6692",
           "#B6E880",
           "#FF97FF",
           "#FECB52"
          ],
          "font": {
           "color": "#2a3f5f"
          },
          "geo": {
           "bgcolor": "white",
           "lakecolor": "white",
           "landcolor": "#E5ECF6",
           "showlakes": true,
           "showland": true,
           "subunitcolor": "white"
          },
          "hoverlabel": {
           "align": "left"
          },
          "hovermode": "closest",
          "mapbox": {
           "style": "light"
          },
          "paper_bgcolor": "white",
          "plot_bgcolor": "#E5ECF6",
          "polar": {
           "angularaxis": {
            "gridcolor": "white",
            "linecolor": "white",
            "ticks": ""
           },
           "bgcolor": "#E5ECF6",
           "radialaxis": {
            "gridcolor": "white",
            "linecolor": "white",
            "ticks": ""
           }
          },
          "scene": {
           "xaxis": {
            "backgroundcolor": "#E5ECF6",
            "gridcolor": "white",
            "gridwidth": 2,
            "linecolor": "white",
            "showbackground": true,
            "ticks": "",
            "zerolinecolor": "white"
           },
           "yaxis": {
            "backgroundcolor": "#E5ECF6",
            "gridcolor": "white",
            "gridwidth": 2,
            "linecolor": "white",
            "showbackground": true,
            "ticks": "",
            "zerolinecolor": "white"
           },
           "zaxis": {
            "backgroundcolor": "#E5ECF6",
            "gridcolor": "white",
            "gridwidth": 2,
            "linecolor": "white",
            "showbackground": true,
            "ticks": "",
            "zerolinecolor": "white"
           }
          },
          "shapedefaults": {
           "line": {
            "color": "#2a3f5f"
           }
          },
          "ternary": {
           "aaxis": {
            "gridcolor": "white",
            "linecolor": "white",
            "ticks": ""
           },
           "baxis": {
            "gridcolor": "white",
            "linecolor": "white",
            "ticks": ""
           },
           "bgcolor": "#E5ECF6",
           "caxis": {
            "gridcolor": "white",
            "linecolor": "white",
            "ticks": ""
           }
          },
          "title": {
           "x": 0.05
          },
          "xaxis": {
           "automargin": true,
           "gridcolor": "white",
           "linecolor": "white",
           "ticks": "",
           "title": {
            "standoff": 15
           },
           "zerolinecolor": "white",
           "zerolinewidth": 2
          },
          "yaxis": {
           "automargin": true,
           "gridcolor": "white",
           "linecolor": "white",
           "ticks": "",
           "title": {
            "standoff": 15
           },
           "zerolinecolor": "white",
           "zerolinewidth": 2
          }
         }
        },
        "title": {
         "text": "Average Air Pollution by Income Group in 2019"
        },
        "xaxis": {
         "anchor": "y",
         "categoryarray": [
          "Low-income",
          "Lower-middle-income",
          "Upper-middle-income",
          "High-income"
         ],
         "categoryorder": "array",
         "domain": [
          0,
          1
         ],
         "title": {
          "text": "Income Group"
         }
        },
        "yaxis": {
         "anchor": "x",
         "domain": [
          0,
          1
         ],
         "title": {
          "text": "Air Pollution (µg/m³)"
         }
        }
       }
      },
      "text/html": [
       "<div>                            <div id=\"cc6ddf33-2305-4afa-9228-c26e0e148237\" class=\"plotly-graph-div\" style=\"height:525px; width:100%;\"></div>            <script type=\"text/javascript\">                require([\"plotly\"], function(Plotly) {                    window.PLOTLYENV=window.PLOTLYENV || {};                                    if (document.getElementById(\"cc6ddf33-2305-4afa-9228-c26e0e148237\")) {                    Plotly.newPlot(                        \"cc6ddf33-2305-4afa-9228-c26e0e148237\",                        [{\"alignmentgroup\":\"True\",\"hovertemplate\":\"Income Group=%{x}\\u003cbr\\u003eAir Pollution (\\u00b5g\\u002fm\\u00b3)=%{text}\\u003cextra\\u003e\\u003c\\u002fextra\\u003e\",\"legendgroup\":\"Low-income\",\"marker\":{\"color\":\"#636efa\",\"pattern\":{\"shape\":\"\"}},\"name\":\"Low-income\",\"offsetgroup\":\"Low-income\",\"orientation\":\"v\",\"showlegend\":true,\"text\":[27.6],\"textposition\":\"auto\",\"x\":[\"Low-income\"],\"xaxis\":\"x\",\"y\":[27.6],\"yaxis\":\"y\",\"type\":\"bar\"},{\"alignmentgroup\":\"True\",\"hovertemplate\":\"Income Group=%{x}\\u003cbr\\u003eAir Pollution (\\u00b5g\\u002fm\\u00b3)=%{text}\\u003cextra\\u003e\\u003c\\u002fextra\\u003e\",\"legendgroup\":\"Lower-middle-income\",\"marker\":{\"color\":\"#EF553B\",\"pattern\":{\"shape\":\"\"}},\"name\":\"Lower-middle-income\",\"offsetgroup\":\"Lower-middle-income\",\"orientation\":\"v\",\"showlegend\":true,\"text\":[28.72],\"textposition\":\"auto\",\"x\":[\"Lower-middle-income\"],\"xaxis\":\"x\",\"y\":[28.72],\"yaxis\":\"y\",\"type\":\"bar\"},{\"alignmentgroup\":\"True\",\"hovertemplate\":\"Income Group=%{x}\\u003cbr\\u003eAir Pollution (\\u00b5g\\u002fm\\u00b3)=%{text}\\u003cextra\\u003e\\u003c\\u002fextra\\u003e\",\"legendgroup\":\"Upper-middle-income\",\"marker\":{\"color\":\"#00cc96\",\"pattern\":{\"shape\":\"\"}},\"name\":\"Upper-middle-income\",\"offsetgroup\":\"Upper-middle-income\",\"orientation\":\"v\",\"showlegend\":true,\"text\":[23.92],\"textposition\":\"auto\",\"x\":[\"Upper-middle-income\"],\"xaxis\":\"x\",\"y\":[23.92],\"yaxis\":\"y\",\"type\":\"bar\"},{\"alignmentgroup\":\"True\",\"hovertemplate\":\"Income Group=%{x}\\u003cbr\\u003eAir Pollution (\\u00b5g\\u002fm\\u00b3)=%{text}\\u003cextra\\u003e\\u003c\\u002fextra\\u003e\",\"legendgroup\":\"High-income\",\"marker\":{\"color\":\"#ab63fa\",\"pattern\":{\"shape\":\"\"}},\"name\":\"High-income\",\"offsetgroup\":\"High-income\",\"orientation\":\"v\",\"showlegend\":true,\"text\":[16.96],\"textposition\":\"auto\",\"x\":[\"High-income\"],\"xaxis\":\"x\",\"y\":[16.96],\"yaxis\":\"y\",\"type\":\"bar\"}],                        {\"template\":{\"data\":{\"histogram2dcontour\":[{\"type\":\"histogram2dcontour\",\"colorbar\":{\"outlinewidth\":0,\"ticks\":\"\"},\"colorscale\":[[0.0,\"#0d0887\"],[0.1111111111111111,\"#46039f\"],[0.2222222222222222,\"#7201a8\"],[0.3333333333333333,\"#9c179e\"],[0.4444444444444444,\"#bd3786\"],[0.5555555555555556,\"#d8576b\"],[0.6666666666666666,\"#ed7953\"],[0.7777777777777778,\"#fb9f3a\"],[0.8888888888888888,\"#fdca26\"],[1.0,\"#f0f921\"]]}],\"choropleth\":[{\"type\":\"choropleth\",\"colorbar\":{\"outlinewidth\":0,\"ticks\":\"\"}}],\"histogram2d\":[{\"type\":\"histogram2d\",\"colorbar\":{\"outlinewidth\":0,\"ticks\":\"\"},\"colorscale\":[[0.0,\"#0d0887\"],[0.1111111111111111,\"#46039f\"],[0.2222222222222222,\"#7201a8\"],[0.3333333333333333,\"#9c179e\"],[0.4444444444444444,\"#bd3786\"],[0.5555555555555556,\"#d8576b\"],[0.6666666666666666,\"#ed7953\"],[0.7777777777777778,\"#fb9f3a\"],[0.8888888888888888,\"#fdca26\"],[1.0,\"#f0f921\"]]}],\"heatmap\":[{\"type\":\"heatmap\",\"colorbar\":{\"outlinewidth\":0,\"ticks\":\"\"},\"colorscale\":[[0.0,\"#0d0887\"],[0.1111111111111111,\"#46039f\"],[0.2222222222222222,\"#7201a8\"],[0.3333333333333333,\"#9c179e\"],[0.4444444444444444,\"#bd3786\"],[0.5555555555555556,\"#d8576b\"],[0.6666666666666666,\"#ed7953\"],[0.7777777777777778,\"#fb9f3a\"],[0.8888888888888888,\"#fdca26\"],[1.0,\"#f0f921\"]]}],\"heatmapgl\":[{\"type\":\"heatmapgl\",\"colorbar\":{\"outlinewidth\":0,\"ticks\":\"\"},\"colorscale\":[[0.0,\"#0d0887\"],[0.1111111111111111,\"#46039f\"],[0.2222222222222222,\"#7201a8\"],[0.3333333333333333,\"#9c179e\"],[0.4444444444444444,\"#bd3786\"],[0.5555555555555556,\"#d8576b\"],[0.6666666666666666,\"#ed7953\"],[0.7777777777777778,\"#fb9f3a\"],[0.8888888888888888,\"#fdca26\"],[1.0,\"#f0f921\"]]}],\"contourcarpet\":[{\"type\":\"contourcarpet\",\"colorbar\":{\"outlinewidth\":0,\"ticks\":\"\"}}],\"contour\":[{\"type\":\"contour\",\"colorbar\":{\"outlinewidth\":0,\"ticks\":\"\"},\"colorscale\":[[0.0,\"#0d0887\"],[0.1111111111111111,\"#46039f\"],[0.2222222222222222,\"#7201a8\"],[0.3333333333333333,\"#9c179e\"],[0.4444444444444444,\"#bd3786\"],[0.5555555555555556,\"#d8576b\"],[0.6666666666666666,\"#ed7953\"],[0.7777777777777778,\"#fb9f3a\"],[0.8888888888888888,\"#fdca26\"],[1.0,\"#f0f921\"]]}],\"surface\":[{\"type\":\"surface\",\"colorbar\":{\"outlinewidth\":0,\"ticks\":\"\"},\"colorscale\":[[0.0,\"#0d0887\"],[0.1111111111111111,\"#46039f\"],[0.2222222222222222,\"#7201a8\"],[0.3333333333333333,\"#9c179e\"],[0.4444444444444444,\"#bd3786\"],[0.5555555555555556,\"#d8576b\"],[0.6666666666666666,\"#ed7953\"],[0.7777777777777778,\"#fb9f3a\"],[0.8888888888888888,\"#fdca26\"],[1.0,\"#f0f921\"]]}],\"mesh3d\":[{\"type\":\"mesh3d\",\"colorbar\":{\"outlinewidth\":0,\"ticks\":\"\"}}],\"scatter\":[{\"fillpattern\":{\"fillmode\":\"overlay\",\"size\":10,\"solidity\":0.2},\"type\":\"scatter\"}],\"parcoords\":[{\"type\":\"parcoords\",\"line\":{\"colorbar\":{\"outlinewidth\":0,\"ticks\":\"\"}}}],\"scatterpolargl\":[{\"type\":\"scatterpolargl\",\"marker\":{\"colorbar\":{\"outlinewidth\":0,\"ticks\":\"\"}}}],\"bar\":[{\"error_x\":{\"color\":\"#2a3f5f\"},\"error_y\":{\"color\":\"#2a3f5f\"},\"marker\":{\"line\":{\"color\":\"#E5ECF6\",\"width\":0.5},\"pattern\":{\"fillmode\":\"overlay\",\"size\":10,\"solidity\":0.2}},\"type\":\"bar\"}],\"scattergeo\":[{\"type\":\"scattergeo\",\"marker\":{\"colorbar\":{\"outlinewidth\":0,\"ticks\":\"\"}}}],\"scatterpolar\":[{\"type\":\"scatterpolar\",\"marker\":{\"colorbar\":{\"outlinewidth\":0,\"ticks\":\"\"}}}],\"histogram\":[{\"marker\":{\"pattern\":{\"fillmode\":\"overlay\",\"size\":10,\"solidity\":0.2}},\"type\":\"histogram\"}],\"scattergl\":[{\"type\":\"scattergl\",\"marker\":{\"colorbar\":{\"outlinewidth\":0,\"ticks\":\"\"}}}],\"scatter3d\":[{\"type\":\"scatter3d\",\"line\":{\"colorbar\":{\"outlinewidth\":0,\"ticks\":\"\"}},\"marker\":{\"colorbar\":{\"outlinewidth\":0,\"ticks\":\"\"}}}],\"scattermapbox\":[{\"type\":\"scattermapbox\",\"marker\":{\"colorbar\":{\"outlinewidth\":0,\"ticks\":\"\"}}}],\"scatterternary\":[{\"type\":\"scatterternary\",\"marker\":{\"colorbar\":{\"outlinewidth\":0,\"ticks\":\"\"}}}],\"scattercarpet\":[{\"type\":\"scattercarpet\",\"marker\":{\"colorbar\":{\"outlinewidth\":0,\"ticks\":\"\"}}}],\"carpet\":[{\"aaxis\":{\"endlinecolor\":\"#2a3f5f\",\"gridcolor\":\"white\",\"linecolor\":\"white\",\"minorgridcolor\":\"white\",\"startlinecolor\":\"#2a3f5f\"},\"baxis\":{\"endlinecolor\":\"#2a3f5f\",\"gridcolor\":\"white\",\"linecolor\":\"white\",\"minorgridcolor\":\"white\",\"startlinecolor\":\"#2a3f5f\"},\"type\":\"carpet\"}],\"table\":[{\"cells\":{\"fill\":{\"color\":\"#EBF0F8\"},\"line\":{\"color\":\"white\"}},\"header\":{\"fill\":{\"color\":\"#C8D4E3\"},\"line\":{\"color\":\"white\"}},\"type\":\"table\"}],\"barpolar\":[{\"marker\":{\"line\":{\"color\":\"#E5ECF6\",\"width\":0.5},\"pattern\":{\"fillmode\":\"overlay\",\"size\":10,\"solidity\":0.2}},\"type\":\"barpolar\"}],\"pie\":[{\"automargin\":true,\"type\":\"pie\"}]},\"layout\":{\"autotypenumbers\":\"strict\",\"colorway\":[\"#636efa\",\"#EF553B\",\"#00cc96\",\"#ab63fa\",\"#FFA15A\",\"#19d3f3\",\"#FF6692\",\"#B6E880\",\"#FF97FF\",\"#FECB52\"],\"font\":{\"color\":\"#2a3f5f\"},\"hovermode\":\"closest\",\"hoverlabel\":{\"align\":\"left\"},\"paper_bgcolor\":\"white\",\"plot_bgcolor\":\"#E5ECF6\",\"polar\":{\"bgcolor\":\"#E5ECF6\",\"angularaxis\":{\"gridcolor\":\"white\",\"linecolor\":\"white\",\"ticks\":\"\"},\"radialaxis\":{\"gridcolor\":\"white\",\"linecolor\":\"white\",\"ticks\":\"\"}},\"ternary\":{\"bgcolor\":\"#E5ECF6\",\"aaxis\":{\"gridcolor\":\"white\",\"linecolor\":\"white\",\"ticks\":\"\"},\"baxis\":{\"gridcolor\":\"white\",\"linecolor\":\"white\",\"ticks\":\"\"},\"caxis\":{\"gridcolor\":\"white\",\"linecolor\":\"white\",\"ticks\":\"\"}},\"coloraxis\":{\"colorbar\":{\"outlinewidth\":0,\"ticks\":\"\"}},\"colorscale\":{\"sequential\":[[0.0,\"#0d0887\"],[0.1111111111111111,\"#46039f\"],[0.2222222222222222,\"#7201a8\"],[0.3333333333333333,\"#9c179e\"],[0.4444444444444444,\"#bd3786\"],[0.5555555555555556,\"#d8576b\"],[0.6666666666666666,\"#ed7953\"],[0.7777777777777778,\"#fb9f3a\"],[0.8888888888888888,\"#fdca26\"],[1.0,\"#f0f921\"]],\"sequentialminus\":[[0.0,\"#0d0887\"],[0.1111111111111111,\"#46039f\"],[0.2222222222222222,\"#7201a8\"],[0.3333333333333333,\"#9c179e\"],[0.4444444444444444,\"#bd3786\"],[0.5555555555555556,\"#d8576b\"],[0.6666666666666666,\"#ed7953\"],[0.7777777777777778,\"#fb9f3a\"],[0.8888888888888888,\"#fdca26\"],[1.0,\"#f0f921\"]],\"diverging\":[[0,\"#8e0152\"],[0.1,\"#c51b7d\"],[0.2,\"#de77ae\"],[0.3,\"#f1b6da\"],[0.4,\"#fde0ef\"],[0.5,\"#f7f7f7\"],[0.6,\"#e6f5d0\"],[0.7,\"#b8e186\"],[0.8,\"#7fbc41\"],[0.9,\"#4d9221\"],[1,\"#276419\"]]},\"xaxis\":{\"gridcolor\":\"white\",\"linecolor\":\"white\",\"ticks\":\"\",\"title\":{\"standoff\":15},\"zerolinecolor\":\"white\",\"automargin\":true,\"zerolinewidth\":2},\"yaxis\":{\"gridcolor\":\"white\",\"linecolor\":\"white\",\"ticks\":\"\",\"title\":{\"standoff\":15},\"zerolinecolor\":\"white\",\"automargin\":true,\"zerolinewidth\":2},\"scene\":{\"xaxis\":{\"backgroundcolor\":\"#E5ECF6\",\"gridcolor\":\"white\",\"linecolor\":\"white\",\"showbackground\":true,\"ticks\":\"\",\"zerolinecolor\":\"white\",\"gridwidth\":2},\"yaxis\":{\"backgroundcolor\":\"#E5ECF6\",\"gridcolor\":\"white\",\"linecolor\":\"white\",\"showbackground\":true,\"ticks\":\"\",\"zerolinecolor\":\"white\",\"gridwidth\":2},\"zaxis\":{\"backgroundcolor\":\"#E5ECF6\",\"gridcolor\":\"white\",\"linecolor\":\"white\",\"showbackground\":true,\"ticks\":\"\",\"zerolinecolor\":\"white\",\"gridwidth\":2}},\"shapedefaults\":{\"line\":{\"color\":\"#2a3f5f\"}},\"annotationdefaults\":{\"arrowcolor\":\"#2a3f5f\",\"arrowhead\":0,\"arrowwidth\":1},\"geo\":{\"bgcolor\":\"white\",\"landcolor\":\"#E5ECF6\",\"subunitcolor\":\"white\",\"showland\":true,\"showlakes\":true,\"lakecolor\":\"white\"},\"title\":{\"x\":0.05},\"mapbox\":{\"style\":\"light\"}}},\"xaxis\":{\"anchor\":\"y\",\"domain\":[0.0,1.0],\"title\":{\"text\":\"Income Group\"},\"categoryorder\":\"array\",\"categoryarray\":[\"Low-income\",\"Lower-middle-income\",\"Upper-middle-income\",\"High-income\"]},\"yaxis\":{\"anchor\":\"x\",\"domain\":[0.0,1.0],\"title\":{\"text\":\"Air Pollution (\\u00b5g\\u002fm\\u00b3)\"}},\"legend\":{\"title\":{\"text\":\"Income Group\"},\"tracegroupgap\":0},\"title\":{\"text\":\"Average Air Pollution by Income Group in 2019\"},\"barmode\":\"relative\"},                        {\"responsive\": true}                    ).then(function(){\n",
       "                            \n",
       "var gd = document.getElementById('cc6ddf33-2305-4afa-9228-c26e0e148237');\n",
       "var x = new MutationObserver(function (mutations, observer) {{\n",
       "        var display = window.getComputedStyle(gd).display;\n",
       "        if (!display || display === 'none') {{\n",
       "            console.log([gd, 'removed!']);\n",
       "            Plotly.purge(gd);\n",
       "            observer.disconnect();\n",
       "        }}\n",
       "}});\n",
       "\n",
       "// Listen for the removal of the full notebook cells\n",
       "var notebookContainer = gd.closest('#notebook-container');\n",
       "if (notebookContainer) {{\n",
       "    x.observe(notebookContainer, {childList: true});\n",
       "}}\n",
       "\n",
       "// Listen for the clearing of the current output cell\n",
       "var outputEl = gd.closest('.output');\n",
       "if (outputEl) {{\n",
       "    x.observe(outputEl, {childList: true});\n",
       "}}\n",
       "\n",
       "                        })                };                });            </script>        </div>"
      ]
     },
     "metadata": {},
     "output_type": "display_data"
    }
   ],
   "source": [
    "fig = px.bar(\n",
    "    avg_pollution_2019,\n",
    "    x=\"Income Group\",\n",
    "    y=\"Air Pollution\",\n",
    "    title=\"Average Air Pollution by Income Group in 2019\",\n",
    "    labels={\"Air Pollution\": \"Air Pollution (µg/m³)\", \"Income Group\": \"Income Group\"},\n",
    "    color=\"Income Group\",\n",
    "    text=\"Air Pollution\",\n",
    ")\n",
    "\n",
    "fig.show()"
   ]
  },
  {
   "cell_type": "markdown",
   "id": "016f1bfa",
   "metadata": {},
   "source": [
    "The chart shows the average air pollution (PM 2.5 levels) for each income group in 2019. From the chart, it’s clear that lower-middle-income countries had the highest average air pollution level (28.72 µg/m³), followed by low-income countries (27.6 µg/m³). Upper-middle-income countries (23.92 µg/m³) and high-income countries (16.96 µg/m³) had much lower air pollution levels. This pattern shows that as income levels increase, air pollution levels tend to decrease."
   ]
  },
  {
   "cell_type": "markdown",
   "id": "9b823207",
   "metadata": {},
   "source": [
    "### Is the lower air pollution linked to the adoption of renewable energy sources? (Hypothesis 3)"
   ]
  },
  {
   "cell_type": "markdown",
   "id": "78b8e312",
   "metadata": {},
   "source": [
    "Next, I wanted to find out if lower air pollution in high-income and upper-middle-income countries is related to the high adoption of renewable energy resources. To explore this, I started by reading the renewable energy data from OurWorldinData.com. This dataset includes columns for the country name (referred to as `\"Entity\"`), `Year` column, and the percentage of energy coming from renewable sources (`Renewables (% equivalent primary energy)`)"
   ]
  },
  {
   "cell_type": "code",
   "execution_count": 20,
   "id": "da7fbb33",
   "metadata": {},
   "outputs": [
    {
     "data": {
      "text/html": [
       "<div>\n",
       "<style scoped>\n",
       "    .dataframe tbody tr th:only-of-type {\n",
       "        vertical-align: middle;\n",
       "    }\n",
       "\n",
       "    .dataframe tbody tr th {\n",
       "        vertical-align: top;\n",
       "    }\n",
       "\n",
       "    .dataframe thead th {\n",
       "        text-align: right;\n",
       "    }\n",
       "</style>\n",
       "<table border=\"1\" class=\"dataframe\">\n",
       "  <thead>\n",
       "    <tr style=\"text-align: right;\">\n",
       "      <th></th>\n",
       "      <th>Entity</th>\n",
       "      <th>Code</th>\n",
       "      <th>Year</th>\n",
       "      <th>Renewables (% equivalent primary energy)</th>\n",
       "    </tr>\n",
       "  </thead>\n",
       "  <tbody>\n",
       "    <tr>\n",
       "      <th>0</th>\n",
       "      <td>Africa</td>\n",
       "      <td>NaN</td>\n",
       "      <td>1965</td>\n",
       "      <td>5.740281</td>\n",
       "    </tr>\n",
       "    <tr>\n",
       "      <th>1</th>\n",
       "      <td>Africa</td>\n",
       "      <td>NaN</td>\n",
       "      <td>1966</td>\n",
       "      <td>6.113969</td>\n",
       "    </tr>\n",
       "    <tr>\n",
       "      <th>2</th>\n",
       "      <td>Africa</td>\n",
       "      <td>NaN</td>\n",
       "      <td>1967</td>\n",
       "      <td>6.316580</td>\n",
       "    </tr>\n",
       "    <tr>\n",
       "      <th>3</th>\n",
       "      <td>Africa</td>\n",
       "      <td>NaN</td>\n",
       "      <td>1968</td>\n",
       "      <td>6.994845</td>\n",
       "    </tr>\n",
       "    <tr>\n",
       "      <th>4</th>\n",
       "      <td>Africa</td>\n",
       "      <td>NaN</td>\n",
       "      <td>1969</td>\n",
       "      <td>7.943916</td>\n",
       "    </tr>\n",
       "    <tr>\n",
       "      <th>...</th>\n",
       "      <td>...</td>\n",
       "      <td>...</td>\n",
       "      <td>...</td>\n",
       "      <td>...</td>\n",
       "    </tr>\n",
       "    <tr>\n",
       "      <th>4898</th>\n",
       "      <td>World</td>\n",
       "      <td>OWID_WRL</td>\n",
       "      <td>2019</td>\n",
       "      <td>12.228147</td>\n",
       "    </tr>\n",
       "    <tr>\n",
       "      <th>4899</th>\n",
       "      <td>World</td>\n",
       "      <td>OWID_WRL</td>\n",
       "      <td>2020</td>\n",
       "      <td>13.404395</td>\n",
       "    </tr>\n",
       "    <tr>\n",
       "      <th>4900</th>\n",
       "      <td>World</td>\n",
       "      <td>OWID_WRL</td>\n",
       "      <td>2021</td>\n",
       "      <td>13.469198</td>\n",
       "    </tr>\n",
       "    <tr>\n",
       "      <th>4901</th>\n",
       "      <td>World</td>\n",
       "      <td>OWID_WRL</td>\n",
       "      <td>2022</td>\n",
       "      <td>14.119935</td>\n",
       "    </tr>\n",
       "    <tr>\n",
       "      <th>4902</th>\n",
       "      <td>World</td>\n",
       "      <td>OWID_WRL</td>\n",
       "      <td>2023</td>\n",
       "      <td>14.562141</td>\n",
       "    </tr>\n",
       "  </tbody>\n",
       "</table>\n",
       "<p>4903 rows × 4 columns</p>\n",
       "</div>"
      ],
      "text/plain": [
       "      Entity      Code  Year  Renewables (% equivalent primary energy)\n",
       "0     Africa       NaN  1965                                  5.740281\n",
       "1     Africa       NaN  1966                                  6.113969\n",
       "2     Africa       NaN  1967                                  6.316580\n",
       "3     Africa       NaN  1968                                  6.994845\n",
       "4     Africa       NaN  1969                                  7.943916\n",
       "...      ...       ...   ...                                       ...\n",
       "4898   World  OWID_WRL  2019                                 12.228147\n",
       "4899   World  OWID_WRL  2020                                 13.404395\n",
       "4900   World  OWID_WRL  2021                                 13.469198\n",
       "4901   World  OWID_WRL  2022                                 14.119935\n",
       "4902   World  OWID_WRL  2023                                 14.562141\n",
       "\n",
       "[4903 rows x 4 columns]"
      ]
     },
     "execution_count": 20,
     "metadata": {},
     "output_type": "execute_result"
    }
   ],
   "source": [
    "renew_energy = pd.read_csv(\"renewable-share-energy.csv\")\n",
    "renew_energy"
   ]
  },
  {
   "cell_type": "markdown",
   "id": "3de68f7b",
   "metadata": {},
   "source": [
    "After loading the data, I checked its structure using `.info()` to make sure all the data types were correct. `\"Renewables (% equivalent primary energy)\"` column was already in numeric form, so I didn’t need to convert it. However, the values had more than two decimal places, so I rounded them to two decimal points to make them easier to read."
   ]
  },
  {
   "cell_type": "code",
   "execution_count": 21,
   "id": "1c5354d0",
   "metadata": {},
   "outputs": [
    {
     "name": "stdout",
     "output_type": "stream",
     "text": [
      "<class 'pandas.core.frame.DataFrame'>\n",
      "RangeIndex: 4903 entries, 0 to 4902\n",
      "Data columns (total 4 columns):\n",
      " #   Column                                    Non-Null Count  Dtype  \n",
      "---  ------                                    --------------  -----  \n",
      " 0   Entity                                    4903 non-null   object \n",
      " 1   Code                                      3553 non-null   object \n",
      " 2   Year                                      4903 non-null   int64  \n",
      " 3   Renewables (% equivalent primary energy)  4903 non-null   float64\n",
      "dtypes: float64(1), int64(1), object(2)\n",
      "memory usage: 153.3+ KB\n"
     ]
    }
   ],
   "source": [
    "renew_energy.info()"
   ]
  },
  {
   "cell_type": "code",
   "execution_count": 22,
   "id": "c5115430",
   "metadata": {},
   "outputs": [
    {
     "data": {
      "text/html": [
       "<div>\n",
       "<style scoped>\n",
       "    .dataframe tbody tr th:only-of-type {\n",
       "        vertical-align: middle;\n",
       "    }\n",
       "\n",
       "    .dataframe tbody tr th {\n",
       "        vertical-align: top;\n",
       "    }\n",
       "\n",
       "    .dataframe thead th {\n",
       "        text-align: right;\n",
       "    }\n",
       "</style>\n",
       "<table border=\"1\" class=\"dataframe\">\n",
       "  <thead>\n",
       "    <tr style=\"text-align: right;\">\n",
       "      <th></th>\n",
       "      <th>Entity</th>\n",
       "      <th>Code</th>\n",
       "      <th>Year</th>\n",
       "      <th>Renewables (% equivalent primary energy)</th>\n",
       "    </tr>\n",
       "  </thead>\n",
       "  <tbody>\n",
       "    <tr>\n",
       "      <th>0</th>\n",
       "      <td>Africa</td>\n",
       "      <td>NaN</td>\n",
       "      <td>1965</td>\n",
       "      <td>5.74</td>\n",
       "    </tr>\n",
       "    <tr>\n",
       "      <th>1</th>\n",
       "      <td>Africa</td>\n",
       "      <td>NaN</td>\n",
       "      <td>1966</td>\n",
       "      <td>6.11</td>\n",
       "    </tr>\n",
       "    <tr>\n",
       "      <th>2</th>\n",
       "      <td>Africa</td>\n",
       "      <td>NaN</td>\n",
       "      <td>1967</td>\n",
       "      <td>6.32</td>\n",
       "    </tr>\n",
       "    <tr>\n",
       "      <th>3</th>\n",
       "      <td>Africa</td>\n",
       "      <td>NaN</td>\n",
       "      <td>1968</td>\n",
       "      <td>6.99</td>\n",
       "    </tr>\n",
       "    <tr>\n",
       "      <th>4</th>\n",
       "      <td>Africa</td>\n",
       "      <td>NaN</td>\n",
       "      <td>1969</td>\n",
       "      <td>7.94</td>\n",
       "    </tr>\n",
       "    <tr>\n",
       "      <th>...</th>\n",
       "      <td>...</td>\n",
       "      <td>...</td>\n",
       "      <td>...</td>\n",
       "      <td>...</td>\n",
       "    </tr>\n",
       "    <tr>\n",
       "      <th>4898</th>\n",
       "      <td>World</td>\n",
       "      <td>OWID_WRL</td>\n",
       "      <td>2019</td>\n",
       "      <td>12.23</td>\n",
       "    </tr>\n",
       "    <tr>\n",
       "      <th>4899</th>\n",
       "      <td>World</td>\n",
       "      <td>OWID_WRL</td>\n",
       "      <td>2020</td>\n",
       "      <td>13.40</td>\n",
       "    </tr>\n",
       "    <tr>\n",
       "      <th>4900</th>\n",
       "      <td>World</td>\n",
       "      <td>OWID_WRL</td>\n",
       "      <td>2021</td>\n",
       "      <td>13.47</td>\n",
       "    </tr>\n",
       "    <tr>\n",
       "      <th>4901</th>\n",
       "      <td>World</td>\n",
       "      <td>OWID_WRL</td>\n",
       "      <td>2022</td>\n",
       "      <td>14.12</td>\n",
       "    </tr>\n",
       "    <tr>\n",
       "      <th>4902</th>\n",
       "      <td>World</td>\n",
       "      <td>OWID_WRL</td>\n",
       "      <td>2023</td>\n",
       "      <td>14.56</td>\n",
       "    </tr>\n",
       "  </tbody>\n",
       "</table>\n",
       "<p>4903 rows × 4 columns</p>\n",
       "</div>"
      ],
      "text/plain": [
       "      Entity      Code  Year  Renewables (% equivalent primary energy)\n",
       "0     Africa       NaN  1965                                      5.74\n",
       "1     Africa       NaN  1966                                      6.11\n",
       "2     Africa       NaN  1967                                      6.32\n",
       "3     Africa       NaN  1968                                      6.99\n",
       "4     Africa       NaN  1969                                      7.94\n",
       "...      ...       ...   ...                                       ...\n",
       "4898   World  OWID_WRL  2019                                     12.23\n",
       "4899   World  OWID_WRL  2020                                     13.40\n",
       "4900   World  OWID_WRL  2021                                     13.47\n",
       "4901   World  OWID_WRL  2022                                     14.12\n",
       "4902   World  OWID_WRL  2023                                     14.56\n",
       "\n",
       "[4903 rows x 4 columns]"
      ]
     },
     "execution_count": 22,
     "metadata": {},
     "output_type": "execute_result"
    }
   ],
   "source": [
    "renew_energy[\"Renewables (% equivalent primary energy)\"] = renew_energy[\"Renewables (% equivalent primary energy)\"].round(2)\n",
    "renew_energy"
   ]
  },
  {
   "cell_type": "markdown",
   "id": "dacac497",
   "metadata": {},
   "source": [
    "I then narrowed down the dataset to only include data from 2019, since this matches the year of the air pollution data I worked with earlier. I also selected just the columns I needed: `\"Entity\"`, which contains the country names, and `\"Renewables (% equivalent primary energy)\"`, which represents the share of renewable energy each country uses."
   ]
  },
  {
   "cell_type": "code",
   "execution_count": 23,
   "id": "80cd0cbf",
   "metadata": {},
   "outputs": [
    {
     "data": {
      "text/html": [
       "<div>\n",
       "<style scoped>\n",
       "    .dataframe tbody tr th:only-of-type {\n",
       "        vertical-align: middle;\n",
       "    }\n",
       "\n",
       "    .dataframe tbody tr th {\n",
       "        vertical-align: top;\n",
       "    }\n",
       "\n",
       "    .dataframe thead th {\n",
       "        text-align: right;\n",
       "    }\n",
       "</style>\n",
       "<table border=\"1\" class=\"dataframe\">\n",
       "  <thead>\n",
       "    <tr style=\"text-align: right;\">\n",
       "      <th></th>\n",
       "      <th>Entity</th>\n",
       "      <th>Renewables (% equivalent primary energy)</th>\n",
       "    </tr>\n",
       "  </thead>\n",
       "  <tbody>\n",
       "    <tr>\n",
       "      <th>54</th>\n",
       "      <td>Africa</td>\n",
       "      <td>8.36</td>\n",
       "    </tr>\n",
       "    <tr>\n",
       "      <th>113</th>\n",
       "      <td>Africa (EI)</td>\n",
       "      <td>8.36</td>\n",
       "    </tr>\n",
       "    <tr>\n",
       "      <th>172</th>\n",
       "      <td>Algeria</td>\n",
       "      <td>0.29</td>\n",
       "    </tr>\n",
       "    <tr>\n",
       "      <th>231</th>\n",
       "      <td>Argentina</td>\n",
       "      <td>11.91</td>\n",
       "    </tr>\n",
       "    <tr>\n",
       "      <th>290</th>\n",
       "      <td>Asia</td>\n",
       "      <td>10.00</td>\n",
       "    </tr>\n",
       "    <tr>\n",
       "      <th>...</th>\n",
       "      <td>...</td>\n",
       "      <td>...</td>\n",
       "    </tr>\n",
       "    <tr>\n",
       "      <th>4678</th>\n",
       "      <td>Uzbekistan</td>\n",
       "      <td>3.15</td>\n",
       "    </tr>\n",
       "    <tr>\n",
       "      <th>4737</th>\n",
       "      <td>Venezuela</td>\n",
       "      <td>25.22</td>\n",
       "    </tr>\n",
       "    <tr>\n",
       "      <th>4780</th>\n",
       "      <td>Vietnam</td>\n",
       "      <td>15.80</td>\n",
       "    </tr>\n",
       "    <tr>\n",
       "      <th>4839</th>\n",
       "      <td>Western Africa (EI)</td>\n",
       "      <td>8.16</td>\n",
       "    </tr>\n",
       "    <tr>\n",
       "      <th>4898</th>\n",
       "      <td>World</td>\n",
       "      <td>12.23</td>\n",
       "    </tr>\n",
       "  </tbody>\n",
       "</table>\n",
       "<p>94 rows × 2 columns</p>\n",
       "</div>"
      ],
      "text/plain": [
       "                   Entity  Renewables (% equivalent primary energy)\n",
       "54                 Africa                                      8.36\n",
       "113           Africa (EI)                                      8.36\n",
       "172               Algeria                                      0.29\n",
       "231             Argentina                                     11.91\n",
       "290                  Asia                                     10.00\n",
       "...                   ...                                       ...\n",
       "4678           Uzbekistan                                      3.15\n",
       "4737            Venezuela                                     25.22\n",
       "4780              Vietnam                                     15.80\n",
       "4839  Western Africa (EI)                                      8.16\n",
       "4898                World                                     12.23\n",
       "\n",
       "[94 rows x 2 columns]"
      ]
     },
     "execution_count": 23,
     "metadata": {},
     "output_type": "execute_result"
    }
   ],
   "source": [
    "renew_energy = renew_energy[renew_energy[\"Year\"] == 2019][[\"Entity\",\"Renewables (% equivalent primary energy)\"]]\n",
    "renew_energy"
   ]
  },
  {
   "cell_type": "markdown",
   "id": "c200d6df",
   "metadata": {},
   "source": [
    "Next, I merged the renewable energy data with the 2019 air pollution data, using the country names as the key to combine the datasets. This allowed me to compare air pollution levels with renewable energy adoption for each country. After merging, I created a scatter plot to visualize the relationship between air pollution (PM 2.5 levels) and renewable energy usage. To make the trend easier to see, I added a trendline to the chart."
   ]
  },
  {
   "cell_type": "code",
   "execution_count": 24,
   "id": "3350bc0c",
   "metadata": {},
   "outputs": [
    {
     "data": {
      "text/html": [
       "<div>\n",
       "<style scoped>\n",
       "    .dataframe tbody tr th:only-of-type {\n",
       "        vertical-align: middle;\n",
       "    }\n",
       "\n",
       "    .dataframe tbody tr th {\n",
       "        vertical-align: top;\n",
       "    }\n",
       "\n",
       "    .dataframe thead th {\n",
       "        text-align: right;\n",
       "    }\n",
       "</style>\n",
       "<table border=\"1\" class=\"dataframe\">\n",
       "  <thead>\n",
       "    <tr style=\"text-align: right;\">\n",
       "      <th></th>\n",
       "      <th>Country Name</th>\n",
       "      <th>Air Pollution</th>\n",
       "      <th>Entity</th>\n",
       "      <th>Renewables (% equivalent primary energy)</th>\n",
       "    </tr>\n",
       "  </thead>\n",
       "  <tbody>\n",
       "    <tr>\n",
       "      <th>0</th>\n",
       "      <td>Finland</td>\n",
       "      <td>5.47</td>\n",
       "      <td>Finland</td>\n",
       "      <td>29.33</td>\n",
       "    </tr>\n",
       "    <tr>\n",
       "      <th>1</th>\n",
       "      <td>Sweden</td>\n",
       "      <td>5.96</td>\n",
       "      <td>Sweden</td>\n",
       "      <td>44.81</td>\n",
       "    </tr>\n",
       "    <tr>\n",
       "      <th>2</th>\n",
       "      <td>Norway</td>\n",
       "      <td>6.30</td>\n",
       "      <td>Norway</td>\n",
       "      <td>67.99</td>\n",
       "    </tr>\n",
       "    <tr>\n",
       "      <th>3</th>\n",
       "      <td>Estonia</td>\n",
       "      <td>6.35</td>\n",
       "      <td>Estonia</td>\n",
       "      <td>10.69</td>\n",
       "    </tr>\n",
       "    <tr>\n",
       "      <th>4</th>\n",
       "      <td>Canada</td>\n",
       "      <td>6.39</td>\n",
       "      <td>Canada</td>\n",
       "      <td>28.55</td>\n",
       "    </tr>\n",
       "    <tr>\n",
       "      <th>5</th>\n",
       "      <td>Portugal</td>\n",
       "      <td>7.34</td>\n",
       "      <td>Portugal</td>\n",
       "      <td>26.37</td>\n",
       "    </tr>\n",
       "    <tr>\n",
       "      <th>6</th>\n",
       "      <td>Ireland</td>\n",
       "      <td>8.20</td>\n",
       "      <td>Ireland</td>\n",
       "      <td>18.01</td>\n",
       "    </tr>\n",
       "    <tr>\n",
       "      <th>7</th>\n",
       "      <td>New Zealand</td>\n",
       "      <td>8.61</td>\n",
       "      <td>New Zealand</td>\n",
       "      <td>36.80</td>\n",
       "    </tr>\n",
       "    <tr>\n",
       "      <th>8</th>\n",
       "      <td>Luxembourg</td>\n",
       "      <td>8.89</td>\n",
       "      <td>Luxembourg</td>\n",
       "      <td>7.92</td>\n",
       "    </tr>\n",
       "    <tr>\n",
       "      <th>9</th>\n",
       "      <td>Australia</td>\n",
       "      <td>8.93</td>\n",
       "      <td>Australia</td>\n",
       "      <td>8.88</td>\n",
       "    </tr>\n",
       "    <tr>\n",
       "      <th>10</th>\n",
       "      <td>Switzerland</td>\n",
       "      <td>8.97</td>\n",
       "      <td>Switzerland</td>\n",
       "      <td>33.74</td>\n",
       "    </tr>\n",
       "    <tr>\n",
       "      <th>11</th>\n",
       "      <td>Spain</td>\n",
       "      <td>9.34</td>\n",
       "      <td>Spain</td>\n",
       "      <td>17.81</td>\n",
       "    </tr>\n",
       "    <tr>\n",
       "      <th>12</th>\n",
       "      <td>Denmark</td>\n",
       "      <td>9.66</td>\n",
       "      <td>Denmark</td>\n",
       "      <td>34.10</td>\n",
       "    </tr>\n",
       "    <tr>\n",
       "      <th>13</th>\n",
       "      <td>Trinidad and Tobago</td>\n",
       "      <td>10.26</td>\n",
       "      <td>Trinidad and Tobago</td>\n",
       "      <td>0.01</td>\n",
       "    </tr>\n",
       "    <tr>\n",
       "      <th>14</th>\n",
       "      <td>Lithuania</td>\n",
       "      <td>10.37</td>\n",
       "      <td>Lithuania</td>\n",
       "      <td>10.88</td>\n",
       "    </tr>\n",
       "    <tr>\n",
       "      <th>15</th>\n",
       "      <td>France</td>\n",
       "      <td>10.46</td>\n",
       "      <td>France</td>\n",
       "      <td>12.16</td>\n",
       "    </tr>\n",
       "    <tr>\n",
       "      <th>16</th>\n",
       "      <td>Germany</td>\n",
       "      <td>10.73</td>\n",
       "      <td>Germany</td>\n",
       "      <td>18.83</td>\n",
       "    </tr>\n",
       "    <tr>\n",
       "      <th>17</th>\n",
       "      <td>Japan</td>\n",
       "      <td>10.84</td>\n",
       "      <td>Japan</td>\n",
       "      <td>9.28</td>\n",
       "    </tr>\n",
       "    <tr>\n",
       "      <th>18</th>\n",
       "      <td>Brazil</td>\n",
       "      <td>10.94</td>\n",
       "      <td>Brazil</td>\n",
       "      <td>46.81</td>\n",
       "    </tr>\n",
       "    <tr>\n",
       "      <th>19</th>\n",
       "      <td>Belgium</td>\n",
       "      <td>11.26</td>\n",
       "      <td>Belgium</td>\n",
       "      <td>8.08</td>\n",
       "    </tr>\n",
       "    <tr>\n",
       "      <th>20</th>\n",
       "      <td>Austria</td>\n",
       "      <td>11.51</td>\n",
       "      <td>Austria</td>\n",
       "      <td>35.47</td>\n",
       "    </tr>\n",
       "    <tr>\n",
       "      <th>21</th>\n",
       "      <td>Latvia</td>\n",
       "      <td>12.02</td>\n",
       "      <td>Latvia</td>\n",
       "      <td>20.84</td>\n",
       "    </tr>\n",
       "    <tr>\n",
       "      <th>22</th>\n",
       "      <td>Argentina</td>\n",
       "      <td>12.04</td>\n",
       "      <td>Argentina</td>\n",
       "      <td>11.91</td>\n",
       "    </tr>\n",
       "    <tr>\n",
       "      <th>23</th>\n",
       "      <td>Romania</td>\n",
       "      <td>13.30</td>\n",
       "      <td>Romania</td>\n",
       "      <td>18.11</td>\n",
       "    </tr>\n",
       "    <tr>\n",
       "      <th>24</th>\n",
       "      <td>Morocco</td>\n",
       "      <td>13.44</td>\n",
       "      <td>Morocco</td>\n",
       "      <td>7.54</td>\n",
       "    </tr>\n",
       "    <tr>\n",
       "      <th>25</th>\n",
       "      <td>Ukraine</td>\n",
       "      <td>13.51</td>\n",
       "      <td>Ukraine</td>\n",
       "      <td>3.39</td>\n",
       "    </tr>\n",
       "    <tr>\n",
       "      <th>26</th>\n",
       "      <td>Colombia</td>\n",
       "      <td>14.04</td>\n",
       "      <td>Colombia</td>\n",
       "      <td>28.66</td>\n",
       "    </tr>\n",
       "    <tr>\n",
       "      <th>27</th>\n",
       "      <td>Slovenia</td>\n",
       "      <td>14.08</td>\n",
       "      <td>Slovenia</td>\n",
       "      <td>18.17</td>\n",
       "    </tr>\n",
       "    <tr>\n",
       "      <th>28</th>\n",
       "      <td>Italy</td>\n",
       "      <td>14.22</td>\n",
       "      <td>Italy</td>\n",
       "      <td>17.86</td>\n",
       "    </tr>\n",
       "    <tr>\n",
       "      <th>29</th>\n",
       "      <td>Hungary</td>\n",
       "      <td>14.24</td>\n",
       "      <td>Hungary</td>\n",
       "      <td>5.80</td>\n",
       "    </tr>\n",
       "    <tr>\n",
       "      <th>30</th>\n",
       "      <td>Czechia</td>\n",
       "      <td>14.34</td>\n",
       "      <td>Czechia</td>\n",
       "      <td>6.94</td>\n",
       "    </tr>\n",
       "    <tr>\n",
       "      <th>31</th>\n",
       "      <td>Greece</td>\n",
       "      <td>14.62</td>\n",
       "      <td>Greece</td>\n",
       "      <td>14.17</td>\n",
       "    </tr>\n",
       "    <tr>\n",
       "      <th>32</th>\n",
       "      <td>Croatia</td>\n",
       "      <td>15.29</td>\n",
       "      <td>Croatia</td>\n",
       "      <td>24.22</td>\n",
       "    </tr>\n",
       "    <tr>\n",
       "      <th>33</th>\n",
       "      <td>Belarus</td>\n",
       "      <td>15.48</td>\n",
       "      <td>Belarus</td>\n",
       "      <td>0.76</td>\n",
       "    </tr>\n",
       "    <tr>\n",
       "      <th>34</th>\n",
       "      <td>Slovakia</td>\n",
       "      <td>15.89</td>\n",
       "      <td>Slovakia</td>\n",
       "      <td>10.94</td>\n",
       "    </tr>\n",
       "    <tr>\n",
       "      <th>35</th>\n",
       "      <td>Ecuador</td>\n",
       "      <td>16.55</td>\n",
       "      <td>Ecuador</td>\n",
       "      <td>31.70</td>\n",
       "    </tr>\n",
       "    <tr>\n",
       "      <th>36</th>\n",
       "      <td>Bulgaria</td>\n",
       "      <td>17.29</td>\n",
       "      <td>Bulgaria</td>\n",
       "      <td>10.77</td>\n",
       "    </tr>\n",
       "    <tr>\n",
       "      <th>37</th>\n",
       "      <td>Mexico</td>\n",
       "      <td>17.83</td>\n",
       "      <td>Mexico</td>\n",
       "      <td>6.90</td>\n",
       "    </tr>\n",
       "    <tr>\n",
       "      <th>38</th>\n",
       "      <td>Poland</td>\n",
       "      <td>18.83</td>\n",
       "      <td>Poland</td>\n",
       "      <td>6.98</td>\n",
       "    </tr>\n",
       "    <tr>\n",
       "      <th>39</th>\n",
       "      <td>Indonesia</td>\n",
       "      <td>19.34</td>\n",
       "      <td>Indonesia</td>\n",
       "      <td>8.28</td>\n",
       "    </tr>\n",
       "    <tr>\n",
       "      <th>40</th>\n",
       "      <td>Israel</td>\n",
       "      <td>19.47</td>\n",
       "      <td>Israel</td>\n",
       "      <td>3.07</td>\n",
       "    </tr>\n",
       "    <tr>\n",
       "      <th>41</th>\n",
       "      <td>South Africa</td>\n",
       "      <td>19.75</td>\n",
       "      <td>South Africa</td>\n",
       "      <td>2.32</td>\n",
       "    </tr>\n",
       "    <tr>\n",
       "      <th>42</th>\n",
       "      <td>Chile</td>\n",
       "      <td>20.49</td>\n",
       "      <td>Chile</td>\n",
       "      <td>23.46</td>\n",
       "    </tr>\n",
       "    <tr>\n",
       "      <th>43</th>\n",
       "      <td>Malaysia</td>\n",
       "      <td>21.52</td>\n",
       "      <td>Malaysia</td>\n",
       "      <td>6.77</td>\n",
       "    </tr>\n",
       "    <tr>\n",
       "      <th>44</th>\n",
       "      <td>Philippines</td>\n",
       "      <td>22.45</td>\n",
       "      <td>Philippines</td>\n",
       "      <td>11.25</td>\n",
       "    </tr>\n",
       "    <tr>\n",
       "      <th>45</th>\n",
       "      <td>Algeria</td>\n",
       "      <td>22.68</td>\n",
       "      <td>Algeria</td>\n",
       "      <td>0.29</td>\n",
       "    </tr>\n",
       "    <tr>\n",
       "      <th>46</th>\n",
       "      <td>Azerbaijan</td>\n",
       "      <td>24.64</td>\n",
       "      <td>Azerbaijan</td>\n",
       "      <td>2.60</td>\n",
       "    </tr>\n",
       "    <tr>\n",
       "      <th>47</th>\n",
       "      <td>Thailand</td>\n",
       "      <td>24.64</td>\n",
       "      <td>Thailand</td>\n",
       "      <td>7.16</td>\n",
       "    </tr>\n",
       "    <tr>\n",
       "      <th>48</th>\n",
       "      <td>North Macedonia</td>\n",
       "      <td>25.17</td>\n",
       "      <td>North Macedonia</td>\n",
       "      <td>11.51</td>\n",
       "    </tr>\n",
       "    <tr>\n",
       "      <th>49</th>\n",
       "      <td>Kazakhstan</td>\n",
       "      <td>26.50</td>\n",
       "      <td>Kazakhstan</td>\n",
       "      <td>3.66</td>\n",
       "    </tr>\n",
       "    <tr>\n",
       "      <th>50</th>\n",
       "      <td>Peru</td>\n",
       "      <td>29.07</td>\n",
       "      <td>Peru</td>\n",
       "      <td>29.26</td>\n",
       "    </tr>\n",
       "    <tr>\n",
       "      <th>51</th>\n",
       "      <td>China</td>\n",
       "      <td>38.15</td>\n",
       "      <td>China</td>\n",
       "      <td>13.46</td>\n",
       "    </tr>\n",
       "    <tr>\n",
       "      <th>52</th>\n",
       "      <td>Iraq</td>\n",
       "      <td>39.29</td>\n",
       "      <td>Iraq</td>\n",
       "      <td>2.20</td>\n",
       "    </tr>\n",
       "    <tr>\n",
       "      <th>53</th>\n",
       "      <td>Uzbekistan</td>\n",
       "      <td>40.98</td>\n",
       "      <td>Uzbekistan</td>\n",
       "      <td>3.15</td>\n",
       "    </tr>\n",
       "    <tr>\n",
       "      <th>54</th>\n",
       "      <td>Bangladesh</td>\n",
       "      <td>45.99</td>\n",
       "      <td>Bangladesh</td>\n",
       "      <td>0.66</td>\n",
       "    </tr>\n",
       "    <tr>\n",
       "      <th>55</th>\n",
       "      <td>Pakistan</td>\n",
       "      <td>50.13</td>\n",
       "      <td>Pakistan</td>\n",
       "      <td>10.93</td>\n",
       "    </tr>\n",
       "    <tr>\n",
       "      <th>56</th>\n",
       "      <td>India</td>\n",
       "      <td>50.17</td>\n",
       "      <td>India</td>\n",
       "      <td>8.90</td>\n",
       "    </tr>\n",
       "    <tr>\n",
       "      <th>57</th>\n",
       "      <td>Saudi Arabia</td>\n",
       "      <td>57.16</td>\n",
       "      <td>Saudi Arabia</td>\n",
       "      <td>0.02</td>\n",
       "    </tr>\n",
       "    <tr>\n",
       "      <th>58</th>\n",
       "      <td>Egypt</td>\n",
       "      <td>63.16</td>\n",
       "      <td>Egypt</td>\n",
       "      <td>5.15</td>\n",
       "    </tr>\n",
       "  </tbody>\n",
       "</table>\n",
       "</div>"
      ],
      "text/plain": [
       "           Country Name  Air Pollution               Entity  \\\n",
       "0               Finland           5.47              Finland   \n",
       "1                Sweden           5.96               Sweden   \n",
       "2                Norway           6.30               Norway   \n",
       "3               Estonia           6.35              Estonia   \n",
       "4                Canada           6.39               Canada   \n",
       "5              Portugal           7.34             Portugal   \n",
       "6               Ireland           8.20              Ireland   \n",
       "7           New Zealand           8.61          New Zealand   \n",
       "8            Luxembourg           8.89           Luxembourg   \n",
       "9             Australia           8.93            Australia   \n",
       "10          Switzerland           8.97          Switzerland   \n",
       "11                Spain           9.34                Spain   \n",
       "12              Denmark           9.66              Denmark   \n",
       "13  Trinidad and Tobago          10.26  Trinidad and Tobago   \n",
       "14            Lithuania          10.37            Lithuania   \n",
       "15               France          10.46               France   \n",
       "16              Germany          10.73              Germany   \n",
       "17                Japan          10.84                Japan   \n",
       "18               Brazil          10.94               Brazil   \n",
       "19              Belgium          11.26              Belgium   \n",
       "20              Austria          11.51              Austria   \n",
       "21               Latvia          12.02               Latvia   \n",
       "22            Argentina          12.04            Argentina   \n",
       "23              Romania          13.30              Romania   \n",
       "24              Morocco          13.44              Morocco   \n",
       "25              Ukraine          13.51              Ukraine   \n",
       "26             Colombia          14.04             Colombia   \n",
       "27             Slovenia          14.08             Slovenia   \n",
       "28                Italy          14.22                Italy   \n",
       "29              Hungary          14.24              Hungary   \n",
       "30              Czechia          14.34              Czechia   \n",
       "31               Greece          14.62               Greece   \n",
       "32              Croatia          15.29              Croatia   \n",
       "33              Belarus          15.48              Belarus   \n",
       "34             Slovakia          15.89             Slovakia   \n",
       "35              Ecuador          16.55              Ecuador   \n",
       "36             Bulgaria          17.29             Bulgaria   \n",
       "37               Mexico          17.83               Mexico   \n",
       "38               Poland          18.83               Poland   \n",
       "39            Indonesia          19.34            Indonesia   \n",
       "40               Israel          19.47               Israel   \n",
       "41         South Africa          19.75         South Africa   \n",
       "42                Chile          20.49                Chile   \n",
       "43             Malaysia          21.52             Malaysia   \n",
       "44          Philippines          22.45          Philippines   \n",
       "45              Algeria          22.68              Algeria   \n",
       "46           Azerbaijan          24.64           Azerbaijan   \n",
       "47             Thailand          24.64             Thailand   \n",
       "48      North Macedonia          25.17      North Macedonia   \n",
       "49           Kazakhstan          26.50           Kazakhstan   \n",
       "50                 Peru          29.07                 Peru   \n",
       "51                China          38.15                China   \n",
       "52                 Iraq          39.29                 Iraq   \n",
       "53           Uzbekistan          40.98           Uzbekistan   \n",
       "54           Bangladesh          45.99           Bangladesh   \n",
       "55             Pakistan          50.13             Pakistan   \n",
       "56                India          50.17                India   \n",
       "57         Saudi Arabia          57.16         Saudi Arabia   \n",
       "58                Egypt          63.16                Egypt   \n",
       "\n",
       "    Renewables (% equivalent primary energy)  \n",
       "0                                      29.33  \n",
       "1                                      44.81  \n",
       "2                                      67.99  \n",
       "3                                      10.69  \n",
       "4                                      28.55  \n",
       "5                                      26.37  \n",
       "6                                      18.01  \n",
       "7                                      36.80  \n",
       "8                                       7.92  \n",
       "9                                       8.88  \n",
       "10                                     33.74  \n",
       "11                                     17.81  \n",
       "12                                     34.10  \n",
       "13                                      0.01  \n",
       "14                                     10.88  \n",
       "15                                     12.16  \n",
       "16                                     18.83  \n",
       "17                                      9.28  \n",
       "18                                     46.81  \n",
       "19                                      8.08  \n",
       "20                                     35.47  \n",
       "21                                     20.84  \n",
       "22                                     11.91  \n",
       "23                                     18.11  \n",
       "24                                      7.54  \n",
       "25                                      3.39  \n",
       "26                                     28.66  \n",
       "27                                     18.17  \n",
       "28                                     17.86  \n",
       "29                                      5.80  \n",
       "30                                      6.94  \n",
       "31                                     14.17  \n",
       "32                                     24.22  \n",
       "33                                      0.76  \n",
       "34                                     10.94  \n",
       "35                                     31.70  \n",
       "36                                     10.77  \n",
       "37                                      6.90  \n",
       "38                                      6.98  \n",
       "39                                      8.28  \n",
       "40                                      3.07  \n",
       "41                                      2.32  \n",
       "42                                     23.46  \n",
       "43                                      6.77  \n",
       "44                                     11.25  \n",
       "45                                      0.29  \n",
       "46                                      2.60  \n",
       "47                                      7.16  \n",
       "48                                     11.51  \n",
       "49                                      3.66  \n",
       "50                                     29.26  \n",
       "51                                     13.46  \n",
       "52                                      2.20  \n",
       "53                                      3.15  \n",
       "54                                      0.66  \n",
       "55                                     10.93  \n",
       "56                                      8.90  \n",
       "57                                      0.02  \n",
       "58                                      5.15  "
      ]
     },
     "execution_count": 24,
     "metadata": {},
     "output_type": "execute_result"
    }
   ],
   "source": [
    "merged_hip3 = pd.merge(air_pollution_2019, renew_energy, left_on=\"Country Name\", right_on = \"Entity\", how=\"inner\")\n",
    "merged_hip3"
   ]
  },
  {
   "cell_type": "code",
   "execution_count": 25,
   "id": "a604c683",
   "metadata": {},
   "outputs": [
    {
     "data": {
      "application/vnd.plotly.v1+json": {
       "config": {
        "plotlyServerURL": "https://plot.ly"
       },
       "data": [
        {
         "hovertemplate": "<b>%{hovertext}</b><br><br>Air Pollution (µg/m³)=%{x}<br>Renewable Energy (%))=%{y}<extra></extra>",
         "hovertext": [
          "Finland",
          "Sweden",
          "Norway",
          "Estonia",
          "Canada",
          "Portugal",
          "Ireland",
          "New Zealand",
          "Luxembourg",
          "Australia",
          "Switzerland",
          "Spain",
          "Denmark",
          "Trinidad and Tobago",
          "Lithuania",
          "France",
          "Germany",
          "Japan",
          "Brazil",
          "Belgium",
          "Austria",
          "Latvia",
          "Argentina",
          "Romania",
          "Morocco",
          "Ukraine",
          "Colombia",
          "Slovenia",
          "Italy",
          "Hungary",
          "Czechia",
          "Greece",
          "Croatia",
          "Belarus",
          "Slovakia",
          "Ecuador",
          "Bulgaria",
          "Mexico",
          "Poland",
          "Indonesia",
          "Israel",
          "South Africa",
          "Chile",
          "Malaysia",
          "Philippines",
          "Algeria",
          "Azerbaijan",
          "Thailand",
          "North Macedonia",
          "Kazakhstan",
          "Peru",
          "China",
          "Iraq",
          "Uzbekistan",
          "Bangladesh",
          "Pakistan",
          "India",
          "Saudi Arabia",
          "Egypt"
         ],
         "legendgroup": "",
         "marker": {
          "color": "#636efa",
          "symbol": "circle"
         },
         "mode": "markers",
         "name": "",
         "orientation": "v",
         "showlegend": false,
         "type": "scatter",
         "x": [
          5.47,
          5.96,
          6.3,
          6.35,
          6.39,
          7.34,
          8.2,
          8.61,
          8.89,
          8.93,
          8.97,
          9.34,
          9.66,
          10.26,
          10.37,
          10.46,
          10.73,
          10.84,
          10.94,
          11.26,
          11.51,
          12.02,
          12.04,
          13.3,
          13.44,
          13.51,
          14.04,
          14.08,
          14.22,
          14.24,
          14.34,
          14.62,
          15.29,
          15.48,
          15.89,
          16.55,
          17.29,
          17.83,
          18.83,
          19.34,
          19.47,
          19.75,
          20.49,
          21.52,
          22.45,
          22.68,
          24.64,
          24.64,
          25.17,
          26.5,
          29.07,
          38.15,
          39.29,
          40.98,
          45.99,
          50.13,
          50.17,
          57.16,
          63.16
         ],
         "xaxis": "x",
         "y": [
          29.33,
          44.81,
          67.99,
          10.69,
          28.55,
          26.37,
          18.01,
          36.8,
          7.92,
          8.88,
          33.74,
          17.81,
          34.1,
          0.01,
          10.88,
          12.16,
          18.83,
          9.28,
          46.81,
          8.08,
          35.47,
          20.84,
          11.91,
          18.11,
          7.54,
          3.39,
          28.66,
          18.17,
          17.86,
          5.8,
          6.94,
          14.17,
          24.22,
          0.76,
          10.94,
          31.7,
          10.77,
          6.9,
          6.98,
          8.28,
          3.07,
          2.32,
          23.46,
          6.77,
          11.25,
          0.29,
          2.6,
          7.16,
          11.51,
          3.66,
          29.26,
          13.46,
          2.2,
          3.15,
          0.66,
          10.93,
          8.9,
          0.02,
          5.15
         ],
         "yaxis": "y"
        },
        {
         "hovertemplate": "<b>OLS trendline</b><br>Renewables (% equivalent primary energy) = -0.444162 * Air Pollution + 23.7511<br>R<sup>2</sup>=0.186841<br><br>Air Pollution (µg/m³)=%{x}<br>Renewable Energy (%))=%{y} <b>(trend)</b><extra></extra>",
         "legendgroup": "",
         "marker": {
          "color": "#636efa",
          "symbol": "circle"
         },
         "mode": "lines",
         "name": "",
         "showlegend": false,
         "type": "scatter",
         "x": [
          5.47,
          5.96,
          6.3,
          6.35,
          6.39,
          7.34,
          8.2,
          8.61,
          8.89,
          8.93,
          8.97,
          9.34,
          9.66,
          10.26,
          10.37,
          10.46,
          10.73,
          10.84,
          10.94,
          11.26,
          11.51,
          12.02,
          12.04,
          13.3,
          13.44,
          13.51,
          14.04,
          14.08,
          14.22,
          14.24,
          14.34,
          14.62,
          15.29,
          15.48,
          15.89,
          16.55,
          17.29,
          17.83,
          18.83,
          19.34,
          19.47,
          19.75,
          20.49,
          21.52,
          22.45,
          22.68,
          24.64,
          24.64,
          25.17,
          26.5,
          29.07,
          38.15,
          39.29,
          40.98,
          45.99,
          50.13,
          50.17,
          57.16,
          63.16
         ],
         "xaxis": "x",
         "y": [
          21.32155248443631,
          21.10391330038325,
          20.952898356346434,
          20.930690276341018,
          20.912923812336686,
          20.490970292233815,
          20.10899131614069,
          19.92688506009629,
          19.80251981206597,
          19.78475334806164,
          19.766986884057307,
          19.602647092017243,
          19.46051537998259,
          19.19401841991762,
          19.145160643905704,
          19.10518609989596,
          18.985262467866722,
          18.93640469185481,
          18.89198853184398,
          18.74985681980933,
          18.63881641978226,
          18.41229400372703,
          18.403410771724865,
          17.843767155588424,
          17.781584531573266,
          17.750493219565683,
          17.515087571508293,
          17.49732110750396,
          17.4351384834888,
          17.426255251486634,
          17.381839091475804,
          17.257473843445485,
          16.959885571372933,
          16.87549486735236,
          16.69338861130796,
          16.40024195523649,
          16.07156237115636,
          15.831715107097885,
          15.387553506989597,
          15.16103109093437,
          15.103290082920292,
          14.978924834889972,
          14.65024525080984,
          14.192758802698304,
          13.779688514597597,
          13.67753134657269,
          12.806974610360449,
          12.806974610360449,
          12.571568962303056,
          11.980834034159034,
          10.839338721880736,
          6.80635139289749,
          6.300007168774044,
          5.5493740645910385,
          3.3241244480485186,
          1.4852954236002098,
          1.467528959595878,
          -1.637160625161048,
          -4.302130225810767
         ],
         "yaxis": "y"
        }
       ],
       "layout": {
        "legend": {
         "tracegroupgap": 0
        },
        "template": {
         "data": {
          "bar": [
           {
            "error_x": {
             "color": "#2a3f5f"
            },
            "error_y": {
             "color": "#2a3f5f"
            },
            "marker": {
             "line": {
              "color": "#E5ECF6",
              "width": 0.5
             },
             "pattern": {
              "fillmode": "overlay",
              "size": 10,
              "solidity": 0.2
             }
            },
            "type": "bar"
           }
          ],
          "barpolar": [
           {
            "marker": {
             "line": {
              "color": "#E5ECF6",
              "width": 0.5
             },
             "pattern": {
              "fillmode": "overlay",
              "size": 10,
              "solidity": 0.2
             }
            },
            "type": "barpolar"
           }
          ],
          "carpet": [
           {
            "aaxis": {
             "endlinecolor": "#2a3f5f",
             "gridcolor": "white",
             "linecolor": "white",
             "minorgridcolor": "white",
             "startlinecolor": "#2a3f5f"
            },
            "baxis": {
             "endlinecolor": "#2a3f5f",
             "gridcolor": "white",
             "linecolor": "white",
             "minorgridcolor": "white",
             "startlinecolor": "#2a3f5f"
            },
            "type": "carpet"
           }
          ],
          "choropleth": [
           {
            "colorbar": {
             "outlinewidth": 0,
             "ticks": ""
            },
            "type": "choropleth"
           }
          ],
          "contour": [
           {
            "colorbar": {
             "outlinewidth": 0,
             "ticks": ""
            },
            "colorscale": [
             [
              0,
              "#0d0887"
             ],
             [
              0.1111111111111111,
              "#46039f"
             ],
             [
              0.2222222222222222,
              "#7201a8"
             ],
             [
              0.3333333333333333,
              "#9c179e"
             ],
             [
              0.4444444444444444,
              "#bd3786"
             ],
             [
              0.5555555555555556,
              "#d8576b"
             ],
             [
              0.6666666666666666,
              "#ed7953"
             ],
             [
              0.7777777777777778,
              "#fb9f3a"
             ],
             [
              0.8888888888888888,
              "#fdca26"
             ],
             [
              1,
              "#f0f921"
             ]
            ],
            "type": "contour"
           }
          ],
          "contourcarpet": [
           {
            "colorbar": {
             "outlinewidth": 0,
             "ticks": ""
            },
            "type": "contourcarpet"
           }
          ],
          "heatmap": [
           {
            "colorbar": {
             "outlinewidth": 0,
             "ticks": ""
            },
            "colorscale": [
             [
              0,
              "#0d0887"
             ],
             [
              0.1111111111111111,
              "#46039f"
             ],
             [
              0.2222222222222222,
              "#7201a8"
             ],
             [
              0.3333333333333333,
              "#9c179e"
             ],
             [
              0.4444444444444444,
              "#bd3786"
             ],
             [
              0.5555555555555556,
              "#d8576b"
             ],
             [
              0.6666666666666666,
              "#ed7953"
             ],
             [
              0.7777777777777778,
              "#fb9f3a"
             ],
             [
              0.8888888888888888,
              "#fdca26"
             ],
             [
              1,
              "#f0f921"
             ]
            ],
            "type": "heatmap"
           }
          ],
          "heatmapgl": [
           {
            "colorbar": {
             "outlinewidth": 0,
             "ticks": ""
            },
            "colorscale": [
             [
              0,
              "#0d0887"
             ],
             [
              0.1111111111111111,
              "#46039f"
             ],
             [
              0.2222222222222222,
              "#7201a8"
             ],
             [
              0.3333333333333333,
              "#9c179e"
             ],
             [
              0.4444444444444444,
              "#bd3786"
             ],
             [
              0.5555555555555556,
              "#d8576b"
             ],
             [
              0.6666666666666666,
              "#ed7953"
             ],
             [
              0.7777777777777778,
              "#fb9f3a"
             ],
             [
              0.8888888888888888,
              "#fdca26"
             ],
             [
              1,
              "#f0f921"
             ]
            ],
            "type": "heatmapgl"
           }
          ],
          "histogram": [
           {
            "marker": {
             "pattern": {
              "fillmode": "overlay",
              "size": 10,
              "solidity": 0.2
             }
            },
            "type": "histogram"
           }
          ],
          "histogram2d": [
           {
            "colorbar": {
             "outlinewidth": 0,
             "ticks": ""
            },
            "colorscale": [
             [
              0,
              "#0d0887"
             ],
             [
              0.1111111111111111,
              "#46039f"
             ],
             [
              0.2222222222222222,
              "#7201a8"
             ],
             [
              0.3333333333333333,
              "#9c179e"
             ],
             [
              0.4444444444444444,
              "#bd3786"
             ],
             [
              0.5555555555555556,
              "#d8576b"
             ],
             [
              0.6666666666666666,
              "#ed7953"
             ],
             [
              0.7777777777777778,
              "#fb9f3a"
             ],
             [
              0.8888888888888888,
              "#fdca26"
             ],
             [
              1,
              "#f0f921"
             ]
            ],
            "type": "histogram2d"
           }
          ],
          "histogram2dcontour": [
           {
            "colorbar": {
             "outlinewidth": 0,
             "ticks": ""
            },
            "colorscale": [
             [
              0,
              "#0d0887"
             ],
             [
              0.1111111111111111,
              "#46039f"
             ],
             [
              0.2222222222222222,
              "#7201a8"
             ],
             [
              0.3333333333333333,
              "#9c179e"
             ],
             [
              0.4444444444444444,
              "#bd3786"
             ],
             [
              0.5555555555555556,
              "#d8576b"
             ],
             [
              0.6666666666666666,
              "#ed7953"
             ],
             [
              0.7777777777777778,
              "#fb9f3a"
             ],
             [
              0.8888888888888888,
              "#fdca26"
             ],
             [
              1,
              "#f0f921"
             ]
            ],
            "type": "histogram2dcontour"
           }
          ],
          "mesh3d": [
           {
            "colorbar": {
             "outlinewidth": 0,
             "ticks": ""
            },
            "type": "mesh3d"
           }
          ],
          "parcoords": [
           {
            "line": {
             "colorbar": {
              "outlinewidth": 0,
              "ticks": ""
             }
            },
            "type": "parcoords"
           }
          ],
          "pie": [
           {
            "automargin": true,
            "type": "pie"
           }
          ],
          "scatter": [
           {
            "fillpattern": {
             "fillmode": "overlay",
             "size": 10,
             "solidity": 0.2
            },
            "type": "scatter"
           }
          ],
          "scatter3d": [
           {
            "line": {
             "colorbar": {
              "outlinewidth": 0,
              "ticks": ""
             }
            },
            "marker": {
             "colorbar": {
              "outlinewidth": 0,
              "ticks": ""
             }
            },
            "type": "scatter3d"
           }
          ],
          "scattercarpet": [
           {
            "marker": {
             "colorbar": {
              "outlinewidth": 0,
              "ticks": ""
             }
            },
            "type": "scattercarpet"
           }
          ],
          "scattergeo": [
           {
            "marker": {
             "colorbar": {
              "outlinewidth": 0,
              "ticks": ""
             }
            },
            "type": "scattergeo"
           }
          ],
          "scattergl": [
           {
            "marker": {
             "colorbar": {
              "outlinewidth": 0,
              "ticks": ""
             }
            },
            "type": "scattergl"
           }
          ],
          "scattermapbox": [
           {
            "marker": {
             "colorbar": {
              "outlinewidth": 0,
              "ticks": ""
             }
            },
            "type": "scattermapbox"
           }
          ],
          "scatterpolar": [
           {
            "marker": {
             "colorbar": {
              "outlinewidth": 0,
              "ticks": ""
             }
            },
            "type": "scatterpolar"
           }
          ],
          "scatterpolargl": [
           {
            "marker": {
             "colorbar": {
              "outlinewidth": 0,
              "ticks": ""
             }
            },
            "type": "scatterpolargl"
           }
          ],
          "scatterternary": [
           {
            "marker": {
             "colorbar": {
              "outlinewidth": 0,
              "ticks": ""
             }
            },
            "type": "scatterternary"
           }
          ],
          "surface": [
           {
            "colorbar": {
             "outlinewidth": 0,
             "ticks": ""
            },
            "colorscale": [
             [
              0,
              "#0d0887"
             ],
             [
              0.1111111111111111,
              "#46039f"
             ],
             [
              0.2222222222222222,
              "#7201a8"
             ],
             [
              0.3333333333333333,
              "#9c179e"
             ],
             [
              0.4444444444444444,
              "#bd3786"
             ],
             [
              0.5555555555555556,
              "#d8576b"
             ],
             [
              0.6666666666666666,
              "#ed7953"
             ],
             [
              0.7777777777777778,
              "#fb9f3a"
             ],
             [
              0.8888888888888888,
              "#fdca26"
             ],
             [
              1,
              "#f0f921"
             ]
            ],
            "type": "surface"
           }
          ],
          "table": [
           {
            "cells": {
             "fill": {
              "color": "#EBF0F8"
             },
             "line": {
              "color": "white"
             }
            },
            "header": {
             "fill": {
              "color": "#C8D4E3"
             },
             "line": {
              "color": "white"
             }
            },
            "type": "table"
           }
          ]
         },
         "layout": {
          "annotationdefaults": {
           "arrowcolor": "#2a3f5f",
           "arrowhead": 0,
           "arrowwidth": 1
          },
          "autotypenumbers": "strict",
          "coloraxis": {
           "colorbar": {
            "outlinewidth": 0,
            "ticks": ""
           }
          },
          "colorscale": {
           "diverging": [
            [
             0,
             "#8e0152"
            ],
            [
             0.1,
             "#c51b7d"
            ],
            [
             0.2,
             "#de77ae"
            ],
            [
             0.3,
             "#f1b6da"
            ],
            [
             0.4,
             "#fde0ef"
            ],
            [
             0.5,
             "#f7f7f7"
            ],
            [
             0.6,
             "#e6f5d0"
            ],
            [
             0.7,
             "#b8e186"
            ],
            [
             0.8,
             "#7fbc41"
            ],
            [
             0.9,
             "#4d9221"
            ],
            [
             1,
             "#276419"
            ]
           ],
           "sequential": [
            [
             0,
             "#0d0887"
            ],
            [
             0.1111111111111111,
             "#46039f"
            ],
            [
             0.2222222222222222,
             "#7201a8"
            ],
            [
             0.3333333333333333,
             "#9c179e"
            ],
            [
             0.4444444444444444,
             "#bd3786"
            ],
            [
             0.5555555555555556,
             "#d8576b"
            ],
            [
             0.6666666666666666,
             "#ed7953"
            ],
            [
             0.7777777777777778,
             "#fb9f3a"
            ],
            [
             0.8888888888888888,
             "#fdca26"
            ],
            [
             1,
             "#f0f921"
            ]
           ],
           "sequentialminus": [
            [
             0,
             "#0d0887"
            ],
            [
             0.1111111111111111,
             "#46039f"
            ],
            [
             0.2222222222222222,
             "#7201a8"
            ],
            [
             0.3333333333333333,
             "#9c179e"
            ],
            [
             0.4444444444444444,
             "#bd3786"
            ],
            [
             0.5555555555555556,
             "#d8576b"
            ],
            [
             0.6666666666666666,
             "#ed7953"
            ],
            [
             0.7777777777777778,
             "#fb9f3a"
            ],
            [
             0.8888888888888888,
             "#fdca26"
            ],
            [
             1,
             "#f0f921"
            ]
           ]
          },
          "colorway": [
           "#636efa",
           "#EF553B",
           "#00cc96",
           "#ab63fa",
           "#FFA15A",
           "#19d3f3",
           "#FF6692",
           "#B6E880",
           "#FF97FF",
           "#FECB52"
          ],
          "font": {
           "color": "#2a3f5f"
          },
          "geo": {
           "bgcolor": "white",
           "lakecolor": "white",
           "landcolor": "#E5ECF6",
           "showlakes": true,
           "showland": true,
           "subunitcolor": "white"
          },
          "hoverlabel": {
           "align": "left"
          },
          "hovermode": "closest",
          "mapbox": {
           "style": "light"
          },
          "paper_bgcolor": "white",
          "plot_bgcolor": "#E5ECF6",
          "polar": {
           "angularaxis": {
            "gridcolor": "white",
            "linecolor": "white",
            "ticks": ""
           },
           "bgcolor": "#E5ECF6",
           "radialaxis": {
            "gridcolor": "white",
            "linecolor": "white",
            "ticks": ""
           }
          },
          "scene": {
           "xaxis": {
            "backgroundcolor": "#E5ECF6",
            "gridcolor": "white",
            "gridwidth": 2,
            "linecolor": "white",
            "showbackground": true,
            "ticks": "",
            "zerolinecolor": "white"
           },
           "yaxis": {
            "backgroundcolor": "#E5ECF6",
            "gridcolor": "white",
            "gridwidth": 2,
            "linecolor": "white",
            "showbackground": true,
            "ticks": "",
            "zerolinecolor": "white"
           },
           "zaxis": {
            "backgroundcolor": "#E5ECF6",
            "gridcolor": "white",
            "gridwidth": 2,
            "linecolor": "white",
            "showbackground": true,
            "ticks": "",
            "zerolinecolor": "white"
           }
          },
          "shapedefaults": {
           "line": {
            "color": "#2a3f5f"
           }
          },
          "ternary": {
           "aaxis": {
            "gridcolor": "white",
            "linecolor": "white",
            "ticks": ""
           },
           "baxis": {
            "gridcolor": "white",
            "linecolor": "white",
            "ticks": ""
           },
           "bgcolor": "#E5ECF6",
           "caxis": {
            "gridcolor": "white",
            "linecolor": "white",
            "ticks": ""
           }
          },
          "title": {
           "x": 0.05
          },
          "xaxis": {
           "automargin": true,
           "gridcolor": "white",
           "linecolor": "white",
           "ticks": "",
           "title": {
            "standoff": 15
           },
           "zerolinecolor": "white",
           "zerolinewidth": 2
          },
          "yaxis": {
           "automargin": true,
           "gridcolor": "white",
           "linecolor": "white",
           "ticks": "",
           "title": {
            "standoff": 15
           },
           "zerolinecolor": "white",
           "zerolinewidth": 2
          }
         }
        },
        "title": {
         "text": "Relationship between Air Pollution and Renewable Energy Usage in 2019"
        },
        "xaxis": {
         "anchor": "y",
         "domain": [
          0,
          1
         ],
         "title": {
          "text": "Air Pollution (µg/m³)"
         }
        },
        "yaxis": {
         "anchor": "x",
         "domain": [
          0,
          1
         ],
         "title": {
          "text": "Renewable Energy (%))"
         }
        }
       }
      },
      "text/html": [
       "<div>                            <div id=\"25949420-eeed-4538-bb7c-c87aa2b1719c\" class=\"plotly-graph-div\" style=\"height:525px; width:100%;\"></div>            <script type=\"text/javascript\">                require([\"plotly\"], function(Plotly) {                    window.PLOTLYENV=window.PLOTLYENV || {};                                    if (document.getElementById(\"25949420-eeed-4538-bb7c-c87aa2b1719c\")) {                    Plotly.newPlot(                        \"25949420-eeed-4538-bb7c-c87aa2b1719c\",                        [{\"hovertemplate\":\"\\u003cb\\u003e%{hovertext}\\u003c\\u002fb\\u003e\\u003cbr\\u003e\\u003cbr\\u003eAir Pollution (\\u00b5g\\u002fm\\u00b3)=%{x}\\u003cbr\\u003eRenewable Energy (%))=%{y}\\u003cextra\\u003e\\u003c\\u002fextra\\u003e\",\"hovertext\":[\"Finland\",\"Sweden\",\"Norway\",\"Estonia\",\"Canada\",\"Portugal\",\"Ireland\",\"New Zealand\",\"Luxembourg\",\"Australia\",\"Switzerland\",\"Spain\",\"Denmark\",\"Trinidad and Tobago\",\"Lithuania\",\"France\",\"Germany\",\"Japan\",\"Brazil\",\"Belgium\",\"Austria\",\"Latvia\",\"Argentina\",\"Romania\",\"Morocco\",\"Ukraine\",\"Colombia\",\"Slovenia\",\"Italy\",\"Hungary\",\"Czechia\",\"Greece\",\"Croatia\",\"Belarus\",\"Slovakia\",\"Ecuador\",\"Bulgaria\",\"Mexico\",\"Poland\",\"Indonesia\",\"Israel\",\"South Africa\",\"Chile\",\"Malaysia\",\"Philippines\",\"Algeria\",\"Azerbaijan\",\"Thailand\",\"North Macedonia\",\"Kazakhstan\",\"Peru\",\"China\",\"Iraq\",\"Uzbekistan\",\"Bangladesh\",\"Pakistan\",\"India\",\"Saudi Arabia\",\"Egypt\"],\"legendgroup\":\"\",\"marker\":{\"color\":\"#636efa\",\"symbol\":\"circle\"},\"mode\":\"markers\",\"name\":\"\",\"orientation\":\"v\",\"showlegend\":false,\"x\":[5.47,5.96,6.3,6.35,6.39,7.34,8.2,8.61,8.89,8.93,8.97,9.34,9.66,10.26,10.37,10.46,10.73,10.84,10.94,11.26,11.51,12.02,12.04,13.3,13.44,13.51,14.04,14.08,14.22,14.24,14.34,14.62,15.29,15.48,15.89,16.55,17.29,17.83,18.83,19.34,19.47,19.75,20.49,21.52,22.45,22.68,24.64,24.64,25.17,26.5,29.07,38.15,39.29,40.98,45.99,50.13,50.17,57.16,63.16],\"xaxis\":\"x\",\"y\":[29.33,44.81,67.99,10.69,28.55,26.37,18.01,36.8,7.92,8.88,33.74,17.81,34.1,0.01,10.88,12.16,18.83,9.28,46.81,8.08,35.47,20.84,11.91,18.11,7.54,3.39,28.66,18.17,17.86,5.8,6.94,14.17,24.22,0.76,10.94,31.7,10.77,6.9,6.98,8.28,3.07,2.32,23.46,6.77,11.25,0.29,2.6,7.16,11.51,3.66,29.26,13.46,2.2,3.15,0.66,10.93,8.9,0.02,5.15],\"yaxis\":\"y\",\"type\":\"scatter\"},{\"hovertemplate\":\"\\u003cb\\u003eOLS trendline\\u003c\\u002fb\\u003e\\u003cbr\\u003eRenewables (% equivalent primary energy) = -0.444162 * Air Pollution + 23.7511\\u003cbr\\u003eR\\u003csup\\u003e2\\u003c\\u002fsup\\u003e=0.186841\\u003cbr\\u003e\\u003cbr\\u003eAir Pollution (\\u00b5g\\u002fm\\u00b3)=%{x}\\u003cbr\\u003eRenewable Energy (%))=%{y} \\u003cb\\u003e(trend)\\u003c\\u002fb\\u003e\\u003cextra\\u003e\\u003c\\u002fextra\\u003e\",\"legendgroup\":\"\",\"marker\":{\"color\":\"#636efa\",\"symbol\":\"circle\"},\"mode\":\"lines\",\"name\":\"\",\"showlegend\":false,\"x\":[5.47,5.96,6.3,6.35,6.39,7.34,8.2,8.61,8.89,8.93,8.97,9.34,9.66,10.26,10.37,10.46,10.73,10.84,10.94,11.26,11.51,12.02,12.04,13.3,13.44,13.51,14.04,14.08,14.22,14.24,14.34,14.62,15.29,15.48,15.89,16.55,17.29,17.83,18.83,19.34,19.47,19.75,20.49,21.52,22.45,22.68,24.64,24.64,25.17,26.5,29.07,38.15,39.29,40.98,45.99,50.13,50.17,57.16,63.16],\"xaxis\":\"x\",\"y\":[21.32155248443631,21.10391330038325,20.952898356346434,20.930690276341018,20.912923812336686,20.490970292233815,20.10899131614069,19.92688506009629,19.80251981206597,19.78475334806164,19.766986884057307,19.602647092017243,19.46051537998259,19.19401841991762,19.145160643905704,19.10518609989596,18.985262467866722,18.93640469185481,18.89198853184398,18.74985681980933,18.63881641978226,18.41229400372703,18.403410771724865,17.843767155588424,17.781584531573266,17.750493219565683,17.515087571508293,17.49732110750396,17.4351384834888,17.426255251486634,17.381839091475804,17.257473843445485,16.959885571372933,16.87549486735236,16.69338861130796,16.40024195523649,16.07156237115636,15.831715107097885,15.387553506989597,15.16103109093437,15.103290082920292,14.978924834889972,14.65024525080984,14.192758802698304,13.779688514597597,13.67753134657269,12.806974610360449,12.806974610360449,12.571568962303056,11.980834034159034,10.839338721880736,6.80635139289749,6.300007168774044,5.5493740645910385,3.3241244480485186,1.4852954236002098,1.467528959595878,-1.637160625161048,-4.302130225810767],\"yaxis\":\"y\",\"type\":\"scatter\"}],                        {\"template\":{\"data\":{\"histogram2dcontour\":[{\"type\":\"histogram2dcontour\",\"colorbar\":{\"outlinewidth\":0,\"ticks\":\"\"},\"colorscale\":[[0.0,\"#0d0887\"],[0.1111111111111111,\"#46039f\"],[0.2222222222222222,\"#7201a8\"],[0.3333333333333333,\"#9c179e\"],[0.4444444444444444,\"#bd3786\"],[0.5555555555555556,\"#d8576b\"],[0.6666666666666666,\"#ed7953\"],[0.7777777777777778,\"#fb9f3a\"],[0.8888888888888888,\"#fdca26\"],[1.0,\"#f0f921\"]]}],\"choropleth\":[{\"type\":\"choropleth\",\"colorbar\":{\"outlinewidth\":0,\"ticks\":\"\"}}],\"histogram2d\":[{\"type\":\"histogram2d\",\"colorbar\":{\"outlinewidth\":0,\"ticks\":\"\"},\"colorscale\":[[0.0,\"#0d0887\"],[0.1111111111111111,\"#46039f\"],[0.2222222222222222,\"#7201a8\"],[0.3333333333333333,\"#9c179e\"],[0.4444444444444444,\"#bd3786\"],[0.5555555555555556,\"#d8576b\"],[0.6666666666666666,\"#ed7953\"],[0.7777777777777778,\"#fb9f3a\"],[0.8888888888888888,\"#fdca26\"],[1.0,\"#f0f921\"]]}],\"heatmap\":[{\"type\":\"heatmap\",\"colorbar\":{\"outlinewidth\":0,\"ticks\":\"\"},\"colorscale\":[[0.0,\"#0d0887\"],[0.1111111111111111,\"#46039f\"],[0.2222222222222222,\"#7201a8\"],[0.3333333333333333,\"#9c179e\"],[0.4444444444444444,\"#bd3786\"],[0.5555555555555556,\"#d8576b\"],[0.6666666666666666,\"#ed7953\"],[0.7777777777777778,\"#fb9f3a\"],[0.8888888888888888,\"#fdca26\"],[1.0,\"#f0f921\"]]}],\"heatmapgl\":[{\"type\":\"heatmapgl\",\"colorbar\":{\"outlinewidth\":0,\"ticks\":\"\"},\"colorscale\":[[0.0,\"#0d0887\"],[0.1111111111111111,\"#46039f\"],[0.2222222222222222,\"#7201a8\"],[0.3333333333333333,\"#9c179e\"],[0.4444444444444444,\"#bd3786\"],[0.5555555555555556,\"#d8576b\"],[0.6666666666666666,\"#ed7953\"],[0.7777777777777778,\"#fb9f3a\"],[0.8888888888888888,\"#fdca26\"],[1.0,\"#f0f921\"]]}],\"contourcarpet\":[{\"type\":\"contourcarpet\",\"colorbar\":{\"outlinewidth\":0,\"ticks\":\"\"}}],\"contour\":[{\"type\":\"contour\",\"colorbar\":{\"outlinewidth\":0,\"ticks\":\"\"},\"colorscale\":[[0.0,\"#0d0887\"],[0.1111111111111111,\"#46039f\"],[0.2222222222222222,\"#7201a8\"],[0.3333333333333333,\"#9c179e\"],[0.4444444444444444,\"#bd3786\"],[0.5555555555555556,\"#d8576b\"],[0.6666666666666666,\"#ed7953\"],[0.7777777777777778,\"#fb9f3a\"],[0.8888888888888888,\"#fdca26\"],[1.0,\"#f0f921\"]]}],\"surface\":[{\"type\":\"surface\",\"colorbar\":{\"outlinewidth\":0,\"ticks\":\"\"},\"colorscale\":[[0.0,\"#0d0887\"],[0.1111111111111111,\"#46039f\"],[0.2222222222222222,\"#7201a8\"],[0.3333333333333333,\"#9c179e\"],[0.4444444444444444,\"#bd3786\"],[0.5555555555555556,\"#d8576b\"],[0.6666666666666666,\"#ed7953\"],[0.7777777777777778,\"#fb9f3a\"],[0.8888888888888888,\"#fdca26\"],[1.0,\"#f0f921\"]]}],\"mesh3d\":[{\"type\":\"mesh3d\",\"colorbar\":{\"outlinewidth\":0,\"ticks\":\"\"}}],\"scatter\":[{\"fillpattern\":{\"fillmode\":\"overlay\",\"size\":10,\"solidity\":0.2},\"type\":\"scatter\"}],\"parcoords\":[{\"type\":\"parcoords\",\"line\":{\"colorbar\":{\"outlinewidth\":0,\"ticks\":\"\"}}}],\"scatterpolargl\":[{\"type\":\"scatterpolargl\",\"marker\":{\"colorbar\":{\"outlinewidth\":0,\"ticks\":\"\"}}}],\"bar\":[{\"error_x\":{\"color\":\"#2a3f5f\"},\"error_y\":{\"color\":\"#2a3f5f\"},\"marker\":{\"line\":{\"color\":\"#E5ECF6\",\"width\":0.5},\"pattern\":{\"fillmode\":\"overlay\",\"size\":10,\"solidity\":0.2}},\"type\":\"bar\"}],\"scattergeo\":[{\"type\":\"scattergeo\",\"marker\":{\"colorbar\":{\"outlinewidth\":0,\"ticks\":\"\"}}}],\"scatterpolar\":[{\"type\":\"scatterpolar\",\"marker\":{\"colorbar\":{\"outlinewidth\":0,\"ticks\":\"\"}}}],\"histogram\":[{\"marker\":{\"pattern\":{\"fillmode\":\"overlay\",\"size\":10,\"solidity\":0.2}},\"type\":\"histogram\"}],\"scattergl\":[{\"type\":\"scattergl\",\"marker\":{\"colorbar\":{\"outlinewidth\":0,\"ticks\":\"\"}}}],\"scatter3d\":[{\"type\":\"scatter3d\",\"line\":{\"colorbar\":{\"outlinewidth\":0,\"ticks\":\"\"}},\"marker\":{\"colorbar\":{\"outlinewidth\":0,\"ticks\":\"\"}}}],\"scattermapbox\":[{\"type\":\"scattermapbox\",\"marker\":{\"colorbar\":{\"outlinewidth\":0,\"ticks\":\"\"}}}],\"scatterternary\":[{\"type\":\"scatterternary\",\"marker\":{\"colorbar\":{\"outlinewidth\":0,\"ticks\":\"\"}}}],\"scattercarpet\":[{\"type\":\"scattercarpet\",\"marker\":{\"colorbar\":{\"outlinewidth\":0,\"ticks\":\"\"}}}],\"carpet\":[{\"aaxis\":{\"endlinecolor\":\"#2a3f5f\",\"gridcolor\":\"white\",\"linecolor\":\"white\",\"minorgridcolor\":\"white\",\"startlinecolor\":\"#2a3f5f\"},\"baxis\":{\"endlinecolor\":\"#2a3f5f\",\"gridcolor\":\"white\",\"linecolor\":\"white\",\"minorgridcolor\":\"white\",\"startlinecolor\":\"#2a3f5f\"},\"type\":\"carpet\"}],\"table\":[{\"cells\":{\"fill\":{\"color\":\"#EBF0F8\"},\"line\":{\"color\":\"white\"}},\"header\":{\"fill\":{\"color\":\"#C8D4E3\"},\"line\":{\"color\":\"white\"}},\"type\":\"table\"}],\"barpolar\":[{\"marker\":{\"line\":{\"color\":\"#E5ECF6\",\"width\":0.5},\"pattern\":{\"fillmode\":\"overlay\",\"size\":10,\"solidity\":0.2}},\"type\":\"barpolar\"}],\"pie\":[{\"automargin\":true,\"type\":\"pie\"}]},\"layout\":{\"autotypenumbers\":\"strict\",\"colorway\":[\"#636efa\",\"#EF553B\",\"#00cc96\",\"#ab63fa\",\"#FFA15A\",\"#19d3f3\",\"#FF6692\",\"#B6E880\",\"#FF97FF\",\"#FECB52\"],\"font\":{\"color\":\"#2a3f5f\"},\"hovermode\":\"closest\",\"hoverlabel\":{\"align\":\"left\"},\"paper_bgcolor\":\"white\",\"plot_bgcolor\":\"#E5ECF6\",\"polar\":{\"bgcolor\":\"#E5ECF6\",\"angularaxis\":{\"gridcolor\":\"white\",\"linecolor\":\"white\",\"ticks\":\"\"},\"radialaxis\":{\"gridcolor\":\"white\",\"linecolor\":\"white\",\"ticks\":\"\"}},\"ternary\":{\"bgcolor\":\"#E5ECF6\",\"aaxis\":{\"gridcolor\":\"white\",\"linecolor\":\"white\",\"ticks\":\"\"},\"baxis\":{\"gridcolor\":\"white\",\"linecolor\":\"white\",\"ticks\":\"\"},\"caxis\":{\"gridcolor\":\"white\",\"linecolor\":\"white\",\"ticks\":\"\"}},\"coloraxis\":{\"colorbar\":{\"outlinewidth\":0,\"ticks\":\"\"}},\"colorscale\":{\"sequential\":[[0.0,\"#0d0887\"],[0.1111111111111111,\"#46039f\"],[0.2222222222222222,\"#7201a8\"],[0.3333333333333333,\"#9c179e\"],[0.4444444444444444,\"#bd3786\"],[0.5555555555555556,\"#d8576b\"],[0.6666666666666666,\"#ed7953\"],[0.7777777777777778,\"#fb9f3a\"],[0.8888888888888888,\"#fdca26\"],[1.0,\"#f0f921\"]],\"sequentialminus\":[[0.0,\"#0d0887\"],[0.1111111111111111,\"#46039f\"],[0.2222222222222222,\"#7201a8\"],[0.3333333333333333,\"#9c179e\"],[0.4444444444444444,\"#bd3786\"],[0.5555555555555556,\"#d8576b\"],[0.6666666666666666,\"#ed7953\"],[0.7777777777777778,\"#fb9f3a\"],[0.8888888888888888,\"#fdca26\"],[1.0,\"#f0f921\"]],\"diverging\":[[0,\"#8e0152\"],[0.1,\"#c51b7d\"],[0.2,\"#de77ae\"],[0.3,\"#f1b6da\"],[0.4,\"#fde0ef\"],[0.5,\"#f7f7f7\"],[0.6,\"#e6f5d0\"],[0.7,\"#b8e186\"],[0.8,\"#7fbc41\"],[0.9,\"#4d9221\"],[1,\"#276419\"]]},\"xaxis\":{\"gridcolor\":\"white\",\"linecolor\":\"white\",\"ticks\":\"\",\"title\":{\"standoff\":15},\"zerolinecolor\":\"white\",\"automargin\":true,\"zerolinewidth\":2},\"yaxis\":{\"gridcolor\":\"white\",\"linecolor\":\"white\",\"ticks\":\"\",\"title\":{\"standoff\":15},\"zerolinecolor\":\"white\",\"automargin\":true,\"zerolinewidth\":2},\"scene\":{\"xaxis\":{\"backgroundcolor\":\"#E5ECF6\",\"gridcolor\":\"white\",\"linecolor\":\"white\",\"showbackground\":true,\"ticks\":\"\",\"zerolinecolor\":\"white\",\"gridwidth\":2},\"yaxis\":{\"backgroundcolor\":\"#E5ECF6\",\"gridcolor\":\"white\",\"linecolor\":\"white\",\"showbackground\":true,\"ticks\":\"\",\"zerolinecolor\":\"white\",\"gridwidth\":2},\"zaxis\":{\"backgroundcolor\":\"#E5ECF6\",\"gridcolor\":\"white\",\"linecolor\":\"white\",\"showbackground\":true,\"ticks\":\"\",\"zerolinecolor\":\"white\",\"gridwidth\":2}},\"shapedefaults\":{\"line\":{\"color\":\"#2a3f5f\"}},\"annotationdefaults\":{\"arrowcolor\":\"#2a3f5f\",\"arrowhead\":0,\"arrowwidth\":1},\"geo\":{\"bgcolor\":\"white\",\"landcolor\":\"#E5ECF6\",\"subunitcolor\":\"white\",\"showland\":true,\"showlakes\":true,\"lakecolor\":\"white\"},\"title\":{\"x\":0.05},\"mapbox\":{\"style\":\"light\"}}},\"xaxis\":{\"anchor\":\"y\",\"domain\":[0.0,1.0],\"title\":{\"text\":\"Air Pollution (\\u00b5g\\u002fm\\u00b3)\"}},\"yaxis\":{\"anchor\":\"x\",\"domain\":[0.0,1.0],\"title\":{\"text\":\"Renewable Energy (%))\"}},\"legend\":{\"tracegroupgap\":0},\"title\":{\"text\":\"Relationship between Air Pollution and Renewable Energy Usage in 2019\"}},                        {\"responsive\": true}                    ).then(function(){\n",
       "                            \n",
       "var gd = document.getElementById('25949420-eeed-4538-bb7c-c87aa2b1719c');\n",
       "var x = new MutationObserver(function (mutations, observer) {{\n",
       "        var display = window.getComputedStyle(gd).display;\n",
       "        if (!display || display === 'none') {{\n",
       "            console.log([gd, 'removed!']);\n",
       "            Plotly.purge(gd);\n",
       "            observer.disconnect();\n",
       "        }}\n",
       "}});\n",
       "\n",
       "// Listen for the removal of the full notebook cells\n",
       "var notebookContainer = gd.closest('#notebook-container');\n",
       "if (notebookContainer) {{\n",
       "    x.observe(notebookContainer, {childList: true});\n",
       "}}\n",
       "\n",
       "// Listen for the clearing of the current output cell\n",
       "var outputEl = gd.closest('.output');\n",
       "if (outputEl) {{\n",
       "    x.observe(outputEl, {childList: true});\n",
       "}}\n",
       "\n",
       "                        })                };                });            </script>        </div>"
      ]
     },
     "metadata": {},
     "output_type": "display_data"
    }
   ],
   "source": [
    "fig = px.scatter(\n",
    "    merged_hip3,\n",
    "    x = \"Air Pollution\",\n",
    "    y = \"Renewables (% equivalent primary energy)\",\n",
    "    hover_name=\"Country Name\",\n",
    "    title=\"Relationship between Air Pollution and Renewable Energy Usage in 2019\",\n",
    "    labels={\"Air Pollution\":\"Air Pollution (µg/m³)\",\"Renewables (% equivalent primary energy)\":\"Renewable Energy (%))\"},\n",
    "    trendline=\"ols\"\n",
    ")\n",
    "\n",
    "fig.show()"
   ]
  },
  {
   "cell_type": "markdown",
   "id": "37b70f89",
   "metadata": {},
   "source": [
    "The scatter plot revealed a *negative correlation* between the two variables. This means that countries with higher adoption of renewable energy sources tend to have lower levels of air pollution."
   ]
  },
  {
   "cell_type": "markdown",
   "id": "0692df4a",
   "metadata": {},
   "source": [
    "### Analysis and Conclusion"
   ]
  },
  {
   "cell_type": "markdown",
   "id": "a62f45d3",
   "metadata": {},
   "source": [
    "This project gave me a better understanding of air pollution and how it connects to income levels and renewable energy use around the world. The first thing I noticed was that almost every country doesn’t meet the WHO’s air quality threshold for PM 2.5, which is set at an annual level of 5 µg/m³. **This finding confirmed my first hypothesis that the majority of countries around the world have not yet achieved the safe air pollution level recommended by the WHO**. It highlights the global challenge of addressing air pollution and the urgent need for stronger environmental policies and international collaboration.\n",
    "\n",
    "Next, I looked at how air pollution levels differ between countries with different income levels. Lower-middle-income countries had the highest average PM 2.5 levels (28.72 µg/m³), followed by low-income countries (27.6 µg/m³). On the other hand, upper-middle-income countries (23.92 µg/m³) and high-income countries (16.96 µg/m³) had much lower pollution levels. **This confirmed my second hypothesis that lower-income countries tend to have higher pollution levels than wealthier ones**. It may suggest that wealthier countries have better systems, policies, and resources to control air pollution, while lower-income countries face more challenges in doing so.\n",
    "\n",
    "I also found that renewable energy plays a big role in reducing air pollution. The scatter plot showed a negative correlation, meaning that countries using more renewable energy tend to have lower PM 2.5 levels. **This confirmed my third hypothesis that higher renewable energy use is linked to lower air pollution levels**. It demonstrates the importance of renewable energy in improving air quality and reducing harmful emissions.\n",
    "\n",
    "That said, my analysis had some limitations. For example, I only used data from 2019 because that was the most recent year available. This meant I couldn’t look at trends over time, which could give a clearer picture of how air pollution changes. Also, I focused only on PM 2.5 levels, even though other pollutants also contribute to poor air quality.\n",
    "\n",
    "Overall, this project helped me see how air pollution connects to income levels and renewable energy. It showed that wealthier countries and those with more renewable energy use tend to have better air quality. At the same time, it highlights the need to support low-income countries in adopting cleaner energy solutions to improve their air quality."
   ]
  },
  {
   "cell_type": "markdown",
   "id": "5120bf7d",
   "metadata": {},
   "source": [
    "### URL"
   ]
  },
  {
   "cell_type": "code",
   "execution_count": null,
   "id": "13b599ce",
   "metadata": {},
   "outputs": [],
   "source": []
  }
 ],
 "metadata": {
  "kernelspec": {
   "display_name": "Python 3 (ipykernel)",
   "language": "python",
   "name": "python3"
  },
  "language_info": {
   "codemirror_mode": {
    "name": "ipython",
    "version": 3
   },
   "file_extension": ".py",
   "mimetype": "text/x-python",
   "name": "python",
   "nbconvert_exporter": "python",
   "pygments_lexer": "ipython3",
   "version": "3.9.13"
  }
 },
 "nbformat": 4,
 "nbformat_minor": 5
}
