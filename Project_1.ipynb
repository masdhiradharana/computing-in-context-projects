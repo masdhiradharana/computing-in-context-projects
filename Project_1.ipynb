{
 "cells": [
  {
   "cell_type": "markdown",
   "id": "8e76cd6e",
   "metadata": {},
   "source": [
    "# Project 1 - Mas Dhiradharana (md4204)"
   ]
  },
  {
   "cell_type": "code",
   "execution_count": null,
   "id": "fe263be9",
   "metadata": {},
   "outputs": [],
   "source": [
    "import plotly.io as pio\n",
    "\n",
    "pio.renderers.default = \"vscode+jupyterlab+notebook_connected\""
   ]
  },
  {
   "cell_type": "markdown",
   "id": "7a6e8024",
   "metadata": {},
   "source": [
    "**Project Overview**\n",
    "\n",
    "For this project, I looked at data from NYC's Department for the Aging. The dataset shows how much money was spent on different programs and services. The goal is to explore the data and find useful information about how the resources are being used."
   ]
  },
  {
   "cell_type": "markdown",
   "id": "50b5e359",
   "metadata": {},
   "source": [
    "**Data source**\n",
    "\n",
    "The data is sourced from NYC Open Data. Here’s the link to the dataset: https://data.cityofnewyork.us/Social-Services/Department-for-the-Aging-NYC-Aging-Reported-Expend/tt8e-a9vn/about_data"
   ]
  },
  {
   "cell_type": "markdown",
   "id": "1832bc2e",
   "metadata": {},
   "source": [
    "**Step 1: Loading the Data**\n",
    "\n",
    "I started by loading the CSV file into a pandas DataFrame using the pd.read_csv() function."
   ]
  },
  {
   "cell_type": "code",
   "execution_count": 12,
   "id": "aec7887a",
   "metadata": {},
   "outputs": [],
   "source": [
    "import pandas as pd"
   ]
  },
  {
   "cell_type": "code",
   "execution_count": 13,
   "id": "0acd65c8",
   "metadata": {},
   "outputs": [],
   "source": [
    "NYCaging = pd.read_csv(\"Department_for_the_Aging__NYC_Aging__-_Reported_Expenditures_20241106.csv\")"
   ]
  },
  {
   "cell_type": "markdown",
   "id": "1114f929",
   "metadata": {},
   "source": [
    "**Step 2: First Look at the Data**\n",
    "\n",
    "To understand the structure of the dataset, I used the .head() method to preview the first five rows."
   ]
  },
  {
   "cell_type": "code",
   "execution_count": 14,
   "id": "9d046ba0",
   "metadata": {},
   "outputs": [
    {
     "data": {
      "text/html": [
       "<div>\n",
       "<style scoped>\n",
       "    .dataframe tbody tr th:only-of-type {\n",
       "        vertical-align: middle;\n",
       "    }\n",
       "\n",
       "    .dataframe tbody tr th {\n",
       "        vertical-align: top;\n",
       "    }\n",
       "\n",
       "    .dataframe thead th {\n",
       "        text-align: right;\n",
       "    }\n",
       "</style>\n",
       "<table border=\"1\" class=\"dataframe\">\n",
       "  <thead>\n",
       "    <tr style=\"text-align: right;\">\n",
       "      <th></th>\n",
       "      <th>ProviderType</th>\n",
       "      <th>DFTA ID</th>\n",
       "      <th>ContractYear</th>\n",
       "      <th>SponsorName</th>\n",
       "      <th>ProgramName</th>\n",
       "      <th>LineItem</th>\n",
       "      <th>LineItemName</th>\n",
       "      <th>ReportedMonth</th>\n",
       "      <th>ReportedAmount</th>\n",
       "    </tr>\n",
       "  </thead>\n",
       "  <tbody>\n",
       "    <tr>\n",
       "      <th>0</th>\n",
       "      <td>ELDER ABUSE SERVICES CONTRACTS</td>\n",
       "      <td>64701</td>\n",
       "      <td>2019</td>\n",
       "      <td>WEILL MEDICAL COLLEGE OF CORNELL UNIVERSITY</td>\n",
       "      <td>Weill Cornell PROTECT</td>\n",
       "      <td>3</td>\n",
       "      <td>Personnel</td>\n",
       "      <td>Apr 2019</td>\n",
       "      <td>11707.27</td>\n",
       "    </tr>\n",
       "    <tr>\n",
       "      <th>1</th>\n",
       "      <td>ELDER ABUSE SERVICES CONTRACTS</td>\n",
       "      <td>64701</td>\n",
       "      <td>2019</td>\n",
       "      <td>WEILL MEDICAL COLLEGE OF CORNELL UNIVERSITY</td>\n",
       "      <td>Weill Cornell PROTECT</td>\n",
       "      <td>4</td>\n",
       "      <td>Consultants</td>\n",
       "      <td>Apr 2019</td>\n",
       "      <td>0.00</td>\n",
       "    </tr>\n",
       "    <tr>\n",
       "      <th>2</th>\n",
       "      <td>ELDER ABUSE SERVICES CONTRACTS</td>\n",
       "      <td>64701</td>\n",
       "      <td>2019</td>\n",
       "      <td>WEILL MEDICAL COLLEGE OF CORNELL UNIVERSITY</td>\n",
       "      <td>Weill Cornell PROTECT</td>\n",
       "      <td>5</td>\n",
       "      <td>Vehicles</td>\n",
       "      <td>Apr 2019</td>\n",
       "      <td>0.00</td>\n",
       "    </tr>\n",
       "    <tr>\n",
       "      <th>3</th>\n",
       "      <td>ELDER ABUSE SERVICES CONTRACTS</td>\n",
       "      <td>64701</td>\n",
       "      <td>2019</td>\n",
       "      <td>WEILL MEDICAL COLLEGE OF CORNELL UNIVERSITY</td>\n",
       "      <td>Weill Cornell PROTECT</td>\n",
       "      <td>6</td>\n",
       "      <td>Equipment Rental</td>\n",
       "      <td>Apr 2019</td>\n",
       "      <td>0.00</td>\n",
       "    </tr>\n",
       "    <tr>\n",
       "      <th>4</th>\n",
       "      <td>ELDER ABUSE SERVICES CONTRACTS</td>\n",
       "      <td>64701</td>\n",
       "      <td>2019</td>\n",
       "      <td>WEILL MEDICAL COLLEGE OF CORNELL UNIVERSITY</td>\n",
       "      <td>Weill Cornell PROTECT</td>\n",
       "      <td>7</td>\n",
       "      <td>Travel</td>\n",
       "      <td>Apr 2019</td>\n",
       "      <td>0.00</td>\n",
       "    </tr>\n",
       "  </tbody>\n",
       "</table>\n",
       "</div>"
      ],
      "text/plain": [
       "                     ProviderType DFTA ID  ContractYear  \\\n",
       "0  ELDER ABUSE SERVICES CONTRACTS   64701          2019   \n",
       "1  ELDER ABUSE SERVICES CONTRACTS   64701          2019   \n",
       "2  ELDER ABUSE SERVICES CONTRACTS   64701          2019   \n",
       "3  ELDER ABUSE SERVICES CONTRACTS   64701          2019   \n",
       "4  ELDER ABUSE SERVICES CONTRACTS   64701          2019   \n",
       "\n",
       "                                   SponsorName            ProgramName  \\\n",
       "0  WEILL MEDICAL COLLEGE OF CORNELL UNIVERSITY  Weill Cornell PROTECT   \n",
       "1  WEILL MEDICAL COLLEGE OF CORNELL UNIVERSITY  Weill Cornell PROTECT   \n",
       "2  WEILL MEDICAL COLLEGE OF CORNELL UNIVERSITY  Weill Cornell PROTECT   \n",
       "3  WEILL MEDICAL COLLEGE OF CORNELL UNIVERSITY  Weill Cornell PROTECT   \n",
       "4  WEILL MEDICAL COLLEGE OF CORNELL UNIVERSITY  Weill Cornell PROTECT   \n",
       "\n",
       "   LineItem      LineItemName ReportedMonth  ReportedAmount  \n",
       "0         3         Personnel      Apr 2019        11707.27  \n",
       "1         4       Consultants      Apr 2019            0.00  \n",
       "2         5          Vehicles      Apr 2019            0.00  \n",
       "3         6  Equipment Rental      Apr 2019            0.00  \n",
       "4         7            Travel      Apr 2019            0.00  "
      ]
     },
     "execution_count": 14,
     "metadata": {},
     "output_type": "execute_result"
    }
   ],
   "source": [
    "NYCaging.head()"
   ]
  },
  {
   "cell_type": "markdown",
   "id": "e828015d",
   "metadata": {},
   "source": [
    "I also used the .info() method to understand the structure and data types of each column, as well as identify any missing values."
   ]
  },
  {
   "cell_type": "code",
   "execution_count": 15,
   "id": "eb057223",
   "metadata": {},
   "outputs": [
    {
     "name": "stdout",
     "output_type": "stream",
     "text": [
      "<class 'pandas.core.frame.DataFrame'>\n",
      "RangeIndex: 72720 entries, 0 to 72719\n",
      "Data columns (total 9 columns):\n",
      " #   Column          Non-Null Count  Dtype  \n",
      "---  ------          --------------  -----  \n",
      " 0   ProviderType    72720 non-null  object \n",
      " 1   DFTA ID         72720 non-null  object \n",
      " 2   ContractYear    72720 non-null  int64  \n",
      " 3   SponsorName     72720 non-null  object \n",
      " 4   ProgramName     72720 non-null  object \n",
      " 5   LineItem        72720 non-null  int64  \n",
      " 6   LineItemName    72720 non-null  object \n",
      " 7   ReportedMonth   72720 non-null  object \n",
      " 8   ReportedAmount  72720 non-null  float64\n",
      "dtypes: float64(1), int64(2), object(6)\n",
      "memory usage: 5.0+ MB\n"
     ]
    }
   ],
   "source": [
    "NYCaging.info()"
   ]
  },
  {
   "cell_type": "markdown",
   "id": "3b149857",
   "metadata": {},
   "source": [
    "I also checked the unique values in the ContractYear column to determine whether the analysis corresponds to a single fiscal year or multiple years. The finding was that the data corresponds only to the year 2019."
   ]
  },
  {
   "cell_type": "code",
   "execution_count": 16,
   "id": "0f6729b0",
   "metadata": {},
   "outputs": [
    {
     "data": {
      "text/plain": [
       "array([2019])"
      ]
     },
     "execution_count": 16,
     "metadata": {},
     "output_type": "execute_result"
    }
   ],
   "source": [
    "NYCaging['ContractYear'].unique()"
   ]
  },
  {
   "cell_type": "markdown",
   "id": "e63b2b36",
   "metadata": {},
   "source": [
    "**Step 3.1: Compute Mean, Median, and Mode of Reported Expenditures with Pandas**\n",
    "\n",
    "To better understand the distribution of the reported expenditures in the Department for the Aging dataset, I calculated the mean, median, and mode for the ReportedAmount column using mean(), median(), and mode() methods available in Pandas library."
   ]
  },
  {
   "cell_type": "code",
   "execution_count": 17,
   "id": "40ddf515",
   "metadata": {},
   "outputs": [
    {
     "name": "stdout",
     "output_type": "stream",
     "text": [
      "The mean is 3819.8411925192213\n"
     ]
    }
   ],
   "source": [
    "expenditure_mean = NYCaging['ReportedAmount'].mean()\n",
    "print(f\"The mean is {expenditure_mean}\")"
   ]
  },
  {
   "cell_type": "code",
   "execution_count": 18,
   "id": "ca9e4fa1",
   "metadata": {},
   "outputs": [
    {
     "name": "stdout",
     "output_type": "stream",
     "text": [
      "The median is 0.0\n"
     ]
    }
   ],
   "source": [
    "expenditure_median = NYCaging['ReportedAmount'].median()\n",
    "print(f\"The median is {expenditure_median}\")"
   ]
  },
  {
   "cell_type": "code",
   "execution_count": 19,
   "id": "359b070d",
   "metadata": {},
   "outputs": [
    {
     "name": "stdout",
     "output_type": "stream",
     "text": [
      "The mode is 0    0.0\n",
      "Name: ReportedAmount, dtype: float64\n"
     ]
    }
   ],
   "source": [
    "expenditure_mode = NYCaging['ReportedAmount'].mode()\n",
    "print(f\"The mode is {expenditure_mode}\")"
   ]
  },
  {
   "cell_type": "markdown",
   "id": "9065b3b8",
   "metadata": {},
   "source": [
    "**Step 3.2: Compute Mean, Median, and Mode of Reported Expenditures with Python Standard Library**\n",
    "\n",
    "In addition to using Pandas, I also calculated the mean, median, and mode for the ReportedAmount column using Python standard library.\n",
    "\n",
    "Here are the steps for calculating the mean using Python standard library:\n",
    "1. Import the CSV library to handle CSV files.\n",
    "2. Open the CSV file and reads each row.\n",
    "3. Add each ReportedAmount value to a list.\n",
    "4. Calculate the mean of the values in that list by dividing the sum and the number of the reported amount values.\n",
    "5. Display the average."
   ]
  },
  {
   "cell_type": "code",
   "execution_count": 20,
   "id": "d2761b99",
   "metadata": {},
   "outputs": [
    {
     "name": "stdout",
     "output_type": "stream",
     "text": [
      "The mean is: 3819.8411925192213\n"
     ]
    }
   ],
   "source": [
    "import csv\n",
    "\n",
    "reported_amount=[]\n",
    "\n",
    "with open(\"Department_for_the_Aging__NYC_Aging__-_Reported_Expenditures_20241106.csv\") as file:\n",
    "    reader = csv.DictReader(file)\n",
    "    for row in reader:\n",
    "        reported_amount.append(float(row['ReportedAmount']))\n",
    "\n",
    "expenditure_mean = sum(reported_amount)/len(reported_amount)\n",
    "\n",
    "print(f\"The mean is: {expenditure_mean}\")\n",
    "        "
   ]
  },
  {
   "cell_type": "markdown",
   "id": "77422279",
   "metadata": {},
   "source": [
    "Next, I calculated the median using Python standard library with the following steps:\n",
    "1. Read ReportedAmount values from the CSV file and adds them to a list.\n",
    "2. Sort the list of amounts in ascending order.\n",
    "3. Check if the number of values is odd or even and calculate the median.\n",
    "4. Display the median amount."
   ]
  },
  {
   "cell_type": "code",
   "execution_count": 21,
   "id": "311132f2",
   "metadata": {},
   "outputs": [
    {
     "name": "stdout",
     "output_type": "stream",
     "text": [
      "The median is: 0.0\n"
     ]
    }
   ],
   "source": [
    "reported_amount=[]\n",
    "\n",
    "with open(\"Department_for_the_Aging__NYC_Aging__-_Reported_Expenditures_20241106.csv\") as file:\n",
    "    reader = csv.DictReader(file)\n",
    "    for row in reader:\n",
    "        reported_amount.append(float(row['ReportedAmount']))\n",
    "        \n",
    "    sorted_reported_amount = sorted(reported_amount)\n",
    "    n = len(sorted_reported_amount)\n",
    "    \n",
    "if n % 2 == 1:\n",
    "    expenditure_median = sorted_reported_amount[int(n/2)]\n",
    "else:\n",
    "    expenditure_median = sorted_reported_amount[int((((n/2)+(n/2)+1)/2))]\n",
    "\n",
    "print(f\"The median is: {expenditure_median}\")\n",
    "    \n"
   ]
  },
  {
   "cell_type": "markdown",
   "id": "51db4307",
   "metadata": {},
   "source": [
    "Finally, these are the steps for calculating the mode using Python standard library:\n",
    "1. Read ReportedAmount values from the CSV file and adds them to a list.\n",
    "2. Convert the list to a set to get unique amounts.\n",
    "3. Find the amount that appear most frequently: a) Counts how often each unique amount appears in the original list, b) Updates the mode (most common value) if a higher count is found.\n",
    "6. If multiple amounts have the same highest count, store them all as modes.\n",
    "7. Display the mode of ReportedAmount."
   ]
  },
  {
   "cell_type": "code",
   "execution_count": 22,
   "id": "ddef1f02",
   "metadata": {},
   "outputs": [
    {
     "name": "stdout",
     "output_type": "stream",
     "text": [
      "The mode is: [0.0]\n"
     ]
    }
   ],
   "source": [
    "reported_amount=[]\n",
    "\n",
    "with open(\"Department_for_the_Aging__NYC_Aging__-_Reported_Expenditures_20241106.csv\") as file:\n",
    "    reader = csv.DictReader(file)\n",
    "    for row in reader:\n",
    "        reported_amount.append(float(row['ReportedAmount']))\n",
    "        \n",
    "unique_amount = set(reported_amount)\n",
    "maximum_count = 0\n",
    "expenditure_mode = []\n",
    "\n",
    "for amount in unique_amount:\n",
    "    count_amount = reported_amount.count(amount)\n",
    "    if count_amount > maximum_count:\n",
    "        maximum_count = count_amount\n",
    "        expenditure_mode = [amount]\n",
    "    elif count_amount == maximum_count:\n",
    "        expenditure_mode.append(amount)\n",
    "\n",
    "print(f\"The mode is: {expenditure_mode}\")"
   ]
  },
  {
   "cell_type": "markdown",
   "id": "c5b5d5d0",
   "metadata": {},
   "source": [
    "**Disclosure:** \n",
    "ChatGPT was used as a discussion partner when translating the logic and conditions into codes for generating mode with Python Standard Library."
   ]
  },
  {
   "cell_type": "markdown",
   "id": "bd8f8c56",
   "metadata": {},
   "source": [
    "**Step 4: Data Visualization**\n",
    "\n",
    "To visualize the total expenditures for each line item in the dataset, I created a simple text-based sparkline representation. This approach uses Python's standard library to produce a scalable summary of expenditures by category.\n",
    "\n",
    "Here are the steps for creating a sparkline using Python standard library:\n",
    "\n",
    "1. Reads data from the CSV file and calculates total expenditures for each LineItemName by creating a dictionary.\n",
    "2. Defines a cap at USD120 million to set a scale for sparklines, given that there is an outlier value >USD 120 million (Personnel expenditure).\n",
    "3. Creates a sparkline for each line item: a) Scales the expenditure relative to the USD120 million cap. b) Ensures each line item that has value at least has one spark.\n",
    "4. Displays each line item with its sparkline and total expenditure.\n"
   ]
  },
  {
   "cell_type": "code",
   "execution_count": 23,
   "id": "9e14054c",
   "metadata": {},
   "outputs": [
    {
     "name": "stdout",
     "output_type": "stream",
     "text": [
      "Personnel                 :************************************************** ($173,897,464.59)\n",
      "Consultants               :******** ($20,000,204.16)\n",
      "Vehicles                  :* ($4,353,986.78)\n",
      "Equipment Rental          :* ($662,073.68)\n",
      "Travel                    :* ($1,900,157.32)\n",
      "Other Occupancy           :* ($2,417,954.96)\n",
      "Communications            :* ($2,528,896.25)\n",
      "Printing/Supplies         :** ($5,786,099.09)\n",
      "Raw Food/Disposables      :******** ($21,483,798.25)\n",
      "Catered Food/Disposables  :******* ($18,358,357.21)\n",
      "Program Insurance         :* ($1,613,361.68)\n",
      "Other Expenses            :**** ($10,046,227.12)\n",
      "Rent                      :***** ($12,785,264.43)\n",
      "Utilities                 :* ($1,945,006.00)\n",
      "Rent Usage Charges        : ($0.00)\n"
     ]
    }
   ],
   "source": [
    "import csv\n",
    "\n",
    "expenditurebylineitem={}\n",
    "\n",
    "with open(\"Department_for_the_Aging__NYC_Aging__-_Reported_Expenditures_20241106.csv\") as file:\n",
    "    reader = csv.DictReader(file)\n",
    "    for row in reader:\n",
    "        line_item = row['LineItemName']\n",
    "        reported_amount = float(row['ReportedAmount'])\n",
    "        if line_item in expenditurebylineitem:\n",
    "            expenditurebylineitem[line_item] += reported_amount\n",
    "        else:\n",
    "            expenditurebylineitem[line_item] = reported_amount\n",
    "\n",
    "cap_expenditure = 120000000\n",
    "max_sparks = 50\n",
    "\n",
    "for line_item, total_expenditure in expenditurebylineitem.items():\n",
    "    scaled_expenditure = min(total_expenditure, cap_expenditure)\n",
    "    num_sparks = int((scaled_expenditure / cap_expenditure) * max_sparks)\n",
    "    if total_expenditure !=0:\n",
    "        num_sparks = max(num_sparks,1)\n",
    "    sparkline = \"*\" * num_sparks \n",
    "    print(f\"{line_item: <25} :{sparkline} (${total_expenditure:,.2f})\")"
   ]
  },
  {
   "cell_type": "markdown",
   "id": "411b0cfa",
   "metadata": {},
   "source": [
    "**Disclosure**\n",
    "ChatGPT was used as a discussion partner when translating the logic and conditions into codes for generating sparksline."
   ]
  }
 ],
 "metadata": {
  "kernelspec": {
   "display_name": "Python 3 (ipykernel)",
   "language": "python",
   "name": "python3"
  },
  "language_info": {
   "codemirror_mode": {
    "name": "ipython",
    "version": 3
   },
   "file_extension": ".py",
   "mimetype": "text/x-python",
   "name": "python",
   "nbconvert_exporter": "python",
   "pygments_lexer": "ipython3",
   "version": "3.9.13"
  }
 },
 "nbformat": 4,
 "nbformat_minor": 5
}
