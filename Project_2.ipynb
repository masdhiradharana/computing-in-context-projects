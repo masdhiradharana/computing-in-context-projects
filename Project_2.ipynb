{
 "cells": [
  {
   "cell_type": "markdown",
   "id": "89501f71",
   "metadata": {},
   "source": [
    "### Project 2"
   ]
  },
  {
   "cell_type": "code",
   "execution_count": 1,
   "id": "5642da07",
   "metadata": {},
   "outputs": [],
   "source": [
    "import plotly.io as pio\n",
    "\n",
    "pio.renderers.default = \"vscode+jupyterlab+notebook_connected\""
   ]
  },
  {
   "cell_type": "markdown",
   "id": "d5169f68",
   "metadata": {},
   "source": [
    "## Do countries with lower female educational attainment rates tend to have higher cases of stunting among children?"
   ]
  },
  {
   "cell_type": "markdown",
   "id": "9781a334",
   "metadata": {},
   "source": [
    "### Project Overview"
   ]
  },
  {
   "cell_type": "markdown",
   "id": "21849edf",
   "metadata": {},
   "source": [
    "Stunting is a big challenge for a lot of developing countries. It basically means kids aren’t growing as they should because they’re not getting enough proper nutrition. It’s a serious problem that tackling it is part of the [Sustainable Development Goals (SDGs)](https://www.un.org/sustainabledevelopment/hunger/).\n",
    "\n",
    "Different countries are trying all kinds of strategies to fight stunting, such as by providing nutritions, clean water access, and adequate health services. But here’s what I’m curious about: could stunting also have something to do with how educated parents—especially moms—are? If mothers haven’t had the chance to get a solid education, they might not know as much about nutrition and how to make sure their kids are getting what they need to grow healthy.\n",
    "\n",
    "To dig into this idea, I decided to look at whether there’s a link between stunting rates and how many women have finished high school (or upper secondary education). For this, I pulled stunting data from the World Health Organization (WHO) and education data from the World Bank. The goal is to see if improving education for women could be part of the focus to addressing issue."
   ]
  },
  {
   "cell_type": "markdown",
   "id": "eb04f40a",
   "metadata": {},
   "source": [
    "### Data Sources"
   ]
  },
  {
   "cell_type": "markdown",
   "id": "1943d315",
   "metadata": {},
   "source": [
    "1. The stunting data was pulled from [World Health Organization](https://data.who.int/indicators/i/A5A7413/5F8A486#:~:text=Worldwide%2C%20the%20prevalence%20of%20stunting,%25%20%2D%2022.9%25%5D%20in%202022.)\n",
    "2. The female education data was pulled from [World Bank](https://genderdata.worldbank.org/en/indicator/se-cuat-zs#data-table-section)\n"
   ]
  },
  {
   "cell_type": "markdown",
   "id": "e2a96d2c",
   "metadata": {},
   "source": [
    "### Working with the Datasets"
   ]
  },
  {
   "cell_type": "markdown",
   "id": "c570712c",
   "metadata": {},
   "source": [
    "First, I loaded the stunting dataset using pandas to read the CSV file. The dataset contains information on stunting prevalence by country over several years."
   ]
  },
  {
   "cell_type": "code",
   "execution_count": 2,
   "id": "00177a1f",
   "metadata": {},
   "outputs": [
    {
     "data": {
      "text/html": [
       "<div>\n",
       "<style scoped>\n",
       "    .dataframe tbody tr th:only-of-type {\n",
       "        vertical-align: middle;\n",
       "    }\n",
       "\n",
       "    .dataframe tbody tr th {\n",
       "        vertical-align: top;\n",
       "    }\n",
       "\n",
       "    .dataframe thead th {\n",
       "        text-align: right;\n",
       "    }\n",
       "</style>\n",
       "<table border=\"1\" class=\"dataframe\">\n",
       "  <thead>\n",
       "    <tr style=\"text-align: right;\">\n",
       "      <th></th>\n",
       "      <th>Country Name</th>\n",
       "      <th>Country Code</th>\n",
       "      <th>Indicator Name</th>\n",
       "      <th>Indicator Code</th>\n",
       "      <th>1960</th>\n",
       "      <th>1961</th>\n",
       "      <th>1962</th>\n",
       "      <th>1963</th>\n",
       "      <th>1964</th>\n",
       "      <th>1965</th>\n",
       "      <th>...</th>\n",
       "      <th>2014</th>\n",
       "      <th>2015</th>\n",
       "      <th>2016</th>\n",
       "      <th>2017</th>\n",
       "      <th>2018</th>\n",
       "      <th>2019</th>\n",
       "      <th>2020</th>\n",
       "      <th>2021</th>\n",
       "      <th>2022</th>\n",
       "      <th>2023</th>\n",
       "    </tr>\n",
       "  </thead>\n",
       "  <tbody>\n",
       "    <tr>\n",
       "      <th>0</th>\n",
       "      <td>Aruba</td>\n",
       "      <td>ABW</td>\n",
       "      <td>Prevalence of stunting, height for age (% of c...</td>\n",
       "      <td>SH.STA.STNT.ZS</td>\n",
       "      <td>NaN</td>\n",
       "      <td>NaN</td>\n",
       "      <td>NaN</td>\n",
       "      <td>NaN</td>\n",
       "      <td>NaN</td>\n",
       "      <td>NaN</td>\n",
       "      <td>...</td>\n",
       "      <td>NaN</td>\n",
       "      <td>NaN</td>\n",
       "      <td>NaN</td>\n",
       "      <td>NaN</td>\n",
       "      <td>NaN</td>\n",
       "      <td>NaN</td>\n",
       "      <td>NaN</td>\n",
       "      <td>NaN</td>\n",
       "      <td>NaN</td>\n",
       "      <td>NaN</td>\n",
       "    </tr>\n",
       "    <tr>\n",
       "      <th>1</th>\n",
       "      <td>Africa Eastern and Southern</td>\n",
       "      <td>AFE</td>\n",
       "      <td>Prevalence of stunting, height for age (% of c...</td>\n",
       "      <td>SH.STA.STNT.ZS</td>\n",
       "      <td>NaN</td>\n",
       "      <td>NaN</td>\n",
       "      <td>NaN</td>\n",
       "      <td>NaN</td>\n",
       "      <td>NaN</td>\n",
       "      <td>NaN</td>\n",
       "      <td>...</td>\n",
       "      <td>NaN</td>\n",
       "      <td>NaN</td>\n",
       "      <td>NaN</td>\n",
       "      <td>NaN</td>\n",
       "      <td>NaN</td>\n",
       "      <td>NaN</td>\n",
       "      <td>NaN</td>\n",
       "      <td>NaN</td>\n",
       "      <td>NaN</td>\n",
       "      <td>NaN</td>\n",
       "    </tr>\n",
       "    <tr>\n",
       "      <th>2</th>\n",
       "      <td>Afghanistan</td>\n",
       "      <td>AFG</td>\n",
       "      <td>Prevalence of stunting, height for age (% of c...</td>\n",
       "      <td>SH.STA.STNT.ZS</td>\n",
       "      <td>NaN</td>\n",
       "      <td>NaN</td>\n",
       "      <td>NaN</td>\n",
       "      <td>NaN</td>\n",
       "      <td>NaN</td>\n",
       "      <td>NaN</td>\n",
       "      <td>...</td>\n",
       "      <td>NaN</td>\n",
       "      <td>NaN</td>\n",
       "      <td>NaN</td>\n",
       "      <td>NaN</td>\n",
       "      <td>38.2</td>\n",
       "      <td>NaN</td>\n",
       "      <td>NaN</td>\n",
       "      <td>NaN</td>\n",
       "      <td>44.6</td>\n",
       "      <td>NaN</td>\n",
       "    </tr>\n",
       "    <tr>\n",
       "      <th>3</th>\n",
       "      <td>Africa Western and Central</td>\n",
       "      <td>AFW</td>\n",
       "      <td>Prevalence of stunting, height for age (% of c...</td>\n",
       "      <td>SH.STA.STNT.ZS</td>\n",
       "      <td>NaN</td>\n",
       "      <td>NaN</td>\n",
       "      <td>NaN</td>\n",
       "      <td>NaN</td>\n",
       "      <td>NaN</td>\n",
       "      <td>NaN</td>\n",
       "      <td>...</td>\n",
       "      <td>NaN</td>\n",
       "      <td>NaN</td>\n",
       "      <td>NaN</td>\n",
       "      <td>NaN</td>\n",
       "      <td>NaN</td>\n",
       "      <td>NaN</td>\n",
       "      <td>NaN</td>\n",
       "      <td>NaN</td>\n",
       "      <td>NaN</td>\n",
       "      <td>NaN</td>\n",
       "    </tr>\n",
       "    <tr>\n",
       "      <th>4</th>\n",
       "      <td>Angola</td>\n",
       "      <td>AGO</td>\n",
       "      <td>Prevalence of stunting, height for age (% of c...</td>\n",
       "      <td>SH.STA.STNT.ZS</td>\n",
       "      <td>NaN</td>\n",
       "      <td>NaN</td>\n",
       "      <td>NaN</td>\n",
       "      <td>NaN</td>\n",
       "      <td>NaN</td>\n",
       "      <td>NaN</td>\n",
       "      <td>...</td>\n",
       "      <td>NaN</td>\n",
       "      <td>37.6</td>\n",
       "      <td>NaN</td>\n",
       "      <td>NaN</td>\n",
       "      <td>NaN</td>\n",
       "      <td>NaN</td>\n",
       "      <td>NaN</td>\n",
       "      <td>NaN</td>\n",
       "      <td>NaN</td>\n",
       "      <td>NaN</td>\n",
       "    </tr>\n",
       "    <tr>\n",
       "      <th>...</th>\n",
       "      <td>...</td>\n",
       "      <td>...</td>\n",
       "      <td>...</td>\n",
       "      <td>...</td>\n",
       "      <td>...</td>\n",
       "      <td>...</td>\n",
       "      <td>...</td>\n",
       "      <td>...</td>\n",
       "      <td>...</td>\n",
       "      <td>...</td>\n",
       "      <td>...</td>\n",
       "      <td>...</td>\n",
       "      <td>...</td>\n",
       "      <td>...</td>\n",
       "      <td>...</td>\n",
       "      <td>...</td>\n",
       "      <td>...</td>\n",
       "      <td>...</td>\n",
       "      <td>...</td>\n",
       "      <td>...</td>\n",
       "      <td>...</td>\n",
       "    </tr>\n",
       "    <tr>\n",
       "      <th>261</th>\n",
       "      <td>Kosovo</td>\n",
       "      <td>XKX</td>\n",
       "      <td>Prevalence of stunting, height for age (% of c...</td>\n",
       "      <td>SH.STA.STNT.ZS</td>\n",
       "      <td>NaN</td>\n",
       "      <td>NaN</td>\n",
       "      <td>NaN</td>\n",
       "      <td>NaN</td>\n",
       "      <td>NaN</td>\n",
       "      <td>NaN</td>\n",
       "      <td>...</td>\n",
       "      <td>NaN</td>\n",
       "      <td>NaN</td>\n",
       "      <td>NaN</td>\n",
       "      <td>NaN</td>\n",
       "      <td>NaN</td>\n",
       "      <td>NaN</td>\n",
       "      <td>NaN</td>\n",
       "      <td>NaN</td>\n",
       "      <td>NaN</td>\n",
       "      <td>NaN</td>\n",
       "    </tr>\n",
       "    <tr>\n",
       "      <th>262</th>\n",
       "      <td>Yemen, Rep.</td>\n",
       "      <td>YEM</td>\n",
       "      <td>Prevalence of stunting, height for age (% of c...</td>\n",
       "      <td>SH.STA.STNT.ZS</td>\n",
       "      <td>NaN</td>\n",
       "      <td>NaN</td>\n",
       "      <td>NaN</td>\n",
       "      <td>NaN</td>\n",
       "      <td>NaN</td>\n",
       "      <td>NaN</td>\n",
       "      <td>...</td>\n",
       "      <td>NaN</td>\n",
       "      <td>NaN</td>\n",
       "      <td>NaN</td>\n",
       "      <td>NaN</td>\n",
       "      <td>NaN</td>\n",
       "      <td>NaN</td>\n",
       "      <td>NaN</td>\n",
       "      <td>NaN</td>\n",
       "      <td>NaN</td>\n",
       "      <td>NaN</td>\n",
       "    </tr>\n",
       "    <tr>\n",
       "      <th>263</th>\n",
       "      <td>South Africa</td>\n",
       "      <td>ZAF</td>\n",
       "      <td>Prevalence of stunting, height for age (% of c...</td>\n",
       "      <td>SH.STA.STNT.ZS</td>\n",
       "      <td>NaN</td>\n",
       "      <td>NaN</td>\n",
       "      <td>NaN</td>\n",
       "      <td>NaN</td>\n",
       "      <td>NaN</td>\n",
       "      <td>NaN</td>\n",
       "      <td>...</td>\n",
       "      <td>NaN</td>\n",
       "      <td>21.2</td>\n",
       "      <td>27.4</td>\n",
       "      <td>21.3</td>\n",
       "      <td>NaN</td>\n",
       "      <td>NaN</td>\n",
       "      <td>NaN</td>\n",
       "      <td>NaN</td>\n",
       "      <td>NaN</td>\n",
       "      <td>NaN</td>\n",
       "    </tr>\n",
       "    <tr>\n",
       "      <th>264</th>\n",
       "      <td>Zambia</td>\n",
       "      <td>ZMB</td>\n",
       "      <td>Prevalence of stunting, height for age (% of c...</td>\n",
       "      <td>SH.STA.STNT.ZS</td>\n",
       "      <td>NaN</td>\n",
       "      <td>NaN</td>\n",
       "      <td>NaN</td>\n",
       "      <td>NaN</td>\n",
       "      <td>NaN</td>\n",
       "      <td>NaN</td>\n",
       "      <td>...</td>\n",
       "      <td>NaN</td>\n",
       "      <td>NaN</td>\n",
       "      <td>NaN</td>\n",
       "      <td>NaN</td>\n",
       "      <td>34.6</td>\n",
       "      <td>NaN</td>\n",
       "      <td>NaN</td>\n",
       "      <td>NaN</td>\n",
       "      <td>NaN</td>\n",
       "      <td>NaN</td>\n",
       "    </tr>\n",
       "    <tr>\n",
       "      <th>265</th>\n",
       "      <td>Zimbabwe</td>\n",
       "      <td>ZWE</td>\n",
       "      <td>Prevalence of stunting, height for age (% of c...</td>\n",
       "      <td>SH.STA.STNT.ZS</td>\n",
       "      <td>NaN</td>\n",
       "      <td>NaN</td>\n",
       "      <td>NaN</td>\n",
       "      <td>NaN</td>\n",
       "      <td>NaN</td>\n",
       "      <td>NaN</td>\n",
       "      <td>...</td>\n",
       "      <td>27.6</td>\n",
       "      <td>27.1</td>\n",
       "      <td>NaN</td>\n",
       "      <td>NaN</td>\n",
       "      <td>NaN</td>\n",
       "      <td>23.5</td>\n",
       "      <td>NaN</td>\n",
       "      <td>NaN</td>\n",
       "      <td>NaN</td>\n",
       "      <td>NaN</td>\n",
       "    </tr>\n",
       "  </tbody>\n",
       "</table>\n",
       "<p>266 rows × 68 columns</p>\n",
       "</div>"
      ],
      "text/plain": [
       "                    Country Name Country Code  \\\n",
       "0                          Aruba          ABW   \n",
       "1    Africa Eastern and Southern          AFE   \n",
       "2                    Afghanistan          AFG   \n",
       "3     Africa Western and Central          AFW   \n",
       "4                         Angola          AGO   \n",
       "..                           ...          ...   \n",
       "261                       Kosovo          XKX   \n",
       "262                  Yemen, Rep.          YEM   \n",
       "263                 South Africa          ZAF   \n",
       "264                       Zambia          ZMB   \n",
       "265                     Zimbabwe          ZWE   \n",
       "\n",
       "                                        Indicator Name  Indicator Code  1960  \\\n",
       "0    Prevalence of stunting, height for age (% of c...  SH.STA.STNT.ZS   NaN   \n",
       "1    Prevalence of stunting, height for age (% of c...  SH.STA.STNT.ZS   NaN   \n",
       "2    Prevalence of stunting, height for age (% of c...  SH.STA.STNT.ZS   NaN   \n",
       "3    Prevalence of stunting, height for age (% of c...  SH.STA.STNT.ZS   NaN   \n",
       "4    Prevalence of stunting, height for age (% of c...  SH.STA.STNT.ZS   NaN   \n",
       "..                                                 ...             ...   ...   \n",
       "261  Prevalence of stunting, height for age (% of c...  SH.STA.STNT.ZS   NaN   \n",
       "262  Prevalence of stunting, height for age (% of c...  SH.STA.STNT.ZS   NaN   \n",
       "263  Prevalence of stunting, height for age (% of c...  SH.STA.STNT.ZS   NaN   \n",
       "264  Prevalence of stunting, height for age (% of c...  SH.STA.STNT.ZS   NaN   \n",
       "265  Prevalence of stunting, height for age (% of c...  SH.STA.STNT.ZS   NaN   \n",
       "\n",
       "     1961  1962  1963  1964  1965  ...  2014  2015  2016  2017  2018  2019  \\\n",
       "0     NaN   NaN   NaN   NaN   NaN  ...   NaN   NaN   NaN   NaN   NaN   NaN   \n",
       "1     NaN   NaN   NaN   NaN   NaN  ...   NaN   NaN   NaN   NaN   NaN   NaN   \n",
       "2     NaN   NaN   NaN   NaN   NaN  ...   NaN   NaN   NaN   NaN  38.2   NaN   \n",
       "3     NaN   NaN   NaN   NaN   NaN  ...   NaN   NaN   NaN   NaN   NaN   NaN   \n",
       "4     NaN   NaN   NaN   NaN   NaN  ...   NaN  37.6   NaN   NaN   NaN   NaN   \n",
       "..    ...   ...   ...   ...   ...  ...   ...   ...   ...   ...   ...   ...   \n",
       "261   NaN   NaN   NaN   NaN   NaN  ...   NaN   NaN   NaN   NaN   NaN   NaN   \n",
       "262   NaN   NaN   NaN   NaN   NaN  ...   NaN   NaN   NaN   NaN   NaN   NaN   \n",
       "263   NaN   NaN   NaN   NaN   NaN  ...   NaN  21.2  27.4  21.3   NaN   NaN   \n",
       "264   NaN   NaN   NaN   NaN   NaN  ...   NaN   NaN   NaN   NaN  34.6   NaN   \n",
       "265   NaN   NaN   NaN   NaN   NaN  ...  27.6  27.1   NaN   NaN   NaN  23.5   \n",
       "\n",
       "     2020  2021  2022  2023  \n",
       "0     NaN   NaN   NaN   NaN  \n",
       "1     NaN   NaN   NaN   NaN  \n",
       "2     NaN   NaN  44.6   NaN  \n",
       "3     NaN   NaN   NaN   NaN  \n",
       "4     NaN   NaN   NaN   NaN  \n",
       "..    ...   ...   ...   ...  \n",
       "261   NaN   NaN   NaN   NaN  \n",
       "262   NaN   NaN   NaN   NaN  \n",
       "263   NaN   NaN   NaN   NaN  \n",
       "264   NaN   NaN   NaN   NaN  \n",
       "265   NaN   NaN   NaN   NaN  \n",
       "\n",
       "[266 rows x 68 columns]"
      ]
     },
     "execution_count": 2,
     "metadata": {},
     "output_type": "execute_result"
    }
   ],
   "source": [
    "import pandas as pd\n",
    "\n",
    "stunting_rate = pd.read_csv(\"API_SH.STA.STNT.ZS_DS2_en_csv_v2_2030.csv\")\n",
    "stunting_rate"
   ]
  },
  {
   "cell_type": "markdown",
   "id": "fca3a513",
   "metadata": {},
   "source": [
    "Here, I used the `info()` function to get a quick overview of the dataset and check which year has the most complete data for stunting rates. This step helps make the analysis more robust focus on a year with fewer gaps. From the output, it looks like 2019 has enough data available (43 non-null entries) while being recent enough, so I’ll go with that for the analysis."
   ]
  },
  {
   "cell_type": "code",
   "execution_count": 3,
   "id": "2c3866bc",
   "metadata": {},
   "outputs": [
    {
     "name": "stdout",
     "output_type": "stream",
     "text": [
      "<class 'pandas.core.frame.DataFrame'>\n",
      "RangeIndex: 266 entries, 0 to 265\n",
      "Data columns (total 68 columns):\n",
      " #   Column          Non-Null Count  Dtype  \n",
      "---  ------          --------------  -----  \n",
      " 0   Country Name    266 non-null    object \n",
      " 1   Country Code    266 non-null    object \n",
      " 2   Indicator Name  266 non-null    object \n",
      " 3   Indicator Code  266 non-null    object \n",
      " 4   1960            0 non-null      float64\n",
      " 5   1961            0 non-null      float64\n",
      " 6   1962            0 non-null      float64\n",
      " 7   1963            0 non-null      float64\n",
      " 8   1964            0 non-null      float64\n",
      " 9   1965            0 non-null      float64\n",
      " 10  1966            0 non-null      float64\n",
      " 11  1967            0 non-null      float64\n",
      " 12  1968            0 non-null      float64\n",
      " 13  1969            0 non-null      float64\n",
      " 14  1970            0 non-null      float64\n",
      " 15  1971            0 non-null      float64\n",
      " 16  1972            0 non-null      float64\n",
      " 17  1973            0 non-null      float64\n",
      " 18  1974            0 non-null      float64\n",
      " 19  1975            0 non-null      float64\n",
      " 20  1976            0 non-null      float64\n",
      " 21  1977            0 non-null      float64\n",
      " 22  1978            0 non-null      float64\n",
      " 23  1979            0 non-null      float64\n",
      " 24  1980            0 non-null      float64\n",
      " 25  1981            0 non-null      float64\n",
      " 26  1982            0 non-null      float64\n",
      " 27  1983            1 non-null      float64\n",
      " 28  1984            0 non-null      float64\n",
      " 29  1985            4 non-null      float64\n",
      " 30  1986            10 non-null     float64\n",
      " 31  1987            16 non-null     float64\n",
      " 32  1988            12 non-null     float64\n",
      " 33  1989            9 non-null      float64\n",
      " 34  1990            9 non-null      float64\n",
      " 35  1991            19 non-null     float64\n",
      " 36  1992            20 non-null     float64\n",
      " 37  1993            22 non-null     float64\n",
      " 38  1994            21 non-null     float64\n",
      " 39  1995            28 non-null     float64\n",
      " 40  1996            34 non-null     float64\n",
      " 41  1997            20 non-null     float64\n",
      " 42  1998            24 non-null     float64\n",
      " 43  1999            26 non-null     float64\n",
      " 44  2000            57 non-null     float64\n",
      " 45  2001            20 non-null     float64\n",
      " 46  2002            23 non-null     float64\n",
      " 47  2003            23 non-null     float64\n",
      " 48  2004            30 non-null     float64\n",
      " 49  2005            33 non-null     float64\n",
      " 50  2006            44 non-null     float64\n",
      " 51  2007            30 non-null     float64\n",
      " 52  2008            27 non-null     float64\n",
      " 53  2009            32 non-null     float64\n",
      " 54  2010            40 non-null     float64\n",
      " 55  2011            34 non-null     float64\n",
      " 56  2012            42 non-null     float64\n",
      " 57  2013            29 non-null     float64\n",
      " 58  2014            50 non-null     float64\n",
      " 59  2015            30 non-null     float64\n",
      " 60  2016            35 non-null     float64\n",
      " 61  2017            28 non-null     float64\n",
      " 62  2018            44 non-null     float64\n",
      " 63  2019            43 non-null     float64\n",
      " 64  2020            23 non-null     float64\n",
      " 65  2021            21 non-null     float64\n",
      " 66  2022            18 non-null     float64\n",
      " 67  2023            1 non-null      float64\n",
      "dtypes: float64(64), object(4)\n",
      "memory usage: 141.4+ KB\n"
     ]
    }
   ],
   "source": [
    "stunting_rate.info()"
   ]
  },
  {
   "cell_type": "markdown",
   "id": "ad9fc7b8",
   "metadata": {},
   "source": [
    "Next, I narrowed down the dataset to focus only on the country names and their stunting rates for 2019. This keeps things simple and directly relevant to the analysis by getting rid of unnecessary columns and using the key data I need."
   ]
  },
  {
   "cell_type": "code",
   "execution_count": 4,
   "id": "7e420be6",
   "metadata": {},
   "outputs": [
    {
     "data": {
      "text/html": [
       "<div>\n",
       "<style scoped>\n",
       "    .dataframe tbody tr th:only-of-type {\n",
       "        vertical-align: middle;\n",
       "    }\n",
       "\n",
       "    .dataframe tbody tr th {\n",
       "        vertical-align: top;\n",
       "    }\n",
       "\n",
       "    .dataframe thead th {\n",
       "        text-align: right;\n",
       "    }\n",
       "</style>\n",
       "<table border=\"1\" class=\"dataframe\">\n",
       "  <thead>\n",
       "    <tr style=\"text-align: right;\">\n",
       "      <th></th>\n",
       "      <th>Country Name</th>\n",
       "      <th>2019</th>\n",
       "    </tr>\n",
       "  </thead>\n",
       "  <tbody>\n",
       "    <tr>\n",
       "      <th>0</th>\n",
       "      <td>Aruba</td>\n",
       "      <td>NaN</td>\n",
       "    </tr>\n",
       "    <tr>\n",
       "      <th>1</th>\n",
       "      <td>Africa Eastern and Southern</td>\n",
       "      <td>NaN</td>\n",
       "    </tr>\n",
       "    <tr>\n",
       "      <th>2</th>\n",
       "      <td>Afghanistan</td>\n",
       "      <td>NaN</td>\n",
       "    </tr>\n",
       "    <tr>\n",
       "      <th>3</th>\n",
       "      <td>Africa Western and Central</td>\n",
       "      <td>NaN</td>\n",
       "    </tr>\n",
       "    <tr>\n",
       "      <th>4</th>\n",
       "      <td>Angola</td>\n",
       "      <td>NaN</td>\n",
       "    </tr>\n",
       "    <tr>\n",
       "      <th>...</th>\n",
       "      <td>...</td>\n",
       "      <td>...</td>\n",
       "    </tr>\n",
       "    <tr>\n",
       "      <th>261</th>\n",
       "      <td>Kosovo</td>\n",
       "      <td>NaN</td>\n",
       "    </tr>\n",
       "    <tr>\n",
       "      <th>262</th>\n",
       "      <td>Yemen, Rep.</td>\n",
       "      <td>NaN</td>\n",
       "    </tr>\n",
       "    <tr>\n",
       "      <th>263</th>\n",
       "      <td>South Africa</td>\n",
       "      <td>NaN</td>\n",
       "    </tr>\n",
       "    <tr>\n",
       "      <th>264</th>\n",
       "      <td>Zambia</td>\n",
       "      <td>NaN</td>\n",
       "    </tr>\n",
       "    <tr>\n",
       "      <th>265</th>\n",
       "      <td>Zimbabwe</td>\n",
       "      <td>23.5</td>\n",
       "    </tr>\n",
       "  </tbody>\n",
       "</table>\n",
       "<p>266 rows × 2 columns</p>\n",
       "</div>"
      ],
      "text/plain": [
       "                    Country Name  2019\n",
       "0                          Aruba   NaN\n",
       "1    Africa Eastern and Southern   NaN\n",
       "2                    Afghanistan   NaN\n",
       "3     Africa Western and Central   NaN\n",
       "4                         Angola   NaN\n",
       "..                           ...   ...\n",
       "261                       Kosovo   NaN\n",
       "262                  Yemen, Rep.   NaN\n",
       "263                 South Africa   NaN\n",
       "264                       Zambia   NaN\n",
       "265                     Zimbabwe  23.5\n",
       "\n",
       "[266 rows x 2 columns]"
      ]
     },
     "execution_count": 4,
     "metadata": {},
     "output_type": "execute_result"
    }
   ],
   "source": [
    "stunting_rate_2019 = stunting_rate[[\"Country Name\", \"2019\"]]\n",
    "stunting_rate_2019"
   ]
  },
  {
   "cell_type": "markdown",
   "id": "4a18d5fb",
   "metadata": {},
   "source": [
    "I repeated a similar step to load the dataset for female education levels from World Bank for the analysis."
   ]
  },
  {
   "cell_type": "code",
   "execution_count": 5,
   "id": "7549db43",
   "metadata": {},
   "outputs": [
    {
     "data": {
      "text/html": [
       "<div>\n",
       "<style scoped>\n",
       "    .dataframe tbody tr th:only-of-type {\n",
       "        vertical-align: middle;\n",
       "    }\n",
       "\n",
       "    .dataframe tbody tr th {\n",
       "        vertical-align: top;\n",
       "    }\n",
       "\n",
       "    .dataframe thead th {\n",
       "        text-align: right;\n",
       "    }\n",
       "</style>\n",
       "<table border=\"1\" class=\"dataframe\">\n",
       "  <thead>\n",
       "    <tr style=\"text-align: right;\">\n",
       "      <th></th>\n",
       "      <th>Indicator Name</th>\n",
       "      <th>Indicator Code</th>\n",
       "      <th>Country Name</th>\n",
       "      <th>Country Code</th>\n",
       "      <th>Year</th>\n",
       "      <th>Value</th>\n",
       "      <th>Disaggregation</th>\n",
       "    </tr>\n",
       "  </thead>\n",
       "  <tbody>\n",
       "    <tr>\n",
       "      <th>0</th>\n",
       "      <td>Educational attainment, at least completed pri...</td>\n",
       "      <td>SE.PRM.CUAT.FE.ZS</td>\n",
       "      <td>Afghanistan</td>\n",
       "      <td>AFG</td>\n",
       "      <td>2022</td>\n",
       "      <td>10.220</td>\n",
       "      <td>At least completed primary, female</td>\n",
       "    </tr>\n",
       "    <tr>\n",
       "      <th>1</th>\n",
       "      <td>Educational attainment, at least completed pri...</td>\n",
       "      <td>SE.PRM.CUAT.FE.ZS</td>\n",
       "      <td>Afghanistan</td>\n",
       "      <td>AFG</td>\n",
       "      <td>2021</td>\n",
       "      <td>8.626</td>\n",
       "      <td>At least completed primary, female</td>\n",
       "    </tr>\n",
       "    <tr>\n",
       "      <th>2</th>\n",
       "      <td>Educational attainment, at least completed pri...</td>\n",
       "      <td>SE.PRM.CUAT.FE.ZS</td>\n",
       "      <td>Afghanistan</td>\n",
       "      <td>AFG</td>\n",
       "      <td>2020</td>\n",
       "      <td>9.939</td>\n",
       "      <td>At least completed primary, female</td>\n",
       "    </tr>\n",
       "    <tr>\n",
       "      <th>3</th>\n",
       "      <td>Educational attainment, at least completed pri...</td>\n",
       "      <td>SE.PRM.CUAT.FE.ZS</td>\n",
       "      <td>Afghanistan</td>\n",
       "      <td>AFG</td>\n",
       "      <td>2017</td>\n",
       "      <td>9.983</td>\n",
       "      <td>At least completed primary, female</td>\n",
       "    </tr>\n",
       "    <tr>\n",
       "      <th>4</th>\n",
       "      <td>Educational attainment, at least completed pri...</td>\n",
       "      <td>SE.PRM.CUAT.FE.ZS</td>\n",
       "      <td>Afghanistan</td>\n",
       "      <td>AFG</td>\n",
       "      <td>2015</td>\n",
       "      <td>6.848</td>\n",
       "      <td>At least completed primary, female</td>\n",
       "    </tr>\n",
       "    <tr>\n",
       "      <th>...</th>\n",
       "      <td>...</td>\n",
       "      <td>...</td>\n",
       "      <td>...</td>\n",
       "      <td>...</td>\n",
       "      <td>...</td>\n",
       "      <td>...</td>\n",
       "      <td>...</td>\n",
       "    </tr>\n",
       "    <tr>\n",
       "      <th>40684</th>\n",
       "      <td>Educational attainment, Doctoral or equivalent...</td>\n",
       "      <td>SE.TER.CUAT.DO.ZS</td>\n",
       "      <td>Zambia</td>\n",
       "      <td>ZMB</td>\n",
       "      <td>2018</td>\n",
       "      <td>0.000</td>\n",
       "      <td>Doctoral or equivalent, total</td>\n",
       "    </tr>\n",
       "    <tr>\n",
       "      <th>40685</th>\n",
       "      <td>Educational attainment, Doctoral or equivalent...</td>\n",
       "      <td>SE.TER.CUAT.DO.ZS</td>\n",
       "      <td>Zambia</td>\n",
       "      <td>ZMB</td>\n",
       "      <td>2017</td>\n",
       "      <td>0.000</td>\n",
       "      <td>Doctoral or equivalent, total</td>\n",
       "    </tr>\n",
       "    <tr>\n",
       "      <th>40686</th>\n",
       "      <td>Educational attainment, Doctoral or equivalent...</td>\n",
       "      <td>SE.TER.CUAT.DO.ZS</td>\n",
       "      <td>Zimbabwe</td>\n",
       "      <td>ZWE</td>\n",
       "      <td>2021</td>\n",
       "      <td>0.155</td>\n",
       "      <td>Doctoral or equivalent, total</td>\n",
       "    </tr>\n",
       "    <tr>\n",
       "      <th>40687</th>\n",
       "      <td>Educational attainment, Doctoral or equivalent...</td>\n",
       "      <td>SE.TER.CUAT.DO.ZS</td>\n",
       "      <td>Zimbabwe</td>\n",
       "      <td>ZWE</td>\n",
       "      <td>2019</td>\n",
       "      <td>0.000</td>\n",
       "      <td>Doctoral or equivalent, total</td>\n",
       "    </tr>\n",
       "    <tr>\n",
       "      <th>40688</th>\n",
       "      <td>Educational attainment, Doctoral or equivalent...</td>\n",
       "      <td>SE.TER.CUAT.DO.ZS</td>\n",
       "      <td>Zimbabwe</td>\n",
       "      <td>ZWE</td>\n",
       "      <td>2017</td>\n",
       "      <td>0.037</td>\n",
       "      <td>Doctoral or equivalent, total</td>\n",
       "    </tr>\n",
       "  </tbody>\n",
       "</table>\n",
       "<p>40689 rows × 7 columns</p>\n",
       "</div>"
      ],
      "text/plain": [
       "                                          Indicator Name     Indicator Code  \\\n",
       "0      Educational attainment, at least completed pri...  SE.PRM.CUAT.FE.ZS   \n",
       "1      Educational attainment, at least completed pri...  SE.PRM.CUAT.FE.ZS   \n",
       "2      Educational attainment, at least completed pri...  SE.PRM.CUAT.FE.ZS   \n",
       "3      Educational attainment, at least completed pri...  SE.PRM.CUAT.FE.ZS   \n",
       "4      Educational attainment, at least completed pri...  SE.PRM.CUAT.FE.ZS   \n",
       "...                                                  ...                ...   \n",
       "40684  Educational attainment, Doctoral or equivalent...  SE.TER.CUAT.DO.ZS   \n",
       "40685  Educational attainment, Doctoral or equivalent...  SE.TER.CUAT.DO.ZS   \n",
       "40686  Educational attainment, Doctoral or equivalent...  SE.TER.CUAT.DO.ZS   \n",
       "40687  Educational attainment, Doctoral or equivalent...  SE.TER.CUAT.DO.ZS   \n",
       "40688  Educational attainment, Doctoral or equivalent...  SE.TER.CUAT.DO.ZS   \n",
       "\n",
       "      Country Name Country Code  Year   Value  \\\n",
       "0      Afghanistan          AFG  2022  10.220   \n",
       "1      Afghanistan          AFG  2021   8.626   \n",
       "2      Afghanistan          AFG  2020   9.939   \n",
       "3      Afghanistan          AFG  2017   9.983   \n",
       "4      Afghanistan          AFG  2015   6.848   \n",
       "...            ...          ...   ...     ...   \n",
       "40684       Zambia          ZMB  2018   0.000   \n",
       "40685       Zambia          ZMB  2017   0.000   \n",
       "40686     Zimbabwe          ZWE  2021   0.155   \n",
       "40687     Zimbabwe          ZWE  2019   0.000   \n",
       "40688     Zimbabwe          ZWE  2017   0.037   \n",
       "\n",
       "                           Disaggregation  \n",
       "0      At least completed primary, female  \n",
       "1      At least completed primary, female  \n",
       "2      At least completed primary, female  \n",
       "3      At least completed primary, female  \n",
       "4      At least completed primary, female  \n",
       "...                                   ...  \n",
       "40684       Doctoral or equivalent, total  \n",
       "40685       Doctoral or equivalent, total  \n",
       "40686       Doctoral or equivalent, total  \n",
       "40687       Doctoral or equivalent, total  \n",
       "40688       Doctoral or equivalent, total  \n",
       "\n",
       "[40689 rows x 7 columns]"
      ]
     },
     "execution_count": 5,
     "metadata": {},
     "output_type": "execute_result"
    }
   ],
   "source": [
    "female_education_level = pd.read_csv(\"Educational attainment by level of education, cumulative (% population 25+).csv\")\n",
    "female_education_level"
   ]
  },
  {
   "cell_type": "markdown",
   "id": "9cc56d78",
   "metadata": {},
   "source": [
    "The dataset from the World Bank includes education levels for both males and females across all stages of schooling. After loading the data, I wanted to narrow it down to focus specifically on females who completed upper secondary education. To do this, I used `.unique()` on the 'Disaggregation' column to see all the available categories and ensure I can get the data I wanted for the analysis."
   ]
  },
  {
   "cell_type": "code",
   "execution_count": 6,
   "id": "c4fd3a74",
   "metadata": {},
   "outputs": [
    {
     "data": {
      "text/plain": [
       "array(['At least completed primary, female',\n",
       "       'At least completed primary, male',\n",
       "       'At least completed primary, total',\n",
       "       'At least completed lower secondary, female',\n",
       "       'At least completed lower secondary, male',\n",
       "       'At least completed lower secondary, total',\n",
       "       'At least completed upper secondary, female',\n",
       "       'At least completed upper secondary, male',\n",
       "       'At least completed upper secondary, total',\n",
       "       'At least completed post-secondary, female',\n",
       "       'At least completed post-secondary, male',\n",
       "       'At least completed post-secondary, total',\n",
       "       'At least completed short-cycle tertiary, female',\n",
       "       'At least completed short-cycle tertiary, male',\n",
       "       'At least completed short-cycle tertiary, total',\n",
       "       \"At least Bachelor's or equivalent, female\",\n",
       "       \"At least Bachelor's or equivalent, male\",\n",
       "       \"At least Bachelor's or equivalent, total\",\n",
       "       \"At least Master's or equivalent, female\",\n",
       "       \"At least Master's or equivalent, male\",\n",
       "       \"At least Master's or equivalent, total\",\n",
       "       'Doctoral or equivalent, female', 'Doctoral or equivalent, male',\n",
       "       'Doctoral or equivalent, total'], dtype=object)"
      ]
     },
     "execution_count": 6,
     "metadata": {},
     "output_type": "execute_result"
    }
   ],
   "source": [
    "female_education_level[\"Disaggregation\"].unique()"
   ]
  },
  {
   "cell_type": "markdown",
   "id": "de06e7c0",
   "metadata": {},
   "source": [
    "Looking at the unique values in the 'Disaggregation' column, the category I need for this analysis is 'At least completed upper secondary, female', which shows the rate for female education attainment at upper secondary level."
   ]
  },
  {
   "cell_type": "markdown",
   "id": "8855ebc8",
   "metadata": {},
   "source": [
    "Next, I wanted to check which year had the most data for the category I’m analyzing. So, I filtered the 'Disaggregation' column to the category I needed, grouped the data by the 'Year' column, and sorted it in descending order to see which years had the most entries. I also looked at the top 10 years with the most data available. It turns out that 2019 has the highest number of entries, with 125 data points, which lines up perfectly with the year I’m using for the stunting rate analysis from WHO."
   ]
  },
  {
   "cell_type": "code",
   "execution_count": 7,
   "id": "dc869f05",
   "metadata": {},
   "outputs": [
    {
     "data": {
      "text/html": [
       "<div>\n",
       "<style scoped>\n",
       "    .dataframe tbody tr th:only-of-type {\n",
       "        vertical-align: middle;\n",
       "    }\n",
       "\n",
       "    .dataframe tbody tr th {\n",
       "        vertical-align: top;\n",
       "    }\n",
       "\n",
       "    .dataframe thead th {\n",
       "        text-align: right;\n",
       "    }\n",
       "</style>\n",
       "<table border=\"1\" class=\"dataframe\">\n",
       "  <thead>\n",
       "    <tr style=\"text-align: right;\">\n",
       "      <th></th>\n",
       "      <th>check</th>\n",
       "    </tr>\n",
       "    <tr>\n",
       "      <th>Year</th>\n",
       "      <th></th>\n",
       "    </tr>\n",
       "  </thead>\n",
       "  <tbody>\n",
       "    <tr>\n",
       "      <th>2019</th>\n",
       "      <td>125</td>\n",
       "    </tr>\n",
       "    <tr>\n",
       "      <th>2018</th>\n",
       "      <td>117</td>\n",
       "    </tr>\n",
       "    <tr>\n",
       "      <th>2017</th>\n",
       "      <td>115</td>\n",
       "    </tr>\n",
       "    <tr>\n",
       "      <th>2014</th>\n",
       "      <td>105</td>\n",
       "    </tr>\n",
       "    <tr>\n",
       "      <th>2015</th>\n",
       "      <td>104</td>\n",
       "    </tr>\n",
       "    <tr>\n",
       "      <th>2021</th>\n",
       "      <td>103</td>\n",
       "    </tr>\n",
       "    <tr>\n",
       "      <th>2020</th>\n",
       "      <td>98</td>\n",
       "    </tr>\n",
       "    <tr>\n",
       "      <th>2016</th>\n",
       "      <td>98</td>\n",
       "    </tr>\n",
       "    <tr>\n",
       "      <th>2010</th>\n",
       "      <td>92</td>\n",
       "    </tr>\n",
       "    <tr>\n",
       "      <th>2011</th>\n",
       "      <td>91</td>\n",
       "    </tr>\n",
       "  </tbody>\n",
       "</table>\n",
       "</div>"
      ],
      "text/plain": [
       "      check\n",
       "Year       \n",
       "2019    125\n",
       "2018    117\n",
       "2017    115\n",
       "2014    105\n",
       "2015    104\n",
       "2021    103\n",
       "2020     98\n",
       "2016     98\n",
       "2010     92\n",
       "2011     91"
      ]
     },
     "execution_count": 7,
     "metadata": {},
     "output_type": "execute_result"
    }
   ],
   "source": [
    "check1 = female_education_level[\n",
    "    female_education_level[\"Disaggregation\"] == \"At least completed upper secondary, female\"\n",
    "].groupby(\"Year\").size().to_frame(\"check\").sort_values(by=\"check\", ascending=False)\n",
    "\n",
    "check1.head(10)"
   ]
  },
  {
   "cell_type": "markdown",
   "id": "4746f329",
   "metadata": {},
   "source": [
    "Again, I filtered the dataset to focus on the data I need for the analysis: females who completed upper secondary education in 2019. I selected only the relevant columns, which are 'Country Name' and 'Value', to keep things simple."
   ]
  },
  {
   "cell_type": "code",
   "execution_count": 8,
   "id": "87ecbef5",
   "metadata": {},
   "outputs": [
    {
     "data": {
      "text/html": [
       "<div>\n",
       "<style scoped>\n",
       "    .dataframe tbody tr th:only-of-type {\n",
       "        vertical-align: middle;\n",
       "    }\n",
       "\n",
       "    .dataframe tbody tr th {\n",
       "        vertical-align: top;\n",
       "    }\n",
       "\n",
       "    .dataframe thead th {\n",
       "        text-align: right;\n",
       "    }\n",
       "</style>\n",
       "<table border=\"1\" class=\"dataframe\">\n",
       "  <thead>\n",
       "    <tr style=\"text-align: right;\">\n",
       "      <th></th>\n",
       "      <th>Country Name</th>\n",
       "      <th>Value</th>\n",
       "    </tr>\n",
       "  </thead>\n",
       "  <tbody>\n",
       "    <tr>\n",
       "      <th>12267</th>\n",
       "      <td>Albania</td>\n",
       "      <td>46.062</td>\n",
       "    </tr>\n",
       "    <tr>\n",
       "      <th>12280</th>\n",
       "      <td>Algeria</td>\n",
       "      <td>24.827</td>\n",
       "    </tr>\n",
       "    <tr>\n",
       "      <th>12296</th>\n",
       "      <td>Angola</td>\n",
       "      <td>14.582</td>\n",
       "    </tr>\n",
       "    <tr>\n",
       "      <th>12306</th>\n",
       "      <td>Armenia</td>\n",
       "      <td>95.958</td>\n",
       "    </tr>\n",
       "    <tr>\n",
       "      <th>12323</th>\n",
       "      <td>Australia</td>\n",
       "      <td>77.800</td>\n",
       "    </tr>\n",
       "    <tr>\n",
       "      <th>...</th>\n",
       "      <td>...</td>\n",
       "      <td>...</td>\n",
       "    </tr>\n",
       "    <tr>\n",
       "      <th>14215</th>\n",
       "      <td>Vanuatu</td>\n",
       "      <td>17.210</td>\n",
       "    </tr>\n",
       "    <tr>\n",
       "      <th>14240</th>\n",
       "      <td>Viet Nam</td>\n",
       "      <td>29.527</td>\n",
       "    </tr>\n",
       "    <tr>\n",
       "      <th>14246</th>\n",
       "      <td>West Bank and Gaza</td>\n",
       "      <td>48.984</td>\n",
       "    </tr>\n",
       "    <tr>\n",
       "      <th>14270</th>\n",
       "      <td>Zambia</td>\n",
       "      <td>28.142</td>\n",
       "    </tr>\n",
       "    <tr>\n",
       "      <th>14275</th>\n",
       "      <td>Zimbabwe</td>\n",
       "      <td>10.590</td>\n",
       "    </tr>\n",
       "  </tbody>\n",
       "</table>\n",
       "<p>125 rows × 2 columns</p>\n",
       "</div>"
      ],
      "text/plain": [
       "             Country Name   Value\n",
       "12267             Albania  46.062\n",
       "12280             Algeria  24.827\n",
       "12296              Angola  14.582\n",
       "12306             Armenia  95.958\n",
       "12323           Australia  77.800\n",
       "...                   ...     ...\n",
       "14215             Vanuatu  17.210\n",
       "14240            Viet Nam  29.527\n",
       "14246  West Bank and Gaza  48.984\n",
       "14270              Zambia  28.142\n",
       "14275            Zimbabwe  10.590\n",
       "\n",
       "[125 rows x 2 columns]"
      ]
     },
     "execution_count": 8,
     "metadata": {},
     "output_type": "execute_result"
    }
   ],
   "source": [
    "female_upsecondary_2019 = female_education_level[\n",
    "    (female_education_level[\"Disaggregation\"] == \"At least completed upper secondary, female\") &\n",
    "    (female_education_level[\"Year\"] == 2019)\n",
    "][[\"Country Name\", \"Value\"]]\n",
    "\n",
    "female_upsecondary_2019\n"
   ]
  },
  {
   "cell_type": "markdown",
   "id": "c21522a6",
   "metadata": {},
   "source": [
    "Next, I merged the two datasets: stunting rates for 2019 and female upper secondary education data for the same year. I matched them up using the 'Country Name' column so that each country has both data points in one place. I also rename the columns name to make it more intuitive to put in the chart."
   ]
  },
  {
   "cell_type": "code",
   "execution_count": 9,
   "id": "c655f2e1",
   "metadata": {},
   "outputs": [
    {
     "data": {
      "text/html": [
       "<div>\n",
       "<style scoped>\n",
       "    .dataframe tbody tr th:only-of-type {\n",
       "        vertical-align: middle;\n",
       "    }\n",
       "\n",
       "    .dataframe tbody tr th {\n",
       "        vertical-align: top;\n",
       "    }\n",
       "\n",
       "    .dataframe thead th {\n",
       "        text-align: right;\n",
       "    }\n",
       "</style>\n",
       "<table border=\"1\" class=\"dataframe\">\n",
       "  <thead>\n",
       "    <tr style=\"text-align: right;\">\n",
       "      <th></th>\n",
       "      <th>Country Name</th>\n",
       "      <th>2019</th>\n",
       "      <th>Value</th>\n",
       "    </tr>\n",
       "  </thead>\n",
       "  <tbody>\n",
       "    <tr>\n",
       "      <th>0</th>\n",
       "      <td>Angola</td>\n",
       "      <td>NaN</td>\n",
       "      <td>14.582</td>\n",
       "    </tr>\n",
       "    <tr>\n",
       "      <th>1</th>\n",
       "      <td>Albania</td>\n",
       "      <td>NaN</td>\n",
       "      <td>46.062</td>\n",
       "    </tr>\n",
       "    <tr>\n",
       "      <th>2</th>\n",
       "      <td>United Arab Emirates</td>\n",
       "      <td>NaN</td>\n",
       "      <td>71.313</td>\n",
       "    </tr>\n",
       "    <tr>\n",
       "      <th>3</th>\n",
       "      <td>Armenia</td>\n",
       "      <td>NaN</td>\n",
       "      <td>95.958</td>\n",
       "    </tr>\n",
       "    <tr>\n",
       "      <th>4</th>\n",
       "      <td>Australia</td>\n",
       "      <td>NaN</td>\n",
       "      <td>77.800</td>\n",
       "    </tr>\n",
       "    <tr>\n",
       "      <th>...</th>\n",
       "      <td>...</td>\n",
       "      <td>...</td>\n",
       "      <td>...</td>\n",
       "    </tr>\n",
       "    <tr>\n",
       "      <th>120</th>\n",
       "      <td>Vanuatu</td>\n",
       "      <td>NaN</td>\n",
       "      <td>17.210</td>\n",
       "    </tr>\n",
       "    <tr>\n",
       "      <th>121</th>\n",
       "      <td>Samoa</td>\n",
       "      <td>7.3</td>\n",
       "      <td>42.782</td>\n",
       "    </tr>\n",
       "    <tr>\n",
       "      <th>122</th>\n",
       "      <td>South Africa</td>\n",
       "      <td>NaN</td>\n",
       "      <td>54.323</td>\n",
       "    </tr>\n",
       "    <tr>\n",
       "      <th>123</th>\n",
       "      <td>Zambia</td>\n",
       "      <td>NaN</td>\n",
       "      <td>28.142</td>\n",
       "    </tr>\n",
       "    <tr>\n",
       "      <th>124</th>\n",
       "      <td>Zimbabwe</td>\n",
       "      <td>23.5</td>\n",
       "      <td>10.590</td>\n",
       "    </tr>\n",
       "  </tbody>\n",
       "</table>\n",
       "<p>125 rows × 3 columns</p>\n",
       "</div>"
      ],
      "text/plain": [
       "             Country Name  2019   Value\n",
       "0                  Angola   NaN  14.582\n",
       "1                 Albania   NaN  46.062\n",
       "2    United Arab Emirates   NaN  71.313\n",
       "3                 Armenia   NaN  95.958\n",
       "4               Australia   NaN  77.800\n",
       "..                    ...   ...     ...\n",
       "120               Vanuatu   NaN  17.210\n",
       "121                 Samoa   7.3  42.782\n",
       "122          South Africa   NaN  54.323\n",
       "123                Zambia   NaN  28.142\n",
       "124              Zimbabwe  23.5  10.590\n",
       "\n",
       "[125 rows x 3 columns]"
      ]
     },
     "execution_count": 9,
     "metadata": {},
     "output_type": "execute_result"
    }
   ],
   "source": [
    "merged_data = pd.merge(stunting_rate_2019,female_upsecondary_2019, on=\"Country Name\")\n",
    "merged_data"
   ]
  },
  {
   "cell_type": "code",
   "execution_count": 10,
   "id": "6e45d83a",
   "metadata": {},
   "outputs": [
    {
     "data": {
      "text/html": [
       "<div>\n",
       "<style scoped>\n",
       "    .dataframe tbody tr th:only-of-type {\n",
       "        vertical-align: middle;\n",
       "    }\n",
       "\n",
       "    .dataframe tbody tr th {\n",
       "        vertical-align: top;\n",
       "    }\n",
       "\n",
       "    .dataframe thead th {\n",
       "        text-align: right;\n",
       "    }\n",
       "</style>\n",
       "<table border=\"1\" class=\"dataframe\">\n",
       "  <thead>\n",
       "    <tr style=\"text-align: right;\">\n",
       "      <th></th>\n",
       "      <th>Country Name</th>\n",
       "      <th>Stunting Rate (%)</th>\n",
       "      <th>Female Completing Uppersecondary Education (%)</th>\n",
       "    </tr>\n",
       "  </thead>\n",
       "  <tbody>\n",
       "    <tr>\n",
       "      <th>0</th>\n",
       "      <td>Angola</td>\n",
       "      <td>NaN</td>\n",
       "      <td>14.582</td>\n",
       "    </tr>\n",
       "    <tr>\n",
       "      <th>1</th>\n",
       "      <td>Albania</td>\n",
       "      <td>NaN</td>\n",
       "      <td>46.062</td>\n",
       "    </tr>\n",
       "    <tr>\n",
       "      <th>2</th>\n",
       "      <td>United Arab Emirates</td>\n",
       "      <td>NaN</td>\n",
       "      <td>71.313</td>\n",
       "    </tr>\n",
       "    <tr>\n",
       "      <th>3</th>\n",
       "      <td>Armenia</td>\n",
       "      <td>NaN</td>\n",
       "      <td>95.958</td>\n",
       "    </tr>\n",
       "    <tr>\n",
       "      <th>4</th>\n",
       "      <td>Australia</td>\n",
       "      <td>NaN</td>\n",
       "      <td>77.800</td>\n",
       "    </tr>\n",
       "    <tr>\n",
       "      <th>...</th>\n",
       "      <td>...</td>\n",
       "      <td>...</td>\n",
       "      <td>...</td>\n",
       "    </tr>\n",
       "    <tr>\n",
       "      <th>120</th>\n",
       "      <td>Vanuatu</td>\n",
       "      <td>NaN</td>\n",
       "      <td>17.210</td>\n",
       "    </tr>\n",
       "    <tr>\n",
       "      <th>121</th>\n",
       "      <td>Samoa</td>\n",
       "      <td>7.3</td>\n",
       "      <td>42.782</td>\n",
       "    </tr>\n",
       "    <tr>\n",
       "      <th>122</th>\n",
       "      <td>South Africa</td>\n",
       "      <td>NaN</td>\n",
       "      <td>54.323</td>\n",
       "    </tr>\n",
       "    <tr>\n",
       "      <th>123</th>\n",
       "      <td>Zambia</td>\n",
       "      <td>NaN</td>\n",
       "      <td>28.142</td>\n",
       "    </tr>\n",
       "    <tr>\n",
       "      <th>124</th>\n",
       "      <td>Zimbabwe</td>\n",
       "      <td>23.5</td>\n",
       "      <td>10.590</td>\n",
       "    </tr>\n",
       "  </tbody>\n",
       "</table>\n",
       "<p>125 rows × 3 columns</p>\n",
       "</div>"
      ],
      "text/plain": [
       "             Country Name  Stunting Rate (%)  \\\n",
       "0                  Angola                NaN   \n",
       "1                 Albania                NaN   \n",
       "2    United Arab Emirates                NaN   \n",
       "3                 Armenia                NaN   \n",
       "4               Australia                NaN   \n",
       "..                    ...                ...   \n",
       "120               Vanuatu                NaN   \n",
       "121                 Samoa                7.3   \n",
       "122          South Africa                NaN   \n",
       "123                Zambia                NaN   \n",
       "124              Zimbabwe               23.5   \n",
       "\n",
       "     Female Completing Uppersecondary Education (%)  \n",
       "0                                            14.582  \n",
       "1                                            46.062  \n",
       "2                                            71.313  \n",
       "3                                            95.958  \n",
       "4                                            77.800  \n",
       "..                                              ...  \n",
       "120                                          17.210  \n",
       "121                                          42.782  \n",
       "122                                          54.323  \n",
       "123                                          28.142  \n",
       "124                                          10.590  \n",
       "\n",
       "[125 rows x 3 columns]"
      ]
     },
     "execution_count": 10,
     "metadata": {},
     "output_type": "execute_result"
    }
   ],
   "source": [
    "merged_data = merged_data.rename(columns = {\"2019\": \"Stunting Rate (%)\", \"Value\": \"Female Completing Uppersecondary Education (%)\"})\n",
    "merged_data"
   ]
  },
  {
   "cell_type": "markdown",
   "id": "ab0a73aa",
   "metadata": {},
   "source": [
    "In this step, I cleaned up the merged dataset by removing rows with missing values in either the stunting rate or the female upper secondary education columns. This ensures I’m working with complete and reliable data for both variables. The dataset is now good to go for analysis without any gaps that could affect the results."
   ]
  },
  {
   "cell_type": "code",
   "execution_count": 11,
   "id": "0763e522",
   "metadata": {},
   "outputs": [
    {
     "data": {
      "text/html": [
       "<div>\n",
       "<style scoped>\n",
       "    .dataframe tbody tr th:only-of-type {\n",
       "        vertical-align: middle;\n",
       "    }\n",
       "\n",
       "    .dataframe tbody tr th {\n",
       "        vertical-align: top;\n",
       "    }\n",
       "\n",
       "    .dataframe thead th {\n",
       "        text-align: right;\n",
       "    }\n",
       "</style>\n",
       "<table border=\"1\" class=\"dataframe\">\n",
       "  <thead>\n",
       "    <tr style=\"text-align: right;\">\n",
       "      <th></th>\n",
       "      <th>index</th>\n",
       "      <th>Country Name</th>\n",
       "      <th>Stunting Rate (%)</th>\n",
       "      <th>Female Completing Uppersecondary Education (%)</th>\n",
       "    </tr>\n",
       "  </thead>\n",
       "  <tbody>\n",
       "    <tr>\n",
       "      <th>0</th>\n",
       "      <td>9</td>\n",
       "      <td>Burkina Faso</td>\n",
       "      <td>23.8</td>\n",
       "      <td>4.994</td>\n",
       "    </tr>\n",
       "    <tr>\n",
       "      <th>1</th>\n",
       "      <td>10</td>\n",
       "      <td>Bangladesh</td>\n",
       "      <td>28.0</td>\n",
       "      <td>26.839</td>\n",
       "    </tr>\n",
       "    <tr>\n",
       "      <th>2</th>\n",
       "      <td>16</td>\n",
       "      <td>Brazil</td>\n",
       "      <td>8.0</td>\n",
       "      <td>52.410</td>\n",
       "    </tr>\n",
       "    <tr>\n",
       "      <th>3</th>\n",
       "      <td>20</td>\n",
       "      <td>Central African Republic</td>\n",
       "      <td>39.8</td>\n",
       "      <td>3.260</td>\n",
       "    </tr>\n",
       "    <tr>\n",
       "      <th>4</th>\n",
       "      <td>27</td>\n",
       "      <td>Cuba</td>\n",
       "      <td>7.1</td>\n",
       "      <td>55.831</td>\n",
       "    </tr>\n",
       "    <tr>\n",
       "      <th>5</th>\n",
       "      <td>32</td>\n",
       "      <td>Dominican Republic</td>\n",
       "      <td>6.7</td>\n",
       "      <td>45.490</td>\n",
       "    </tr>\n",
       "    <tr>\n",
       "      <th>6</th>\n",
       "      <td>33</td>\n",
       "      <td>Algeria</td>\n",
       "      <td>9.8</td>\n",
       "      <td>24.827</td>\n",
       "    </tr>\n",
       "    <tr>\n",
       "      <th>7</th>\n",
       "      <td>34</td>\n",
       "      <td>Ecuador</td>\n",
       "      <td>23.0</td>\n",
       "      <td>42.610</td>\n",
       "    </tr>\n",
       "    <tr>\n",
       "      <th>8</th>\n",
       "      <td>37</td>\n",
       "      <td>Ethiopia</td>\n",
       "      <td>36.8</td>\n",
       "      <td>3.456</td>\n",
       "    </tr>\n",
       "    <tr>\n",
       "      <th>9</th>\n",
       "      <td>47</td>\n",
       "      <td>Guyana</td>\n",
       "      <td>9.5</td>\n",
       "      <td>36.345</td>\n",
       "    </tr>\n",
       "    <tr>\n",
       "      <th>10</th>\n",
       "      <td>49</td>\n",
       "      <td>Honduras</td>\n",
       "      <td>18.7</td>\n",
       "      <td>27.800</td>\n",
       "    </tr>\n",
       "    <tr>\n",
       "      <th>11</th>\n",
       "      <td>58</td>\n",
       "      <td>Jordan</td>\n",
       "      <td>7.4</td>\n",
       "      <td>39.742</td>\n",
       "    </tr>\n",
       "    <tr>\n",
       "      <th>12</th>\n",
       "      <td>73</td>\n",
       "      <td>North Macedonia</td>\n",
       "      <td>4.3</td>\n",
       "      <td>59.985</td>\n",
       "    </tr>\n",
       "    <tr>\n",
       "      <th>13</th>\n",
       "      <td>74</td>\n",
       "      <td>Mali</td>\n",
       "      <td>26.4</td>\n",
       "      <td>4.243</td>\n",
       "    </tr>\n",
       "    <tr>\n",
       "      <th>14</th>\n",
       "      <td>79</td>\n",
       "      <td>Mauritania</td>\n",
       "      <td>19.4</td>\n",
       "      <td>2.895</td>\n",
       "    </tr>\n",
       "    <tr>\n",
       "      <th>15</th>\n",
       "      <td>81</td>\n",
       "      <td>Malaysia</td>\n",
       "      <td>25.5</td>\n",
       "      <td>62.957</td>\n",
       "    </tr>\n",
       "    <tr>\n",
       "      <th>16</th>\n",
       "      <td>82</td>\n",
       "      <td>Niger</td>\n",
       "      <td>47.1</td>\n",
       "      <td>1.703</td>\n",
       "    </tr>\n",
       "    <tr>\n",
       "      <th>17</th>\n",
       "      <td>86</td>\n",
       "      <td>Nepal</td>\n",
       "      <td>31.5</td>\n",
       "      <td>9.469</td>\n",
       "    </tr>\n",
       "    <tr>\n",
       "      <th>18</th>\n",
       "      <td>90</td>\n",
       "      <td>Panama</td>\n",
       "      <td>15.9</td>\n",
       "      <td>51.760</td>\n",
       "    </tr>\n",
       "    <tr>\n",
       "      <th>19</th>\n",
       "      <td>91</td>\n",
       "      <td>Peru</td>\n",
       "      <td>12.2</td>\n",
       "      <td>50.280</td>\n",
       "    </tr>\n",
       "    <tr>\n",
       "      <th>20</th>\n",
       "      <td>100</td>\n",
       "      <td>Senegal</td>\n",
       "      <td>17.9</td>\n",
       "      <td>4.689</td>\n",
       "    </tr>\n",
       "    <tr>\n",
       "      <th>21</th>\n",
       "      <td>102</td>\n",
       "      <td>Sierra Leone</td>\n",
       "      <td>29.5</td>\n",
       "      <td>6.594</td>\n",
       "    </tr>\n",
       "    <tr>\n",
       "      <th>22</th>\n",
       "      <td>104</td>\n",
       "      <td>Serbia</td>\n",
       "      <td>5.4</td>\n",
       "      <td>68.604</td>\n",
       "    </tr>\n",
       "    <tr>\n",
       "      <th>23</th>\n",
       "      <td>109</td>\n",
       "      <td>Chad</td>\n",
       "      <td>37.8</td>\n",
       "      <td>1.841</td>\n",
       "    </tr>\n",
       "    <tr>\n",
       "      <th>24</th>\n",
       "      <td>111</td>\n",
       "      <td>Thailand</td>\n",
       "      <td>13.4</td>\n",
       "      <td>35.113</td>\n",
       "    </tr>\n",
       "    <tr>\n",
       "      <th>25</th>\n",
       "      <td>115</td>\n",
       "      <td>Tuvalu</td>\n",
       "      <td>5.7</td>\n",
       "      <td>31.408</td>\n",
       "    </tr>\n",
       "    <tr>\n",
       "      <th>26</th>\n",
       "      <td>119</td>\n",
       "      <td>Viet Nam</td>\n",
       "      <td>22.4</td>\n",
       "      <td>29.527</td>\n",
       "    </tr>\n",
       "    <tr>\n",
       "      <th>27</th>\n",
       "      <td>121</td>\n",
       "      <td>Samoa</td>\n",
       "      <td>7.3</td>\n",
       "      <td>42.782</td>\n",
       "    </tr>\n",
       "    <tr>\n",
       "      <th>28</th>\n",
       "      <td>124</td>\n",
       "      <td>Zimbabwe</td>\n",
       "      <td>23.5</td>\n",
       "      <td>10.590</td>\n",
       "    </tr>\n",
       "  </tbody>\n",
       "</table>\n",
       "</div>"
      ],
      "text/plain": [
       "    index              Country Name  Stunting Rate (%)  \\\n",
       "0       9              Burkina Faso               23.8   \n",
       "1      10                Bangladesh               28.0   \n",
       "2      16                    Brazil                8.0   \n",
       "3      20  Central African Republic               39.8   \n",
       "4      27                      Cuba                7.1   \n",
       "5      32        Dominican Republic                6.7   \n",
       "6      33                   Algeria                9.8   \n",
       "7      34                   Ecuador               23.0   \n",
       "8      37                  Ethiopia               36.8   \n",
       "9      47                    Guyana                9.5   \n",
       "10     49                  Honduras               18.7   \n",
       "11     58                    Jordan                7.4   \n",
       "12     73           North Macedonia                4.3   \n",
       "13     74                      Mali               26.4   \n",
       "14     79                Mauritania               19.4   \n",
       "15     81                  Malaysia               25.5   \n",
       "16     82                     Niger               47.1   \n",
       "17     86                     Nepal               31.5   \n",
       "18     90                    Panama               15.9   \n",
       "19     91                      Peru               12.2   \n",
       "20    100                   Senegal               17.9   \n",
       "21    102              Sierra Leone               29.5   \n",
       "22    104                    Serbia                5.4   \n",
       "23    109                      Chad               37.8   \n",
       "24    111                  Thailand               13.4   \n",
       "25    115                    Tuvalu                5.7   \n",
       "26    119                  Viet Nam               22.4   \n",
       "27    121                     Samoa                7.3   \n",
       "28    124                  Zimbabwe               23.5   \n",
       "\n",
       "    Female Completing Uppersecondary Education (%)  \n",
       "0                                            4.994  \n",
       "1                                           26.839  \n",
       "2                                           52.410  \n",
       "3                                            3.260  \n",
       "4                                           55.831  \n",
       "5                                           45.490  \n",
       "6                                           24.827  \n",
       "7                                           42.610  \n",
       "8                                            3.456  \n",
       "9                                           36.345  \n",
       "10                                          27.800  \n",
       "11                                          39.742  \n",
       "12                                          59.985  \n",
       "13                                           4.243  \n",
       "14                                           2.895  \n",
       "15                                          62.957  \n",
       "16                                           1.703  \n",
       "17                                           9.469  \n",
       "18                                          51.760  \n",
       "19                                          50.280  \n",
       "20                                           4.689  \n",
       "21                                           6.594  \n",
       "22                                          68.604  \n",
       "23                                           1.841  \n",
       "24                                          35.113  \n",
       "25                                          31.408  \n",
       "26                                          29.527  \n",
       "27                                          42.782  \n",
       "28                                          10.590  "
      ]
     },
     "execution_count": 11,
     "metadata": {},
     "output_type": "execute_result"
    }
   ],
   "source": [
    "merged_data = merged_data.dropna(subset=[\"Stunting Rate (%)\", \"Female Completing Uppersecondary Education (%)\"]).reset_index()\n",
    "merged_data"
   ]
  },
  {
   "cell_type": "code",
   "execution_count": 12,
   "id": "471e024c",
   "metadata": {},
   "outputs": [
    {
     "name": "stdout",
     "output_type": "stream",
     "text": [
      "<class 'pandas.core.frame.DataFrame'>\n",
      "RangeIndex: 29 entries, 0 to 28\n",
      "Data columns (total 4 columns):\n",
      " #   Column                                          Non-Null Count  Dtype  \n",
      "---  ------                                          --------------  -----  \n",
      " 0   index                                           29 non-null     int64  \n",
      " 1   Country Name                                    29 non-null     object \n",
      " 2   Stunting Rate (%)                               29 non-null     float64\n",
      " 3   Female Completing Uppersecondary Education (%)  29 non-null     float64\n",
      "dtypes: float64(2), int64(1), object(1)\n",
      "memory usage: 1.0+ KB\n"
     ]
    }
   ],
   "source": [
    "merged_data.info()"
   ]
  },
  {
   "cell_type": "markdown",
   "id": "f505a4dd",
   "metadata": {},
   "source": [
    "### Creating the Scatter Plot"
   ]
  },
  {
   "cell_type": "markdown",
   "id": "a82a40e4",
   "metadata": {},
   "source": [
    "Here, I created a scatter plot using Plotly Express to visualize the relationship between stunting rates and female upper secondary education completion rates for 2019. Each point represents a country, with the stunting rate on the x-axis and the education rate on the y-axis. I also added a trendline (using \"OLS\" for linear regression) to help show the overall pattern or correlation between the two variables. The goal is to see if there's a noticeable relationship between these factors."
   ]
  },
  {
   "cell_type": "code",
   "execution_count": 13,
   "id": "c0f90cbf",
   "metadata": {},
   "outputs": [
    {
     "data": {
      "text/html": [
       "        <script type=\"text/javascript\">\n",
       "        window.PlotlyConfig = {MathJaxConfig: 'local'};\n",
       "        if (window.MathJax && window.MathJax.Hub && window.MathJax.Hub.Config) {window.MathJax.Hub.Config({SVG: {font: \"STIX-Web\"}});}\n",
       "        if (typeof require !== 'undefined') {\n",
       "        require.undef(\"plotly\");\n",
       "        requirejs.config({\n",
       "            paths: {\n",
       "                'plotly': ['https://cdn.plot.ly/plotly-2.35.2.min']\n",
       "            }\n",
       "        });\n",
       "        require(['plotly'], function(Plotly) {\n",
       "            window._Plotly = Plotly;\n",
       "        });\n",
       "        }\n",
       "        </script>\n",
       "        "
      ]
     },
     "metadata": {},
     "output_type": "display_data"
    },
    {
     "data": {
      "application/vnd.plotly.v1+json": {
       "config": {
        "plotlyServerURL": "https://plot.ly"
       },
       "data": [
        {
         "hovertemplate": "Stunting Rate (%)=%{x}<br>Female Completing Uppersecondary Education (%)=%{y}<extra></extra>",
         "legendgroup": "",
         "marker": {
          "color": "#636efa",
          "symbol": "circle"
         },
         "mode": "markers",
         "name": "",
         "orientation": "v",
         "showlegend": false,
         "type": "scatter",
         "x": [
          23.8,
          28,
          8,
          39.8,
          7.1,
          6.7,
          9.8,
          23,
          36.8,
          9.5,
          18.7,
          7.4,
          4.3,
          26.4,
          19.4,
          25.5,
          47.1,
          31.5,
          15.9,
          12.2,
          17.9,
          29.5,
          5.4,
          37.8,
          13.4,
          5.7,
          22.4,
          7.3,
          23.5
         ],
         "xaxis": "x",
         "y": [
          4.994,
          26.839,
          52.41,
          3.26,
          55.831,
          45.49,
          24.827,
          42.61,
          3.456,
          36.345,
          27.8,
          39.742,
          59.985,
          4.243,
          2.895,
          62.957,
          1.703,
          9.469,
          51.76,
          50.28,
          4.689,
          6.594,
          68.604,
          1.841,
          35.113,
          31.408,
          29.527,
          42.782,
          10.59
         ],
         "yaxis": "y"
        },
        {
         "hovertemplate": "<b>OLS trendline</b><br>Female Completing Uppersecondary Education (%) = -1.32993 * Stunting Rate (%) + 54.7537<br>R<sup>2</sup>=0.523085<br><br>Stunting Rate (%)=%{x}<br>Female Completing Uppersecondary Education (%)=%{y} <b>(trend)</b><extra></extra>",
         "legendgroup": "",
         "marker": {
          "color": "#636efa",
          "symbol": "circle"
         },
         "mode": "lines",
         "name": "",
         "showlegend": false,
         "type": "scatter",
         "x": [
          4.3,
          5.4,
          5.7,
          6.7,
          7.1,
          7.3,
          7.4,
          8,
          9.5,
          9.8,
          12.2,
          13.4,
          15.9,
          17.9,
          18.7,
          19.4,
          22.4,
          23,
          23.5,
          23.8,
          25.5,
          26.4,
          28,
          29.5,
          31.5,
          36.8,
          37.8,
          39.8,
          47.1
         ],
         "xaxis": "x",
         "y": [
          49.034983667624374,
          47.57206501812035,
          47.17308720461925,
          45.84316115961559,
          45.311190741614126,
          45.045205532613394,
          44.91221292811302,
          44.114257301110825,
          42.11936823360534,
          41.72039042010424,
          38.528567912095454,
          36.93265665809106,
          33.60784154558191,
          30.947989455574593,
          29.884048619571665,
          28.953100388069103,
          24.963322253058124,
          24.165366626055924,
          23.500403603554094,
          23.101425790052996,
          20.84055151354677,
          19.643618073043484,
          17.51573640103762,
          15.520847333532132,
          12.860995243524812,
          5.812387205005415,
          4.482461160001755,
          1.822609069994435,
          -7.885851058532289
         ],
         "yaxis": "y"
        }
       ],
       "layout": {
        "legend": {
         "tracegroupgap": 0
        },
        "template": {
         "data": {
          "bar": [
           {
            "error_x": {
             "color": "#2a3f5f"
            },
            "error_y": {
             "color": "#2a3f5f"
            },
            "marker": {
             "line": {
              "color": "#E5ECF6",
              "width": 0.5
             },
             "pattern": {
              "fillmode": "overlay",
              "size": 10,
              "solidity": 0.2
             }
            },
            "type": "bar"
           }
          ],
          "barpolar": [
           {
            "marker": {
             "line": {
              "color": "#E5ECF6",
              "width": 0.5
             },
             "pattern": {
              "fillmode": "overlay",
              "size": 10,
              "solidity": 0.2
             }
            },
            "type": "barpolar"
           }
          ],
          "carpet": [
           {
            "aaxis": {
             "endlinecolor": "#2a3f5f",
             "gridcolor": "white",
             "linecolor": "white",
             "minorgridcolor": "white",
             "startlinecolor": "#2a3f5f"
            },
            "baxis": {
             "endlinecolor": "#2a3f5f",
             "gridcolor": "white",
             "linecolor": "white",
             "minorgridcolor": "white",
             "startlinecolor": "#2a3f5f"
            },
            "type": "carpet"
           }
          ],
          "choropleth": [
           {
            "colorbar": {
             "outlinewidth": 0,
             "ticks": ""
            },
            "type": "choropleth"
           }
          ],
          "contour": [
           {
            "colorbar": {
             "outlinewidth": 0,
             "ticks": ""
            },
            "colorscale": [
             [
              0,
              "#0d0887"
             ],
             [
              0.1111111111111111,
              "#46039f"
             ],
             [
              0.2222222222222222,
              "#7201a8"
             ],
             [
              0.3333333333333333,
              "#9c179e"
             ],
             [
              0.4444444444444444,
              "#bd3786"
             ],
             [
              0.5555555555555556,
              "#d8576b"
             ],
             [
              0.6666666666666666,
              "#ed7953"
             ],
             [
              0.7777777777777778,
              "#fb9f3a"
             ],
             [
              0.8888888888888888,
              "#fdca26"
             ],
             [
              1,
              "#f0f921"
             ]
            ],
            "type": "contour"
           }
          ],
          "contourcarpet": [
           {
            "colorbar": {
             "outlinewidth": 0,
             "ticks": ""
            },
            "type": "contourcarpet"
           }
          ],
          "heatmap": [
           {
            "colorbar": {
             "outlinewidth": 0,
             "ticks": ""
            },
            "colorscale": [
             [
              0,
              "#0d0887"
             ],
             [
              0.1111111111111111,
              "#46039f"
             ],
             [
              0.2222222222222222,
              "#7201a8"
             ],
             [
              0.3333333333333333,
              "#9c179e"
             ],
             [
              0.4444444444444444,
              "#bd3786"
             ],
             [
              0.5555555555555556,
              "#d8576b"
             ],
             [
              0.6666666666666666,
              "#ed7953"
             ],
             [
              0.7777777777777778,
              "#fb9f3a"
             ],
             [
              0.8888888888888888,
              "#fdca26"
             ],
             [
              1,
              "#f0f921"
             ]
            ],
            "type": "heatmap"
           }
          ],
          "heatmapgl": [
           {
            "colorbar": {
             "outlinewidth": 0,
             "ticks": ""
            },
            "colorscale": [
             [
              0,
              "#0d0887"
             ],
             [
              0.1111111111111111,
              "#46039f"
             ],
             [
              0.2222222222222222,
              "#7201a8"
             ],
             [
              0.3333333333333333,
              "#9c179e"
             ],
             [
              0.4444444444444444,
              "#bd3786"
             ],
             [
              0.5555555555555556,
              "#d8576b"
             ],
             [
              0.6666666666666666,
              "#ed7953"
             ],
             [
              0.7777777777777778,
              "#fb9f3a"
             ],
             [
              0.8888888888888888,
              "#fdca26"
             ],
             [
              1,
              "#f0f921"
             ]
            ],
            "type": "heatmapgl"
           }
          ],
          "histogram": [
           {
            "marker": {
             "pattern": {
              "fillmode": "overlay",
              "size": 10,
              "solidity": 0.2
             }
            },
            "type": "histogram"
           }
          ],
          "histogram2d": [
           {
            "colorbar": {
             "outlinewidth": 0,
             "ticks": ""
            },
            "colorscale": [
             [
              0,
              "#0d0887"
             ],
             [
              0.1111111111111111,
              "#46039f"
             ],
             [
              0.2222222222222222,
              "#7201a8"
             ],
             [
              0.3333333333333333,
              "#9c179e"
             ],
             [
              0.4444444444444444,
              "#bd3786"
             ],
             [
              0.5555555555555556,
              "#d8576b"
             ],
             [
              0.6666666666666666,
              "#ed7953"
             ],
             [
              0.7777777777777778,
              "#fb9f3a"
             ],
             [
              0.8888888888888888,
              "#fdca26"
             ],
             [
              1,
              "#f0f921"
             ]
            ],
            "type": "histogram2d"
           }
          ],
          "histogram2dcontour": [
           {
            "colorbar": {
             "outlinewidth": 0,
             "ticks": ""
            },
            "colorscale": [
             [
              0,
              "#0d0887"
             ],
             [
              0.1111111111111111,
              "#46039f"
             ],
             [
              0.2222222222222222,
              "#7201a8"
             ],
             [
              0.3333333333333333,
              "#9c179e"
             ],
             [
              0.4444444444444444,
              "#bd3786"
             ],
             [
              0.5555555555555556,
              "#d8576b"
             ],
             [
              0.6666666666666666,
              "#ed7953"
             ],
             [
              0.7777777777777778,
              "#fb9f3a"
             ],
             [
              0.8888888888888888,
              "#fdca26"
             ],
             [
              1,
              "#f0f921"
             ]
            ],
            "type": "histogram2dcontour"
           }
          ],
          "mesh3d": [
           {
            "colorbar": {
             "outlinewidth": 0,
             "ticks": ""
            },
            "type": "mesh3d"
           }
          ],
          "parcoords": [
           {
            "line": {
             "colorbar": {
              "outlinewidth": 0,
              "ticks": ""
             }
            },
            "type": "parcoords"
           }
          ],
          "pie": [
           {
            "automargin": true,
            "type": "pie"
           }
          ],
          "scatter": [
           {
            "fillpattern": {
             "fillmode": "overlay",
             "size": 10,
             "solidity": 0.2
            },
            "type": "scatter"
           }
          ],
          "scatter3d": [
           {
            "line": {
             "colorbar": {
              "outlinewidth": 0,
              "ticks": ""
             }
            },
            "marker": {
             "colorbar": {
              "outlinewidth": 0,
              "ticks": ""
             }
            },
            "type": "scatter3d"
           }
          ],
          "scattercarpet": [
           {
            "marker": {
             "colorbar": {
              "outlinewidth": 0,
              "ticks": ""
             }
            },
            "type": "scattercarpet"
           }
          ],
          "scattergeo": [
           {
            "marker": {
             "colorbar": {
              "outlinewidth": 0,
              "ticks": ""
             }
            },
            "type": "scattergeo"
           }
          ],
          "scattergl": [
           {
            "marker": {
             "colorbar": {
              "outlinewidth": 0,
              "ticks": ""
             }
            },
            "type": "scattergl"
           }
          ],
          "scattermapbox": [
           {
            "marker": {
             "colorbar": {
              "outlinewidth": 0,
              "ticks": ""
             }
            },
            "type": "scattermapbox"
           }
          ],
          "scatterpolar": [
           {
            "marker": {
             "colorbar": {
              "outlinewidth": 0,
              "ticks": ""
             }
            },
            "type": "scatterpolar"
           }
          ],
          "scatterpolargl": [
           {
            "marker": {
             "colorbar": {
              "outlinewidth": 0,
              "ticks": ""
             }
            },
            "type": "scatterpolargl"
           }
          ],
          "scatterternary": [
           {
            "marker": {
             "colorbar": {
              "outlinewidth": 0,
              "ticks": ""
             }
            },
            "type": "scatterternary"
           }
          ],
          "surface": [
           {
            "colorbar": {
             "outlinewidth": 0,
             "ticks": ""
            },
            "colorscale": [
             [
              0,
              "#0d0887"
             ],
             [
              0.1111111111111111,
              "#46039f"
             ],
             [
              0.2222222222222222,
              "#7201a8"
             ],
             [
              0.3333333333333333,
              "#9c179e"
             ],
             [
              0.4444444444444444,
              "#bd3786"
             ],
             [
              0.5555555555555556,
              "#d8576b"
             ],
             [
              0.6666666666666666,
              "#ed7953"
             ],
             [
              0.7777777777777778,
              "#fb9f3a"
             ],
             [
              0.8888888888888888,
              "#fdca26"
             ],
             [
              1,
              "#f0f921"
             ]
            ],
            "type": "surface"
           }
          ],
          "table": [
           {
            "cells": {
             "fill": {
              "color": "#EBF0F8"
             },
             "line": {
              "color": "white"
             }
            },
            "header": {
             "fill": {
              "color": "#C8D4E3"
             },
             "line": {
              "color": "white"
             }
            },
            "type": "table"
           }
          ]
         },
         "layout": {
          "annotationdefaults": {
           "arrowcolor": "#2a3f5f",
           "arrowhead": 0,
           "arrowwidth": 1
          },
          "autotypenumbers": "strict",
          "coloraxis": {
           "colorbar": {
            "outlinewidth": 0,
            "ticks": ""
           }
          },
          "colorscale": {
           "diverging": [
            [
             0,
             "#8e0152"
            ],
            [
             0.1,
             "#c51b7d"
            ],
            [
             0.2,
             "#de77ae"
            ],
            [
             0.3,
             "#f1b6da"
            ],
            [
             0.4,
             "#fde0ef"
            ],
            [
             0.5,
             "#f7f7f7"
            ],
            [
             0.6,
             "#e6f5d0"
            ],
            [
             0.7,
             "#b8e186"
            ],
            [
             0.8,
             "#7fbc41"
            ],
            [
             0.9,
             "#4d9221"
            ],
            [
             1,
             "#276419"
            ]
           ],
           "sequential": [
            [
             0,
             "#0d0887"
            ],
            [
             0.1111111111111111,
             "#46039f"
            ],
            [
             0.2222222222222222,
             "#7201a8"
            ],
            [
             0.3333333333333333,
             "#9c179e"
            ],
            [
             0.4444444444444444,
             "#bd3786"
            ],
            [
             0.5555555555555556,
             "#d8576b"
            ],
            [
             0.6666666666666666,
             "#ed7953"
            ],
            [
             0.7777777777777778,
             "#fb9f3a"
            ],
            [
             0.8888888888888888,
             "#fdca26"
            ],
            [
             1,
             "#f0f921"
            ]
           ],
           "sequentialminus": [
            [
             0,
             "#0d0887"
            ],
            [
             0.1111111111111111,
             "#46039f"
            ],
            [
             0.2222222222222222,
             "#7201a8"
            ],
            [
             0.3333333333333333,
             "#9c179e"
            ],
            [
             0.4444444444444444,
             "#bd3786"
            ],
            [
             0.5555555555555556,
             "#d8576b"
            ],
            [
             0.6666666666666666,
             "#ed7953"
            ],
            [
             0.7777777777777778,
             "#fb9f3a"
            ],
            [
             0.8888888888888888,
             "#fdca26"
            ],
            [
             1,
             "#f0f921"
            ]
           ]
          },
          "colorway": [
           "#636efa",
           "#EF553B",
           "#00cc96",
           "#ab63fa",
           "#FFA15A",
           "#19d3f3",
           "#FF6692",
           "#B6E880",
           "#FF97FF",
           "#FECB52"
          ],
          "font": {
           "color": "#2a3f5f"
          },
          "geo": {
           "bgcolor": "white",
           "lakecolor": "white",
           "landcolor": "#E5ECF6",
           "showlakes": true,
           "showland": true,
           "subunitcolor": "white"
          },
          "hoverlabel": {
           "align": "left"
          },
          "hovermode": "closest",
          "mapbox": {
           "style": "light"
          },
          "paper_bgcolor": "white",
          "plot_bgcolor": "#E5ECF6",
          "polar": {
           "angularaxis": {
            "gridcolor": "white",
            "linecolor": "white",
            "ticks": ""
           },
           "bgcolor": "#E5ECF6",
           "radialaxis": {
            "gridcolor": "white",
            "linecolor": "white",
            "ticks": ""
           }
          },
          "scene": {
           "xaxis": {
            "backgroundcolor": "#E5ECF6",
            "gridcolor": "white",
            "gridwidth": 2,
            "linecolor": "white",
            "showbackground": true,
            "ticks": "",
            "zerolinecolor": "white"
           },
           "yaxis": {
            "backgroundcolor": "#E5ECF6",
            "gridcolor": "white",
            "gridwidth": 2,
            "linecolor": "white",
            "showbackground": true,
            "ticks": "",
            "zerolinecolor": "white"
           },
           "zaxis": {
            "backgroundcolor": "#E5ECF6",
            "gridcolor": "white",
            "gridwidth": 2,
            "linecolor": "white",
            "showbackground": true,
            "ticks": "",
            "zerolinecolor": "white"
           }
          },
          "shapedefaults": {
           "line": {
            "color": "#2a3f5f"
           }
          },
          "ternary": {
           "aaxis": {
            "gridcolor": "white",
            "linecolor": "white",
            "ticks": ""
           },
           "baxis": {
            "gridcolor": "white",
            "linecolor": "white",
            "ticks": ""
           },
           "bgcolor": "#E5ECF6",
           "caxis": {
            "gridcolor": "white",
            "linecolor": "white",
            "ticks": ""
           }
          },
          "title": {
           "x": 0.05
          },
          "xaxis": {
           "automargin": true,
           "gridcolor": "white",
           "linecolor": "white",
           "ticks": "",
           "title": {
            "standoff": 15
           },
           "zerolinecolor": "white",
           "zerolinewidth": 2
          },
          "yaxis": {
           "automargin": true,
           "gridcolor": "white",
           "linecolor": "white",
           "ticks": "",
           "title": {
            "standoff": 15
           },
           "zerolinecolor": "white",
           "zerolinewidth": 2
          }
         }
        },
        "title": {
         "text": "Relationship between Stunting Rate and Female Completing Upper Secondary Education Rate (2019)"
        },
        "xaxis": {
         "anchor": "y",
         "domain": [
          0,
          1
         ],
         "title": {
          "text": "Stunting Rate (%)"
         }
        },
        "yaxis": {
         "anchor": "x",
         "domain": [
          0,
          1
         ],
         "title": {
          "text": "Female Completing Uppersecondary Education (%)"
         }
        }
       }
      },
      "text/html": [
       "<div>                            <div id=\"7f98e31a-cf18-464c-abd0-0dd779ec5ae6\" class=\"plotly-graph-div\" style=\"height:525px; width:100%;\"></div>            <script type=\"text/javascript\">                require([\"plotly\"], function(Plotly) {                    window.PLOTLYENV=window.PLOTLYENV || {};                                    if (document.getElementById(\"7f98e31a-cf18-464c-abd0-0dd779ec5ae6\")) {                    Plotly.newPlot(                        \"7f98e31a-cf18-464c-abd0-0dd779ec5ae6\",                        [{\"hovertemplate\":\"Stunting Rate (%)=%{x}\\u003cbr\\u003eFemale Completing Uppersecondary Education (%)=%{y}\\u003cextra\\u003e\\u003c\\u002fextra\\u003e\",\"legendgroup\":\"\",\"marker\":{\"color\":\"#636efa\",\"symbol\":\"circle\"},\"mode\":\"markers\",\"name\":\"\",\"orientation\":\"v\",\"showlegend\":false,\"x\":[23.8,28.0,8.0,39.8,7.1,6.7,9.8,23.0,36.8,9.5,18.7,7.4,4.3,26.4,19.4,25.5,47.1,31.5,15.9,12.2,17.9,29.5,5.4,37.8,13.4,5.7,22.4,7.3,23.5],\"xaxis\":\"x\",\"y\":[4.994,26.839,52.41,3.26,55.831,45.49,24.827,42.61,3.456,36.345,27.8,39.742,59.985,4.243,2.895,62.957,1.703,9.469,51.76,50.28,4.689,6.594,68.604,1.841,35.113,31.408,29.527,42.782,10.59],\"yaxis\":\"y\",\"type\":\"scatter\"},{\"hovertemplate\":\"\\u003cb\\u003eOLS trendline\\u003c\\u002fb\\u003e\\u003cbr\\u003eFemale Completing Uppersecondary Education (%) = -1.32993 * Stunting Rate (%) + 54.7537\\u003cbr\\u003eR\\u003csup\\u003e2\\u003c\\u002fsup\\u003e=0.523085\\u003cbr\\u003e\\u003cbr\\u003eStunting Rate (%)=%{x}\\u003cbr\\u003eFemale Completing Uppersecondary Education (%)=%{y} \\u003cb\\u003e(trend)\\u003c\\u002fb\\u003e\\u003cextra\\u003e\\u003c\\u002fextra\\u003e\",\"legendgroup\":\"\",\"marker\":{\"color\":\"#636efa\",\"symbol\":\"circle\"},\"mode\":\"lines\",\"name\":\"\",\"showlegend\":false,\"x\":[4.3,5.4,5.7,6.7,7.1,7.3,7.4,8.0,9.5,9.8,12.2,13.4,15.9,17.9,18.7,19.4,22.4,23.0,23.5,23.8,25.5,26.4,28.0,29.5,31.5,36.8,37.8,39.8,47.1],\"xaxis\":\"x\",\"y\":[49.034983667624374,47.57206501812035,47.17308720461925,45.84316115961559,45.311190741614126,45.045205532613394,44.91221292811302,44.114257301110825,42.11936823360534,41.72039042010424,38.528567912095454,36.93265665809106,33.60784154558191,30.947989455574593,29.884048619571665,28.953100388069103,24.963322253058124,24.165366626055924,23.500403603554094,23.101425790052996,20.84055151354677,19.643618073043484,17.51573640103762,15.520847333532132,12.860995243524812,5.812387205005415,4.482461160001755,1.822609069994435,-7.885851058532289],\"yaxis\":\"y\",\"type\":\"scatter\"}],                        {\"template\":{\"data\":{\"histogram2dcontour\":[{\"type\":\"histogram2dcontour\",\"colorbar\":{\"outlinewidth\":0,\"ticks\":\"\"},\"colorscale\":[[0.0,\"#0d0887\"],[0.1111111111111111,\"#46039f\"],[0.2222222222222222,\"#7201a8\"],[0.3333333333333333,\"#9c179e\"],[0.4444444444444444,\"#bd3786\"],[0.5555555555555556,\"#d8576b\"],[0.6666666666666666,\"#ed7953\"],[0.7777777777777778,\"#fb9f3a\"],[0.8888888888888888,\"#fdca26\"],[1.0,\"#f0f921\"]]}],\"choropleth\":[{\"type\":\"choropleth\",\"colorbar\":{\"outlinewidth\":0,\"ticks\":\"\"}}],\"histogram2d\":[{\"type\":\"histogram2d\",\"colorbar\":{\"outlinewidth\":0,\"ticks\":\"\"},\"colorscale\":[[0.0,\"#0d0887\"],[0.1111111111111111,\"#46039f\"],[0.2222222222222222,\"#7201a8\"],[0.3333333333333333,\"#9c179e\"],[0.4444444444444444,\"#bd3786\"],[0.5555555555555556,\"#d8576b\"],[0.6666666666666666,\"#ed7953\"],[0.7777777777777778,\"#fb9f3a\"],[0.8888888888888888,\"#fdca26\"],[1.0,\"#f0f921\"]]}],\"heatmap\":[{\"type\":\"heatmap\",\"colorbar\":{\"outlinewidth\":0,\"ticks\":\"\"},\"colorscale\":[[0.0,\"#0d0887\"],[0.1111111111111111,\"#46039f\"],[0.2222222222222222,\"#7201a8\"],[0.3333333333333333,\"#9c179e\"],[0.4444444444444444,\"#bd3786\"],[0.5555555555555556,\"#d8576b\"],[0.6666666666666666,\"#ed7953\"],[0.7777777777777778,\"#fb9f3a\"],[0.8888888888888888,\"#fdca26\"],[1.0,\"#f0f921\"]]}],\"heatmapgl\":[{\"type\":\"heatmapgl\",\"colorbar\":{\"outlinewidth\":0,\"ticks\":\"\"},\"colorscale\":[[0.0,\"#0d0887\"],[0.1111111111111111,\"#46039f\"],[0.2222222222222222,\"#7201a8\"],[0.3333333333333333,\"#9c179e\"],[0.4444444444444444,\"#bd3786\"],[0.5555555555555556,\"#d8576b\"],[0.6666666666666666,\"#ed7953\"],[0.7777777777777778,\"#fb9f3a\"],[0.8888888888888888,\"#fdca26\"],[1.0,\"#f0f921\"]]}],\"contourcarpet\":[{\"type\":\"contourcarpet\",\"colorbar\":{\"outlinewidth\":0,\"ticks\":\"\"}}],\"contour\":[{\"type\":\"contour\",\"colorbar\":{\"outlinewidth\":0,\"ticks\":\"\"},\"colorscale\":[[0.0,\"#0d0887\"],[0.1111111111111111,\"#46039f\"],[0.2222222222222222,\"#7201a8\"],[0.3333333333333333,\"#9c179e\"],[0.4444444444444444,\"#bd3786\"],[0.5555555555555556,\"#d8576b\"],[0.6666666666666666,\"#ed7953\"],[0.7777777777777778,\"#fb9f3a\"],[0.8888888888888888,\"#fdca26\"],[1.0,\"#f0f921\"]]}],\"surface\":[{\"type\":\"surface\",\"colorbar\":{\"outlinewidth\":0,\"ticks\":\"\"},\"colorscale\":[[0.0,\"#0d0887\"],[0.1111111111111111,\"#46039f\"],[0.2222222222222222,\"#7201a8\"],[0.3333333333333333,\"#9c179e\"],[0.4444444444444444,\"#bd3786\"],[0.5555555555555556,\"#d8576b\"],[0.6666666666666666,\"#ed7953\"],[0.7777777777777778,\"#fb9f3a\"],[0.8888888888888888,\"#fdca26\"],[1.0,\"#f0f921\"]]}],\"mesh3d\":[{\"type\":\"mesh3d\",\"colorbar\":{\"outlinewidth\":0,\"ticks\":\"\"}}],\"scatter\":[{\"fillpattern\":{\"fillmode\":\"overlay\",\"size\":10,\"solidity\":0.2},\"type\":\"scatter\"}],\"parcoords\":[{\"type\":\"parcoords\",\"line\":{\"colorbar\":{\"outlinewidth\":0,\"ticks\":\"\"}}}],\"scatterpolargl\":[{\"type\":\"scatterpolargl\",\"marker\":{\"colorbar\":{\"outlinewidth\":0,\"ticks\":\"\"}}}],\"bar\":[{\"error_x\":{\"color\":\"#2a3f5f\"},\"error_y\":{\"color\":\"#2a3f5f\"},\"marker\":{\"line\":{\"color\":\"#E5ECF6\",\"width\":0.5},\"pattern\":{\"fillmode\":\"overlay\",\"size\":10,\"solidity\":0.2}},\"type\":\"bar\"}],\"scattergeo\":[{\"type\":\"scattergeo\",\"marker\":{\"colorbar\":{\"outlinewidth\":0,\"ticks\":\"\"}}}],\"scatterpolar\":[{\"type\":\"scatterpolar\",\"marker\":{\"colorbar\":{\"outlinewidth\":0,\"ticks\":\"\"}}}],\"histogram\":[{\"marker\":{\"pattern\":{\"fillmode\":\"overlay\",\"size\":10,\"solidity\":0.2}},\"type\":\"histogram\"}],\"scattergl\":[{\"type\":\"scattergl\",\"marker\":{\"colorbar\":{\"outlinewidth\":0,\"ticks\":\"\"}}}],\"scatter3d\":[{\"type\":\"scatter3d\",\"line\":{\"colorbar\":{\"outlinewidth\":0,\"ticks\":\"\"}},\"marker\":{\"colorbar\":{\"outlinewidth\":0,\"ticks\":\"\"}}}],\"scattermapbox\":[{\"type\":\"scattermapbox\",\"marker\":{\"colorbar\":{\"outlinewidth\":0,\"ticks\":\"\"}}}],\"scatterternary\":[{\"type\":\"scatterternary\",\"marker\":{\"colorbar\":{\"outlinewidth\":0,\"ticks\":\"\"}}}],\"scattercarpet\":[{\"type\":\"scattercarpet\",\"marker\":{\"colorbar\":{\"outlinewidth\":0,\"ticks\":\"\"}}}],\"carpet\":[{\"aaxis\":{\"endlinecolor\":\"#2a3f5f\",\"gridcolor\":\"white\",\"linecolor\":\"white\",\"minorgridcolor\":\"white\",\"startlinecolor\":\"#2a3f5f\"},\"baxis\":{\"endlinecolor\":\"#2a3f5f\",\"gridcolor\":\"white\",\"linecolor\":\"white\",\"minorgridcolor\":\"white\",\"startlinecolor\":\"#2a3f5f\"},\"type\":\"carpet\"}],\"table\":[{\"cells\":{\"fill\":{\"color\":\"#EBF0F8\"},\"line\":{\"color\":\"white\"}},\"header\":{\"fill\":{\"color\":\"#C8D4E3\"},\"line\":{\"color\":\"white\"}},\"type\":\"table\"}],\"barpolar\":[{\"marker\":{\"line\":{\"color\":\"#E5ECF6\",\"width\":0.5},\"pattern\":{\"fillmode\":\"overlay\",\"size\":10,\"solidity\":0.2}},\"type\":\"barpolar\"}],\"pie\":[{\"automargin\":true,\"type\":\"pie\"}]},\"layout\":{\"autotypenumbers\":\"strict\",\"colorway\":[\"#636efa\",\"#EF553B\",\"#00cc96\",\"#ab63fa\",\"#FFA15A\",\"#19d3f3\",\"#FF6692\",\"#B6E880\",\"#FF97FF\",\"#FECB52\"],\"font\":{\"color\":\"#2a3f5f\"},\"hovermode\":\"closest\",\"hoverlabel\":{\"align\":\"left\"},\"paper_bgcolor\":\"white\",\"plot_bgcolor\":\"#E5ECF6\",\"polar\":{\"bgcolor\":\"#E5ECF6\",\"angularaxis\":{\"gridcolor\":\"white\",\"linecolor\":\"white\",\"ticks\":\"\"},\"radialaxis\":{\"gridcolor\":\"white\",\"linecolor\":\"white\",\"ticks\":\"\"}},\"ternary\":{\"bgcolor\":\"#E5ECF6\",\"aaxis\":{\"gridcolor\":\"white\",\"linecolor\":\"white\",\"ticks\":\"\"},\"baxis\":{\"gridcolor\":\"white\",\"linecolor\":\"white\",\"ticks\":\"\"},\"caxis\":{\"gridcolor\":\"white\",\"linecolor\":\"white\",\"ticks\":\"\"}},\"coloraxis\":{\"colorbar\":{\"outlinewidth\":0,\"ticks\":\"\"}},\"colorscale\":{\"sequential\":[[0.0,\"#0d0887\"],[0.1111111111111111,\"#46039f\"],[0.2222222222222222,\"#7201a8\"],[0.3333333333333333,\"#9c179e\"],[0.4444444444444444,\"#bd3786\"],[0.5555555555555556,\"#d8576b\"],[0.6666666666666666,\"#ed7953\"],[0.7777777777777778,\"#fb9f3a\"],[0.8888888888888888,\"#fdca26\"],[1.0,\"#f0f921\"]],\"sequentialminus\":[[0.0,\"#0d0887\"],[0.1111111111111111,\"#46039f\"],[0.2222222222222222,\"#7201a8\"],[0.3333333333333333,\"#9c179e\"],[0.4444444444444444,\"#bd3786\"],[0.5555555555555556,\"#d8576b\"],[0.6666666666666666,\"#ed7953\"],[0.7777777777777778,\"#fb9f3a\"],[0.8888888888888888,\"#fdca26\"],[1.0,\"#f0f921\"]],\"diverging\":[[0,\"#8e0152\"],[0.1,\"#c51b7d\"],[0.2,\"#de77ae\"],[0.3,\"#f1b6da\"],[0.4,\"#fde0ef\"],[0.5,\"#f7f7f7\"],[0.6,\"#e6f5d0\"],[0.7,\"#b8e186\"],[0.8,\"#7fbc41\"],[0.9,\"#4d9221\"],[1,\"#276419\"]]},\"xaxis\":{\"gridcolor\":\"white\",\"linecolor\":\"white\",\"ticks\":\"\",\"title\":{\"standoff\":15},\"zerolinecolor\":\"white\",\"automargin\":true,\"zerolinewidth\":2},\"yaxis\":{\"gridcolor\":\"white\",\"linecolor\":\"white\",\"ticks\":\"\",\"title\":{\"standoff\":15},\"zerolinecolor\":\"white\",\"automargin\":true,\"zerolinewidth\":2},\"scene\":{\"xaxis\":{\"backgroundcolor\":\"#E5ECF6\",\"gridcolor\":\"white\",\"linecolor\":\"white\",\"showbackground\":true,\"ticks\":\"\",\"zerolinecolor\":\"white\",\"gridwidth\":2},\"yaxis\":{\"backgroundcolor\":\"#E5ECF6\",\"gridcolor\":\"white\",\"linecolor\":\"white\",\"showbackground\":true,\"ticks\":\"\",\"zerolinecolor\":\"white\",\"gridwidth\":2},\"zaxis\":{\"backgroundcolor\":\"#E5ECF6\",\"gridcolor\":\"white\",\"linecolor\":\"white\",\"showbackground\":true,\"ticks\":\"\",\"zerolinecolor\":\"white\",\"gridwidth\":2}},\"shapedefaults\":{\"line\":{\"color\":\"#2a3f5f\"}},\"annotationdefaults\":{\"arrowcolor\":\"#2a3f5f\",\"arrowhead\":0,\"arrowwidth\":1},\"geo\":{\"bgcolor\":\"white\",\"landcolor\":\"#E5ECF6\",\"subunitcolor\":\"white\",\"showland\":true,\"showlakes\":true,\"lakecolor\":\"white\"},\"title\":{\"x\":0.05},\"mapbox\":{\"style\":\"light\"}}},\"xaxis\":{\"anchor\":\"y\",\"domain\":[0.0,1.0],\"title\":{\"text\":\"Stunting Rate (%)\"}},\"yaxis\":{\"anchor\":\"x\",\"domain\":[0.0,1.0],\"title\":{\"text\":\"Female Completing Uppersecondary Education (%)\"}},\"legend\":{\"tracegroupgap\":0},\"title\":{\"text\":\"Relationship between Stunting Rate and Female Completing Upper Secondary Education Rate (2019)\"}},                        {\"responsive\": true}                    ).then(function(){\n",
       "                            \n",
       "var gd = document.getElementById('7f98e31a-cf18-464c-abd0-0dd779ec5ae6');\n",
       "var x = new MutationObserver(function (mutations, observer) {{\n",
       "        var display = window.getComputedStyle(gd).display;\n",
       "        if (!display || display === 'none') {{\n",
       "            console.log([gd, 'removed!']);\n",
       "            Plotly.purge(gd);\n",
       "            observer.disconnect();\n",
       "        }}\n",
       "}});\n",
       "\n",
       "// Listen for the removal of the full notebook cells\n",
       "var notebookContainer = gd.closest('#notebook-container');\n",
       "if (notebookContainer) {{\n",
       "    x.observe(notebookContainer, {childList: true});\n",
       "}}\n",
       "\n",
       "// Listen for the clearing of the current output cell\n",
       "var outputEl = gd.closest('.output');\n",
       "if (outputEl) {{\n",
       "    x.observe(outputEl, {childList: true});\n",
       "}}\n",
       "\n",
       "                        })                };                });            </script>        </div>"
      ]
     },
     "metadata": {},
     "output_type": "display_data"
    }
   ],
   "source": [
    "import plotly.express as px\n",
    "\n",
    "fig = px.scatter(merged_data,\n",
    "    x = \"Stunting Rate (%)\",\n",
    "    y = \"Female Completing Uppersecondary Education (%)\",\n",
    "    title = \"Relationship between Stunting Rate and Female Completing Upper Secondary Education Rate (2019)\",\n",
    "    trendline = \"ols\"\n",
    ")\n",
    "fig.show()"
   ]
  },
  {
   "cell_type": "markdown",
   "id": "0692df4a",
   "metadata": {},
   "source": [
    "### Analysis and Conclusion"
   ]
  },
  {
   "cell_type": "markdown",
   "id": "3ba6037a",
   "metadata": {},
   "source": [
    "This scatterplot shows the relationship between stunting rates and the percentage of females completing upper secondary education in 2019. Each dot represents a country, with the stunting rate on the x-axis and female education on the y-axis.\n",
    "\n",
    "Looking at the plot, we can see a general trend: **countries with higher female education rates seem to have lower stunting rates**. For example, the dots higher up on the y-axis (representing better female education rates) are mostly toward the left, where stunting rates are lower. Meanwhile, countries further to the right, with higher stunting rates, tend to have lower education rates.\n",
    "\n",
    "**This suggests that there might be a negative relationship between the two variables—basically, as female education goes up, stunting rates seem to go down.** It lines up with the idea that better-educated mothers might be more aware of how to provide proper nutrition for their kids. \n",
    "\n",
    "Honestly, we’d need to dive deeper into the trendline or correlation to really confirm anything here. There are a bunch of limitations in this analysis—like the small number of observations, possible confounding factors, and other things we didn’t account for. Plus, **correlation doesn’t mean causation**, so this is definitely not strong enough to give solid recommendations to policymakers. But honestly, the goal of this project for me was more about learning how to combine two datasets and visualize them using Plotly. And for that, I’d say it was super useful! ☺️"
   ]
  }
 ],
 "metadata": {
  "kernelspec": {
   "display_name": "Python 3 (ipykernel)",
   "language": "python",
   "name": "python3"
  },
  "language_info": {
   "codemirror_mode": {
    "name": "ipython",
    "version": 3
   },
   "file_extension": ".py",
   "mimetype": "text/x-python",
   "name": "python",
   "nbconvert_exporter": "python",
   "pygments_lexer": "ipython3",
   "version": "3.9.13"
  }
 },
 "nbformat": 4,
 "nbformat_minor": 5
}
